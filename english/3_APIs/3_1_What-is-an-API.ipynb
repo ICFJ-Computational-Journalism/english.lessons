{
  "nbformat": 4,
  "nbformat_minor": 0,
  "metadata": {
    "colab": {
      "provenance": []
    },
    "kernelspec": {
      "name": "python3",
      "display_name": "Python 3"
    },
    "language_info": {
      "name": "python"
    }
  },
  "cells": [
    {
      "cell_type": "markdown",
      "source": [
        "## What is an API, and why would we use one?"
      ],
      "metadata": {
        "id": "0DRx1I5h95iV"
      }
    },
    {
      "cell_type": "markdown",
      "source": [
        "Application Programming Interfaces (APIs) have become an integral part of the digital landscape, connecting various software applications, services, and databases. APIs act as a bridge between different software applications, allowing them to communicate and exchange data efficiently.\n",
        "\n",
        "For journalists, this means that APIs can provide access to a vast pool of data and services, which can be used to enrich reporting and storytelling. By tapping into social media platforms, government databases, and other data-rich sources, journalists can gather real-time insights, track trends, and uncover hidden stories that may have otherwise gone unnoticed."
      ],
      "metadata": {
        "id": "7wl9IMbV99nR"
      }
    },
    {
      "cell_type": "markdown",
      "source": [
        "#### Definition\n",
        "\n"
      ],
      "metadata": {
        "id": "FNZ5_r9v98Hr"
      }
    },
    {
      "cell_type": "markdown",
      "source": [
        "Here are some quick examples of APIs. Not all of these APIs would useful in a journalistic investigation. We will go over examples in more detail later.\n",
        "\n",
        "\n",
        "*   Twitter API - Provides access to Twitter data, including tweets, user profiles, and trends. Journalists could use this data to track social media activity related to a particular story or topic.\n",
        "*   Kavenegar SMS API - Provides a messaging service that allows developers to send and receive SMS messages in Iran.\n",
        "*   Google Maps API - Provides access to maps, directions, and location-based information. Journalists could use this data to track the movements of individuals or groups, or to visualize the geography of a story.\n",
        "*   Soroush Messenger API - Provides an API for developers to integrate messaging features into their apps.\n",
        "*   Digikala API - Offers an API to access product and order data.\n",
        "*   Shaparak API - Payment network provides APIs for online payments and transaction processing.\n",
        "\n",
        "\n",
        "\n",
        "\n",
        "\n",
        "\n",
        "\n",
        "\n",
        "\n",
        "\n"
      ],
      "metadata": {
        "id": "GEjElNFf-Bm_"
      }
    },
    {
      "cell_type": "markdown",
      "source": [
        "As an example of how a developer might use one of these APIs, suppose one wanted to build a payment platform with beautiful visuals. Rather than developing one's own system for processing payments, the developer could simply build the platform on top of the Shaparak API."
      ],
      "metadata": {
        "id": "70byLle_AW0k"
      }
    },
    {
      "cell_type": "markdown",
      "source": [
        "#### Accessing APIs\n",
        "\n"
      ],
      "metadata": {
        "id": "tgmxcDW5-fML"
      }
    },
    {
      "cell_type": "markdown",
      "source": [
        "How do we use an API? Typically, the first step is to get access. Since APIs are a significant business for many companies, they place restrictions on accessing them. However, often companies provide free versions of their APIs.\n",
        "\n",
        "APIs are often restricted in order to protect the data they provide and ensure that the service remains available and performant for all users. Common restrictions include API key requirements and API call limits.\n",
        "\n",
        "API keys are unique identifiers that are used to authenticate and track API usage by individual users or applications. APIs often require users to obtain an API key in order to access the service. This allows the API provider to monitor usage and enforce usage limits, as well as to identify and restrict access to unauthorized users.\n",
        "\n",
        "API call limits restrict the number of API requests that can be made by an individual user or application over a certain period of time. These limits are usually put in place to prevent excessive usage that could cause service disruptions or performance issues. Call limits can vary depending on the API provider and the specific API being used.\n",
        "\n",
        "To get access to an API, you typically need to follow a few steps:\n",
        "\n",
        "\n",
        "1.   Register for an account with the API provider.\n",
        "2.   Obtain an API key or other authentication token, if required."
      ],
      "metadata": {
        "id": "YSu5MuERCMpk"
      }
    },
    {
      "cell_type": "markdown",
      "source": [
        "For example, to obtain an API key to the AccuWeather API, follow these steps:\n",
        "\n",
        "1. Go to the AccuWeather website (https://developer.accuweather.com/) and click on the \"Get started for free\" button.\n",
        "2. Fill out the registration form with your personal and account details.\n",
        "Once you have registered, you will be redirected to your AccuWeather Developer Dashboard.\n",
        "3. On your Dashboard, click on \"Create a new app\" to create a new application.\n",
        "Fill out the form with the necessary information about your application, such as the name, description, and platform.\n",
        "4. Once you have created your application, click on it to view the details.\n",
        "5. On the application page, you will find your API key in the \"API keys\" section. Click on \"Show\" to reveal the key.\n",
        "6. Copy the API key and use it in your API calls to the AccuWeather API."
      ],
      "metadata": {
        "id": "oMMqvYQPCVF5"
      }
    },
    {
      "cell_type": "markdown",
      "source": [
        "#### Obscuring your API key with a repo: Why & how to set up repo to obscure API key"
      ],
      "metadata": {
        "id": "sZwaDOIBvFeF"
      }
    },
    {
      "cell_type": "markdown",
      "source": [
        "It is important to keep your API key secret, as it can be used to access your account and perform actions on your behalf. One way to keep your API key secret is to store it in a separate file that is not included in your code repository.\n",
        "Here is an example of how to set up your repository to obscure your API key:\n",
        "1. Create a new file called config.py in the root directory of your repository.\n",
        "2. Add the following line to the config.py file, replacing your_api_key_here with your actual API key:\n",
        "`api_key = 'your_api_key_here'`\n",
        "\n",
        "Make sure to add config.py to your .gitignore file so that it is not included in your repository. After adding config.py to .gitignore, .gitignore might look like this:\n",
        "\n",
        "config.py\n",
        "\n",
        ".DS_Store\n",
        "\n",
        "where each line in this file is a file to be ignored by git."
      ],
      "metadata": {
        "id": "gZFGIbBZul9e"
      }
    },
    {
      "cell_type": "markdown",
      "source": [
        "#### Using APIs in Python\n",
        "\n",
        "Now we use the AccuWeather API to obtain some weather data."
      ],
      "metadata": {
        "id": "oR605EoY-Mus"
      }
    },
    {
      "cell_type": "code",
      "source": [
        "import requests\n",
        "\n",
        "# Set the API endpoint URL with required query parameters and API key\n",
        "url = \"http://dataservice.accuweather.com/currentconditions/v1/353412?apikey=YOUR_API_KEY&details=true\"\n",
        "\n",
        "# Send a GET request to the API endpoint URL\n",
        "response = requests.get(url)\n",
        "\n",
        "# Check the status code to ensure that the request was successful\n",
        "if response.status_code == 200:\n",
        "    # If the request was successful, retrieve the data from the response\n",
        "    data = response.json()[0]\n",
        "    # Process the data as needed (e.g. print the current temperature)\n",
        "    temp = data['Temperature']['Metric']['Value']\n",
        "    print(f\"The current temperature in Paris is {temp} degrees Celsius.\")\n",
        "else:\n",
        "    # If the request was not successful, print an error message\n",
        "    print(f\"Error: {response.status_code}\")"
      ],
      "metadata": {
        "id": "-SE-pbj2-vm0",
        "colab": {
          "base_uri": "https://localhost:8080/"
        },
        "outputId": "cdea4e94-9446-42d2-af76-aad179d9b8b4"
      },
      "execution_count": null,
      "outputs": [
        {
          "output_type": "stream",
          "name": "stdout",
          "text": [
            "The current temperature in Paris is 23.4 degrees Celsius.\n"
          ]
        }
      ]
    },
    {
      "cell_type": "markdown",
      "source": [
        "In the code above, we did the following:\n",
        "\n",
        "\n",
        "1.   Import the requests library\n",
        "2.   We set the url that we needed to access the API. You can find this URL on the website of whichever API you are working with. We need to provide an API key within the URL \n",
        "3.   We send a request using requests.get and save it.\n",
        "4.   We check if the request was successful, and if so, extract the desired data from it, in this case, the temperature in Paris."
      ],
      "metadata": {
        "id": "Czv5Aplv_zzp"
      }
    },
    {
      "cell_type": "markdown",
      "source": [
        "The API that we used above does not have a library. An API without a library in Python means that there is no pre-built Python library available for the API, and developers  need to use Python's built-in libraries or third-party libraries to interact with the API. This would require developers to write code to handle details such as making HTTP requests and parsing. To access API's like this, you use the requests library, as we did above.\n",
        "\n",
        "In Python, an API with a library means that there is a Python library available that provides pre-built functions and classes for interacting with the API. The library may handle details such as making HTTP requests, handling authentication, and parsing responses, which makes it easier for developers to use the API without having to write low-level code themselves."
      ],
      "metadata": {
        "id": "ANsYgo_vBXvK"
      }
    },
    {
      "cell_type": "markdown",
      "source": [
        "In the example below, we see an example of API that has a library, OpenWeatherMap. See that rather than needing to provide a URL to the requests library, we can instead simply use the functions within the library to obtain the desired information."
      ],
      "metadata": {
        "id": "N91Mk1ixBn3D"
      }
    },
    {
      "cell_type": "code",
      "source": [
        "# Install the pyowm library using pip\n",
        "!pip install pyowm\n",
        "\n",
        "# Import the pyowm library\n",
        "import pyowm\n",
        "\n",
        "# Set the configuration parameters (API key and city name)\n",
        "api_key = 'YOUR_API_KEY'\n",
        "city_name = 'Paris'\n",
        "\n",
        "# Initialize the OpenWeatherMap client with the API key\n",
        "owm = pyowm.OWM(api_key)\n",
        "\n",
        "# Use the client to get the weather data for the specified city\n",
        "observation = owm.weather_at_place(city_name)\n",
        "weather = observation.get_weather()\n",
        "\n",
        "# Print the current temperature for the city\n",
        "temp = weather.get_temperature(unit='celsius')['temp']\n",
        "print(f\"The current temperature in {city_name} is {temp} degrees Celsius.\")\n"
      ],
      "metadata": {
        "id": "0Cy_FDb2_zBq"
      },
      "execution_count": null,
      "outputs": []
    },
    {
      "cell_type": "markdown",
      "source": [
        "In Python, an API with a library means that there is a Python library available that provides pre-built functions and classes for interacting with the API. The library may handle details such as making HTTP requests, handling authentication, and parsing responses, which makes it easier for developers to use the API without having to write low-level code themselves.\n",
        "\n",
        "Examples of APIs with Python libraries include the Google Maps API, which provides the googlemaps library, and the Twitter API, which provides the tweepy library.\n",
        "\n",
        "An API without a library in Python would mean that there is no pre-built Python library available for the API, and developers would need to use Python's built-in libraries or third-party libraries to interact with the API. This would require developers to write code to handle details such as making HTTP requests and parsing responses, which can be more time-consuming and error-prone.\n",
        "\n",
        "Examples of APIs without official Python libraries include the GitHub API. Developers would need to use Python's built-in requests library or a third-party library like httplib2 to interact with these APIs.\n",
        "\n"
      ],
      "metadata": {
        "id": "4zlucquk-rpP"
      }
    },
    {
      "cell_type": "markdown",
      "source": [
        "#### API Examples\n",
        "Below, we provide multiple examples of API's, as well as their documentations. This will help give you a taste of what is possible with APIs.\n",
        "\n",
        "Notice that in some cases, we use the requests library to handle the request, while in other cases the API comes with its own Python library."
      ],
      "metadata": {
        "id": "MtMhKqMK2mLE"
      }
    },
    {
      "cell_type": "markdown",
      "source": [
        "NewsAPI is a news API that provides access to articles and metadata from various news sources. It has its own Python library called newsapi-python, which simplifies the process of accessing the API's data. Documentation: https://newsapi.org/docs/client-libraries/python"
      ],
      "metadata": {
        "id": "xD0WUmnt1443"
      }
    },
    {
      "cell_type": "code",
      "source": [
        "from newsapi import NewsApiClient\n",
        "\n",
        "api_key = \"YOUR_API_KEY\"\n",
        "\n",
        "# Initialize NewsApiClient\n",
        "newsapi = NewsApiClient(api_key=api_key)\n",
        "\n",
        "# Get top headlines from US sources\n",
        "top_headlines = newsapi.get_top_headlines(country='us')\n",
        "\n",
        "# Print the titles of the articles\n",
        "for article in top_headlines['articles']:\n",
        "    print(article['title'])\n"
      ],
      "metadata": {
        "id": "pwVWCQNH16TR"
      },
      "execution_count": null,
      "outputs": []
    },
    {
      "cell_type": "markdown",
      "source": [
        "Borna News API - A Persian language news API that provides access to Iranian news articles and metadata.\n",
        "Reasons to use: creating news apps in Persian, content analysis and research, monitoring topics in Iranian news. Documentation: https://bornanews.ir/api/."
      ],
      "metadata": {
        "id": "YYv_lfiF0Cwg"
      }
    },
    {
      "cell_type": "code",
      "source": [
        "import requests\n",
        "\n",
        "api_key = \"YOUR_API_KEY\"\n",
        "\n",
        "url = f'http://bornanews.ir/api/posts.php?key={api_key}&page=1'\n",
        "\n",
        "response = requests.get(url)\n",
        "\n",
        "data = response.json()\n",
        "\n",
        "# Print the title and summary of each article\n",
        "for article in data['items']:\n",
        "    print(f\"{article['title']} - {article['summary']}\")"
      ],
      "metadata": {
        "id": "e2Aqc1Cv0D2-"
      },
      "execution_count": null,
      "outputs": []
    },
    {
      "cell_type": "markdown",
      "source": [
        "New York Times API - A news API that provides access to New York Times articles and metadata.\n",
        "Reasons to use: creating news apps, content analysis and research, monitoring topics in the news.\n",
        " Documentation: https://developer.nytimes.com/docs/articlesearch-product/1/overview"
      ],
      "metadata": {
        "id": "iqyJ-Gpdz06g"
      }
    },
    {
      "cell_type": "code",
      "source": [
        "import requests\n",
        "\n",
        "api_key = \"YOUR_API_KEY\"\n",
        "\n",
        "url = f'https://api.nytimes.com/svc/archive/v1/2021/1.json?api-key={api_key}'\n",
        "\n",
        "response = requests.get(url)\n",
        "\n",
        "data = response.json()\n",
        "\n",
        "print(data)"
      ],
      "metadata": {
        "id": "GizeNkLNz0u4"
      },
      "execution_count": null,
      "outputs": []
    },
    {
      "cell_type": "markdown",
      "source": [
        "YouTube API - A video sharing API that allows users to upload, share, and view videos.\n",
        "Reasons to use: building a YouTube client, video analytics, managing videos and channels.\n",
        "\n",
        "Documentation: https://developers.google.com/youtube/v3/docs"
      ],
      "metadata": {
        "id": "Z0hssPJ6zxZk"
      }
    },
    {
      "cell_type": "code",
      "source": [
        "from googleapiclient.discovery import build\n",
        "\n",
        "api_key = \"YOUR_API_KEY\"\n",
        "\n",
        "youtube = build('youtube', 'v3', developerKey=api_key)\n",
        "\n",
        "request = youtube.search().list(\n",
        "    part='snippet',\n",
        "    q='Python Programming'\n",
        ")\n",
        "\n",
        "response = request.execute()\n",
        "\n",
        "# Print the titles of the videos\n",
        "for item in response['items']:\n",
        "    print(item['snippet']['title'])"
      ],
      "metadata": {
        "id": "hTADUpd-z0EJ"
      },
      "execution_count": null,
      "outputs": []
    },
    {
      "cell_type": "markdown",
      "source": [
        "The Guardian API - A news API that provides access to The Guardian's articles and metadata. Reasons to use: creating news apps, content analysis and research, monitoring topics in the news.\n",
        "\n",
        "Documentation: https://open-platform.theguardian.com/documentation/"
      ],
      "metadata": {
        "id": "ly0Cjuqu2C-Q"
      }
    },
    {
      "cell_type": "code",
      "source": [
        "import requests\n",
        "\n",
        "api_key = \"YOUR_API_KEY\"\n",
        "\n",
        "url = f'https://content.guardianapis.com/search?q=iran&api-key={api_key}'\n",
        "\n",
        "response = requests.get(url)\n",
        "\n",
        "data = response.json()\n",
        "\n",
        "# Print the headline and section of each article\n",
        "for article in data['response']['results']:\n",
        "    print(f\"{article['webTitle']} ({article['sectionName']})\")\n"
      ],
      "metadata": {
        "id": "kreLfiMQ2E3z"
      },
      "execution_count": null,
      "outputs": []
    },
    {
      "cell_type": "markdown",
      "source": [
        "Telegram API - A messaging API that allows users to send and receive messages, create groups and channels, and manage user data.\n",
        "Reasons to use: building a custom Telegram client, managing user data and messages, automating messaging tasks.\n",
        "\n",
        "Documentation: https://core.telegram.org/api/"
      ],
      "metadata": {
        "id": "2IKS2TDh1es4"
      }
    },
    {
      "cell_type": "code",
      "source": [
        "import telegram\n",
        "\n",
        "api_key = \"YOUR_API_KEY\"\n",
        "chat_id = \"YOUR_CHAT_ID\"\n",
        "\n",
        "bot = telegram.Bot(token=api_key)\n",
        "\n",
        "# Send a message to a specific chat\n",
        "bot.send_message(chat_id=chat_id, text=\"Hello, World!\")\n"
      ],
      "metadata": {
        "id": "rYyMk7eH1gwo"
      },
      "execution_count": null,
      "outputs": []
    }
  ]
}
