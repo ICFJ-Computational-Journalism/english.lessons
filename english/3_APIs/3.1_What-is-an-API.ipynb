{
 "cells": [
  {
   "cell_type": "markdown",
   "metadata": {
    "id": "0DRx1I5h95iV"
   },
   "source": [
    "# What is an API, and why would we use one?"
   ]
  },
  {
   "cell_type": "markdown",
   "metadata": {
    "id": "7wl9IMbV99nR"
   },
   "source": [
    "Application Programming Interfaces (APIs) have become an integral part of the digital landscape, connecting various software applications, services, and databases. APIs act as a bridge between different software applications, allowing them to communicate and exchange data efficiently.\n",
    "\n",
    "For journalists, this means that APIs can provide access to a vast pool of data and services, which can be used to enrich reporting and storytelling. By tapping into social media platforms, government databases, and other data-rich sources, journalists can gather real-time insights, track trends, and uncover hidden stories that may have otherwise gone unnoticed."
   ]
  },
  {
   "cell_type": "markdown",
   "metadata": {
    "id": "GEjElNFf-Bm_"
   },
   "source": [
    "#### Examples of APIs\n",
    "Here are some quick examples of APIs. Not all of these APIs would useful in a journalistic investigation. We will go over examples in more detail later.\n",
    "\n",
    "\n",
    "*   [Twitter API](https://developer.twitter.com/en/docs/twitter-api) - Provides access to Twitter data, including tweets, user profiles, and trends. Journalists could use this data to track social media activity related to a particular story or topic.\n",
    "*   [Kavenegar SMS API](https://github.com/kavenegar/Kavenegar-SMS-API) - Allows developers to send and receive SMS messages in Iran.\n",
    "*   [Google Maps API](https://pypi.org/project/googlemaps/) - Provides access to maps, directions, and location-based information. Journalists could use this data to track the movements of individuals or groups, or to visualize the geography of a story.\n",
    "*   [Soroush Messenger API](https://github.com/soroush-app/bot-python-sdk) - Provides an API for developers to integrate messaging features into their apps.\n",
    "*   [Digikala API](https://apieco.ir/docs/digikala.html) - Offers an API to access product and order data.\n",
    "*   Shaparak API - Payment network provides APIs for online payments and transaction processing."
   ]
  },
  {
   "cell_type": "markdown",
   "metadata": {
    "id": "tgmxcDW5-fML"
   },
   "source": [
    "### Accessing APIs\n",
    "\n"
   ]
  },
  {
   "cell_type": "markdown",
   "metadata": {
    "id": "YSu5MuERCMpk"
   },
   "source": [
    "How do we use an API? Typically, the first step is to get access. Since APIs are a significant business for many companies, they place restrictions on accessing them. However, often companies provide free versions of their APIs.  Common restrictions include API key requirements and API call limits.\n",
    "\n",
    "API keys are unique identifiers that are used to authenticate and track API usage by individual users or applications. APIs often require users to obtain an API key in order to access the service. This allows the API provider to monitor usage and enforce usage limits, as well as to identify and restrict access to unauthorized users.\n",
    "\n",
    "API call limits restrict the number of API requests that can be made by an individual user or application over a certain period of time. These limits are usually put in place to prevent excessive usage that could cause service disruptions or performance issues. Call limits can vary depending on the API provider and the specific API being used.\n",
    "\n",
    "To get access to an API, you typically need to follow a few steps:\n",
    "\n",
    "\n",
    "1.   Register for an account with the API provider.\n",
    "2.   Obtain an API key or other authentication token, if required."
   ]
  },
  {
   "cell_type": "markdown",
   "metadata": {
    "id": "oMMqvYQPCVF5"
   },
   "source": [
    "For example, to obtain an API key to the AccuWeather API, follow these steps:\n",
    "\n",
    "1. Go to the AccuWeather website (https://developer.accuweather.com/) and click on the \"Get started for free\" button.\n",
    "2. Fill out the registration form with your personal and account details.\n",
    "Once you have registered, you will be redirected to your AccuWeather Developer Dashboard.\n",
    "3. On your Dashboard, click on \"Create a new app\" to create a new application.\n",
    "Fill out the form with the necessary information about your application, such as the name, description, and platform.\n",
    "4. Once you have created your application, click on it to view the details.\n",
    "5. On the application page, you will find your API key in the \"API keys\" section. Click on \"Show\" to reveal the key.\n",
    "6. Copy the API key and use it in your API calls to the AccuWeather API."
   ]
  },
  {
   "cell_type": "markdown",
   "metadata": {
    "id": "sZwaDOIBvFeF"
   },
   "source": [
    "### Obscuring your API key with a repo: Why & how to set up repo to obscure API key"
   ]
  },
  {
   "cell_type": "markdown",
   "metadata": {
    "id": "gZFGIbBZul9e"
   },
   "source": [
    "It is important to keep your API key secret, as it can be used to access your account and perform actions on your behalf. One way to keep your API key secret is to store it in a separate file that is not included in your code repository.\n",
    "Here is an example of how to set up your repository to obscure your API key:\n",
    "1. Create a new file called config.py in the root directory of your repository.\n",
    "2. Add the following line to the `config.py` file, replacing your_api_key_here with your actual API key:\n",
    "`api_key = 'your_api_key_here'`\n",
    "\n",
    "Make sure to add config.py to your `.gitignore` file so that it is not included in your repository. After adding `config.py` to `.gitignore`, `.gitignore` might look like this:\n",
    "\n",
    "```\n",
    "config.py\n",
    ".DS_Store\n",
    "```\n",
    "\n",
    "where each line in this file is a file to be ignored by git. This way if you use Git to upload your code to a place like GitHub, the `config.py` file will not also be uploaded and shared publicly."
   ]
  },
  {
   "cell_type": "markdown",
   "metadata": {
    "id": "oR605EoY-Mus"
   },
   "source": [
    "### Using APIs in Python"
   ]
  },
  {
   "cell_type": "markdown",
   "metadata": {},
   "source": [
    "Now we use the AccuWeather API to obtain some weather data. For the purposes of this exercise, let's store an API Key in a variable:"
   ]
  },
  {
   "cell_type": "code",
   "execution_count": null,
   "metadata": {},
   "outputs": [],
   "source": [
    "YOUR_API_KEY = 'enter here'"
   ]
  },
  {
   "cell_type": "code",
   "execution_count": null,
   "metadata": {
    "colab": {
     "base_uri": "https://localhost:8080/"
    },
    "id": "-SE-pbj2-vm0",
    "outputId": "cdea4e94-9446-42d2-af76-aad179d9b8b4"
   },
   "outputs": [],
   "source": [
    "import requests\n",
    "\n",
    "# Set the API endpoint URL with required query parameters and API key\n",
    "url = \"http://dataservice.accuweather.com/currentconditions/v1/353412?apikey=\"+ YOUR_API_KEY +\"&details=true\"\n",
    "\n",
    "# Send a GET request to the API endpoint URL\n",
    "response = requests.get(url)\n",
    "\n",
    "# Check the status code to ensure that the request was successful\n",
    "if response.status_code == 200:\n",
    "    # If the request was successful, retrieve the data from the response\n",
    "    data = response.json()[0]\n",
    "    # Process the data as needed (e.g. print the current temperature)\n",
    "    temp = data['Temperature']['Metric']['Value']\n",
    "    print(f\"The current temperature in Paris is {temp} degrees Celsius.\")\n",
    "else:\n",
    "    # If the request was not successful, print an error message\n",
    "    print(f\"Error: {response.status_code}\")"
   ]
  },
  {
   "cell_type": "markdown",
   "metadata": {
    "id": "Czv5Aplv_zzp"
   },
   "source": [
    "In the code above, we did the following:\n",
    "\n",
    "\n",
    "1.   Import the requests library\n",
    "2.   We set the url that we needed to access the API. You can find this URL on the website of whichever API you are working with. We need to provide an API key within the URL. In this case, we use the [Current Conditions API](https://developer.accuweather.com/accuweather-current-conditions-api/apis) provided by Accuweather, which requires a location key. In this case we use `353412`, which is the location key for Paris. To find location keys for other places, one could use Accuweather's [Location API](https://developer.accuweather.com/accuweather-locations-api/apis).\n",
    "3.   We send a request using requests.get and save it.\n",
    "4.   We check if the request was successful, and if so, extract the desired data from it, in this case, the temperature in Paris."
   ]
  },
  {
   "cell_type": "markdown",
   "metadata": {},
   "source": [
    "### Using APIs with a Python library"
   ]
  },
  {
   "cell_type": "markdown",
   "metadata": {
    "id": "ANsYgo_vBXvK"
   },
   "source": [
    "The API that we used above does not have a library. An API without a library in Python means that there is no pre-built Python library available for the API, and developers  need to use Python's built-in libraries or third-party libraries to interact with the API. This would require developers to write code to handle details such as making HTTP requests and parsing. To access API's like this, you use the requests library, as we did above.\n",
    "\n",
    "In Python, an API with a library means that there is a Python library available that provides pre-built functions and classes for interacting with the API. The library may handle details such as making HTTP requests, handling authentication, and parsing responses, which makes it easier for developers to use the API without having to write low-level code themselves."
   ]
  },
  {
   "cell_type": "markdown",
   "metadata": {
    "id": "N91Mk1ixBn3D"
   },
   "source": [
    "In the example below, we see an example of API that has a library, OpenWeatherMap. In this case, their API is wrapped in a Python library called [pyowm](https://pyowm.readthedocs.io/en/latest/index.html). See that rather than needing to provide a URL to the requests library, we can instead simply use the functions within the library to obtain the desired information."
   ]
  },
  {
   "cell_type": "code",
   "execution_count": null,
   "metadata": {
    "id": "0Cy_FDb2_zBq"
   },
   "outputs": [],
   "source": [
    "# Install the pyowm library using pip\n",
    "!pip install pyowm\n",
    "\n",
    "# Import the pyowm library\n",
    "import pyowm\n",
    "\n",
    "# Set the configuration parameters (API key and city name)\n",
    "api_key = 'YOUR_API_KEY'\n",
    "city_name = 'Paris'\n",
    "\n",
    "# Initialize the OpenWeatherMap client with the API key\n",
    "owm = pyowm.OWM(api_key)\n",
    "\n",
    "# Use the client to get the weather data for the specified city\n",
    "observation = owm.weather_at_place(city_name)\n",
    "weather = observation.get_weather()\n",
    "\n",
    "# Print the current temperature for the city\n",
    "temp = weather.get_temperature(unit='celsius')['temp']\n",
    "print(f\"The current temperature in {city_name} is {temp} degrees Celsius.\")\n"
   ]
  },
  {
   "cell_type": "markdown",
   "metadata": {
    "id": "4zlucquk-rpP"
   },
   "source": [
    "In Python, an API with a library means that there is a Python library available that provides pre-built functions and classes for interacting with the API. The library may handle details such as making HTTP requests, handling authentication, and parsing responses, which makes it easier for developers to use the API without having to write low-level code themselves.\n",
    "\n",
    "Examples of APIs with Python libraries include the Google Maps API, which provides the googlemaps library, and the Twitter API, which provides the tweepy library.\n",
    "\n",
    "An API without a library in Python would mean that there is no pre-built Python library available for the API, and developers would need to use Python's built-in libraries or third-party libraries to interact with the API. This would require developers to write code to handle details such as making HTTP requests and parsing responses, which can be more time-consuming and error-prone.\n",
    "\n",
    "Examples of APIs without official Python libraries include the GitHub API. Developers would need to use Python's built-in requests library or a third-party library like httplib2 to interact with these APIs.\n",
    "\n"
   ]
  },
  {
   "cell_type": "markdown",
   "metadata": {
    "id": "MtMhKqMK2mLE"
   },
   "source": [
    "### More examples of using APIs\n",
    "Below, we provide multiple examples of API's, as well as their documentations. This will help give you a taste of what is possible with APIs.\n",
    "\n",
    "Notice that in some cases, we use the requests library to handle the request, while in other cases the API comes with its own Python library."
   ]
  },
  {
   "cell_type": "markdown",
   "metadata": {
    "id": "xD0WUmnt1443"
   },
   "source": [
    "**NewsAPI** - a news API that provides access to articles and metadata from various news sources. It has its own Python library called newsapi-python, which simplifies the process of accessing the API's data. Documentation: https://newsapi.org/docs/client-libraries/python"
   ]
  },
  {
   "cell_type": "code",
   "execution_count": null,
   "metadata": {
    "id": "pwVWCQNH16TR"
   },
   "outputs": [],
   "source": [
    "from newsapi import NewsApiClient\n",
    "\n",
    "api_key = \"YOUR_API_KEY\"\n",
    "\n",
    "# Initialize NewsApiClient\n",
    "newsapi = NewsApiClient(api_key=api_key)\n",
    "\n",
    "# Get top headlines from US sources\n",
    "top_headlines = newsapi.get_top_headlines(country='us')\n",
    "\n",
    "# Print the titles of the articles\n",
    "for article in top_headlines['articles']:\n",
    "    print(article['title'])\n"
   ]
  },
  {
   "cell_type": "markdown",
   "metadata": {
    "id": "YYv_lfiF0Cwg"
   },
   "source": [
    "**Borna News API** - A Persian language news API that provides access to Iranian news articles and metadata.\n",
    "Reasons to use: creating news apps in Persian, content analysis and research, monitoring topics in Iranian news. Documentation: https://bornanews.ir/api/."
   ]
  },
  {
   "cell_type": "code",
   "execution_count": null,
   "metadata": {
    "id": "e2Aqc1Cv0D2-"
   },
   "outputs": [],
   "source": [
    "import requests\n",
    "\n",
    "api_key = \"YOUR_API_KEY\"\n",
    "\n",
    "url = f'http://bornanews.ir/api/posts.php?key={api_key}&page=1'\n",
    "\n",
    "response = requests.get(url)\n",
    "\n",
    "data = response.json()\n",
    "\n",
    "# Print the title and summary of each article\n",
    "for article in data['items']:\n",
    "    print(f\"{article['title']} - {article['summary']}\")"
   ]
  },
  {
   "cell_type": "markdown",
   "metadata": {
    "id": "iqyJ-Gpdz06g"
   },
   "source": [
    "**New York Times API** - A news API that provides access to New York Times articles and metadata.\n",
    "Reasons to use: creating news apps, content analysis and research, monitoring topics in the news.\n",
    " Documentation: https://developer.nytimes.com/docs/articlesearch-product/1/overview"
   ]
  },
  {
   "cell_type": "code",
   "execution_count": null,
   "metadata": {
    "id": "GizeNkLNz0u4"
   },
   "outputs": [],
   "source": [
    "import requests\n",
    "\n",
    "api_key = \"YOUR_API_KEY\"\n",
    "\n",
    "url = f'https://api.nytimes.com/svc/archive/v1/2021/1.json?api-key={api_key}'\n",
    "\n",
    "response = requests.get(url)\n",
    "\n",
    "data = response.json()\n",
    "\n",
    "print(data)"
   ]
  },
  {
   "cell_type": "markdown",
   "metadata": {
    "id": "Z0hssPJ6zxZk"
   },
   "source": [
    "**YouTube API** - A video sharing API that allows users to upload, share, and view videos.\n",
    "Reasons to use: building a YouTube client, video analytics, managing videos and channels.\n",
    "\n",
    "Documentation: https://developers.google.com/youtube/v3/docs"
   ]
  },
  {
   "cell_type": "code",
   "execution_count": null,
   "metadata": {
    "id": "hTADUpd-z0EJ"
   },
   "outputs": [],
   "source": [
    "from googleapiclient.discovery import build\n",
    "\n",
    "api_key = \"YOUR_API_KEY\"\n",
    "\n",
    "youtube = build('youtube', 'v3', developerKey=api_key)\n",
    "\n",
    "request = youtube.search().list(\n",
    "    part='snippet',\n",
    "    q='Python Programming'\n",
    ")\n",
    "\n",
    "response = request.execute()\n",
    "\n",
    "# Print the titles of the videos\n",
    "for item in response['items']:\n",
    "    print(item['snippet']['title'])"
   ]
  },
  {
   "cell_type": "markdown",
   "metadata": {
    "id": "ly0Cjuqu2C-Q"
   },
   "source": [
    "**The Guardian API** - A news API that provides access to The Guardian's articles and metadata. Reasons to use: creating news apps, content analysis and research, monitoring topics in the news.\n",
    "\n",
    "Documentation: https://open-platform.theguardian.com/documentation/"
   ]
  },
  {
   "cell_type": "code",
   "execution_count": null,
   "metadata": {
    "id": "kreLfiMQ2E3z"
   },
   "outputs": [],
   "source": [
    "import requests\n",
    "\n",
    "api_key = \"YOUR_API_KEY\"\n",
    "\n",
    "url = f'https://content.guardianapis.com/search?q=iran&api-key={api_key}'\n",
    "\n",
    "response = requests.get(url)\n",
    "\n",
    "data = response.json()\n",
    "\n",
    "# Print the headline and section of each article\n",
    "for article in data['response']['results']:\n",
    "    print(f\"{article['webTitle']} ({article['sectionName']})\")\n"
   ]
  },
  {
   "cell_type": "markdown",
   "metadata": {
    "id": "2IKS2TDh1es4"
   },
   "source": [
    "**Telegram API** - A messaging API that allows users to send and receive messages, create groups and channels, and manage user data.\n",
    "Reasons to use: building a custom Telegram client, managing user data and messages, automating messaging tasks.\n",
    "\n",
    "Documentation: https://core.telegram.org/api/"
   ]
  },
  {
   "cell_type": "code",
   "execution_count": null,
   "metadata": {
    "id": "rYyMk7eH1gwo"
   },
   "outputs": [],
   "source": [
    "import telegram\n",
    "\n",
    "api_key = \"YOUR_API_KEY\"\n",
    "chat_id = \"YOUR_CHAT_ID\"\n",
    "\n",
    "bot = telegram.Bot(token=api_key)\n",
    "\n",
    "# Send a message to a specific chat\n",
    "bot.send_message(chat_id=chat_id, text=\"Hello, World!\")\n"
   ]
  }
 ],
 "metadata": {
  "colab": {
   "provenance": []
  },
  "kernelspec": {
   "display_name": "Python 3 (ipykernel)",
   "language": "python",
   "name": "python3"
  },
  "language_info": {
   "codemirror_mode": {
    "name": "ipython",
    "version": 3
   },
   "file_extension": ".py",
   "mimetype": "text/x-python",
   "name": "python",
   "nbconvert_exporter": "python",
   "pygments_lexer": "ipython3",
   "version": "3.10.9"
  }
 },
 "nbformat": 4,
 "nbformat_minor": 1
}
