{
 "cells": [
  {
   "cell_type": "markdown",
   "metadata": {
    "id": "xan7txWXfp7j"
   },
   "source": [
    "## Telegram Bot Examples"
   ]
  },
  {
   "cell_type": "markdown",
   "metadata": {
    "id": "8pwpEhhZzB0i"
   },
   "source": [
    "This notebook builds on the previous one, helping give you a sense of what useful functionality is possible with a bot and the key code needed to produce that functionality.  Telegram bots can be invaluable tools for journalists. Here, we provide a few examples. For some of the examples, we provide the key code needed to set up the bot—the commands that the user can use to interact with the bot."
   ]
  },
  {
   "cell_type": "markdown",
   "metadata": {
    "id": "bYdpeEPz1wei"
   },
   "source": [
    "1. Data Collection: Bots can be used to collect data from users, like survey responses or eyewitness reports.\n"
   ]
  },
  {
   "cell_type": "code",
   "execution_count": null,
   "metadata": {
    "id": "jvOF2IOg1s3U"
   },
   "outputs": [],
   "source": [
    "def message(update: Update, context: CallbackContext) -> None:\n",
    "    # 'context.args' is a list of arguments passed after the command.\n",
    "    # We join them into a string 'user_said'.\n",
    "    user_said = ' '.join(context.args)\n",
    "\n",
    "    # The bot sends a message back to the user saying what the user said.\n",
    "    update.message.reply_text(f\"You said: {user_said}\")\n",
    "    \n",
    "    # Open the file 'user_messages.txt' in append mode ('a'). If the file does not exist, it gets created.\n",
    "    # 'with' keyword is used for context management. It automatically closes the file after we're done.\n",
    "    with open('user_messages.txt', 'a') as f:\n",
    "        # Write the user's message at the end of the file. '\\n' is a newline character that separates messages.\n",
    "        f.write(f\"\\n{user_said}\")\n"
   ]
  },
  {
   "cell_type": "markdown",
   "metadata": {
    "id": "gH1QQ3Il4PEx"
   },
   "source": [
    "2. Content Promotion: If a journalist has a new article or blog post, a bot can automatically share it with their followers."
   ]
  },
  {
   "cell_type": "code",
   "execution_count": null,
   "metadata": {
    "id": "qmIT7diP3_Sz"
   },
   "outputs": [],
   "source": [
    "def latest(update: Update, context: CallbackContext) -> None:\n",
    "    # Open the file 'latest_info.txt' in read mode ('r').\n",
    "    # If the file does not exist, Python will throw an error.\n",
    "    with open('latest_info.txt', 'r') as f:\n",
    "        # Read the entire content of the file into the string 'latest_info'.\n",
    "        latest_info = f.read()\n",
    "\n",
    "    # The bot sends the content of 'latest_info' as a message to the user.\n",
    "    update.message.reply_text(latest_info)"
   ]
  },
  {
   "cell_type": "markdown",
   "metadata": {
    "id": "p8NP5__E4rXs"
   },
   "source": [
    "3. Q&A Bots: These bots can be programmed to answer commonly asked questions about a story or a topic, saving the journalist from having to answer each question individually.\n",
    "\n",
    "4. Community Building: The bot could be used to help form and manage a digital community of engaged citizens, sharing information about local community events, coordinating peaceful protests, or organizing aid for those in need.\n",
    "\n",
    "5. Polls and Surveys: The bot could conduct polls or surveys, helping to gather public opinion on matters of local or national importance."
   ]
  },
  {
   "cell_type": "code",
   "execution_count": null,
   "metadata": {
    "id": "LAGMcJT84rwa"
   },
   "outputs": [],
   "source": [
    "def poll(update: Update, context: CallbackContext) -> None:\n",
    "    # Define a poll question\n",
    "    question = \"Who would you like to lead the Happy Gamers group? Please select one of these two options using the /poll_answer command.\"\n",
    "\n",
    "    # Define options for the poll\n",
    "    options = [[\"John Smith\", \"Joe Schmoe\"]]\n",
    "\n",
    "    # Send a message with the question text and attach an InlineKeyboard with options.\n",
    "    # InlineKeyboardMarkup creates a custom inline keyboard\n",
    "    # InlineKeyboardButton creates a button for each option\n",
    "    # 'callback_data' will be received in 'poll_answer' when an option is chosen\n",
    "    update.message.reply_text(\n",
    "        text=question,\n",
    "        reply_markup=InlineKeyboardMarkup(\n",
    "            [[InlineKeyboardButton(text=opt, callback_data=opt)] for opt in options[0]]\n",
    "        )\n",
    "    )\n",
    "\n",
    "def poll_answer(update: Update, context: CallbackContext) -> None:\n",
    "    # 'update.callback_query' contains the information about the user's choice\n",
    "    query = update.callback_query\n",
    "\n",
    "    # 'query.data' contains the callback data we defined in the InlineKeyboardButton\n",
    "    answer = query.data\n",
    "\n",
    "    # Open the file 'poll_answers.txt' in append mode ('a') to store the poll responses\n",
    "    # The 'with' keyword is used for context management. It automatically closes the file after we're done.\n",
    "    with open('poll_answers.txt', 'a') as f:\n",
    "        # Write the user's poll answer at the end of the file. '\\n' is a newline character that separates answers.\n",
    "        f.write(f\"\\n{answer}\")\n",
    "\n",
    "    # 'query.answer()' is used to answer the callback query from the user's inline keyboard button press\n",
    "    # It is necessary to prevent a loading state for the user\n",
    "    query.answer()\n",
    "\n",
    "    # Edit the original poll message to show the user their selection\n",
    "    query.edit_message_text(text=f\"You selected: {answer}\")"
   ]
  },
  {
   "cell_type": "markdown",
   "metadata": {
    "id": "CiBrvOhC1yGo"
   },
   "source": [
    "That's it! Note that all of these ideas can be integrated with the bot we built in the previous notebook."
   ]
  }
 ],
 "metadata": {
  "colab": {
   "provenance": []
  },
  "kernelspec": {
   "display_name": "Python 3 (ipykernel)",
   "language": "python",
   "name": "python3"
  },
  "language_info": {
   "codemirror_mode": {
    "name": "ipython",
    "version": 3
   },
   "file_extension": ".py",
   "mimetype": "text/x-python",
   "name": "python",
   "nbconvert_exporter": "python",
   "pygments_lexer": "ipython3",
   "version": "3.7.16"
  }
 },
 "nbformat": 4,
 "nbformat_minor": 1
}
