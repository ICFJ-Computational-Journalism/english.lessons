{
  "nbformat": 4,
  "nbformat_minor": 0,
  "metadata": {
    "colab": {
      "provenance": []
    },
    "kernelspec": {
      "name": "python3",
      "display_name": "Python 3"
    },
    "language_info": {
      "name": "python"
    }
  },
  "cells": [
    {
      "cell_type": "markdown",
      "source": [
        "## Telegram API"
      ],
      "metadata": {
        "id": "xan7txWXfp7j"
      }
    },
    {
      "cell_type": "markdown",
      "source": [
        "Here's a guide to help you set up a bot in Telegram and interface with it in Python. This guide also provides ideas for bots to use for journalistic purposes. In the following guide, we will go through a specific example where we build a simple Telegram bot."
      ],
      "metadata": {
        "id": "lCbipwYGyV68"
      }
    },
    {
      "cell_type": "markdown",
      "source": [
        "#### Step 1: Creating the Telegram Bot\n",
        "\n",
        "\n",
        "1.   Open Telegram app on your device.\n",
        "2.   In the search bar, type \"BotFather\". This is Telegram's bot that allows you to create and manage other bots.\n",
        "3.   Start a chat with BotFather. Send /start to initiate the chat.\n",
        "4.   Now, to create a new bot, type /newbot and send. BotFather will then prompt you to choose a name for your bot.\n",
        "5.   After you’ve chosen a name, you need to choose a username for your bot. The username should end in ‘bot’ and it must be unique.\n",
        "6.   If the bot is successfully created, BotFather will give you a token. This token is a string that will be required to authorize the bot and send requests to the Bot API. Save it carefully.\n",
        "\n",
        "\n",
        "\n",
        "\n",
        "\n"
      ],
      "metadata": {
        "id": "odsKh2c7ya57"
      }
    },
    {
      "cell_type": "markdown",
      "source": [
        "Your bot's token is essentially a secret password. If someone else gets hold of it, they can control your bot and use it for their own purposes. This is why it's essential to keep it private. In the \"What is an API\" notebook we provide tips for keeping information like this secure.\n",
        "\n"
      ],
      "metadata": {
        "id": "c1IE3OXCy4Bd"
      }
    },
    {
      "cell_type": "markdown",
      "source": [
        "#### Step 2: Interfacing with the Bot in Python\n"
      ],
      "metadata": {
        "id": "ta3YsX7rydXu"
      }
    },
    {
      "cell_type": "markdown",
      "source": [
        "\n",
        "To interact with the bot in Python, we will use the python-telegram-bot library. It's a wrapper over the Telegram API.\n",
        "\n",
        "First, install the python-telegram-bot package. You can do this with pip:"
      ],
      "metadata": {
        "id": "RBZUxDsByclO"
      }
    },
    {
      "cell_type": "code",
      "source": [
        "!pip install python-telegram-bot\n"
      ],
      "metadata": {
        "id": "CVBxCm0Jygon"
      },
      "execution_count": null,
      "outputs": []
    },
    {
      "cell_type": "markdown",
      "source": [
        "Now you can start to program the bot in Python. You’ll need to import the required packages, create an updater object using your token, and define a command handler for the bot. In the next notebook, we explain how to set up a bot to provide news to users."
      ],
      "metadata": {
        "id": "gLeucEO5yiov"
      }
    },
    {
      "cell_type": "markdown",
      "source": [
        "#### Examples of How a Citizen Journalist Can Use a Telegram Bot\n",
        "\n",
        "Telegram bots can be invaluable tools for citizen journalists. Here are a few examples:\n",
        "\n",
        "1. News Updates: A bot can be programmed to send subscribers updates on the latest news stories. This could include sending out a daily summary, or real-time alerts for breaking news.\n",
        "\n",
        "2. Data Collection: Bots can be used to collect data from users, like survey responses or eyewitness reports.\n",
        "\n",
        "3. Interactive Stories: Bots can make stories more interactive by allowing readers to choose what information they see next, or even interact with characters in the story.\n",
        "\n",
        "4. Content Promotion: If a journalist has a new article or blog post, a bot can automatically share it with their followers.\n",
        "\n",
        "5. Q&A Bots: These bots can be programmed to answer commonly asked questions about a story or a topic, saving the journalist from having to answer each question individually.\n",
        "\n",
        "6. Crowdsourcing: Bots can be used to crowdsource information or images for a story. For example, a bot could ask users to submit photos of a local event.\n",
        "\n",
        "\n",
        "A citizen journalist in Iran or any other country with limited press freedom and stringent internet censorship could make particularly good use of Telegram bots in various ways, always with the paramount concern for safety and privacy. Here are some specific examples:\n",
        "\n",
        "1. Secure Whistleblowing: The bot could serve as a secure channel for people to submit sensitive information. Using encryption and careful data management, this could help protect the identities of whistleblowers.\n",
        "\n",
        "2. Uncensored News Updates: The bot could share uncensored news or information that may not be readily available or are blocked on other platforms in Iran due to censorship.\n",
        "\n",
        "3. Providing VPNs or Proxy Details: If the journalist has access to safe and secure VPNs or proxies, the bot could distribute this information, helping more people bypass internet censorship.\n",
        "\n",
        "4. Teaching Digital Security: The bot could share lessons or tips about how to maintain digital security, protect privacy online, and circumvent internet censorship.\n",
        "\n",
        "5. Community Building: The bot could be used to help form and manage a digital community of engaged citizens, sharing information about local community events, coordinating peaceful protests, or organizing aid for those in need.\n",
        "\n",
        "6. Polls and Surveys: The bot could conduct polls or surveys, helping to gather public opinion on matters of local or national importance.\n",
        "\n",
        "7. Citizen Reporting: Similar to crowdsourcing, the bot could be used to receive citizen reports about local events, issues, or government actions, providing a ground-level view of situations that may not be covered by official news outlets.\n",
        "\n",
        "Remember, in a country like Iran with tight control over the internet and media, using such bots can be risky. It's crucial to use strong encryption, secure data handling, and anonymization techniques to protect both the operator and the users of the bot. User safety should always be the top priority. Users should also be informed about how their data will be used and protected."
      ],
      "metadata": {
        "id": "8pwpEhhZzB0i"
      }
    }
  ]
}