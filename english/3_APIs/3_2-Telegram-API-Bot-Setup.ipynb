{
  "nbformat": 4,
  "nbformat_minor": 0,
  "metadata": {
    "colab": {
      "provenance": []
    },
    "kernelspec": {
      "name": "python3",
      "display_name": "Python 3"
    },
    "language_info": {
      "name": "python"
    }
  },
  "cells": [
    {
      "cell_type": "markdown",
      "source": [
        "## Building a Telegram Bot"
      ],
      "metadata": {
        "id": "NFGOz_4wAycw"
      }
    },
    {
      "cell_type": "markdown",
      "source": [
        "Here, I am excited to provide you with example of a Telegram bot that showcases how bots can empower journalists. I believe that this demonstration will give you a taste of the possibilities and benefits that bots can offer to empower journalists and enhance the news dissemination process.\n",
        "\n",
        "\n",
        "We will build a Telegram bot that helps journalists and news enthusiasts stay up-to-date with Iranian news. The bot will allow users to interact by sending commands. When users start a conversation with the bot, they will receive a friendly welcome message introducing the bot's features. By using the /news command, users will be able to request the latest news articles from various Iranian RSS feeds. The bot will fetch the news items, including titles, descriptions, and links, and send them back to the user in an organized and readable format. This way, users can conveniently access Iranian news directly within the Telegram messaging platform. Our bot will simplify the process of news dissemination, providing a seamless and user-friendly experience for accessing current Iranian news."
      ],
      "metadata": {
        "id": "g1nNJOI8AtUY"
      }
    },
    {
      "cell_type": "markdown",
      "source": [
        "Building our bot involves five key components\n",
        "1. Setting up a Telegram bot with BotFather\n",
        "2. Doing some initial setup in Python: installing and importing libraries and initializing the bot\n",
        "3. Defining commands that enable the user to interact with the bot and obtain the desired information\n",
        "4. Obtaining and processing the information (news) that the bot provides to users\n",
        "5. Writing the code that starts the bot and incorporates the commands defined in step 2\n",
        "\n",
        "Note that a Telegram bot cannot be run in a Jupyter notebook. To get this code to work, it will be necessary to install all of the libraries below, as well as put all of the code below in a Python file and run it."
      ],
      "metadata": {
        "id": "iqyyCZbcBkWs"
      }
    },
    {
      "cell_type": "markdown",
      "source": [
        "Here's a guide to help you set up a bot in Telegram. This guide also provides ideas for bots and some starter code for some of the possibilities. In the following guide, we will go through a specific example where we build a simple Telegram bot."
      ],
      "metadata": {
        "id": "lCbipwYGyV68"
      }
    },
    {
      "cell_type": "markdown",
      "source": [
        "You can set up a bot with BotFather by following these steps:\n",
        "1.   Open Telegram app on your device.\n",
        "2.   In the search bar, type \"BotFather\". This is Telegram's bot that allows you to create and manage other bots.\n",
        "3.   Start a chat with BotFather. Send /start to initiate the chat.\n",
        "4.   Now, to create a new bot, type /newbot and send. BotFather will then prompt you to choose a name for your bot.\n",
        "5.   After you’ve chosen a name, you need to choose a username for your bot. The username should end in ‘bot’ and it must be unique.\n",
        "6.   If the bot is successfully created, BotFather will give you a token. This token is a string that will be required to authorize the bot and send requests to the Bot API. Save it carefully.\n",
        "\n",
        "To see updated information on BotFather, see [Telegram Bot Features](https://core.telegram.org/bots/features#botfather).\n",
        "\n",
        "\n",
        "\n",
        "\n"
      ],
      "metadata": {
        "id": "odsKh2c7ya57"
      }
    },
    {
      "cell_type": "markdown",
      "source": [
        "Your bot's token is essentially a secret password. If someone else gets hold of it, they can control your bot and use it for their own purposes. This is why it's essential to keep it private. In the \"What is an API\" notebook we provide tips for keeping information like this secure.\n",
        "\n",
        "We now initialize our bot using the token you obtained."
      ],
      "metadata": {
        "id": "c1IE3OXCy4Bd"
      }
    },
    {
      "cell_type": "code",
      "source": [
        "import telegram\n",
        "import feedparser #We will use this for pulling from RSS feeds to get the news content that we will serve to users\n",
        "from telegram.ext import CommandHandler, MessageHandler, Updater, Application\n",
        "import asyncio\n",
        "\n",
        "\n",
        "# Telegram Bot API Token\n",
        "TOKEN = #Insert your token here. You can mask your API token as described 3.1.\n",
        "\n",
        "# Initialize the Telegram bot\n",
        "bot = telegram.Bot(token=TOKEN)\n"
      ],
      "metadata": {
        "id": "H8ao_TZ1CyqY"
      },
      "execution_count": null,
      "outputs": []
    },
    {
      "cell_type": "markdown",
      "source": [
        "Now we move on to defining the key commands."
      ],
      "metadata": {
        "id": "1LFklaQTDf66"
      }
    },
    {
      "cell_type": "code",
      "source": [
        "async def start(update, context):\n",
        "    \"\"\"Handler for the /start command.\"\"\"\n",
        "    message = \"Welcome to the News Bot!\\n\"\n",
        "    message += \"Send /news to get the latest news updates.\"\n",
        "    await context.bot.send_message(chat_id=update.effective_chat.id, text=message)\n",
        "\n",
        "async def news(update, context):\n",
        "    \"\"\"Handler for the /news command.\"\"\"\n",
        "    # Fetch news items\n",
        "    news_items = fetch_news()\n",
        "\n",
        "    # Send news to the user\n",
        "    for news_item in news_items:\n",
        "        # Construct the message\n",
        "        message = f\"{news_item['title']}\\n\\n\"\n",
        "        message += f\"{news_item['description']}\\n\\n\"\n",
        "        message += f\"Read more: {news_item['link']}\"\n",
        "\n",
        "        await context.bot.send_message(chat_id=update.effective_chat.id, text=message)"
      ],
      "metadata": {
        "id": "cHjDvDhFDh-s"
      },
      "execution_count": null,
      "outputs": []
    },
    {
      "cell_type": "markdown",
      "source": [
        "start(update, context): This function serves as the handler for the /start command. When a user sends the /start command to the bot, this function is triggered. It sends a welcome message to the user, providing information about the bot's functionalities and how to interact with it. The update parameter contains information about the incoming message, while the context parameter provides additional context and functionality for handling the command.\n",
        "\n",
        "news(update, context): This function acts as the handler for the /news command. When a user sends the /news command to the bot, this function is executed. It calls the fetch_news() function to retrieve the latest news items from the RSS feeds. It then iterates over the news items and constructs a message for each item, including the title, description, and link. The messages are then sent back to the user."
      ],
      "metadata": {
        "id": "t5KwfdmcDmke"
      }
    },
    {
      "cell_type": "markdown",
      "source": [
        "Notice that the news function described above relies on the fetch_news function, which we haven't defined yet. We define it now:"
      ],
      "metadata": {
        "id": "KltTdTsZARN7"
      }
    },
    {
      "cell_type": "code",
      "source": [
        "# Iranian RSS feed URLs\n",
        "rss_feeds = [\n",
        "    'https://www.isna.ir/rss',\n",
        "    'https://en.mehrnews.com/rss',\n",
        "    'https://www.farsnews.ir/rss'\n",
        "]\n",
        "\n",
        "def fetch_news():\n",
        "    news_items = []\n",
        "\n",
        "    # Fetch news from RSS feeds\n",
        "    for feed_url in rss_feeds:\n",
        "        feed = feedparser.parse(feed_url)\n",
        "\n",
        "        # Extract news items from the feed\n",
        "        for entry in feed.entries[:3]:\n",
        "            title = entry.title\n",
        "            link = entry.link\n",
        "            description = entry.description\n",
        "\n",
        "            # Create a dictionary with news item details\n",
        "            news_item = {\n",
        "                'title': title,\n",
        "                'link': link,\n",
        "                'description': description\n",
        "            }\n",
        "\n",
        "            news_items.append(news_item)\n",
        "\n",
        "    return news_items"
      ],
      "metadata": {
        "id": "eTCA1B0nAL15"
      },
      "execution_count": null,
      "outputs": []
    },
    {
      "cell_type": "markdown",
      "source": [
        "Feedparser is a convenient library for pulling information from RSS feeds. The fetch_news function uses the feedparser library to parse the RSS feeds and extract relevant information such as the news title, description, and link. It returns a list of dictionaries, with each dictionary representing a news item and containing the title, link, and description."
      ],
      "metadata": {
        "id": "4E24Mn8RAIyJ"
      }
    },
    {
      "cell_type": "markdown",
      "source": [
        "Now that we've defined our commands, we are ready to connect them to our bot."
      ],
      "metadata": {
        "id": "7ExOJLtIEq2c"
      }
    },
    {
      "cell_type": "code",
      "execution_count": null,
      "metadata": {
        "id": "qxJo8G1u_Ncu"
      },
      "outputs": [],
      "source": [
        "application = Application.builder().token(TOKEN).build()\n",
        "\n",
        "# on different commands - answer in Telegram\n",
        "application.add_handler(CommandHandler(\"start\", start))\n",
        "application.add_handler(CommandHandler(\"news\", news))\n",
        "\n",
        "# on non command i.e message - echo the message on Telegram\n",
        "\n",
        "# Run the bot until the user presses Ctrl-C\n",
        "application.run_polling()"
      ]
    },
    {
      "cell_type": "markdown",
      "source": [
        "While all of the code in the above block is essential to get the bot running, it is not essential that you understand how all of it works. What is key to understand about the code above is the CommandHandlers. This is where we connect our commands to the bot. When creating a CommandHandler instance, you specify the command string (e.g., '/start', '/news') as the first argument. This indicates the command that triggers the handler. Additionally, you provide the name of the function that should be executed when the command is received, in this case the start function and the news function respectively.\n",
        "\n",
        "If you wish to incorporate another command into your bot, you will aneed to add another CommandHandler and connect it to your dispatcher. Suppose you have another command called '/week' which provides a summary of the news of the past week which we want to associate with a function called 'week'. Then you would add it by adding the following code:\n",
        "\n",
        "week_handler = CommandHandler('week', week)\n",
        "\n",
        "dispatcher.add_handler(week_handler)\n"
      ],
      "metadata": {
        "id": "5xIb2E47FZtH"
      }
    },
    {
      "cell_type": "markdown",
      "source": [
        "Lastly, note that for the bot to work, the Python code needs to remain running on your computer, and your computer needs to remain connected to the internet. Alternatively, to achieve more stability in your bot's uptime, you can set up a Cloud environment in which to run the Python code."
      ],
      "metadata": {
        "id": "WCoQneiQjsCs"
      }
    },
    {
      "cell_type": "markdown",
      "source": [
        "#### Closing Remarks"
      ],
      "metadata": {
        "id": "2iB2KfvZIKXh"
      }
    },
    {
      "cell_type": "markdown",
      "source": [
        "That's it! This should give you a taste of the power of Telegram bots. I hope this inspires you. Here are some further ideas on how you could build on a bot like this:\n",
        "\n",
        "1. Add commentary and analysis: Alongside news articles from RSS feeds, citizen journalists can add their own commentary, analysis, or insights to provide context and perspective to the news. They can share their thoughts on the significance of the news, its implications, or any additional information they have gathered through their reporting.\n",
        "\n",
        "2. Include user-generated content: You can encourage their audience to contribute by accepting user-generated content, such as eyewitness reports, photos, or videos related to news events. This collaborative approach can enhance the coverage and provide a broader perspective on the news.\n",
        "\n",
        "3. Investigative reporting: RSS feeds can serve as a starting point for citizen journalists to identify potential leads or stories of public interest. They can follow up on these leads by conducting in-depth investigations, interviews, or data analysis to uncover important stories that may have been overlooked.\n",
        "\n",
        "In the next notebook, we will provide starter code for a couple other ideas for bots."
      ],
      "metadata": {
        "id": "YXrTj2PjHHRF"
      }
    }
  ]
}
