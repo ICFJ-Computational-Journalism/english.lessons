{
 "cells": [
  {
   "cell_type": "markdown",
   "id": "d0e6c2f5",
   "metadata": {},
   "source": [
    "## ۱.۱ مقدمه‌ای بر پانداس\n",
    "### پانداس چیست؟\n",
    "با کمک پایتون، ما می‌توانیم از «پکیج‌ها» استفاده کنیم. پکیج‌ها، ابزارهایی برای کدنویسی هستند که افراد مختلف برای انجام کارهای مختلف منتشر می‌کنند. به عنوان مثال، اینجا ما قرار است از پانداس استفاده کنیم که پکیجی است که به طور ویژه برای تحلیل و کار با داده از آن استفاده می‌شود.\n",
    "\n",
    "زمانی که می‌خواهیم از پانداس استفاده کنیم، باید کلید واژه «ایمپورت» را به کار ببریم."
   ]
  },
  {
   "cell_type": "markdown",
   "id": "4916e88c",
   "metadata": {},
   "source": [
    "import pandas as pd"
   ]
  },
  {
   "cell_type": "markdown",
   "id": "b94ccb9b",
   "metadata": {},
   "source": [
    "### استفاده از دیتافریمز در پانداس\n",
    "\n",
    "برای تحلیل و کار با داده در پانداس، ما از جداول داده در فرمتی استفاده می‌کنیم که به آن دیتافریم می‌گویند. این نوع داده شبیه به داده‌هایی است که در نرم‌افزارهایی نظیر مایکروسافت اکسل به صورت اسپردشیت ارائه می‌شود.\n",
    "\n",
    "به عنوان مثال، ما می‌توانیم یک دیتافریم تهیه کنیم از انواع حیوانات و تعداد پاهایشان. برای دادن عنوان به این داده از کلمه «دی‌اِف» استفاده می‌کنیم که یک کلمه مخفف متداول برای دیتافریم است.\n"
   ]
  },
  {
   "cell_type": "code",
   "execution_count": 4,
   "id": "3e3b3f8d",
   "metadata": {},
   "outputs": [],
   "source": [
    "df = pd.DataFrame([\n",
    "    [\"cat\", \"mammal\", 4],\n",
    "    [\"dog\", \"mammal\", 4],\n",
    "    [\"ant\", \"bug\", 6],\n",
    "    [\"spider\", \"bug\", 8],\n",
    "    [\"lizard\", \"reptile\", 4],\n",
    "    [\"snake\", \"reptile\", 0],\n",
    "    [\"pig\", \"mammal\", 4],\n",
    "],\n",
    "columns = [\"species\", \"class\", \"number_legs\"])"
   ]
  },
  {
   "cell_type": "code",
   "execution_count": 5,
   "id": "c5441216",
   "metadata": {},
   "outputs": [
    {
     "data": {
      "text/html": [
       "<div>\n",
       "<style scoped>\n",
       "    .dataframe tbody tr th:only-of-type {\n",
       "        vertical-align: middle;\n",
       "    }\n",
       "\n",
       "    .dataframe tbody tr th {\n",
       "        vertical-align: top;\n",
       "    }\n",
       "\n",
       "    .dataframe thead th {\n",
       "        text-align: right;\n",
       "    }\n",
       "</style>\n",
       "<table border=\"1\" class=\"dataframe\">\n",
       "  <thead>\n",
       "    <tr style=\"text-align: right;\">\n",
       "      <th></th>\n",
       "      <th>species</th>\n",
       "      <th>class</th>\n",
       "      <th>number_legs</th>\n",
       "    </tr>\n",
       "  </thead>\n",
       "  <tbody>\n",
       "    <tr>\n",
       "      <th>0</th>\n",
       "      <td>cat</td>\n",
       "      <td>mammal</td>\n",
       "      <td>4</td>\n",
       "    </tr>\n",
       "    <tr>\n",
       "      <th>1</th>\n",
       "      <td>dog</td>\n",
       "      <td>mammal</td>\n",
       "      <td>4</td>\n",
       "    </tr>\n",
       "    <tr>\n",
       "      <th>2</th>\n",
       "      <td>ant</td>\n",
       "      <td>bug</td>\n",
       "      <td>6</td>\n",
       "    </tr>\n",
       "    <tr>\n",
       "      <th>3</th>\n",
       "      <td>spider</td>\n",
       "      <td>bug</td>\n",
       "      <td>8</td>\n",
       "    </tr>\n",
       "    <tr>\n",
       "      <th>4</th>\n",
       "      <td>lizard</td>\n",
       "      <td>reptile</td>\n",
       "      <td>4</td>\n",
       "    </tr>\n",
       "    <tr>\n",
       "      <th>5</th>\n",
       "      <td>snake</td>\n",
       "      <td>reptile</td>\n",
       "      <td>0</td>\n",
       "    </tr>\n",
       "    <tr>\n",
       "      <th>6</th>\n",
       "      <td>pig</td>\n",
       "      <td>mammal</td>\n",
       "      <td>4</td>\n",
       "    </tr>\n",
       "  </tbody>\n",
       "</table>\n",
       "</div>"
      ],
      "text/plain": [
       "  species    class  number_legs\n",
       "0     cat   mammal            4\n",
       "1     dog   mammal            4\n",
       "2     ant      bug            6\n",
       "3  spider      bug            8\n",
       "4  lizard  reptile            4\n",
       "5   snake  reptile            0\n",
       "6     pig   mammal            4"
      ]
     },
     "execution_count": 5,
     "metadata": {},
     "output_type": "execute_result"
    }
   ],
   "source": [
    "df"
   ]
  },
  {
   "cell_type": "markdown",
   "id": "e1dc37bb",
   "metadata": {},
   "source": [
    "از این به بعد می‌توانیم کارهای مختلفی با این داده انجام بدهیم؛ کارهایی نظیر مرتب کردن سطرها با محوریت یک ستون خاص."
   ]
  },
  {
   "cell_type": "code",
   "execution_count": 6,
   "id": "2ce7ebfd",
   "metadata": {},
   "outputs": [
    {
     "data": {
      "text/html": [
       "<div>\n",
       "<style scoped>\n",
       "    .dataframe tbody tr th:only-of-type {\n",
       "        vertical-align: middle;\n",
       "    }\n",
       "\n",
       "    .dataframe tbody tr th {\n",
       "        vertical-align: top;\n",
       "    }\n",
       "\n",
       "    .dataframe thead th {\n",
       "        text-align: right;\n",
       "    }\n",
       "</style>\n",
       "<table border=\"1\" class=\"dataframe\">\n",
       "  <thead>\n",
       "    <tr style=\"text-align: right;\">\n",
       "      <th></th>\n",
       "      <th>species</th>\n",
       "      <th>class</th>\n",
       "      <th>number_legs</th>\n",
       "    </tr>\n",
       "  </thead>\n",
       "  <tbody>\n",
       "    <tr>\n",
       "      <th>5</th>\n",
       "      <td>snake</td>\n",
       "      <td>reptile</td>\n",
       "      <td>0</td>\n",
       "    </tr>\n",
       "    <tr>\n",
       "      <th>0</th>\n",
       "      <td>cat</td>\n",
       "      <td>mammal</td>\n",
       "      <td>4</td>\n",
       "    </tr>\n",
       "    <tr>\n",
       "      <th>1</th>\n",
       "      <td>dog</td>\n",
       "      <td>mammal</td>\n",
       "      <td>4</td>\n",
       "    </tr>\n",
       "    <tr>\n",
       "      <th>4</th>\n",
       "      <td>lizard</td>\n",
       "      <td>reptile</td>\n",
       "      <td>4</td>\n",
       "    </tr>\n",
       "    <tr>\n",
       "      <th>6</th>\n",
       "      <td>pig</td>\n",
       "      <td>mammal</td>\n",
       "      <td>4</td>\n",
       "    </tr>\n",
       "    <tr>\n",
       "      <th>2</th>\n",
       "      <td>ant</td>\n",
       "      <td>bug</td>\n",
       "      <td>6</td>\n",
       "    </tr>\n",
       "    <tr>\n",
       "      <th>3</th>\n",
       "      <td>spider</td>\n",
       "      <td>bug</td>\n",
       "      <td>8</td>\n",
       "    </tr>\n",
       "  </tbody>\n",
       "</table>\n",
       "</div>"
      ],
      "text/plain": [
       "  species    class  number_legs\n",
       "5   snake  reptile            0\n",
       "0     cat   mammal            4\n",
       "1     dog   mammal            4\n",
       "4  lizard  reptile            4\n",
       "6     pig   mammal            4\n",
       "2     ant      bug            6\n",
       "3  spider      bug            8"
      ]
     },
     "execution_count": 6,
     "metadata": {},
     "output_type": "execute_result"
    }
   ],
   "source": [
    "df.sort_values(by=\"number_legs\")"
   ]
  },
  {
   "cell_type": "markdown",
   "id": "898b6b08",
   "metadata": {},
   "source": [
    "یا شمارش سطور بر اساس ستون مربوط به نوع آن حیوان."
   ]
  },
  {
   "cell_type": "code",
   "execution_count": 7,
   "id": "9cb671e8",
   "metadata": {},
   "outputs": [
    {
     "data": {
      "text/plain": [
       "class\n",
       "mammal     3\n",
       "bug        2\n",
       "reptile    2\n",
       "dtype: int64"
      ]
     },
     "execution_count": 7,
     "metadata": {},
     "output_type": "execute_result"
    }
   ],
   "source": [
    "df.value_counts(\"class\")"
   ]
  },
  {
   "cell_type": "markdown",
   "id": "86416f01",
   "metadata": {},
   "source": [
    "و یا شمارش سطور بر اساس ستون مربوط به تعداد پاها."
   ]
  },
  {
   "cell_type": "code",
   "execution_count": 8,
   "id": "ccba16ff",
   "metadata": {},
   "outputs": [
    {
     "data": {
      "text/plain": [
       "number_legs\n",
       "4    4\n",
       "0    1\n",
       "6    1\n",
       "8    1\n",
       "dtype: int64"
      ]
     },
     "execution_count": 8,
     "metadata": {},
     "output_type": "execute_result"
    }
   ],
   "source": [
    "df.value_counts('number_legs')"
   ]
  },
  {
   "cell_type": "markdown",
   "id": "d3f91311",
   "metadata": {},
   "source": [
    "در دو مثال بالا، می‌بینیم که »پستاندار» متداول‌ترین گونه دیتافریم ما است و عدد ۴ متداول‌ترین عدد در تعداد پاها.\n",
    "\n",
    "ما با بسط دادن همین فرمول‌ها می‌توانیم با دیتابیس‌های بزرگتر هم کار کنیم."
   ]
  },
  {
   "cell_type": "markdown",
   "id": "5d83d4f9",
   "metadata": {},
   "source": [
    "## کار با فایل‌های حاوی داده\n",
    "\n",
    "### بارگذاری داده از طریق دریافت فایل\n",
    "\n",
    "اغلب ما می‌خواهیم داده‌ای را تحلیل کنیم که در یک فایل دیگر ذخیره شده است. اینجا، همین کار را با کمک یک مثال انجام می‌دهیم.\n",
    "\n",
    "در این مثال، ما می‌توانیم فایل «سی‌اِس‌وی»ای را که از [اینجا](https://iranopendata.org/en/dataset/109-projects-extracted-official-website-khatam-alanbiya-2020) بارگذاری شده، باز کنیم. این مجموعه داده حاوی قراردادهای قرارگاه سازندگی خاتم‌الانبیا در سال ۲۰۲۰ است. از آنجایی که این یک فایل «سی‌اِس‌وی» است، ما می‌توانیم از فرمان ... در پانداس استفاده کنیم تا بتوانیم آن را در دیتافریم باز کنیم. می‌توانیم برای این دیتافریم هر نامی انتخاب کنیم. من برای راحتی کار و برای این‌که آن را به خاطر بسپارم، نامش را می‌گذارم قراردادها.\n",
    "\n",
    "توجه داشته باشید که ما برای رسیدن به این فایل از «مسیر نسبی»استفاده می‌کنیم. یعنی حال که ما در زیردپشع ووو هستیم، باید از ... استفده کنیم تا از این دو زیرپوشه خارج شویم و بتوانیم به پوشه ... دسترسی پیدا کنیم؛ جایی که فایل «سی‌اِس‌وی» ما ذخیره شده. \n",
    "\n",
    "In this example, we can try to read a CSV file downloaded from here. In particular, this dataset shows the 2020 contracts held by Khatam al-Anbiya Construction Headquarter. Because it is a CSV format, we can use the read_csv() function in pandas to convert this into a DataFrame. Again, we can call this DataFrame anything, but to make it easy for us to remember what it represents, I'll call it contracts.\n",
    "\n",
    "Note that we pass in the relative path to the file we want. Since we are in the english/1_Data-analysis/ subfolder, we have to use ../../ to go outside of these 2 subfolders (one ../ for each subfolder) in order to access the input/ folder, where our CSV is stored."
   ]
  },
  {
   "cell_type": "code",
   "execution_count": 13,
   "id": "f6d0db49",
   "metadata": {},
   "outputs": [
    {
     "ename": "FileNotFoundError",
     "evalue": "[Errno 2] No such file or directory: '../../input/kaches204-109-projects-extracted-official-website-khatam-alanbiya-2020-en.csv'",
     "output_type": "error",
     "traceback": [
      "\u001b[0;31m---------------------------------------------------------------------------\u001b[0m",
      "\u001b[0;31mFileNotFoundError\u001b[0m                         Traceback (most recent call last)",
      "\u001b[0;32m/var/folders/kp/_0qsl9196ld7tdz_2c4gc74c0000gn/T/ipykernel_28910/629350487.py\u001b[0m in \u001b[0;36m<module>\u001b[0;34m\u001b[0m\n\u001b[0;32m----> 1\u001b[0;31m \u001b[0mcontracts\u001b[0m \u001b[0;34m=\u001b[0m \u001b[0mpd\u001b[0m\u001b[0;34m.\u001b[0m\u001b[0mread_csv\u001b[0m\u001b[0;34m(\u001b[0m\u001b[0;34m\"../../input/kaches204-109-projects-extracted-official-website-khatam-alanbiya-2020-en.csv\"\u001b[0m\u001b[0;34m)\u001b[0m\u001b[0;34m\u001b[0m\u001b[0;34m\u001b[0m\u001b[0m\n\u001b[0m",
      "\u001b[0;32m~/opt/anaconda3/lib/python3.9/site-packages/pandas/util/_decorators.py\u001b[0m in \u001b[0;36mwrapper\u001b[0;34m(*args, **kwargs)\u001b[0m\n\u001b[1;32m    309\u001b[0m                     \u001b[0mstacklevel\u001b[0m\u001b[0;34m=\u001b[0m\u001b[0mstacklevel\u001b[0m\u001b[0;34m,\u001b[0m\u001b[0;34m\u001b[0m\u001b[0;34m\u001b[0m\u001b[0m\n\u001b[1;32m    310\u001b[0m                 )\n\u001b[0;32m--> 311\u001b[0;31m             \u001b[0;32mreturn\u001b[0m \u001b[0mfunc\u001b[0m\u001b[0;34m(\u001b[0m\u001b[0;34m*\u001b[0m\u001b[0margs\u001b[0m\u001b[0;34m,\u001b[0m \u001b[0;34m**\u001b[0m\u001b[0mkwargs\u001b[0m\u001b[0;34m)\u001b[0m\u001b[0;34m\u001b[0m\u001b[0;34m\u001b[0m\u001b[0m\n\u001b[0m\u001b[1;32m    312\u001b[0m \u001b[0;34m\u001b[0m\u001b[0m\n\u001b[1;32m    313\u001b[0m         \u001b[0;32mreturn\u001b[0m \u001b[0mwrapper\u001b[0m\u001b[0;34m\u001b[0m\u001b[0;34m\u001b[0m\u001b[0m\n",
      "\u001b[0;32m~/opt/anaconda3/lib/python3.9/site-packages/pandas/io/parsers/readers.py\u001b[0m in \u001b[0;36mread_csv\u001b[0;34m(filepath_or_buffer, sep, delimiter, header, names, index_col, usecols, squeeze, prefix, mangle_dupe_cols, dtype, engine, converters, true_values, false_values, skipinitialspace, skiprows, skipfooter, nrows, na_values, keep_default_na, na_filter, verbose, skip_blank_lines, parse_dates, infer_datetime_format, keep_date_col, date_parser, dayfirst, cache_dates, iterator, chunksize, compression, thousands, decimal, lineterminator, quotechar, quoting, doublequote, escapechar, comment, encoding, encoding_errors, dialect, error_bad_lines, warn_bad_lines, on_bad_lines, delim_whitespace, low_memory, memory_map, float_precision, storage_options)\u001b[0m\n\u001b[1;32m    676\u001b[0m     \u001b[0mkwds\u001b[0m\u001b[0;34m.\u001b[0m\u001b[0mupdate\u001b[0m\u001b[0;34m(\u001b[0m\u001b[0mkwds_defaults\u001b[0m\u001b[0;34m)\u001b[0m\u001b[0;34m\u001b[0m\u001b[0;34m\u001b[0m\u001b[0m\n\u001b[1;32m    677\u001b[0m \u001b[0;34m\u001b[0m\u001b[0m\n\u001b[0;32m--> 678\u001b[0;31m     \u001b[0;32mreturn\u001b[0m \u001b[0m_read\u001b[0m\u001b[0;34m(\u001b[0m\u001b[0mfilepath_or_buffer\u001b[0m\u001b[0;34m,\u001b[0m \u001b[0mkwds\u001b[0m\u001b[0;34m)\u001b[0m\u001b[0;34m\u001b[0m\u001b[0;34m\u001b[0m\u001b[0m\n\u001b[0m\u001b[1;32m    679\u001b[0m \u001b[0;34m\u001b[0m\u001b[0m\n\u001b[1;32m    680\u001b[0m \u001b[0;34m\u001b[0m\u001b[0m\n",
      "\u001b[0;32m~/opt/anaconda3/lib/python3.9/site-packages/pandas/io/parsers/readers.py\u001b[0m in \u001b[0;36m_read\u001b[0;34m(filepath_or_buffer, kwds)\u001b[0m\n\u001b[1;32m    573\u001b[0m \u001b[0;34m\u001b[0m\u001b[0m\n\u001b[1;32m    574\u001b[0m     \u001b[0;31m# Create the parser.\u001b[0m\u001b[0;34m\u001b[0m\u001b[0;34m\u001b[0m\u001b[0m\n\u001b[0;32m--> 575\u001b[0;31m     \u001b[0mparser\u001b[0m \u001b[0;34m=\u001b[0m \u001b[0mTextFileReader\u001b[0m\u001b[0;34m(\u001b[0m\u001b[0mfilepath_or_buffer\u001b[0m\u001b[0;34m,\u001b[0m \u001b[0;34m**\u001b[0m\u001b[0mkwds\u001b[0m\u001b[0;34m)\u001b[0m\u001b[0;34m\u001b[0m\u001b[0;34m\u001b[0m\u001b[0m\n\u001b[0m\u001b[1;32m    576\u001b[0m \u001b[0;34m\u001b[0m\u001b[0m\n\u001b[1;32m    577\u001b[0m     \u001b[0;32mif\u001b[0m \u001b[0mchunksize\u001b[0m \u001b[0;32mor\u001b[0m \u001b[0miterator\u001b[0m\u001b[0;34m:\u001b[0m\u001b[0;34m\u001b[0m\u001b[0;34m\u001b[0m\u001b[0m\n",
      "\u001b[0;32m~/opt/anaconda3/lib/python3.9/site-packages/pandas/io/parsers/readers.py\u001b[0m in \u001b[0;36m__init__\u001b[0;34m(self, f, engine, **kwds)\u001b[0m\n\u001b[1;32m    930\u001b[0m \u001b[0;34m\u001b[0m\u001b[0m\n\u001b[1;32m    931\u001b[0m         \u001b[0mself\u001b[0m\u001b[0;34m.\u001b[0m\u001b[0mhandles\u001b[0m\u001b[0;34m:\u001b[0m \u001b[0mIOHandles\u001b[0m \u001b[0;34m|\u001b[0m \u001b[0;32mNone\u001b[0m \u001b[0;34m=\u001b[0m \u001b[0;32mNone\u001b[0m\u001b[0;34m\u001b[0m\u001b[0;34m\u001b[0m\u001b[0m\n\u001b[0;32m--> 932\u001b[0;31m         \u001b[0mself\u001b[0m\u001b[0;34m.\u001b[0m\u001b[0m_engine\u001b[0m \u001b[0;34m=\u001b[0m \u001b[0mself\u001b[0m\u001b[0;34m.\u001b[0m\u001b[0m_make_engine\u001b[0m\u001b[0;34m(\u001b[0m\u001b[0mf\u001b[0m\u001b[0;34m,\u001b[0m \u001b[0mself\u001b[0m\u001b[0;34m.\u001b[0m\u001b[0mengine\u001b[0m\u001b[0;34m)\u001b[0m\u001b[0;34m\u001b[0m\u001b[0;34m\u001b[0m\u001b[0m\n\u001b[0m\u001b[1;32m    933\u001b[0m \u001b[0;34m\u001b[0m\u001b[0m\n\u001b[1;32m    934\u001b[0m     \u001b[0;32mdef\u001b[0m \u001b[0mclose\u001b[0m\u001b[0;34m(\u001b[0m\u001b[0mself\u001b[0m\u001b[0;34m)\u001b[0m\u001b[0;34m:\u001b[0m\u001b[0;34m\u001b[0m\u001b[0;34m\u001b[0m\u001b[0m\n",
      "\u001b[0;32m~/opt/anaconda3/lib/python3.9/site-packages/pandas/io/parsers/readers.py\u001b[0m in \u001b[0;36m_make_engine\u001b[0;34m(self, f, engine)\u001b[0m\n\u001b[1;32m   1214\u001b[0m             \u001b[0;31m# \"Union[str, PathLike[str], ReadCsvBuffer[bytes], ReadCsvBuffer[str]]\"\u001b[0m\u001b[0;34m\u001b[0m\u001b[0;34m\u001b[0m\u001b[0m\n\u001b[1;32m   1215\u001b[0m             \u001b[0;31m# , \"str\", \"bool\", \"Any\", \"Any\", \"Any\", \"Any\", \"Any\"\u001b[0m\u001b[0;34m\u001b[0m\u001b[0;34m\u001b[0m\u001b[0m\n\u001b[0;32m-> 1216\u001b[0;31m             self.handles = get_handle(  # type: ignore[call-overload]\n\u001b[0m\u001b[1;32m   1217\u001b[0m                 \u001b[0mf\u001b[0m\u001b[0;34m,\u001b[0m\u001b[0;34m\u001b[0m\u001b[0;34m\u001b[0m\u001b[0m\n\u001b[1;32m   1218\u001b[0m                 \u001b[0mmode\u001b[0m\u001b[0;34m,\u001b[0m\u001b[0;34m\u001b[0m\u001b[0;34m\u001b[0m\u001b[0m\n",
      "\u001b[0;32m~/opt/anaconda3/lib/python3.9/site-packages/pandas/io/common.py\u001b[0m in \u001b[0;36mget_handle\u001b[0;34m(path_or_buf, mode, encoding, compression, memory_map, is_text, errors, storage_options)\u001b[0m\n\u001b[1;32m    784\u001b[0m         \u001b[0;32mif\u001b[0m \u001b[0mioargs\u001b[0m\u001b[0;34m.\u001b[0m\u001b[0mencoding\u001b[0m \u001b[0;32mand\u001b[0m \u001b[0;34m\"b\"\u001b[0m \u001b[0;32mnot\u001b[0m \u001b[0;32min\u001b[0m \u001b[0mioargs\u001b[0m\u001b[0;34m.\u001b[0m\u001b[0mmode\u001b[0m\u001b[0;34m:\u001b[0m\u001b[0;34m\u001b[0m\u001b[0;34m\u001b[0m\u001b[0m\n\u001b[1;32m    785\u001b[0m             \u001b[0;31m# Encoding\u001b[0m\u001b[0;34m\u001b[0m\u001b[0;34m\u001b[0m\u001b[0m\n\u001b[0;32m--> 786\u001b[0;31m             handle = open(\n\u001b[0m\u001b[1;32m    787\u001b[0m                 \u001b[0mhandle\u001b[0m\u001b[0;34m,\u001b[0m\u001b[0;34m\u001b[0m\u001b[0;34m\u001b[0m\u001b[0m\n\u001b[1;32m    788\u001b[0m                 \u001b[0mioargs\u001b[0m\u001b[0;34m.\u001b[0m\u001b[0mmode\u001b[0m\u001b[0;34m,\u001b[0m\u001b[0;34m\u001b[0m\u001b[0;34m\u001b[0m\u001b[0m\n",
      "\u001b[0;31mFileNotFoundError\u001b[0m: [Errno 2] No such file or directory: '../../input/kaches204-109-projects-extracted-official-website-khatam-alanbiya-2020-en.csv'"
     ]
    }
   ],
   "source": [
    "contracts = pd.read_csv(\"../../input/kaches204-109-projects-extracted-official-website-khatam-alanbiya-2020-en.csv\")"
   ]
  },
  {
   "cell_type": "code",
   "execution_count": null,
   "id": "f9a8f8eb",
   "metadata": {},
   "outputs": [],
   "source": []
  }
 ],
 "metadata": {
  "kernelspec": {
   "display_name": "Python 3 (ipykernel)",
   "language": "python",
   "name": "python3"
  },
  "language_info": {
   "codemirror_mode": {
    "name": "ipython",
    "version": 3
   },
   "file_extension": ".py",
   "mimetype": "text/x-python",
   "name": "python",
   "nbconvert_exporter": "python",
   "pygments_lexer": "ipython3",
   "version": "3.9.13"
  }
 },
 "nbformat": 4,
 "nbformat_minor": 5
}
