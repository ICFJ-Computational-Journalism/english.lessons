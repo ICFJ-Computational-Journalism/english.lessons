{
  "cells": [
    {
      "cell_type": "markdown",
      "metadata": {
        "id": "h0xvGvHRQPJd"
      },
      "source": [
        "# Adding text and annotations to our charts\n",
        "\n",
        "Make sure to first do the basic charts notebook before completing this notebook. This notebook relies on at least one chart you created in the previous lesson!\n",
        "\n",
        "This lesson goes over how to add basic annotations to your data visualizations. Annotations can be useful for improving the readability of your charts, adding extra context to the data, or helping direct readers to what they should pay attention to. In this particular case, we’ll go over how to add annotations to a scatter plot."
      ]
    },
    {
      "cell_type": "code",
      "execution_count": 1,
      "metadata": {
        "id": "qTg62rqPAYDd"
      },
      "outputs": [],
      "source": [
        "# importing necessary libraries\n",
        "\n",
        "import pandas as pd\n",
        "import numpy as np\n",
        "import matplotlib.pyplot as plt"
      ]
    },
    {
      "cell_type": "markdown",
      "metadata": {
        "id": "8pltX8tIuAj9"
      },
      "source": [
        "### Setting up our data\n",
        "Let's import the dataset we were using in lesson one (basic charts with matplotlib) that had crude birth, death and child mortality rates of countries around the world."
      ]
    },
    {
      "cell_type": "code",
      "execution_count": 2,
      "metadata": {
        "id": "wUuBRdbAuLkv"
      },
      "outputs": [],
      "source": [
        "# importing dataset as a 'dataframe' (df) to analyze in python\n",
        "filename = \"https://raw.githubusercontent.com/ICFJ-Computational-Journalism/datasets/main/csv/iod-03222-crude-birth-rate-death-rate-child-mortality-rate-in-selected-countries-world-202-en.csv\"\n",
        "df = pd.read_csv(filename)"
      ]
    },
    {
      "cell_type": "markdown",
      "metadata": {
        "id": "NM_OAgz0yHSK"
      },
      "source": [
        "Now let's clean this dataset the same way we did in lesson one."
      ]
    },
    {
      "cell_type": "code",
      "execution_count": 3,
      "metadata": {
        "id": "9rCyyTI6yRPo"
      },
      "outputs": [],
      "source": [
        "# split columns by dash (-)\n",
        "df[['Region','Country', 'Misc']] = df['Region and country - Asia'].str.split(\" - \",expand=True)\n",
        "\n",
        "# convert columns to string: 'Region', 'Country', 'Misc'\n",
        "df[\"Region\"] = df[\"Region\"].astype(str)\n",
        "df[\"Country\"] = df[\"Country\"].astype(str)\n",
        "df[\"Misc\"] = df[\"Misc\"].astype(str)\n",
        "\n",
        "# filter the main dataframe to create separate dataframes separated by 'Region'\n",
        "# for this lesson, we'll just focus on Asia\n",
        "asia_df = df.loc[df['Country'] == 'Asia']\n",
        "\n",
        "# switching the 'Region' and 'Country' colums\n",
        "asia_df = asia_df.rename(columns={'Region': 'Country', 'Country': 'Region'})\n",
        "\n",
        "# we can rename countries with longer names to one word for easier data analysis and visualization\n",
        "asia_df = asia_df.replace({'Country':{\"Iran, Islamic Republic\":\"Iran\", \"Azerbaijan, Republic of\": \"Azerbaijan\"}})"
      ]
    },
    {
      "cell_type": "markdown",
      "metadata": {
        "id": "QxU_iKSEzEmS"
      },
      "source": [
        "### Making our initial chart\n",
        "Now we're going to recreate the scatterplot of crude birth and death rates of specific countries in Asia (aka Iran and its neighbors)."
      ]
    },
    {
      "cell_type": "code",
      "execution_count": 4,
      "metadata": {
        "colab": {
          "base_uri": "https://localhost:8080/",
          "height": 428
        },
        "id": "SgY5tWG78lPI",
        "outputId": "89c0c542-fdf1-487a-828c-7c0f26073d4a"
      },
      "outputs": [
        {
          "output_type": "execute_result",
          "data": {
            "text/plain": [
              "         Region and country - Asia  \\\n",
              "1   Azerbaijan, Republic of - Asia   \n",
              "3                   Armenia - Asia   \n",
              "5               Afghanistan - Asia   \n",
              "8    Iran, Islamic Republic - Asia   \n",
              "11                 Pakistan - Asia   \n",
              "14             Turkmenistan - Asia   \n",
              "15                   Turkey - Asia   \n",
              "20                     Iraq - Asia   \n",
              "22                     Oman - Asia   \n",
              "\n",
              "    Crude birth rate - per thousand population  \\\n",
              "1                                           14   \n",
              "3                                           12   \n",
              "5                                           33   \n",
              "8                                           17   \n",
              "11                                          28   \n",
              "14                                          23   \n",
              "15                                          18   \n",
              "20                                          27   \n",
              "22                                          21   \n",
              "\n",
              "    Crude death rate - per thousand population  \\\n",
              "1                                            6   \n",
              "3                                            9   \n",
              "5                                            6   \n",
              "8                                            5   \n",
              "11                                           6   \n",
              "14                                           7   \n",
              "15                                           5   \n",
              "20                                           4   \n",
              "22                                           2   \n",
              "\n",
              "    Child mortality rate is less than - One year - per thousand live births  \\\n",
              "1                                                11.0                         \n",
              "3                                                 6.0                         \n",
              "5                                                50.0                         \n",
              "8                                                 6.0                         \n",
              "11                                               62.0                         \n",
              "14                                               43.0                         \n",
              "15                                                9.0                         \n",
              "20                                               23.0                         \n",
              "22                                                9.0                         \n",
              "\n",
              "         Country Region  Misc  \n",
              "1     Azerbaijan   Asia  None  \n",
              "3        Armenia   Asia  None  \n",
              "5    Afghanistan   Asia  None  \n",
              "8           Iran   Asia  None  \n",
              "11      Pakistan   Asia  None  \n",
              "14  Turkmenistan   Asia  None  \n",
              "15        Turkey   Asia  None  \n",
              "20          Iraq   Asia  None  \n",
              "22          Oman   Asia  None  "
            ],
            "text/html": [
              "\n",
              "  <div id=\"df-f084bef5-9d3a-4a43-acf5-d7b8087d9d03\">\n",
              "    <div class=\"colab-df-container\">\n",
              "      <div>\n",
              "<style scoped>\n",
              "    .dataframe tbody tr th:only-of-type {\n",
              "        vertical-align: middle;\n",
              "    }\n",
              "\n",
              "    .dataframe tbody tr th {\n",
              "        vertical-align: top;\n",
              "    }\n",
              "\n",
              "    .dataframe thead th {\n",
              "        text-align: right;\n",
              "    }\n",
              "</style>\n",
              "<table border=\"1\" class=\"dataframe\">\n",
              "  <thead>\n",
              "    <tr style=\"text-align: right;\">\n",
              "      <th></th>\n",
              "      <th>Region and country - Asia</th>\n",
              "      <th>Crude birth rate - per thousand population</th>\n",
              "      <th>Crude death rate - per thousand population</th>\n",
              "      <th>Child mortality rate is less than - One year - per thousand live births</th>\n",
              "      <th>Country</th>\n",
              "      <th>Region</th>\n",
              "      <th>Misc</th>\n",
              "    </tr>\n",
              "  </thead>\n",
              "  <tbody>\n",
              "    <tr>\n",
              "      <th>1</th>\n",
              "      <td>Azerbaijan, Republic of - Asia</td>\n",
              "      <td>14</td>\n",
              "      <td>6</td>\n",
              "      <td>11.0</td>\n",
              "      <td>Azerbaijan</td>\n",
              "      <td>Asia</td>\n",
              "      <td>None</td>\n",
              "    </tr>\n",
              "    <tr>\n",
              "      <th>3</th>\n",
              "      <td>Armenia - Asia</td>\n",
              "      <td>12</td>\n",
              "      <td>9</td>\n",
              "      <td>6.0</td>\n",
              "      <td>Armenia</td>\n",
              "      <td>Asia</td>\n",
              "      <td>None</td>\n",
              "    </tr>\n",
              "    <tr>\n",
              "      <th>5</th>\n",
              "      <td>Afghanistan - Asia</td>\n",
              "      <td>33</td>\n",
              "      <td>6</td>\n",
              "      <td>50.0</td>\n",
              "      <td>Afghanistan</td>\n",
              "      <td>Asia</td>\n",
              "      <td>None</td>\n",
              "    </tr>\n",
              "    <tr>\n",
              "      <th>8</th>\n",
              "      <td>Iran, Islamic Republic - Asia</td>\n",
              "      <td>17</td>\n",
              "      <td>5</td>\n",
              "      <td>6.0</td>\n",
              "      <td>Iran</td>\n",
              "      <td>Asia</td>\n",
              "      <td>None</td>\n",
              "    </tr>\n",
              "    <tr>\n",
              "      <th>11</th>\n",
              "      <td>Pakistan - Asia</td>\n",
              "      <td>28</td>\n",
              "      <td>6</td>\n",
              "      <td>62.0</td>\n",
              "      <td>Pakistan</td>\n",
              "      <td>Asia</td>\n",
              "      <td>None</td>\n",
              "    </tr>\n",
              "    <tr>\n",
              "      <th>14</th>\n",
              "      <td>Turkmenistan - Asia</td>\n",
              "      <td>23</td>\n",
              "      <td>7</td>\n",
              "      <td>43.0</td>\n",
              "      <td>Turkmenistan</td>\n",
              "      <td>Asia</td>\n",
              "      <td>None</td>\n",
              "    </tr>\n",
              "    <tr>\n",
              "      <th>15</th>\n",
              "      <td>Turkey - Asia</td>\n",
              "      <td>18</td>\n",
              "      <td>5</td>\n",
              "      <td>9.0</td>\n",
              "      <td>Turkey</td>\n",
              "      <td>Asia</td>\n",
              "      <td>None</td>\n",
              "    </tr>\n",
              "    <tr>\n",
              "      <th>20</th>\n",
              "      <td>Iraq - Asia</td>\n",
              "      <td>27</td>\n",
              "      <td>4</td>\n",
              "      <td>23.0</td>\n",
              "      <td>Iraq</td>\n",
              "      <td>Asia</td>\n",
              "      <td>None</td>\n",
              "    </tr>\n",
              "    <tr>\n",
              "      <th>22</th>\n",
              "      <td>Oman - Asia</td>\n",
              "      <td>21</td>\n",
              "      <td>2</td>\n",
              "      <td>9.0</td>\n",
              "      <td>Oman</td>\n",
              "      <td>Asia</td>\n",
              "      <td>None</td>\n",
              "    </tr>\n",
              "  </tbody>\n",
              "</table>\n",
              "</div>\n",
              "      <button class=\"colab-df-convert\" onclick=\"convertToInteractive('df-f084bef5-9d3a-4a43-acf5-d7b8087d9d03')\"\n",
              "              title=\"Convert this dataframe to an interactive table.\"\n",
              "              style=\"display:none;\">\n",
              "        \n",
              "  <svg xmlns=\"http://www.w3.org/2000/svg\" height=\"24px\"viewBox=\"0 0 24 24\"\n",
              "       width=\"24px\">\n",
              "    <path d=\"M0 0h24v24H0V0z\" fill=\"none\"/>\n",
              "    <path d=\"M18.56 5.44l.94 2.06.94-2.06 2.06-.94-2.06-.94-.94-2.06-.94 2.06-2.06.94zm-11 1L8.5 8.5l.94-2.06 2.06-.94-2.06-.94L8.5 2.5l-.94 2.06-2.06.94zm10 10l.94 2.06.94-2.06 2.06-.94-2.06-.94-.94-2.06-.94 2.06-2.06.94z\"/><path d=\"M17.41 7.96l-1.37-1.37c-.4-.4-.92-.59-1.43-.59-.52 0-1.04.2-1.43.59L10.3 9.45l-7.72 7.72c-.78.78-.78 2.05 0 2.83L4 21.41c.39.39.9.59 1.41.59.51 0 1.02-.2 1.41-.59l7.78-7.78 2.81-2.81c.8-.78.8-2.07 0-2.86zM5.41 20L4 18.59l7.72-7.72 1.47 1.35L5.41 20z\"/>\n",
              "  </svg>\n",
              "      </button>\n",
              "      \n",
              "  <style>\n",
              "    .colab-df-container {\n",
              "      display:flex;\n",
              "      flex-wrap:wrap;\n",
              "      gap: 12px;\n",
              "    }\n",
              "\n",
              "    .colab-df-convert {\n",
              "      background-color: #E8F0FE;\n",
              "      border: none;\n",
              "      border-radius: 50%;\n",
              "      cursor: pointer;\n",
              "      display: none;\n",
              "      fill: #1967D2;\n",
              "      height: 32px;\n",
              "      padding: 0 0 0 0;\n",
              "      width: 32px;\n",
              "    }\n",
              "\n",
              "    .colab-df-convert:hover {\n",
              "      background-color: #E2EBFA;\n",
              "      box-shadow: 0px 1px 2px rgba(60, 64, 67, 0.3), 0px 1px 3px 1px rgba(60, 64, 67, 0.15);\n",
              "      fill: #174EA6;\n",
              "    }\n",
              "\n",
              "    [theme=dark] .colab-df-convert {\n",
              "      background-color: #3B4455;\n",
              "      fill: #D2E3FC;\n",
              "    }\n",
              "\n",
              "    [theme=dark] .colab-df-convert:hover {\n",
              "      background-color: #434B5C;\n",
              "      box-shadow: 0px 1px 3px 1px rgba(0, 0, 0, 0.15);\n",
              "      filter: drop-shadow(0px 1px 2px rgba(0, 0, 0, 0.3));\n",
              "      fill: #FFFFFF;\n",
              "    }\n",
              "  </style>\n",
              "\n",
              "      <script>\n",
              "        const buttonEl =\n",
              "          document.querySelector('#df-f084bef5-9d3a-4a43-acf5-d7b8087d9d03 button.colab-df-convert');\n",
              "        buttonEl.style.display =\n",
              "          google.colab.kernel.accessAllowed ? 'block' : 'none';\n",
              "\n",
              "        async function convertToInteractive(key) {\n",
              "          const element = document.querySelector('#df-f084bef5-9d3a-4a43-acf5-d7b8087d9d03');\n",
              "          const dataTable =\n",
              "            await google.colab.kernel.invokeFunction('convertToInteractive',\n",
              "                                                     [key], {});\n",
              "          if (!dataTable) return;\n",
              "\n",
              "          const docLinkHtml = 'Like what you see? Visit the ' +\n",
              "            '<a target=\"_blank\" href=https://colab.research.google.com/notebooks/data_table.ipynb>data table notebook</a>'\n",
              "            + ' to learn more about interactive tables.';\n",
              "          element.innerHTML = '';\n",
              "          dataTable['output_type'] = 'display_data';\n",
              "          await google.colab.output.renderOutput(dataTable, element);\n",
              "          const docLink = document.createElement('div');\n",
              "          docLink.innerHTML = docLinkHtml;\n",
              "          element.appendChild(docLink);\n",
              "        }\n",
              "      </script>\n",
              "    </div>\n",
              "  </div>\n",
              "  "
            ]
          },
          "metadata": {},
          "execution_count": 4
        }
      ],
      "source": [
        "# now let's filter asia_df to just get data from Iran's neighbors\n",
        "iran_neighbors = asia_df[asia_df['Country'].isin([\"Iran\", \"Azerbaijan\", \"Armenia\", \"Turkmenistan\", \"Pakistan\", \"Afghanistan\", \"Oman\", \"Turkey\", \"Iraq\"])]\n",
        "iran_neighbors # this should return a dataframe but with data on birth and death rates and child mortality rates from the countries above"
      ]
    },
    {
      "cell_type": "code",
      "execution_count": 5,
      "metadata": {
        "colab": {
          "base_uri": "https://localhost:8080/"
        },
        "id": "UzrKXYmtQb9N",
        "outputId": "5736862d-70bc-4653-ed6d-f045da05b8af"
      },
      "outputs": [
        {
          "output_type": "execute_result",
          "data": {
            "text/plain": [
              "1     14\n",
              "3     12\n",
              "5     33\n",
              "8     17\n",
              "11    28\n",
              "14    23\n",
              "15    18\n",
              "20    27\n",
              "22    21\n",
              "Name: Crude birth rate - per thousand population, dtype: int64"
            ]
          },
          "metadata": {},
          "execution_count": 5
        }
      ],
      "source": [
        "# let's get the x values for our scatter plot (birth rates)\n",
        "iran_neighbors_birth = iran_neighbors['Crude birth rate - per thousand population']\n",
        "iran_neighbors_birth"
      ]
    },
    {
      "cell_type": "code",
      "execution_count": 6,
      "metadata": {
        "colab": {
          "base_uri": "https://localhost:8080/"
        },
        "id": "B6rDTRAt99PH",
        "outputId": "b5c26ec6-3b5f-43ef-fa6c-eb94c7d25c08"
      },
      "outputs": [
        {
          "output_type": "execute_result",
          "data": {
            "text/plain": [
              "1     6\n",
              "3     9\n",
              "5     6\n",
              "8     5\n",
              "11    6\n",
              "14    7\n",
              "15    5\n",
              "20    4\n",
              "22    2\n",
              "Name: Crude death rate - per thousand population, dtype: int64"
            ]
          },
          "metadata": {},
          "execution_count": 6
        }
      ],
      "source": [
        "# and then let's get the y values for our scatter plots (death rates)\n",
        "iran_neighbors_death = iran_neighbors['Crude death rate - per thousand population']\n",
        "iran_neighbors_death"
      ]
    },
    {
      "cell_type": "code",
      "execution_count": 7,
      "metadata": {
        "colab": {
          "base_uri": "https://localhost:8080/",
          "height": 428
        },
        "id": "uOh9x1Rg825l",
        "outputId": "7d636f08-e48f-413e-9c1f-249982b017ae"
      },
      "outputs": [
        {
          "output_type": "execute_result",
          "data": {
            "text/plain": [
              "         Region and country - Asia  \\\n",
              "1   Azerbaijan, Republic of - Asia   \n",
              "3                   Armenia - Asia   \n",
              "5               Afghanistan - Asia   \n",
              "8    Iran, Islamic Republic - Asia   \n",
              "11                 Pakistan - Asia   \n",
              "14             Turkmenistan - Asia   \n",
              "15                   Turkey - Asia   \n",
              "20                     Iraq - Asia   \n",
              "22                     Oman - Asia   \n",
              "\n",
              "    Crude birth rate - per thousand population  \\\n",
              "1                                           14   \n",
              "3                                           12   \n",
              "5                                           33   \n",
              "8                                           17   \n",
              "11                                          28   \n",
              "14                                          23   \n",
              "15                                          18   \n",
              "20                                          27   \n",
              "22                                          21   \n",
              "\n",
              "    Crude death rate - per thousand population  \\\n",
              "1                                            6   \n",
              "3                                            9   \n",
              "5                                            6   \n",
              "8                                            5   \n",
              "11                                           6   \n",
              "14                                           7   \n",
              "15                                           5   \n",
              "20                                           4   \n",
              "22                                           2   \n",
              "\n",
              "    Child mortality rate is less than - One year - per thousand live births  \\\n",
              "1                                                11.0                         \n",
              "3                                                 6.0                         \n",
              "5                                                50.0                         \n",
              "8                                                 6.0                         \n",
              "11                                               62.0                         \n",
              "14                                               43.0                         \n",
              "15                                                9.0                         \n",
              "20                                               23.0                         \n",
              "22                                                9.0                         \n",
              "\n",
              "         Country Region  Misc  \n",
              "1     Azerbaijan   Asia  None  \n",
              "3        Armenia   Asia  None  \n",
              "5    Afghanistan   Asia  None  \n",
              "8           Iran   Asia  None  \n",
              "11      Pakistan   Asia  None  \n",
              "14  Turkmenistan   Asia  None  \n",
              "15        Turkey   Asia  None  \n",
              "20          Iraq   Asia  None  \n",
              "22          Oman   Asia  None  "
            ],
            "text/html": [
              "\n",
              "  <div id=\"df-262e3a3b-f337-4ef2-823e-52146425c430\">\n",
              "    <div class=\"colab-df-container\">\n",
              "      <div>\n",
              "<style scoped>\n",
              "    .dataframe tbody tr th:only-of-type {\n",
              "        vertical-align: middle;\n",
              "    }\n",
              "\n",
              "    .dataframe tbody tr th {\n",
              "        vertical-align: top;\n",
              "    }\n",
              "\n",
              "    .dataframe thead th {\n",
              "        text-align: right;\n",
              "    }\n",
              "</style>\n",
              "<table border=\"1\" class=\"dataframe\">\n",
              "  <thead>\n",
              "    <tr style=\"text-align: right;\">\n",
              "      <th></th>\n",
              "      <th>Region and country - Asia</th>\n",
              "      <th>Crude birth rate - per thousand population</th>\n",
              "      <th>Crude death rate - per thousand population</th>\n",
              "      <th>Child mortality rate is less than - One year - per thousand live births</th>\n",
              "      <th>Country</th>\n",
              "      <th>Region</th>\n",
              "      <th>Misc</th>\n",
              "    </tr>\n",
              "  </thead>\n",
              "  <tbody>\n",
              "    <tr>\n",
              "      <th>1</th>\n",
              "      <td>Azerbaijan, Republic of - Asia</td>\n",
              "      <td>14</td>\n",
              "      <td>6</td>\n",
              "      <td>11.0</td>\n",
              "      <td>Azerbaijan</td>\n",
              "      <td>Asia</td>\n",
              "      <td>None</td>\n",
              "    </tr>\n",
              "    <tr>\n",
              "      <th>3</th>\n",
              "      <td>Armenia - Asia</td>\n",
              "      <td>12</td>\n",
              "      <td>9</td>\n",
              "      <td>6.0</td>\n",
              "      <td>Armenia</td>\n",
              "      <td>Asia</td>\n",
              "      <td>None</td>\n",
              "    </tr>\n",
              "    <tr>\n",
              "      <th>5</th>\n",
              "      <td>Afghanistan - Asia</td>\n",
              "      <td>33</td>\n",
              "      <td>6</td>\n",
              "      <td>50.0</td>\n",
              "      <td>Afghanistan</td>\n",
              "      <td>Asia</td>\n",
              "      <td>None</td>\n",
              "    </tr>\n",
              "    <tr>\n",
              "      <th>8</th>\n",
              "      <td>Iran, Islamic Republic - Asia</td>\n",
              "      <td>17</td>\n",
              "      <td>5</td>\n",
              "      <td>6.0</td>\n",
              "      <td>Iran</td>\n",
              "      <td>Asia</td>\n",
              "      <td>None</td>\n",
              "    </tr>\n",
              "    <tr>\n",
              "      <th>11</th>\n",
              "      <td>Pakistan - Asia</td>\n",
              "      <td>28</td>\n",
              "      <td>6</td>\n",
              "      <td>62.0</td>\n",
              "      <td>Pakistan</td>\n",
              "      <td>Asia</td>\n",
              "      <td>None</td>\n",
              "    </tr>\n",
              "    <tr>\n",
              "      <th>14</th>\n",
              "      <td>Turkmenistan - Asia</td>\n",
              "      <td>23</td>\n",
              "      <td>7</td>\n",
              "      <td>43.0</td>\n",
              "      <td>Turkmenistan</td>\n",
              "      <td>Asia</td>\n",
              "      <td>None</td>\n",
              "    </tr>\n",
              "    <tr>\n",
              "      <th>15</th>\n",
              "      <td>Turkey - Asia</td>\n",
              "      <td>18</td>\n",
              "      <td>5</td>\n",
              "      <td>9.0</td>\n",
              "      <td>Turkey</td>\n",
              "      <td>Asia</td>\n",
              "      <td>None</td>\n",
              "    </tr>\n",
              "    <tr>\n",
              "      <th>20</th>\n",
              "      <td>Iraq - Asia</td>\n",
              "      <td>27</td>\n",
              "      <td>4</td>\n",
              "      <td>23.0</td>\n",
              "      <td>Iraq</td>\n",
              "      <td>Asia</td>\n",
              "      <td>None</td>\n",
              "    </tr>\n",
              "    <tr>\n",
              "      <th>22</th>\n",
              "      <td>Oman - Asia</td>\n",
              "      <td>21</td>\n",
              "      <td>2</td>\n",
              "      <td>9.0</td>\n",
              "      <td>Oman</td>\n",
              "      <td>Asia</td>\n",
              "      <td>None</td>\n",
              "    </tr>\n",
              "  </tbody>\n",
              "</table>\n",
              "</div>\n",
              "      <button class=\"colab-df-convert\" onclick=\"convertToInteractive('df-262e3a3b-f337-4ef2-823e-52146425c430')\"\n",
              "              title=\"Convert this dataframe to an interactive table.\"\n",
              "              style=\"display:none;\">\n",
              "        \n",
              "  <svg xmlns=\"http://www.w3.org/2000/svg\" height=\"24px\"viewBox=\"0 0 24 24\"\n",
              "       width=\"24px\">\n",
              "    <path d=\"M0 0h24v24H0V0z\" fill=\"none\"/>\n",
              "    <path d=\"M18.56 5.44l.94 2.06.94-2.06 2.06-.94-2.06-.94-.94-2.06-.94 2.06-2.06.94zm-11 1L8.5 8.5l.94-2.06 2.06-.94-2.06-.94L8.5 2.5l-.94 2.06-2.06.94zm10 10l.94 2.06.94-2.06 2.06-.94-2.06-.94-.94-2.06-.94 2.06-2.06.94z\"/><path d=\"M17.41 7.96l-1.37-1.37c-.4-.4-.92-.59-1.43-.59-.52 0-1.04.2-1.43.59L10.3 9.45l-7.72 7.72c-.78.78-.78 2.05 0 2.83L4 21.41c.39.39.9.59 1.41.59.51 0 1.02-.2 1.41-.59l7.78-7.78 2.81-2.81c.8-.78.8-2.07 0-2.86zM5.41 20L4 18.59l7.72-7.72 1.47 1.35L5.41 20z\"/>\n",
              "  </svg>\n",
              "      </button>\n",
              "      \n",
              "  <style>\n",
              "    .colab-df-container {\n",
              "      display:flex;\n",
              "      flex-wrap:wrap;\n",
              "      gap: 12px;\n",
              "    }\n",
              "\n",
              "    .colab-df-convert {\n",
              "      background-color: #E8F0FE;\n",
              "      border: none;\n",
              "      border-radius: 50%;\n",
              "      cursor: pointer;\n",
              "      display: none;\n",
              "      fill: #1967D2;\n",
              "      height: 32px;\n",
              "      padding: 0 0 0 0;\n",
              "      width: 32px;\n",
              "    }\n",
              "\n",
              "    .colab-df-convert:hover {\n",
              "      background-color: #E2EBFA;\n",
              "      box-shadow: 0px 1px 2px rgba(60, 64, 67, 0.3), 0px 1px 3px 1px rgba(60, 64, 67, 0.15);\n",
              "      fill: #174EA6;\n",
              "    }\n",
              "\n",
              "    [theme=dark] .colab-df-convert {\n",
              "      background-color: #3B4455;\n",
              "      fill: #D2E3FC;\n",
              "    }\n",
              "\n",
              "    [theme=dark] .colab-df-convert:hover {\n",
              "      background-color: #434B5C;\n",
              "      box-shadow: 0px 1px 3px 1px rgba(0, 0, 0, 0.15);\n",
              "      filter: drop-shadow(0px 1px 2px rgba(0, 0, 0, 0.3));\n",
              "      fill: #FFFFFF;\n",
              "    }\n",
              "  </style>\n",
              "\n",
              "      <script>\n",
              "        const buttonEl =\n",
              "          document.querySelector('#df-262e3a3b-f337-4ef2-823e-52146425c430 button.colab-df-convert');\n",
              "        buttonEl.style.display =\n",
              "          google.colab.kernel.accessAllowed ? 'block' : 'none';\n",
              "\n",
              "        async function convertToInteractive(key) {\n",
              "          const element = document.querySelector('#df-262e3a3b-f337-4ef2-823e-52146425c430');\n",
              "          const dataTable =\n",
              "            await google.colab.kernel.invokeFunction('convertToInteractive',\n",
              "                                                     [key], {});\n",
              "          if (!dataTable) return;\n",
              "\n",
              "          const docLinkHtml = 'Like what you see? Visit the ' +\n",
              "            '<a target=\"_blank\" href=https://colab.research.google.com/notebooks/data_table.ipynb>data table notebook</a>'\n",
              "            + ' to learn more about interactive tables.';\n",
              "          element.innerHTML = '';\n",
              "          dataTable['output_type'] = 'display_data';\n",
              "          await google.colab.output.renderOutput(dataTable, element);\n",
              "          const docLink = document.createElement('div');\n",
              "          docLink.innerHTML = docLinkHtml;\n",
              "          element.appendChild(docLink);\n",
              "        }\n",
              "      </script>\n",
              "    </div>\n",
              "  </div>\n",
              "  "
            ]
          },
          "metadata": {},
          "execution_count": 7
        }
      ],
      "source": [
        "iran_neighbors"
      ]
    },
    {
      "cell_type": "code",
      "execution_count": 8,
      "metadata": {
        "colab": {
          "base_uri": "https://localhost:8080/",
          "height": 487
        },
        "id": "t8GSUimv91h5",
        "outputId": "c35700c9-8d37-4117-8418-2a0e0dd174d2"
      },
      "outputs": [
        {
          "output_type": "display_data",
          "data": {
            "text/plain": [
              "<Figure size 1000x500 with 1 Axes>"
            ],
            "image/png": "[encoded data removed]"
          },
          "metadata": {}
        }
      ],
      "source": [
        "# we need to make a 'subplot,' the 'ax' variable, in order to add data point labels\n",
        "fig, ax = plt.subplots(figsize=(10,5))\n",
        "\n",
        "# passing this data to the scatter plot\n",
        "plt.scatter(iran_neighbors_birth, iran_neighbors_death, color='skyblue')\n",
        "\n",
        "# setting the chart title, along with the x and y-axis labels\n",
        "plt.xlabel(\"Crude birth rate (per thousand population)\")\n",
        "plt.ylabel(\"Crude death rate (per thousand population)\")\n",
        "plt.title(\"Crude birth vs. death rates in Asia\")\n",
        "\n",
        "plt.show()"
      ]
    },
    {
      "cell_type": "markdown",
      "metadata": {
        "id": "NhEMoEI5yi7e"
      },
      "source": [
        "The above is essentially the same chart we created in our previous lesson. Now let's try making annotations."
      ]
    },
    {
      "cell_type": "markdown",
      "metadata": {
        "id": "gTesFl0yyi7e"
      },
      "source": [
        "## Adding annotations\n",
        "\n",
        "### Annotating every point\n",
        "\n",
        "To add annotations, we basically create a for loop that iterates through every row of our data and calls `plt.text()`. For each `plt.text()`, we provide:\n",
        "* the x-value,\n",
        "* the y-value,\n",
        "* the text we want to put on the label (in this case the country name)\n",
        "* and the font size of the label."
      ]
    },
    {
      "cell_type": "code",
      "execution_count": 9,
      "metadata": {
        "colab": {
          "base_uri": "https://localhost:8080/",
          "height": 487
        },
        "id": "FMPaoui1yi7e",
        "outputId": "95556803-ec41-41fe-c7c1-cf540338bb36"
      },
      "outputs": [
        {
          "output_type": "display_data",
          "data": {
            "text/plain": [
              "<Figure size 1000x500 with 1 Axes>"
            ],
            "image/png": "[encoded data removed]"
          },
          "metadata": {}
        }
      ],
      "source": [
        "# we need to make a 'subplot,' the 'ax' variable, in order to add data point labels\n",
        "fig, ax = plt.subplots(figsize=(10,5))\n",
        "\n",
        "# passing this data to the scatter plot\n",
        "plt.scatter(iran_neighbors_birth, iran_neighbors_death, color='skyblue')\n",
        "\n",
        "# setting the chart title, along with the x and y-axis labels\n",
        "plt.xlabel(\"Crude birth rate (per thousand population)\")\n",
        "plt.ylabel(\"Crude death rate (per thousand population)\")\n",
        "plt.title(\"Crude birth vs. death rates in Asia\")\n",
        "\n",
        "# now it's time to add labels to the points\n",
        "\n",
        "# then what the label should contain (in this case, 'Country')\n",
        "# and lastly the font size\n",
        "for i in range(len(iran_neighbors_birth)): # we're looping through EACH country in our dataset we're visualizing - in this case, JUST data from Iran and its neighbors\n",
        "  plt.text(\n",
        "    iran_neighbors_birth.reset_index(drop=True)[i] + 0.15, # and for each country, we're plotting its datapoint so we need the 'x' value (country birth rate)\n",
        "    iran_neighbors_death.reset_index(drop=True)[i] + 0.1, # and the country's 'y' value (country death rate)\n",
        "    iran_neighbors[\"Country\"].reset_index(drop=True)[i], # and then the label corresponding to that country (the country name - contained in \"Country\")\n",
        "    size=10 # and lastly the font size of the label\n",
        "  )\n",
        "\n",
        "plt.show()"
      ]
    },
    {
      "cell_type": "markdown",
      "metadata": {
        "id": "diJw-SP99IO9"
      },
      "source": [
        "Now we have country labels corresponding to their dot on the scatterplot comparing crude birth and death rates, and we can visually see how Iran compares relative to its neighbors."
      ]
    },
    {
      "cell_type": "markdown",
      "source": [
        "### Adding singular annotations\n",
        "\n",
        "We might need annotations to point out specific data points within a larger dataset. Let's say we want to point out Iran's data point specifically with an **arrow.** After recreating the same scatterplot, we can add the arrow annotation using `ax.annotate()`.\n"
      ],
      "metadata": {
        "id": "9NzmlfAV-upA"
      }
    },
    {
      "cell_type": "code",
      "source": [
        "# we need to make a 'subplot,' the 'ax' variable, in order to add data point labels\n",
        "fig, ax = plt.subplots(figsize=(10,5))\n",
        "\n",
        "# passing this data to the scatter plot\n",
        "plt.scatter(iran_neighbors_birth, iran_neighbors_death, color='skyblue')\n",
        "\n",
        "# setting the chart title, along with the x and y-axis labels\n",
        "plt.xlabel(\"Crude birth rate (per thousand population)\")\n",
        "plt.ylabel(\"Crude death rate (per thousand population)\")\n",
        "plt.title(\"Crude birth vs. death rates in Asia\")\n",
        "\n",
        "# making the axes the same scale (from 0 to 35)\n",
        "plt.xlim(0, 35)\n",
        "plt.ylim(0, 35)\n",
        "\n",
        "# now it's time to add the arrow pointing out \"Iran\"\n",
        "\n",
        "# Iran's data point x-coordinate\n",
        "arrow_x = iran_neighbors[iran_neighbors[\"Country\"]==\"Iran\"][\"Crude birth rate - per thousand population\"]\n",
        "\n",
        "# Iran's data point y-coordinate\n",
        "arrow_y = iran_neighbors[iran_neighbors[\"Country\"]==\"Iran\"][\"Crude death rate - per thousand population\"]\n",
        "\n",
        "ax.annotate(\"Iran\", # the text accompanying the arrow annotation\n",
        "            xy=(arrow_x + 0.05, arrow_y + 0.05), # the position of the arrow head - we can offset the arrow slightly away from the point to make it look better\n",
        "            xytext=(arrow_x + 1, arrow_y + 1), # the position of the text accompanying the arrow\n",
        "            arrowprops=dict(arrowstyle=\"-\")) # the style of the arrow"
      ],
      "metadata": {
        "colab": {
          "base_uri": "https://localhost:8080/",
          "height": 542
        },
        "id": "XhtWT1O4_UtL",
        "outputId": "c790f16c-baf0-475e-99d3-3ec4508da8f3"
      },
      "execution_count": 34,
      "outputs": [
        {
          "output_type": "execute_result",
          "data": {
            "text/plain": [
              "Text(8    18\n",
              "Name: Crude birth rate - per thousand population, dtype: int64, 8    6\n",
              "Name: Crude death rate - per thousand population, dtype: int64, 'Iran')"
            ]
          },
          "metadata": {},
          "execution_count": 34
        },
        {
          "output_type": "display_data",
          "data": {
            "text/plain": [
              "<Figure size 1000x500 with 1 Axes>"
            ],
            "image/png": "[encoded data removed]"
          },
          "metadata": {}
        }
      ]
    },
    {
      "cell_type": "markdown",
      "source": [
        "Good job on completing the second lesson on text annotations! Below are additional resources for adding general or context-specific annotations using matplotlib."
      ],
      "metadata": {
        "id": "i2dAGJzoEY0T"
      }
    },
    {
      "cell_type": "markdown",
      "metadata": {
        "id": "TqqQ4ekj9cxS"
      },
      "source": [
        "### Additional resources\n",
        "\n",
        "* Annotating [matplotlib charts](https://www.python-graph-gallery.com/193-annotate-matplotlib-chart) - adding shapes and arrows\n",
        "* Working with the [arrow annotation](https://matplotlib.org/stable/api/_as_gen/matplotlib.pyplot.arrow.html) in matplotlib\n",
        "* Annotating charts [with text](https://python-charts.com/matplotlib/texts/)"
      ]
    }
  ],
  "metadata": {
    "colab": {
      "provenance": []
    },
    "kernelspec": {
      "display_name": "Python 3 (ipykernel)",
      "language": "python",
      "name": "python3"
    },
    "language_info": {
      "codemirror_mode": {
        "name": "ipython",
        "version": 3
      },
      "file_extension": ".py",
      "mimetype": "text/x-python",
      "name": "python",
      "nbconvert_exporter": "python",
      "pygments_lexer": "ipython3",
      "version": "3.7.16"
    }
  },
  "nbformat": 4,
  "nbformat_minor": 0
}