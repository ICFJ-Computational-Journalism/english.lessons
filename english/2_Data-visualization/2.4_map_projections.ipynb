{
 "cells": [
  {
   "cell_type": "markdown",
   "metadata": {
    "id": "3WISUZcxy2lJ"
   },
   "source": [
    "# Introduction to map projections"
   ]
  },
  {
   "cell_type": "markdown",
   "metadata": {
    "id": "cCfZC8mHyxl1"
   },
   "source": [
    "### Setup: Installing necessary libraries"
   ]
  },
  {
   "cell_type": "code",
   "execution_count": 1,
   "metadata": {
    "colab": {
     "base_uri": "https://localhost:8080/"
    },
    "id": "cdtZmAmvySts",
    "outputId": "f809835f-1106-476b-8ca9-c3e9ded01359"
   },
   "outputs": [
    {
     "name": "stdout",
     "output_type": "stream",
     "text": [
      "Requirement already satisfied: geopandas in /Users/vngo/.local/share/virtualenvs/icfj-d8_OMVAY/lib/python3.7/site-packages (0.10.2)\n",
      "Requirement already satisfied: pandas>=0.25.0 in /Users/vngo/.local/share/virtualenvs/icfj-d8_OMVAY/lib/python3.7/site-packages (from geopandas) (1.3.5)\n",
      "Requirement already satisfied: shapely>=1.6 in /Users/vngo/.local/share/virtualenvs/icfj-d8_OMVAY/lib/python3.7/site-packages (from geopandas) (2.0.1)\n",
      "Requirement already satisfied: fiona>=1.8 in /Users/vngo/.local/share/virtualenvs/icfj-d8_OMVAY/lib/python3.7/site-packages (from geopandas) (1.9.4.post1)\n",
      "Requirement already satisfied: pyproj>=2.2.0 in /Users/vngo/.local/share/virtualenvs/icfj-d8_OMVAY/lib/python3.7/site-packages (from geopandas) (3.2.1)\n",
      "Requirement already satisfied: cligj>=0.5 in /Users/vngo/.local/share/virtualenvs/icfj-d8_OMVAY/lib/python3.7/site-packages (from fiona>=1.8->geopandas) (0.7.2)\n",
      "Requirement already satisfied: click~=8.0 in /Users/vngo/.local/share/virtualenvs/icfj-d8_OMVAY/lib/python3.7/site-packages (from fiona>=1.8->geopandas) (8.1.3)\n",
      "Requirement already satisfied: six in /Users/vngo/.local/share/virtualenvs/icfj-d8_OMVAY/lib/python3.7/site-packages (from fiona>=1.8->geopandas) (1.16.0)\n",
      "Requirement already satisfied: click-plugins>=1.0 in /Users/vngo/.local/share/virtualenvs/icfj-d8_OMVAY/lib/python3.7/site-packages (from fiona>=1.8->geopandas) (1.1.1)\n",
      "Requirement already satisfied: attrs>=19.2.0 in /Users/vngo/.local/share/virtualenvs/icfj-d8_OMVAY/lib/python3.7/site-packages (from fiona>=1.8->geopandas) (23.1.0)\n",
      "Requirement already satisfied: certifi in /Users/vngo/.local/share/virtualenvs/icfj-d8_OMVAY/lib/python3.7/site-packages (from fiona>=1.8->geopandas) (2023.5.7)\n",
      "Requirement already satisfied: importlib-metadata in /Users/vngo/.local/share/virtualenvs/icfj-d8_OMVAY/lib/python3.7/site-packages (from fiona>=1.8->geopandas) (6.6.0)\n",
      "Requirement already satisfied: numpy>=1.17.3 in /Users/vngo/.local/share/virtualenvs/icfj-d8_OMVAY/lib/python3.7/site-packages (from pandas>=0.25.0->geopandas) (1.21.6)\n",
      "Requirement already satisfied: pytz>=2017.3 in /Users/vngo/.local/share/virtualenvs/icfj-d8_OMVAY/lib/python3.7/site-packages (from pandas>=0.25.0->geopandas) (2023.3)\n",
      "Requirement already satisfied: python-dateutil>=2.7.3 in /Users/vngo/.local/share/virtualenvs/icfj-d8_OMVAY/lib/python3.7/site-packages (from pandas>=0.25.0->geopandas) (2.8.2)\n",
      "Requirement already satisfied: zipp>=0.5 in /Users/vngo/.local/share/virtualenvs/icfj-d8_OMVAY/lib/python3.7/site-packages (from importlib-metadata->fiona>=1.8->geopandas) (3.15.0)\n",
      "Requirement already satisfied: typing-extensions>=3.6.4 in /Users/vngo/.local/share/virtualenvs/icfj-d8_OMVAY/lib/python3.7/site-packages (from importlib-metadata->fiona>=1.8->geopandas) (4.4.0)\n"
     ]
    }
   ],
   "source": [
    "# install any libraries we need for map projections\n",
    "\n",
    "!pip install geopandas"
   ]
  },
  {
   "cell_type": "code",
   "execution_count": 2,
   "metadata": {
    "id": "mhm-x75egifC"
   },
   "outputs": [],
   "source": [
    "# import the libraries we need to load data and create map projections\n",
    "\n",
    "import pandas as pd\n",
    "import geopandas as gpd\n",
    "import matplotlib.pyplot as plt"
   ]
  },
  {
   "cell_type": "markdown",
   "metadata": {
    "id": "aWrjtiC7zNI7"
   },
   "source": [
    "The [geopandas library](https://geopandas.org/en/stable/docs/user_guide/io.html) is used to process and display shapefiles, a data format that contains geographic data, in GeoDataFrames (which are a type of dataframe that just contains a type of 'geometry' - either point, line or polygons (data in the form of shapes, such as provinces)).  \n",
    "\n",
    "These shapes in a GeoDataFrame (aka polygons) are a bunch of coordinates in a space. A coordinate reference system, or CRS, informs Python on how these groups of coordinates relate to actual places on Earth.\n",
    "\n",
    "A map projection is a \"projected\" coordinate system, or a specific way of translating latitudes and longitudes onto a surface."
   ]
  },
  {
   "cell_type": "markdown",
   "metadata": {
    "id": "Z__qYy00w58b"
   },
   "source": [
    "### Loading the shapefile\n",
    "\n",
    "Let's work with a 2015 shapefile of Iran's [first-level administrative divisions](https://geodata.lib.utexas.edu/catalog/stanford-dv126wm3595), or Iran's provinces. According to its description, the province boundaries are mapped based on the WGS84 coordinate system. \n",
    "\n",
    "WGS84 stands for the World Geodetic System. It consists of a reference ellipsoid (an [ellipsoid](https://mathworld.wolfram.com/Ellipsoid.html) or sphere-like shape that closely resembles the Earth), a standard coordinate system (where x, y and z (height) represent a 3-dimensional space), altitude data (or height data), and a geoid (which helps to define sea level). The WGS84 coordinate reference system uses the Earth’s center mass as the coordinate origin."
   ]
  },
  {
   "cell_type": "code",
   "execution_count": 4,
   "metadata": {
    "id": "R3w7jJ9cTsRj"
   },
   "outputs": [],
   "source": [
    "# loading the shapefile with geopandas (gpd)\n",
    "\n",
    "raw_shp_url = \"../../input/irn_adm_unhcr_20190514_shp/irn_admbnda_adm1_unhcr_20190514.shp\"\n",
    "iran_provinces = gpd.read_file(raw_shp_url)"
   ]
  },
  {
   "cell_type": "code",
   "execution_count": 5,
   "metadata": {
    "colab": {
     "base_uri": "https://localhost:8080/",
     "height": 600
    },
    "id": "jC-uK8-qbDg6",
    "outputId": "d396a438-c6c3-40e3-cb04-83cb3bfaf952"
   },
   "outputs": [
    {
     "data": {
      "text/html": [
       "<div>\n",
       "<style scoped>\n",
       "    .dataframe tbody tr th:only-of-type {\n",
       "        vertical-align: middle;\n",
       "    }\n",
       "\n",
       "    .dataframe tbody tr th {\n",
       "        vertical-align: top;\n",
       "    }\n",
       "\n",
       "    .dataframe thead th {\n",
       "        text-align: right;\n",
       "    }\n",
       "</style>\n",
       "<table border=\"1\" class=\"dataframe\">\n",
       "  <thead>\n",
       "    <tr style=\"text-align: right;\">\n",
       "      <th></th>\n",
       "      <th>Shape_Leng</th>\n",
       "      <th>Shape_Area</th>\n",
       "      <th>ADM1_EN</th>\n",
       "      <th>ADM1_FA</th>\n",
       "      <th>ADM1_PCODE</th>\n",
       "      <th>ADM1_REF</th>\n",
       "      <th>ADM1ALT1EN</th>\n",
       "      <th>ADM1ALT2EN</th>\n",
       "      <th>ADM1ALT1FA</th>\n",
       "      <th>ADM1ALT2FA</th>\n",
       "      <th>ADM0_EN</th>\n",
       "      <th>ADM0_FA</th>\n",
       "      <th>ADM0_PCODE</th>\n",
       "      <th>date</th>\n",
       "      <th>validOn</th>\n",
       "      <th>validTo</th>\n",
       "      <th>geometry</th>\n",
       "    </tr>\n",
       "  </thead>\n",
       "  <tbody>\n",
       "    <tr>\n",
       "      <th>0</th>\n",
       "      <td>4.346753</td>\n",
       "      <td>0.523109</td>\n",
       "      <td>Alborz</td>\n",
       "      <td>البرز‎</td>\n",
       "      <td>IR001</td>\n",
       "      <td>NaN</td>\n",
       "      <td>NaN</td>\n",
       "      <td>NaN</td>\n",
       "      <td>NaN</td>\n",
       "      <td>NaN</td>\n",
       "      <td>Iran (Islamic Republic of)</td>\n",
       "      <td>ایران (جمهوری اسلامی)</td>\n",
       "      <td>IR</td>\n",
       "      <td>2019-04-09</td>\n",
       "      <td>2019-05-14</td>\n",
       "      <td>NaN</td>\n",
       "      <td>POLYGON ((50.49594 36.34221, 50.50150 36.34166...</td>\n",
       "    </tr>\n",
       "    <tr>\n",
       "      <th>1</th>\n",
       "      <td>10.218890</td>\n",
       "      <td>1.845273</td>\n",
       "      <td>Ardabil</td>\n",
       "      <td>اردبیل</td>\n",
       "      <td>IR002</td>\n",
       "      <td>NaN</td>\n",
       "      <td>NaN</td>\n",
       "      <td>NaN</td>\n",
       "      <td>NaN</td>\n",
       "      <td>NaN</td>\n",
       "      <td>Iran (Islamic Republic of)</td>\n",
       "      <td>ایران (جمهوری اسلامی)</td>\n",
       "      <td>IR</td>\n",
       "      <td>2019-04-09</td>\n",
       "      <td>2019-05-14</td>\n",
       "      <td>NaN</td>\n",
       "      <td>POLYGON ((48.03206 39.69253, 48.09512 39.63819...</td>\n",
       "    </tr>\n",
       "    <tr>\n",
       "      <th>2</th>\n",
       "      <td>16.019141</td>\n",
       "      <td>2.088545</td>\n",
       "      <td>Bushehr</td>\n",
       "      <td>بوشهر</td>\n",
       "      <td>IR003</td>\n",
       "      <td>NaN</td>\n",
       "      <td>NaN</td>\n",
       "      <td>NaN</td>\n",
       "      <td>NaN</td>\n",
       "      <td>NaN</td>\n",
       "      <td>Iran (Islamic Republic of)</td>\n",
       "      <td>ایران (جمهوری اسلامی)</td>\n",
       "      <td>IR</td>\n",
       "      <td>2019-04-09</td>\n",
       "      <td>2019-05-14</td>\n",
       "      <td>NaN</td>\n",
       "      <td>MULTIPOLYGON (((51.41462 27.90553, 51.41510 27...</td>\n",
       "    </tr>\n",
       "    <tr>\n",
       "      <th>3</th>\n",
       "      <td>7.087819</td>\n",
       "      <td>1.555897</td>\n",
       "      <td>Chaharmahal and Bakhtiari</td>\n",
       "      <td>چهارمحال و بختیاری</td>\n",
       "      <td>IR004</td>\n",
       "      <td>NaN</td>\n",
       "      <td>NaN</td>\n",
       "      <td>NaN</td>\n",
       "      <td>NaN</td>\n",
       "      <td>NaN</td>\n",
       "      <td>Iran (Islamic Republic of)</td>\n",
       "      <td>ایران (جمهوری اسلامی)</td>\n",
       "      <td>IR</td>\n",
       "      <td>2019-04-09</td>\n",
       "      <td>2019-05-14</td>\n",
       "      <td>NaN</td>\n",
       "      <td>POLYGON ((49.72980 32.80907, 49.73119 32.80851...</td>\n",
       "    </tr>\n",
       "    <tr>\n",
       "      <th>4</th>\n",
       "      <td>14.145806</td>\n",
       "      <td>4.646606</td>\n",
       "      <td>East Azerbaijan</td>\n",
       "      <td>آذربایجان شرقی</td>\n",
       "      <td>IR005</td>\n",
       "      <td>NaN</td>\n",
       "      <td>NaN</td>\n",
       "      <td>NaN</td>\n",
       "      <td>NaN</td>\n",
       "      <td>NaN</td>\n",
       "      <td>Iran (Islamic Republic of)</td>\n",
       "      <td>ایران (جمهوری اسلامی)</td>\n",
       "      <td>IR</td>\n",
       "      <td>2019-04-09</td>\n",
       "      <td>2019-05-14</td>\n",
       "      <td>NaN</td>\n",
       "      <td>POLYGON ((47.36634 39.41979, 47.37967 39.40590...</td>\n",
       "    </tr>\n",
       "  </tbody>\n",
       "</table>\n",
       "</div>"
      ],
      "text/plain": [
       "   Shape_Leng  Shape_Area                    ADM1_EN             ADM1_FA  \\\n",
       "0    4.346753    0.523109                     Alborz              البرز‎   \n",
       "1   10.218890    1.845273                    Ardabil              اردبیل   \n",
       "2   16.019141    2.088545                    Bushehr               بوشهر   \n",
       "3    7.087819    1.555897  Chaharmahal and Bakhtiari  چهارمحال و بختیاری   \n",
       "4   14.145806    4.646606            East Azerbaijan      آذربایجان شرقی   \n",
       "\n",
       "  ADM1_PCODE  ADM1_REF  ADM1ALT1EN  ADM1ALT2EN  ADM1ALT1FA  ADM1ALT2FA  \\\n",
       "0      IR001       NaN         NaN         NaN         NaN         NaN   \n",
       "1      IR002       NaN         NaN         NaN         NaN         NaN   \n",
       "2      IR003       NaN         NaN         NaN         NaN         NaN   \n",
       "3      IR004       NaN         NaN         NaN         NaN         NaN   \n",
       "4      IR005       NaN         NaN         NaN         NaN         NaN   \n",
       "\n",
       "                      ADM0_EN                ADM0_FA ADM0_PCODE        date  \\\n",
       "0  Iran (Islamic Republic of)  ایران (جمهوری اسلامی)         IR  2019-04-09   \n",
       "1  Iran (Islamic Republic of)  ایران (جمهوری اسلامی)         IR  2019-04-09   \n",
       "2  Iran (Islamic Republic of)  ایران (جمهوری اسلامی)         IR  2019-04-09   \n",
       "3  Iran (Islamic Republic of)  ایران (جمهوری اسلامی)         IR  2019-04-09   \n",
       "4  Iran (Islamic Republic of)  ایران (جمهوری اسلامی)         IR  2019-04-09   \n",
       "\n",
       "      validOn  validTo                                           geometry  \n",
       "0  2019-05-14      NaN  POLYGON ((50.49594 36.34221, 50.50150 36.34166...  \n",
       "1  2019-05-14      NaN  POLYGON ((48.03206 39.69253, 48.09512 39.63819...  \n",
       "2  2019-05-14      NaN  MULTIPOLYGON (((51.41462 27.90553, 51.41510 27...  \n",
       "3  2019-05-14      NaN  POLYGON ((49.72980 32.80907, 49.73119 32.80851...  \n",
       "4  2019-05-14      NaN  POLYGON ((47.36634 39.41979, 47.37967 39.40590...  "
      ]
     },
     "execution_count": 5,
     "metadata": {},
     "output_type": "execute_result"
    }
   ],
   "source": [
    "# loading the first five rows of the GeoDataFrame (of the shapefile)\n",
    "\n",
    "iran_provinces.head(5)"
   ]
  },
  {
   "cell_type": "markdown",
   "metadata": {
    "id": "yuy1Tj3WdQrW"
   },
   "source": [
    "We can confirm that the CRS (coordinate reference system) of this shapefile is WGS84."
   ]
  },
  {
   "cell_type": "code",
   "execution_count": 6,
   "metadata": {
    "colab": {
     "base_uri": "https://localhost:8080/"
    },
    "id": "HpqhptnCdVLo",
    "outputId": "81b83f8b-12e8-4deb-c3eb-ec70ac38c0ea"
   },
   "outputs": [
    {
     "data": {
      "text/plain": [
       "<Geographic 2D CRS: EPSG:4326>\n",
       "Name: WGS 84\n",
       "Axis Info [ellipsoidal]:\n",
       "- Lat[north]: Geodetic latitude (degree)\n",
       "- Lon[east]: Geodetic longitude (degree)\n",
       "Area of Use:\n",
       "- name: World.\n",
       "- bounds: (-180.0, -90.0, 180.0, 90.0)\n",
       "Datum: World Geodetic System 1984 ensemble\n",
       "- Ellipsoid: WGS 84\n",
       "- Prime Meridian: Greenwich"
      ]
     },
     "execution_count": 6,
     "metadata": {},
     "output_type": "execute_result"
    }
   ],
   "source": [
    "iran_provinces.crs # It should output information about the 2-dimensional CRS, WGS84"
   ]
  },
  {
   "cell_type": "markdown",
   "metadata": {
    "id": "xH157aBTBhMf"
   },
   "source": [
    "### Working with coordinate reference systems (CRS)\n",
    "\n",
    "Let's say we wanted to map Iran's provinces, but the shapefile that we currently have has the wrong CRS.\n",
    "\n",
    "If we wanted to change the CRS from WGS84 (the default) to, say, an [Albers Equal Area projection](https://pro.arcgis.com/en/pro-app/latest/help/mapping/properties/albers.htm) — a conic projection and equal-area (equivalent) projection that usually result in distorted shapes, directions, angles, and distances — we can change the CRS with a few lines of code and knowledge of which EPSG code corresponds with the projection you want to map coordinates onto.\n",
    "\n",
    "[EPSG codes](https://www.earthdatascience.org/courses/use-data-open-source-python/intro-vector-data-python/spatial-data-vector-shapefiles/epsg-proj4-coordinate-reference-system-formats-python/) are 4-5 digit numbers that represent CRSs."
   ]
  },
  {
   "cell_type": "markdown",
   "metadata": {
    "id": "MubboA74fMal"
   },
   "source": [
    "In this case, the EPSG code that corresponds with an Albers Equal Area projection is [EPSG:9822](https://epsg.io/9822-method).\n",
    "\n",
    "We can make a copy of our shapefile data (good practice so that we don't alter raw data) and then change the coordinates."
   ]
  },
  {
   "cell_type": "code",
   "execution_count": 8,
   "metadata": {
    "id": "V-I8C6Cwfgw7"
   },
   "outputs": [
    {
     "ename": "CRSError",
     "evalue": "Invalid projection: epsg:9822: (Internal Proj Error: proj_create: crs not found)",
     "output_type": "error",
     "traceback": [
      "\u001b[0;31m---------------------------------------------------------------------------\u001b[0m",
      "\u001b[0;31mCRSError\u001b[0m                                  Traceback (most recent call last)",
      "\u001b[0;32m/var/folders/ty/60ctxlhn2pv6zjxd4nrk9x140000gq/T/ipykernel_14656/1736846942.py\u001b[0m in \u001b[0;36m<module>\u001b[0;34m\u001b[0m\n\u001b[1;32m      3\u001b[0m \u001b[0;34m\u001b[0m\u001b[0m\n\u001b[1;32m      4\u001b[0m \u001b[0;31m# Mapping our polygons/shape data to a new coordinate system with 'to_crs'\u001b[0m\u001b[0;34m\u001b[0m\u001b[0;34m\u001b[0m\u001b[0;34m\u001b[0m\u001b[0m\n\u001b[0;32m----> 5\u001b[0;31m \u001b[0miran_provinces_copy\u001b[0m \u001b[0;34m=\u001b[0m \u001b[0miran_provinces_copy\u001b[0m\u001b[0;34m.\u001b[0m\u001b[0mto_crs\u001b[0m\u001b[0;34m(\u001b[0m\u001b[0mepsg\u001b[0m\u001b[0;34m=\u001b[0m\u001b[0;36m9822\u001b[0m\u001b[0;34m)\u001b[0m\u001b[0;34m\u001b[0m\u001b[0;34m\u001b[0m\u001b[0m\n\u001b[0m",
      "\u001b[0;32m~/.local/share/virtualenvs/icfj-d8_OMVAY/lib/python3.7/site-packages/geopandas/geodataframe.py\u001b[0m in \u001b[0;36mto_crs\u001b[0;34m(self, crs, epsg, inplace)\u001b[0m\n\u001b[1;32m   1273\u001b[0m         \u001b[0;32melse\u001b[0m\u001b[0;34m:\u001b[0m\u001b[0;34m\u001b[0m\u001b[0;34m\u001b[0m\u001b[0m\n\u001b[1;32m   1274\u001b[0m             \u001b[0mdf\u001b[0m \u001b[0;34m=\u001b[0m \u001b[0mself\u001b[0m\u001b[0;34m.\u001b[0m\u001b[0mcopy\u001b[0m\u001b[0;34m(\u001b[0m\u001b[0;34m)\u001b[0m\u001b[0;34m\u001b[0m\u001b[0;34m\u001b[0m\u001b[0m\n\u001b[0;32m-> 1275\u001b[0;31m         \u001b[0mgeom\u001b[0m \u001b[0;34m=\u001b[0m \u001b[0mdf\u001b[0m\u001b[0;34m.\u001b[0m\u001b[0mgeometry\u001b[0m\u001b[0;34m.\u001b[0m\u001b[0mto_crs\u001b[0m\u001b[0;34m(\u001b[0m\u001b[0mcrs\u001b[0m\u001b[0;34m=\u001b[0m\u001b[0mcrs\u001b[0m\u001b[0;34m,\u001b[0m \u001b[0mepsg\u001b[0m\u001b[0;34m=\u001b[0m\u001b[0mepsg\u001b[0m\u001b[0;34m)\u001b[0m\u001b[0;34m\u001b[0m\u001b[0;34m\u001b[0m\u001b[0m\n\u001b[0m\u001b[1;32m   1276\u001b[0m         \u001b[0mdf\u001b[0m\u001b[0;34m.\u001b[0m\u001b[0mgeometry\u001b[0m \u001b[0;34m=\u001b[0m \u001b[0mgeom\u001b[0m\u001b[0;34m\u001b[0m\u001b[0;34m\u001b[0m\u001b[0m\n\u001b[1;32m   1277\u001b[0m         \u001b[0mdf\u001b[0m\u001b[0;34m.\u001b[0m\u001b[0mcrs\u001b[0m \u001b[0;34m=\u001b[0m \u001b[0mgeom\u001b[0m\u001b[0;34m.\u001b[0m\u001b[0mcrs\u001b[0m\u001b[0;34m\u001b[0m\u001b[0;34m\u001b[0m\u001b[0m\n",
      "\u001b[0;32m~/.local/share/virtualenvs/icfj-d8_OMVAY/lib/python3.7/site-packages/geopandas/geoseries.py\u001b[0m in \u001b[0;36mto_crs\u001b[0;34m(self, crs, epsg)\u001b[0m\n\u001b[1;32m   1118\u001b[0m         \"\"\"\n\u001b[1;32m   1119\u001b[0m         return GeoSeries(\n\u001b[0;32m-> 1120\u001b[0;31m             \u001b[0mself\u001b[0m\u001b[0;34m.\u001b[0m\u001b[0mvalues\u001b[0m\u001b[0;34m.\u001b[0m\u001b[0mto_crs\u001b[0m\u001b[0;34m(\u001b[0m\u001b[0mcrs\u001b[0m\u001b[0;34m=\u001b[0m\u001b[0mcrs\u001b[0m\u001b[0;34m,\u001b[0m \u001b[0mepsg\u001b[0m\u001b[0;34m=\u001b[0m\u001b[0mepsg\u001b[0m\u001b[0;34m)\u001b[0m\u001b[0;34m,\u001b[0m \u001b[0mindex\u001b[0m\u001b[0;34m=\u001b[0m\u001b[0mself\u001b[0m\u001b[0;34m.\u001b[0m\u001b[0mindex\u001b[0m\u001b[0;34m,\u001b[0m \u001b[0mname\u001b[0m\u001b[0;34m=\u001b[0m\u001b[0mself\u001b[0m\u001b[0;34m.\u001b[0m\u001b[0mname\u001b[0m\u001b[0;34m\u001b[0m\u001b[0;34m\u001b[0m\u001b[0m\n\u001b[0m\u001b[1;32m   1121\u001b[0m         )\n\u001b[1;32m   1122\u001b[0m \u001b[0;34m\u001b[0m\u001b[0m\n",
      "\u001b[0;32m~/.local/share/virtualenvs/icfj-d8_OMVAY/lib/python3.7/site-packages/geopandas/array.py\u001b[0m in \u001b[0;36mto_crs\u001b[0;34m(self, crs, epsg)\u001b[0m\n\u001b[1;32m    768\u001b[0m             \u001b[0mcrs\u001b[0m \u001b[0;34m=\u001b[0m \u001b[0mCRS\u001b[0m\u001b[0;34m.\u001b[0m\u001b[0mfrom_user_input\u001b[0m\u001b[0;34m(\u001b[0m\u001b[0mcrs\u001b[0m\u001b[0;34m)\u001b[0m\u001b[0;34m\u001b[0m\u001b[0;34m\u001b[0m\u001b[0m\n\u001b[1;32m    769\u001b[0m         \u001b[0;32melif\u001b[0m \u001b[0mepsg\u001b[0m \u001b[0;32mis\u001b[0m \u001b[0;32mnot\u001b[0m \u001b[0;32mNone\u001b[0m\u001b[0;34m:\u001b[0m\u001b[0;34m\u001b[0m\u001b[0;34m\u001b[0m\u001b[0m\n\u001b[0;32m--> 770\u001b[0;31m             \u001b[0mcrs\u001b[0m \u001b[0;34m=\u001b[0m \u001b[0mCRS\u001b[0m\u001b[0;34m.\u001b[0m\u001b[0mfrom_epsg\u001b[0m\u001b[0;34m(\u001b[0m\u001b[0mepsg\u001b[0m\u001b[0;34m)\u001b[0m\u001b[0;34m\u001b[0m\u001b[0;34m\u001b[0m\u001b[0m\n\u001b[0m\u001b[1;32m    771\u001b[0m         \u001b[0;32melse\u001b[0m\u001b[0;34m:\u001b[0m\u001b[0;34m\u001b[0m\u001b[0;34m\u001b[0m\u001b[0m\n\u001b[1;32m    772\u001b[0m             \u001b[0;32mraise\u001b[0m \u001b[0mValueError\u001b[0m\u001b[0;34m(\u001b[0m\u001b[0;34m\"Must pass either crs or epsg.\"\u001b[0m\u001b[0;34m)\u001b[0m\u001b[0;34m\u001b[0m\u001b[0;34m\u001b[0m\u001b[0m\n",
      "\u001b[0;32m~/.local/share/virtualenvs/icfj-d8_OMVAY/lib/python3.7/site-packages/pyproj/crs/crs.py\u001b[0m in \u001b[0;36mfrom_epsg\u001b[0;34m(cls, code)\u001b[0m\n\u001b[1;32m    368\u001b[0m         \u001b[0mCRS\u001b[0m\u001b[0;34m\u001b[0m\u001b[0;34m\u001b[0m\u001b[0m\n\u001b[1;32m    369\u001b[0m         \"\"\"\n\u001b[0;32m--> 370\u001b[0;31m         \u001b[0;32mreturn\u001b[0m \u001b[0mcls\u001b[0m\u001b[0;34m.\u001b[0m\u001b[0mfrom_user_input\u001b[0m\u001b[0;34m(\u001b[0m\u001b[0m_prepare_from_epsg\u001b[0m\u001b[0;34m(\u001b[0m\u001b[0mcode\u001b[0m\u001b[0;34m)\u001b[0m\u001b[0;34m)\u001b[0m\u001b[0;34m\u001b[0m\u001b[0;34m\u001b[0m\u001b[0m\n\u001b[0m\u001b[1;32m    371\u001b[0m \u001b[0;34m\u001b[0m\u001b[0m\n\u001b[1;32m    372\u001b[0m     \u001b[0;34m@\u001b[0m\u001b[0mclassmethod\u001b[0m\u001b[0;34m\u001b[0m\u001b[0;34m\u001b[0m\u001b[0m\n",
      "\u001b[0;32m~/.local/share/virtualenvs/icfj-d8_OMVAY/lib/python3.7/site-packages/pyproj/crs/crs.py\u001b[0m in \u001b[0;36mfrom_user_input\u001b[0;34m(cls, value, **kwargs)\u001b[0m\n\u001b[1;32m    477\u001b[0m         \u001b[0;32mif\u001b[0m \u001b[0misinstance\u001b[0m\u001b[0;34m(\u001b[0m\u001b[0mvalue\u001b[0m\u001b[0;34m,\u001b[0m \u001b[0mcls\u001b[0m\u001b[0;34m)\u001b[0m\u001b[0;34m:\u001b[0m\u001b[0;34m\u001b[0m\u001b[0;34m\u001b[0m\u001b[0m\n\u001b[1;32m    478\u001b[0m             \u001b[0;32mreturn\u001b[0m \u001b[0mvalue\u001b[0m\u001b[0;34m\u001b[0m\u001b[0;34m\u001b[0m\u001b[0m\n\u001b[0;32m--> 479\u001b[0;31m         \u001b[0;32mreturn\u001b[0m \u001b[0mcls\u001b[0m\u001b[0;34m(\u001b[0m\u001b[0mvalue\u001b[0m\u001b[0;34m,\u001b[0m \u001b[0;34m**\u001b[0m\u001b[0mkwargs\u001b[0m\u001b[0;34m)\u001b[0m\u001b[0;34m\u001b[0m\u001b[0;34m\u001b[0m\u001b[0m\n\u001b[0m\u001b[1;32m    480\u001b[0m \u001b[0;34m\u001b[0m\u001b[0m\n\u001b[1;32m    481\u001b[0m     \u001b[0;32mdef\u001b[0m \u001b[0mget_geod\u001b[0m\u001b[0;34m(\u001b[0m\u001b[0mself\u001b[0m\u001b[0;34m)\u001b[0m \u001b[0;34m->\u001b[0m \u001b[0mOptional\u001b[0m\u001b[0;34m[\u001b[0m\u001b[0mGeod\u001b[0m\u001b[0;34m]\u001b[0m\u001b[0;34m:\u001b[0m\u001b[0;34m\u001b[0m\u001b[0;34m\u001b[0m\u001b[0m\n",
      "\u001b[0;32m~/.local/share/virtualenvs/icfj-d8_OMVAY/lib/python3.7/site-packages/pyproj/crs/crs.py\u001b[0m in \u001b[0;36m__init__\u001b[0;34m(self, projparams, **kwargs)\u001b[0m\n\u001b[1;32m    324\u001b[0m             \u001b[0mself\u001b[0m\u001b[0;34m.\u001b[0m\u001b[0m_local\u001b[0m\u001b[0;34m.\u001b[0m\u001b[0mcrs\u001b[0m \u001b[0;34m=\u001b[0m \u001b[0mprojparams\u001b[0m\u001b[0;34m\u001b[0m\u001b[0;34m\u001b[0m\u001b[0m\n\u001b[1;32m    325\u001b[0m         \u001b[0;32melse\u001b[0m\u001b[0;34m:\u001b[0m\u001b[0;34m\u001b[0m\u001b[0;34m\u001b[0m\u001b[0m\n\u001b[0;32m--> 326\u001b[0;31m             \u001b[0mself\u001b[0m\u001b[0;34m.\u001b[0m\u001b[0m_local\u001b[0m\u001b[0;34m.\u001b[0m\u001b[0mcrs\u001b[0m \u001b[0;34m=\u001b[0m \u001b[0m_CRS\u001b[0m\u001b[0;34m(\u001b[0m\u001b[0mself\u001b[0m\u001b[0;34m.\u001b[0m\u001b[0msrs\u001b[0m\u001b[0;34m)\u001b[0m\u001b[0;34m\u001b[0m\u001b[0;34m\u001b[0m\u001b[0m\n\u001b[0m\u001b[1;32m    327\u001b[0m \u001b[0;34m\u001b[0m\u001b[0m\n\u001b[1;32m    328\u001b[0m     \u001b[0;34m@\u001b[0m\u001b[0mproperty\u001b[0m\u001b[0;34m\u001b[0m\u001b[0;34m\u001b[0m\u001b[0m\n",
      "\u001b[0;32mpyproj/_crs.pyx\u001b[0m in \u001b[0;36mpyproj._crs._CRS.__init__\u001b[0;34m()\u001b[0m\n",
      "\u001b[0;31mCRSError\u001b[0m: Invalid projection: epsg:9822: (Internal Proj Error: proj_create: crs not found)"
     ]
    }
   ],
   "source": [
    "# Copying our geographic data\n",
    "iran_provinces_copy = iran_provinces.copy()\n",
    "\n",
    "# Mapping our polygons/shape data to a new coordinate system with 'to_crs' \n",
    "iran_provinces_copy = iran_provinces_copy.to_crs(epsg=9822)"
   ]
  },
  {
   "cell_type": "markdown",
   "metadata": {
    "id": "kr2W6x3Ef5qd"
   },
   "source": [
    "Now we can load our copy of `iran_provinces`, which should now be mapped based on the Albers Equal Area projection, and compare how the geometries of the province borders have changed. "
   ]
  },
  {
   "cell_type": "code",
   "execution_count": null,
   "metadata": {
    "colab": {
     "base_uri": "https://localhost:8080/",
     "height": 600
    },
    "id": "1AaaQIIUgGyj",
    "outputId": "7f0fd5aa-f8d7-41c3-9d1b-38f9c915ecd4"
   },
   "outputs": [],
   "source": [
    "iran_provinces.head(5)"
   ]
  },
  {
   "cell_type": "code",
   "execution_count": null,
   "metadata": {
    "colab": {
     "base_uri": "https://localhost:8080/",
     "height": 531
    },
    "id": "qh0Lk1u3gEdU",
    "outputId": "f2221629-826d-42d3-aeaf-04d4cec5826b"
   },
   "outputs": [],
   "source": [
    "iran_provinces_copy.head(5)"
   ]
  },
  {
   "cell_type": "markdown",
   "metadata": {
    "id": "2JYH39V5gO0E"
   },
   "source": [
    "We can also map these two shapefiles to see how they differ visually. (Remember that when we use the geopandas function `plot()` that the x and y axes represent latitude and longitude respectively.)"
   ]
  },
  {
   "cell_type": "code",
   "execution_count": null,
   "metadata": {
    "colab": {
     "base_uri": "https://localhost:8080/",
     "height": 470
    },
    "id": "E84NmHhWgSEJ",
    "outputId": "beef1e4c-60a9-47e8-c612-fb50c86a7bd0"
   },
   "outputs": [],
   "source": [
    "# Mapping the Iranian provinces with the WGS84 projection\n",
    "iran_provinces.plot()\n",
    "\n",
    "# Adding title for WGS84 projection\n",
    "plt.title(\"Iran's provinces: WGS84\")"
   ]
  },
  {
   "cell_type": "code",
   "execution_count": null,
   "metadata": {
    "colab": {
     "base_uri": "https://localhost:8080/",
     "height": 394
    },
    "id": "LieRT3gZg7i7",
    "outputId": "8ab1dc5b-9779-4052-9cda-38855701520b"
   },
   "outputs": [],
   "source": [
    "# Mapping the Iranian provinces with the Albers Equal Area projection\n",
    "iran_provinces_copy.plot();\n",
    "\n",
    "# Adding title for Albers Equal Area projection\n",
    "plt.title(\"Iran's provinces: Albers Equal Area\");"
   ]
  },
  {
   "cell_type": "markdown",
   "metadata": {
    "id": "21ii2DsMiZzS"
   },
   "source": [
    "The Albers Equal Area projection is clearly much different than the standard WGS84 projection — Iran is essentially rotated counter-clockwise 90 degrees because the Albers Equal Area map turns inwards and surrounds the Arctic (with all continents surrounding around it). "
   ]
  },
  {
   "cell_type": "markdown",
   "metadata": {
    "id": "Ez9RmqwCyhNZ"
   },
   "source": [
    "### More resources for exploring map projections\n",
    "\n",
    "* The [map projections chapter](https://automating-gis-processes.github.io/CSC18/lessons/L2/projections.html) from Intro to Python GIS provides a more comprehensive walk-through of map projections and is the reference chapter that this lesson is based off of\n",
    "* [Basics of map coordinate systems](https://www.l3harrisgeospatial.com/Learn/Blogs/Blog-Details/ArtMID/10198/ArticleID/15597/Basics-of-Map-Coordinate-Systems) (and more explanations for terms used to describe different coordinate reference systems, such as WGS84)\n",
    "\n"
   ]
  }
 ],
 "metadata": {
  "colab": {
   "provenance": []
  },
  "kernelspec": {
   "display_name": "Python 3 (ipykernel)",
   "language": "python",
   "name": "python3"
  },
  "language_info": {
   "codemirror_mode": {
    "name": "ipython",
    "version": 3
   },
   "file_extension": ".py",
   "mimetype": "text/x-python",
   "name": "python",
   "nbconvert_exporter": "python",
   "pygments_lexer": "ipython3",
   "version": "3.7.16"
  }
 },
 "nbformat": 4,
 "nbformat_minor": 1
}
