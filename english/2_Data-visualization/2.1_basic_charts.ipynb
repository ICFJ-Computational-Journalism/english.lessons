{
  "nbformat": 4,
  "nbformat_minor": 0,
  "metadata": {
    "colab": {
      "provenance": []
    },
    "kernelspec": {
      "name": "python3",
      "display_name": "Python 3"
    },
    "language_info": {
      "name": "python"
    }
  },
  "cells": [
    {
      "cell_type": "markdown",
      "source": [
        "# Introduction to basic charts"
      ],
      "metadata": {
        "id": "utNZOT1ywkLG"
      }
    },
    {
      "cell_type": "markdown",
      "source": [
        "In this lesson, we’ll go over the basics of making charts. We’ll primarily be using the library [matplotlib](https://matplotlib.org/), which is specifically used to make data visualizations. Here, we will go over specifically how to make bar charts and scatter plots."
      ],
      "metadata": {
        "id": "2ugkDcTuzGtx"
      }
    },
    {
      "cell_type": "code",
      "execution_count": 1,
      "metadata": {
        "id": "2G-ZKl81wYq2"
      },
      "outputs": [],
      "source": [
        "from matplotlib import pyplot as plt"
      ]
    },
    {
      "cell_type": "code",
      "source": [
        "# importing any other necessary libraries below\n",
        "\n",
        "import numpy as np\n",
        "import pandas as pd"
      ],
      "metadata": {
        "id": "q4LdSU1Swez7"
      },
      "execution_count": 2,
      "outputs": []
    },
    {
      "cell_type": "markdown",
      "source": [
        "### Getting started and making basic charts with matplotlib"
      ],
      "metadata": {
        "id": "F9-_MGX-zJX3"
      }
    },
    {
      "cell_type": "markdown",
      "source": [
        "#### Step 1: Importing the dataset for your visualizations"
      ],
      "metadata": {
        "id": "4hrZwE9gzL00"
      }
    },
    {
      "cell_type": "markdown",
      "source": [
        "Let's import the <a href=\"https://iranopendata.org/en/dataset/iod-03222-crude-birth-rate-death-rate-child-mortality-rate-in-selected-countries-world-202\">crude birth rate, death rate and child mortality rate in selected countries of the world</a> from Iran Open Data, Iran's open data portal. This specific dataset has raw birth, death and child mortality rates from different countries in 2020. \n",
        "\n",
        "If you want to download the dataset directly, you can also access the dataset from <a href=\"https://raw.githubusercontent.com/ICFJ-Computational-Journaism/datasets/main/csv/iod-03222-crude-birth-rate-death-rate-child-mortality-rate-in-selected-countries-world-202-en.csv\">this github link.</a>"
      ],
      "metadata": {
        "id": "wBfzwphvzN5a"
      }
    },
    {
      "cell_type": "code",
      "source": [
        "# import the dataset below - make sure that if you're not importing from a URL that you first \n",
        "# upload the raw dataset to jupyter notebook\n",
        "\n",
        "# import dataset as a 'dataframe' (df) to analyze in python\n",
        "url = \"https://raw.githubusercontent.com/ICFJ-Computational-Journaism/datasets/main/csv/iod-03222-crude-birth-rate-death-rate-child-mortality-rate-in-selected-countries-world-202-en.csv\" \n",
        "df = pd.read_csv(url)"
      ],
      "metadata": {
        "id": "WpdPUv2NwhSA"
      },
      "execution_count": 4,
      "outputs": []
    },
    {
      "cell_type": "markdown",
      "source": [
        "Let's take a look at this dataset. What <strong>variables/columns</strong> are we working with?"
      ],
      "metadata": {
        "id": "EVlwyxpW5Npi"
      }
    },
    {
      "cell_type": "markdown",
      "source": [
        "#### Step 2: Cleaning your dataset"
      ],
      "metadata": {
        "id": "88pLVqTC5R90"
      }
    },
    {
      "cell_type": "markdown",
      "source": [
        "Sometimes you will be lucky and have a clean dataset that you can immediately start visualizing. But more often than not, you will have to clean your dataset. Cleaning involves \"fixing or removing incorrect, corrupted, incorrectly formatted, duplicate, or incomplete data within a dataset\" (<a href=\"https://www.tableau.com/learn/articles/what-is-data-cleaning\">Tableau</a>)."
      ],
      "metadata": {
        "id": "At2NuUk45ac1"
      }
    },
    {
      "cell_type": "code",
      "source": [
        "# let's look at the first 10 rows of this dataset\n",
        "\n",
        "df.head(10)"
      ],
      "metadata": {
        "colab": {
          "base_uri": "https://localhost:8080/",
          "height": 477
        },
        "id": "J5CVw4zs5N8V",
        "outputId": "86630ac3-5435-4f77-ec72-fd2c5a9d1b55"
      },
      "execution_count": 5,
      "outputs": [
        {
          "output_type": "execute_result",
          "data": {
            "text/plain": [
              "        Region and country - Asia  Crude birth rate - per thousand population  \\\n",
              "0                            asia                                          17   \n",
              "1  Azerbaijan, Republic of - Asia                                          14   \n",
              "2                   Jordan - Asia                                          22   \n",
              "3                  Armenia - Asia                                          12   \n",
              "4               Uzbekistan - Asia                                          23   \n",
              "5              Afghanistan - Asia                                          33   \n",
              "6     United Arab Emirates - Asia                                          11   \n",
              "7                Indonesia - Asia                                          18   \n",
              "8   Iran, Islamic Republic - Asia                                          17   \n",
              "9                  Bahrain - Asia                                          14   \n",
              "\n",
              "   Crude death rate - per thousand population  \\\n",
              "0                                           7   \n",
              "1                                           6   \n",
              "2                                           4   \n",
              "3                                           9   \n",
              "4                                           5   \n",
              "5                                           6   \n",
              "6                                           1   \n",
              "7                                           7   \n",
              "8                                           5   \n",
              "9                                           2   \n",
              "\n",
              "   Child mortality rate is less than - One year - per thousand live births  \n",
              "0                                               27.0                        \n",
              "1                                               11.0                        \n",
              "2                                               17.0                        \n",
              "3                                                6.0                        \n",
              "4                                               11.0                        \n",
              "5                                               50.0                        \n",
              "6                                                6.0                        \n",
              "7                                               25.0                        \n",
              "8                                                6.0                        \n",
              "9                                                6.0                        "
            ],
            "text/html": [
              "\n",
              "  <div id=\"df-23d7942b-ec82-49ee-99fd-ebc21b1ca67c\">\n",
              "    <div class=\"colab-df-container\">\n",
              "      <div>\n",
              "<style scoped>\n",
              "    .dataframe tbody tr th:only-of-type {\n",
              "        vertical-align: middle;\n",
              "    }\n",
              "\n",
              "    .dataframe tbody tr th {\n",
              "        vertical-align: top;\n",
              "    }\n",
              "\n",
              "    .dataframe thead th {\n",
              "        text-align: right;\n",
              "    }\n",
              "</style>\n",
              "<table border=\"1\" class=\"dataframe\">\n",
              "  <thead>\n",
              "    <tr style=\"text-align: right;\">\n",
              "      <th></th>\n",
              "      <th>Region and country - Asia</th>\n",
              "      <th>Crude birth rate - per thousand population</th>\n",
              "      <th>Crude death rate - per thousand population</th>\n",
              "      <th>Child mortality rate is less than - One year - per thousand live births</th>\n",
              "    </tr>\n",
              "  </thead>\n",
              "  <tbody>\n",
              "    <tr>\n",
              "      <th>0</th>\n",
              "      <td>asia</td>\n",
              "      <td>17</td>\n",
              "      <td>7</td>\n",
              "      <td>27.0</td>\n",
              "    </tr>\n",
              "    <tr>\n",
              "      <th>1</th>\n",
              "      <td>Azerbaijan, Republic of - Asia</td>\n",
              "      <td>14</td>\n",
              "      <td>6</td>\n",
              "      <td>11.0</td>\n",
              "    </tr>\n",
              "    <tr>\n",
              "      <th>2</th>\n",
              "      <td>Jordan - Asia</td>\n",
              "      <td>22</td>\n",
              "      <td>4</td>\n",
              "      <td>17.0</td>\n",
              "    </tr>\n",
              "    <tr>\n",
              "      <th>3</th>\n",
              "      <td>Armenia - Asia</td>\n",
              "      <td>12</td>\n",
              "      <td>9</td>\n",
              "      <td>6.0</td>\n",
              "    </tr>\n",
              "    <tr>\n",
              "      <th>4</th>\n",
              "      <td>Uzbekistan - Asia</td>\n",
              "      <td>23</td>\n",
              "      <td>5</td>\n",
              "      <td>11.0</td>\n",
              "    </tr>\n",
              "    <tr>\n",
              "      <th>5</th>\n",
              "      <td>Afghanistan - Asia</td>\n",
              "      <td>33</td>\n",
              "      <td>6</td>\n",
              "      <td>50.0</td>\n",
              "    </tr>\n",
              "    <tr>\n",
              "      <th>6</th>\n",
              "      <td>United Arab Emirates - Asia</td>\n",
              "      <td>11</td>\n",
              "      <td>1</td>\n",
              "      <td>6.0</td>\n",
              "    </tr>\n",
              "    <tr>\n",
              "      <th>7</th>\n",
              "      <td>Indonesia - Asia</td>\n",
              "      <td>18</td>\n",
              "      <td>7</td>\n",
              "      <td>25.0</td>\n",
              "    </tr>\n",
              "    <tr>\n",
              "      <th>8</th>\n",
              "      <td>Iran, Islamic Republic - Asia</td>\n",
              "      <td>17</td>\n",
              "      <td>5</td>\n",
              "      <td>6.0</td>\n",
              "    </tr>\n",
              "    <tr>\n",
              "      <th>9</th>\n",
              "      <td>Bahrain - Asia</td>\n",
              "      <td>14</td>\n",
              "      <td>2</td>\n",
              "      <td>6.0</td>\n",
              "    </tr>\n",
              "  </tbody>\n",
              "</table>\n",
              "</div>\n",
              "      <button class=\"colab-df-convert\" onclick=\"convertToInteractive('df-23d7942b-ec82-49ee-99fd-ebc21b1ca67c')\"\n",
              "              title=\"Convert this dataframe to an interactive table.\"\n",
              "              style=\"display:none;\">\n",
              "        \n",
              "  <svg xmlns=\"http://www.w3.org/2000/svg\" height=\"24px\"viewBox=\"0 0 24 24\"\n",
              "       width=\"24px\">\n",
              "    <path d=\"M0 0h24v24H0V0z\" fill=\"none\"/>\n",
              "    <path d=\"M18.56 5.44l.94 2.06.94-2.06 2.06-.94-2.06-.94-.94-2.06-.94 2.06-2.06.94zm-11 1L8.5 8.5l.94-2.06 2.06-.94-2.06-.94L8.5 2.5l-.94 2.06-2.06.94zm10 10l.94 2.06.94-2.06 2.06-.94-2.06-.94-.94-2.06-.94 2.06-2.06.94z\"/><path d=\"M17.41 7.96l-1.37-1.37c-.4-.4-.92-.59-1.43-.59-.52 0-1.04.2-1.43.59L10.3 9.45l-7.72 7.72c-.78.78-.78 2.05 0 2.83L4 21.41c.39.39.9.59 1.41.59.51 0 1.02-.2 1.41-.59l7.78-7.78 2.81-2.81c.8-.78.8-2.07 0-2.86zM5.41 20L4 18.59l7.72-7.72 1.47 1.35L5.41 20z\"/>\n",
              "  </svg>\n",
              "      </button>\n",
              "      \n",
              "  <style>\n",
              "    .colab-df-container {\n",
              "      display:flex;\n",
              "      flex-wrap:wrap;\n",
              "      gap: 12px;\n",
              "    }\n",
              "\n",
              "    .colab-df-convert {\n",
              "      background-color: #E8F0FE;\n",
              "      border: none;\n",
              "      border-radius: 50%;\n",
              "      cursor: pointer;\n",
              "      display: none;\n",
              "      fill: #1967D2;\n",
              "      height: 32px;\n",
              "      padding: 0 0 0 0;\n",
              "      width: 32px;\n",
              "    }\n",
              "\n",
              "    .colab-df-convert:hover {\n",
              "      background-color: #E2EBFA;\n",
              "      box-shadow: 0px 1px 2px rgba(60, 64, 67, 0.3), 0px 1px 3px 1px rgba(60, 64, 67, 0.15);\n",
              "      fill: #174EA6;\n",
              "    }\n",
              "\n",
              "    [theme=dark] .colab-df-convert {\n",
              "      background-color: #3B4455;\n",
              "      fill: #D2E3FC;\n",
              "    }\n",
              "\n",
              "    [theme=dark] .colab-df-convert:hover {\n",
              "      background-color: #434B5C;\n",
              "      box-shadow: 0px 1px 3px 1px rgba(0, 0, 0, 0.15);\n",
              "      filter: drop-shadow(0px 1px 2px rgba(0, 0, 0, 0.3));\n",
              "      fill: #FFFFFF;\n",
              "    }\n",
              "  </style>\n",
              "\n",
              "      <script>\n",
              "        const buttonEl =\n",
              "          document.querySelector('#df-23d7942b-ec82-49ee-99fd-ebc21b1ca67c button.colab-df-convert');\n",
              "        buttonEl.style.display =\n",
              "          google.colab.kernel.accessAllowed ? 'block' : 'none';\n",
              "\n",
              "        async function convertToInteractive(key) {\n",
              "          const element = document.querySelector('#df-23d7942b-ec82-49ee-99fd-ebc21b1ca67c');\n",
              "          const dataTable =\n",
              "            await google.colab.kernel.invokeFunction('convertToInteractive',\n",
              "                                                     [key], {});\n",
              "          if (!dataTable) return;\n",
              "\n",
              "          const docLinkHtml = 'Like what you see? Visit the ' +\n",
              "            '<a target=\"_blank\" href=https://colab.research.google.com/notebooks/data_table.ipynb>data table notebook</a>'\n",
              "            + ' to learn more about interactive tables.';\n",
              "          element.innerHTML = '';\n",
              "          dataTable['output_type'] = 'display_data';\n",
              "          await google.colab.output.renderOutput(dataTable, element);\n",
              "          const docLink = document.createElement('div');\n",
              "          docLink.innerHTML = docLinkHtml;\n",
              "          element.appendChild(docLink);\n",
              "        }\n",
              "      </script>\n",
              "    </div>\n",
              "  </div>\n",
              "  "
            ]
          },
          "metadata": {},
          "execution_count": 5
        }
      ]
    },
    {
      "cell_type": "code",
      "source": [
        "# let's also look at the last 10 rows of this dataset\n",
        "\n",
        "df.tail(10)"
      ],
      "metadata": {
        "id": "xO7VmZyi5dzx",
        "colab": {
          "base_uri": "https://localhost:8080/",
          "height": 442
        },
        "outputId": "e779c401-4d2c-44af-99a1-1642d3eb392f"
      },
      "execution_count": 6,
      "outputs": [
        {
          "output_type": "execute_result",
          "data": {
            "text/plain": [
              "              Region and country - Asia  \\\n",
              "77                      Europe - France   \n",
              "78                     Europe - Finland   \n",
              "79                      Europe - Poland   \n",
              "80                     Europe - Hungary   \n",
              "81                      Europe - Norway   \n",
              "82                 Europe - Netherlands   \n",
              "83                      Europe - Greece   \n",
              "84                              Oceania   \n",
              "85                  Oceania - Australia   \n",
              "86  Oceania - New Zealand - New Zealand   \n",
              "\n",
              "    Crude birth rate - per thousand population  \\\n",
              "77                                          11   \n",
              "78                                           8   \n",
              "79                                          10   \n",
              "80                                           9   \n",
              "81                                          10   \n",
              "82                                          10   \n",
              "83                                           8   \n",
              "84                                          17   \n",
              "85                                          13   \n",
              "86                                          12   \n",
              "\n",
              "    Crude death rate - per thousand population  \\\n",
              "77                                           9   \n",
              "78                                          10   \n",
              "79                                          11   \n",
              "80                                          13   \n",
              "81                                           8   \n",
              "82                                           9   \n",
              "83                                          11   \n",
              "84                                           7   \n",
              "85                                           6   \n",
              "86                                           7   \n",
              "\n",
              "    Child mortality rate is less than - One year - per thousand live births  \n",
              "77                                                3.6                        \n",
              "78                                                2.1                        \n",
              "79                                                3.7                        \n",
              "80                                                3.8                        \n",
              "81                                                2.1                        \n",
              "82                                                3.5                        \n",
              "83                                                3.5                        \n",
              "84                                               16.0                        \n",
              "85                                                3.1                        \n",
              "86                                                4.5                        "
            ],
            "text/html": [
              "\n",
              "  <div id=\"df-c546d04f-2cda-4d45-b718-36a023d92d66\">\n",
              "    <div class=\"colab-df-container\">\n",
              "      <div>\n",
              "<style scoped>\n",
              "    .dataframe tbody tr th:only-of-type {\n",
              "        vertical-align: middle;\n",
              "    }\n",
              "\n",
              "    .dataframe tbody tr th {\n",
              "        vertical-align: top;\n",
              "    }\n",
              "\n",
              "    .dataframe thead th {\n",
              "        text-align: right;\n",
              "    }\n",
              "</style>\n",
              "<table border=\"1\" class=\"dataframe\">\n",
              "  <thead>\n",
              "    <tr style=\"text-align: right;\">\n",
              "      <th></th>\n",
              "      <th>Region and country - Asia</th>\n",
              "      <th>Crude birth rate - per thousand population</th>\n",
              "      <th>Crude death rate - per thousand population</th>\n",
              "      <th>Child mortality rate is less than - One year - per thousand live births</th>\n",
              "    </tr>\n",
              "  </thead>\n",
              "  <tbody>\n",
              "    <tr>\n",
              "      <th>77</th>\n",
              "      <td>Europe - France</td>\n",
              "      <td>11</td>\n",
              "      <td>9</td>\n",
              "      <td>3.6</td>\n",
              "    </tr>\n",
              "    <tr>\n",
              "      <th>78</th>\n",
              "      <td>Europe - Finland</td>\n",
              "      <td>8</td>\n",
              "      <td>10</td>\n",
              "      <td>2.1</td>\n",
              "    </tr>\n",
              "    <tr>\n",
              "      <th>79</th>\n",
              "      <td>Europe - Poland</td>\n",
              "      <td>10</td>\n",
              "      <td>11</td>\n",
              "      <td>3.7</td>\n",
              "    </tr>\n",
              "    <tr>\n",
              "      <th>80</th>\n",
              "      <td>Europe - Hungary</td>\n",
              "      <td>9</td>\n",
              "      <td>13</td>\n",
              "      <td>3.8</td>\n",
              "    </tr>\n",
              "    <tr>\n",
              "      <th>81</th>\n",
              "      <td>Europe - Norway</td>\n",
              "      <td>10</td>\n",
              "      <td>8</td>\n",
              "      <td>2.1</td>\n",
              "    </tr>\n",
              "    <tr>\n",
              "      <th>82</th>\n",
              "      <td>Europe - Netherlands</td>\n",
              "      <td>10</td>\n",
              "      <td>9</td>\n",
              "      <td>3.5</td>\n",
              "    </tr>\n",
              "    <tr>\n",
              "      <th>83</th>\n",
              "      <td>Europe - Greece</td>\n",
              "      <td>8</td>\n",
              "      <td>11</td>\n",
              "      <td>3.5</td>\n",
              "    </tr>\n",
              "    <tr>\n",
              "      <th>84</th>\n",
              "      <td>Oceania</td>\n",
              "      <td>17</td>\n",
              "      <td>7</td>\n",
              "      <td>16.0</td>\n",
              "    </tr>\n",
              "    <tr>\n",
              "      <th>85</th>\n",
              "      <td>Oceania - Australia</td>\n",
              "      <td>13</td>\n",
              "      <td>6</td>\n",
              "      <td>3.1</td>\n",
              "    </tr>\n",
              "    <tr>\n",
              "      <th>86</th>\n",
              "      <td>Oceania - New Zealand - New Zealand</td>\n",
              "      <td>12</td>\n",
              "      <td>7</td>\n",
              "      <td>4.5</td>\n",
              "    </tr>\n",
              "  </tbody>\n",
              "</table>\n",
              "</div>\n",
              "      <button class=\"colab-df-convert\" onclick=\"convertToInteractive('df-c546d04f-2cda-4d45-b718-36a023d92d66')\"\n",
              "              title=\"Convert this dataframe to an interactive table.\"\n",
              "              style=\"display:none;\">\n",
              "        \n",
              "  <svg xmlns=\"http://www.w3.org/2000/svg\" height=\"24px\"viewBox=\"0 0 24 24\"\n",
              "       width=\"24px\">\n",
              "    <path d=\"M0 0h24v24H0V0z\" fill=\"none\"/>\n",
              "    <path d=\"M18.56 5.44l.94 2.06.94-2.06 2.06-.94-2.06-.94-.94-2.06-.94 2.06-2.06.94zm-11 1L8.5 8.5l.94-2.06 2.06-.94-2.06-.94L8.5 2.5l-.94 2.06-2.06.94zm10 10l.94 2.06.94-2.06 2.06-.94-2.06-.94-.94-2.06-.94 2.06-2.06.94z\"/><path d=\"M17.41 7.96l-1.37-1.37c-.4-.4-.92-.59-1.43-.59-.52 0-1.04.2-1.43.59L10.3 9.45l-7.72 7.72c-.78.78-.78 2.05 0 2.83L4 21.41c.39.39.9.59 1.41.59.51 0 1.02-.2 1.41-.59l7.78-7.78 2.81-2.81c.8-.78.8-2.07 0-2.86zM5.41 20L4 18.59l7.72-7.72 1.47 1.35L5.41 20z\"/>\n",
              "  </svg>\n",
              "      </button>\n",
              "      \n",
              "  <style>\n",
              "    .colab-df-container {\n",
              "      display:flex;\n",
              "      flex-wrap:wrap;\n",
              "      gap: 12px;\n",
              "    }\n",
              "\n",
              "    .colab-df-convert {\n",
              "      background-color: #E8F0FE;\n",
              "      border: none;\n",
              "      border-radius: 50%;\n",
              "      cursor: pointer;\n",
              "      display: none;\n",
              "      fill: #1967D2;\n",
              "      height: 32px;\n",
              "      padding: 0 0 0 0;\n",
              "      width: 32px;\n",
              "    }\n",
              "\n",
              "    .colab-df-convert:hover {\n",
              "      background-color: #E2EBFA;\n",
              "      box-shadow: 0px 1px 2px rgba(60, 64, 67, 0.3), 0px 1px 3px 1px rgba(60, 64, 67, 0.15);\n",
              "      fill: #174EA6;\n",
              "    }\n",
              "\n",
              "    [theme=dark] .colab-df-convert {\n",
              "      background-color: #3B4455;\n",
              "      fill: #D2E3FC;\n",
              "    }\n",
              "\n",
              "    [theme=dark] .colab-df-convert:hover {\n",
              "      background-color: #434B5C;\n",
              "      box-shadow: 0px 1px 3px 1px rgba(0, 0, 0, 0.15);\n",
              "      filter: drop-shadow(0px 1px 2px rgba(0, 0, 0, 0.3));\n",
              "      fill: #FFFFFF;\n",
              "    }\n",
              "  </style>\n",
              "\n",
              "      <script>\n",
              "        const buttonEl =\n",
              "          document.querySelector('#df-c546d04f-2cda-4d45-b718-36a023d92d66 button.colab-df-convert');\n",
              "        buttonEl.style.display =\n",
              "          google.colab.kernel.accessAllowed ? 'block' : 'none';\n",
              "\n",
              "        async function convertToInteractive(key) {\n",
              "          const element = document.querySelector('#df-c546d04f-2cda-4d45-b718-36a023d92d66');\n",
              "          const dataTable =\n",
              "            await google.colab.kernel.invokeFunction('convertToInteractive',\n",
              "                                                     [key], {});\n",
              "          if (!dataTable) return;\n",
              "\n",
              "          const docLinkHtml = 'Like what you see? Visit the ' +\n",
              "            '<a target=\"_blank\" href=https://colab.research.google.com/notebooks/data_table.ipynb>data table notebook</a>'\n",
              "            + ' to learn more about interactive tables.';\n",
              "          element.innerHTML = '';\n",
              "          dataTable['output_type'] = 'display_data';\n",
              "          await google.colab.output.renderOutput(dataTable, element);\n",
              "          const docLink = document.createElement('div');\n",
              "          docLink.innerHTML = docLinkHtml;\n",
              "          element.appendChild(docLink);\n",
              "        }\n",
              "      </script>\n",
              "    </div>\n",
              "  </div>\n",
              "  "
            ]
          },
          "metadata": {},
          "execution_count": 6
        }
      ]
    },
    {
      "cell_type": "markdown",
      "source": [
        "We notice that in the first column 'Region and country - Asia' that most rows have either the country (i.e. Indonesia, 'Iran, Islamic Republic') or the region (i.e. Europe, Asia) and a dash separating the two.  \n",
        "\n",
        "However, there are issues. Some rows have the country first, then the region. Other rows have the region first, then the country. Additionally, some rows are the average rates for an entire region (i.e. Oceania in row 84).\n",
        "\n",
        "Let us add three new columns to the dataframe (it would be two columns, but some rows have multiple dashes due to error). We will split the columns based on the dash '-'."
      ],
      "metadata": {
        "id": "iXhIzNsALdAc"
      }
    },
    {
      "cell_type": "code",
      "source": [
        "df[['Region','Country', 'Misc']] = df['Region and country - Asia'].str.split(\" - \",expand=True)"
      ],
      "metadata": {
        "id": "FqV6DSzN7F7W"
      },
      "execution_count": 7,
      "outputs": []
    },
    {
      "cell_type": "code",
      "source": [
        "# Now let's take a look at the first 40 rows of the dataset with the three new columns \n",
        "# which was created from splitting the original 'Region and country - Asia' column\n",
        "\n",
        "df.head(40)"
      ],
      "metadata": {
        "id": "2TGCVXyS91tW",
        "colab": {
          "base_uri": "https://localhost:8080/",
          "height": 1000
        },
        "outputId": "397d17dc-cdb5-45fc-84a6-80df8911417c"
      },
      "execution_count": 8,
      "outputs": [
        {
          "output_type": "execute_result",
          "data": {
            "text/plain": [
              "                Region and country - Asia  \\\n",
              "0                                    asia   \n",
              "1          Azerbaijan, Republic of - Asia   \n",
              "2                           Jordan - Asia   \n",
              "3                          Armenia - Asia   \n",
              "4                       Uzbekistan - Asia   \n",
              "5                      Afghanistan - Asia   \n",
              "6             United Arab Emirates - Asia   \n",
              "7                        Indonesia - Asia   \n",
              "8           Iran, Islamic Republic - Asia   \n",
              "9                          Bahrain - Asia   \n",
              "10                      Bangladesh - Asia   \n",
              "11                        Pakistan - Asia   \n",
              "12                      Tajikistan - Asia   \n",
              "13                        Thailand - Asia   \n",
              "14                    Turkmenistan - Asia   \n",
              "15                          Turkey - Asia   \n",
              "16                           China - Asia   \n",
              "17                           Japan - Asia   \n",
              "18                       Singapore - Asia   \n",
              "19            Syria, Arab Republic - Asia   \n",
              "20                            Iraq - Asia   \n",
              "21                    Saudi Arabia - Asia   \n",
              "22                            Oman - Asia   \n",
              "23                       Palestine - Asia   \n",
              "24                     Philippines - Asia   \n",
              "25                      Kyrgyzstan - Asia   \n",
              "26                      Kazakhstan - Asia   \n",
              "27                        Diameter - Asia   \n",
              "28  Korea, Republic of South Korea - Asia   \n",
              "29                          Kuwait - Asia   \n",
              "30                         Georgia - Asia   \n",
              "31                         Lebanon - Asia   \n",
              "32                        Malaysia - Asia   \n",
              "33                           India - Asia   \n",
              "34                           Yemen - Asia   \n",
              "35                        Africa - Africa   \n",
              "36                  Africa - South Africa   \n",
              "37                       Africa - Algeria   \n",
              "38                  Africa - Burkina Faso   \n",
              "39                       Africa - Tunisia   \n",
              "\n",
              "    Crude birth rate - per thousand population  \\\n",
              "0                                           17   \n",
              "1                                           14   \n",
              "2                                           22   \n",
              "3                                           12   \n",
              "4                                           23   \n",
              "5                                           33   \n",
              "6                                           11   \n",
              "7                                           18   \n",
              "8                                           17   \n",
              "9                                           14   \n",
              "10                                          21   \n",
              "11                                          28   \n",
              "12                                          25   \n",
              "13                                          10   \n",
              "14                                          23   \n",
              "15                                          18   \n",
              "16                                          10   \n",
              "17                                           7   \n",
              "18                                           9   \n",
              "19                                          24   \n",
              "20                                          27   \n",
              "21                                          15   \n",
              "22                                          21   \n",
              "23                                          30   \n",
              "24                                          22   \n",
              "25                                          27   \n",
              "26                                          21   \n",
              "27                                          10   \n",
              "28                                           6   \n",
              "29                                          14   \n",
              "30                                          13   \n",
              "31                                          17   \n",
              "32                                          16   \n",
              "33                                          20   \n",
              "34                                          30   \n",
              "35                                          34   \n",
              "36                                          20   \n",
              "37                                          24   \n",
              "38                                          38   \n",
              "39                                          17   \n",
              "\n",
              "    Crude death rate - per thousand population  \\\n",
              "0                                            7   \n",
              "1                                            6   \n",
              "2                                            4   \n",
              "3                                            9   \n",
              "4                                            5   \n",
              "5                                            6   \n",
              "6                                            1   \n",
              "7                                            7   \n",
              "8                                            5   \n",
              "9                                            2   \n",
              "10                                           5   \n",
              "11                                           6   \n",
              "12                                           4   \n",
              "13                                           8   \n",
              "14                                           7   \n",
              "15                                           5   \n",
              "16                                           7   \n",
              "17                                          11   \n",
              "18                                           5   \n",
              "19                                           5   \n",
              "20                                           4   \n",
              "21                                           3   \n",
              "22                                           2   \n",
              "23                                           4   \n",
              "24                                           6   \n",
              "25                                           5   \n",
              "26                                           7   \n",
              "27                                           1   \n",
              "28                                           6   \n",
              "29                                           2   \n",
              "30                                          13   \n",
              "31                                           5   \n",
              "32                                           5   \n",
              "33                                           6   \n",
              "34                                           6   \n",
              "35                                           8   \n",
              "36                                           9   \n",
              "37                                           5   \n",
              "38                                           8   \n",
              "39                                           6   \n",
              "\n",
              "    Child mortality rate is less than - One year - per thousand live births  \\\n",
              "0                                                27.0                         \n",
              "1                                                11.0                         \n",
              "2                                                17.0                         \n",
              "3                                                 6.0                         \n",
              "4                                                11.0                         \n",
              "5                                                50.0                         \n",
              "6                                                 6.0                         \n",
              "7                                                25.0                         \n",
              "8                                                 6.0                         \n",
              "9                                                 6.0                         \n",
              "10                                               34.0                         \n",
              "11                                               62.0                         \n",
              "12                                               27.0                         \n",
              "13                                                7.0                         \n",
              "14                                               43.0                         \n",
              "15                                                9.0                         \n",
              "16                                                9.0                         \n",
              "17                                                1.9                         \n",
              "18                                                1.7                         \n",
              "19                                               17.0                         \n",
              "20                                               23.0                         \n",
              "21                                               12.0                         \n",
              "22                                                9.0                         \n",
              "23                                               17.0                         \n",
              "24                                               21.0                         \n",
              "25                                               15.0                         \n",
              "26                                                8.0                         \n",
              "27                                                6.0                         \n",
              "28                                                2.8                         \n",
              "29                                                7.0                         \n",
              "30                                                8.0                         \n",
              "31                                                9.0                         \n",
              "32                                                7.0                         \n",
              "33                                               33.0                         \n",
              "34                                               43.0                         \n",
              "35                                               49.0                         \n",
              "36                                               25.0                         \n",
              "37                                               21.0                         \n",
              "38                                               52.0                         \n",
              "39                                               14.0                         \n",
              "\n",
              "                            Region       Country  Misc  \n",
              "0                             asia          None  None  \n",
              "1          Azerbaijan, Republic of          Asia  None  \n",
              "2                           Jordan          Asia  None  \n",
              "3                          Armenia          Asia  None  \n",
              "4                       Uzbekistan          Asia  None  \n",
              "5                      Afghanistan          Asia  None  \n",
              "6             United Arab Emirates          Asia  None  \n",
              "7                        Indonesia          Asia  None  \n",
              "8           Iran, Islamic Republic          Asia  None  \n",
              "9                          Bahrain          Asia  None  \n",
              "10                      Bangladesh          Asia  None  \n",
              "11                        Pakistan          Asia  None  \n",
              "12                      Tajikistan          Asia  None  \n",
              "13                        Thailand          Asia  None  \n",
              "14                    Turkmenistan          Asia  None  \n",
              "15                          Turkey          Asia  None  \n",
              "16                           China          Asia  None  \n",
              "17                           Japan          Asia  None  \n",
              "18                       Singapore          Asia  None  \n",
              "19            Syria, Arab Republic          Asia  None  \n",
              "20                            Iraq          Asia  None  \n",
              "21                    Saudi Arabia          Asia  None  \n",
              "22                            Oman          Asia  None  \n",
              "23                       Palestine          Asia  None  \n",
              "24                     Philippines          Asia  None  \n",
              "25                      Kyrgyzstan          Asia  None  \n",
              "26                      Kazakhstan          Asia  None  \n",
              "27                        Diameter          Asia  None  \n",
              "28  Korea, Republic of South Korea          Asia  None  \n",
              "29                          Kuwait          Asia  None  \n",
              "30                         Georgia          Asia  None  \n",
              "31                         Lebanon          Asia  None  \n",
              "32                        Malaysia          Asia  None  \n",
              "33                           India          Asia  None  \n",
              "34                           Yemen          Asia  None  \n",
              "35                          Africa        Africa  None  \n",
              "36                          Africa  South Africa  None  \n",
              "37                          Africa       Algeria  None  \n",
              "38                          Africa  Burkina Faso  None  \n",
              "39                          Africa       Tunisia  None  "
            ],
            "text/html": [
              "\n",
              "  <div id=\"df-128ee8ef-d391-4ba1-9084-e8d33572e5a7\">\n",
              "    <div class=\"colab-df-container\">\n",
              "      <div>\n",
              "<style scoped>\n",
              "    .dataframe tbody tr th:only-of-type {\n",
              "        vertical-align: middle;\n",
              "    }\n",
              "\n",
              "    .dataframe tbody tr th {\n",
              "        vertical-align: top;\n",
              "    }\n",
              "\n",
              "    .dataframe thead th {\n",
              "        text-align: right;\n",
              "    }\n",
              "</style>\n",
              "<table border=\"1\" class=\"dataframe\">\n",
              "  <thead>\n",
              "    <tr style=\"text-align: right;\">\n",
              "      <th></th>\n",
              "      <th>Region and country - Asia</th>\n",
              "      <th>Crude birth rate - per thousand population</th>\n",
              "      <th>Crude death rate - per thousand population</th>\n",
              "      <th>Child mortality rate is less than - One year - per thousand live births</th>\n",
              "      <th>Region</th>\n",
              "      <th>Country</th>\n",
              "      <th>Misc</th>\n",
              "    </tr>\n",
              "  </thead>\n",
              "  <tbody>\n",
              "    <tr>\n",
              "      <th>0</th>\n",
              "      <td>asia</td>\n",
              "      <td>17</td>\n",
              "      <td>7</td>\n",
              "      <td>27.0</td>\n",
              "      <td>asia</td>\n",
              "      <td>None</td>\n",
              "      <td>None</td>\n",
              "    </tr>\n",
              "    <tr>\n",
              "      <th>1</th>\n",
              "      <td>Azerbaijan, Republic of - Asia</td>\n",
              "      <td>14</td>\n",
              "      <td>6</td>\n",
              "      <td>11.0</td>\n",
              "      <td>Azerbaijan, Republic of</td>\n",
              "      <td>Asia</td>\n",
              "      <td>None</td>\n",
              "    </tr>\n",
              "    <tr>\n",
              "      <th>2</th>\n",
              "      <td>Jordan - Asia</td>\n",
              "      <td>22</td>\n",
              "      <td>4</td>\n",
              "      <td>17.0</td>\n",
              "      <td>Jordan</td>\n",
              "      <td>Asia</td>\n",
              "      <td>None</td>\n",
              "    </tr>\n",
              "    <tr>\n",
              "      <th>3</th>\n",
              "      <td>Armenia - Asia</td>\n",
              "      <td>12</td>\n",
              "      <td>9</td>\n",
              "      <td>6.0</td>\n",
              "      <td>Armenia</td>\n",
              "      <td>Asia</td>\n",
              "      <td>None</td>\n",
              "    </tr>\n",
              "    <tr>\n",
              "      <th>4</th>\n",
              "      <td>Uzbekistan - Asia</td>\n",
              "      <td>23</td>\n",
              "      <td>5</td>\n",
              "      <td>11.0</td>\n",
              "      <td>Uzbekistan</td>\n",
              "      <td>Asia</td>\n",
              "      <td>None</td>\n",
              "    </tr>\n",
              "    <tr>\n",
              "      <th>5</th>\n",
              "      <td>Afghanistan - Asia</td>\n",
              "      <td>33</td>\n",
              "      <td>6</td>\n",
              "      <td>50.0</td>\n",
              "      <td>Afghanistan</td>\n",
              "      <td>Asia</td>\n",
              "      <td>None</td>\n",
              "    </tr>\n",
              "    <tr>\n",
              "      <th>6</th>\n",
              "      <td>United Arab Emirates - Asia</td>\n",
              "      <td>11</td>\n",
              "      <td>1</td>\n",
              "      <td>6.0</td>\n",
              "      <td>United Arab Emirates</td>\n",
              "      <td>Asia</td>\n",
              "      <td>None</td>\n",
              "    </tr>\n",
              "    <tr>\n",
              "      <th>7</th>\n",
              "      <td>Indonesia - Asia</td>\n",
              "      <td>18</td>\n",
              "      <td>7</td>\n",
              "      <td>25.0</td>\n",
              "      <td>Indonesia</td>\n",
              "      <td>Asia</td>\n",
              "      <td>None</td>\n",
              "    </tr>\n",
              "    <tr>\n",
              "      <th>8</th>\n",
              "      <td>Iran, Islamic Republic - Asia</td>\n",
              "      <td>17</td>\n",
              "      <td>5</td>\n",
              "      <td>6.0</td>\n",
              "      <td>Iran, Islamic Republic</td>\n",
              "      <td>Asia</td>\n",
              "      <td>None</td>\n",
              "    </tr>\n",
              "    <tr>\n",
              "      <th>9</th>\n",
              "      <td>Bahrain - Asia</td>\n",
              "      <td>14</td>\n",
              "      <td>2</td>\n",
              "      <td>6.0</td>\n",
              "      <td>Bahrain</td>\n",
              "      <td>Asia</td>\n",
              "      <td>None</td>\n",
              "    </tr>\n",
              "    <tr>\n",
              "      <th>10</th>\n",
              "      <td>Bangladesh - Asia</td>\n",
              "      <td>21</td>\n",
              "      <td>5</td>\n",
              "      <td>34.0</td>\n",
              "      <td>Bangladesh</td>\n",
              "      <td>Asia</td>\n",
              "      <td>None</td>\n",
              "    </tr>\n",
              "    <tr>\n",
              "      <th>11</th>\n",
              "      <td>Pakistan - Asia</td>\n",
              "      <td>28</td>\n",
              "      <td>6</td>\n",
              "      <td>62.0</td>\n",
              "      <td>Pakistan</td>\n",
              "      <td>Asia</td>\n",
              "      <td>None</td>\n",
              "    </tr>\n",
              "    <tr>\n",
              "      <th>12</th>\n",
              "      <td>Tajikistan - Asia</td>\n",
              "      <td>25</td>\n",
              "      <td>4</td>\n",
              "      <td>27.0</td>\n",
              "      <td>Tajikistan</td>\n",
              "      <td>Asia</td>\n",
              "      <td>None</td>\n",
              "    </tr>\n",
              "    <tr>\n",
              "      <th>13</th>\n",
              "      <td>Thailand - Asia</td>\n",
              "      <td>10</td>\n",
              "      <td>8</td>\n",
              "      <td>7.0</td>\n",
              "      <td>Thailand</td>\n",
              "      <td>Asia</td>\n",
              "      <td>None</td>\n",
              "    </tr>\n",
              "    <tr>\n",
              "      <th>14</th>\n",
              "      <td>Turkmenistan - Asia</td>\n",
              "      <td>23</td>\n",
              "      <td>7</td>\n",
              "      <td>43.0</td>\n",
              "      <td>Turkmenistan</td>\n",
              "      <td>Asia</td>\n",
              "      <td>None</td>\n",
              "    </tr>\n",
              "    <tr>\n",
              "      <th>15</th>\n",
              "      <td>Turkey - Asia</td>\n",
              "      <td>18</td>\n",
              "      <td>5</td>\n",
              "      <td>9.0</td>\n",
              "      <td>Turkey</td>\n",
              "      <td>Asia</td>\n",
              "      <td>None</td>\n",
              "    </tr>\n",
              "    <tr>\n",
              "      <th>16</th>\n",
              "      <td>China - Asia</td>\n",
              "      <td>10</td>\n",
              "      <td>7</td>\n",
              "      <td>9.0</td>\n",
              "      <td>China</td>\n",
              "      <td>Asia</td>\n",
              "      <td>None</td>\n",
              "    </tr>\n",
              "    <tr>\n",
              "      <th>17</th>\n",
              "      <td>Japan - Asia</td>\n",
              "      <td>7</td>\n",
              "      <td>11</td>\n",
              "      <td>1.9</td>\n",
              "      <td>Japan</td>\n",
              "      <td>Asia</td>\n",
              "      <td>None</td>\n",
              "    </tr>\n",
              "    <tr>\n",
              "      <th>18</th>\n",
              "      <td>Singapore - Asia</td>\n",
              "      <td>9</td>\n",
              "      <td>5</td>\n",
              "      <td>1.7</td>\n",
              "      <td>Singapore</td>\n",
              "      <td>Asia</td>\n",
              "      <td>None</td>\n",
              "    </tr>\n",
              "    <tr>\n",
              "      <th>19</th>\n",
              "      <td>Syria, Arab Republic - Asia</td>\n",
              "      <td>24</td>\n",
              "      <td>5</td>\n",
              "      <td>17.0</td>\n",
              "      <td>Syria, Arab Republic</td>\n",
              "      <td>Asia</td>\n",
              "      <td>None</td>\n",
              "    </tr>\n",
              "    <tr>\n",
              "      <th>20</th>\n",
              "      <td>Iraq - Asia</td>\n",
              "      <td>27</td>\n",
              "      <td>4</td>\n",
              "      <td>23.0</td>\n",
              "      <td>Iraq</td>\n",
              "      <td>Asia</td>\n",
              "      <td>None</td>\n",
              "    </tr>\n",
              "    <tr>\n",
              "      <th>21</th>\n",
              "      <td>Saudi Arabia - Asia</td>\n",
              "      <td>15</td>\n",
              "      <td>3</td>\n",
              "      <td>12.0</td>\n",
              "      <td>Saudi Arabia</td>\n",
              "      <td>Asia</td>\n",
              "      <td>None</td>\n",
              "    </tr>\n",
              "    <tr>\n",
              "      <th>22</th>\n",
              "      <td>Oman - Asia</td>\n",
              "      <td>21</td>\n",
              "      <td>2</td>\n",
              "      <td>9.0</td>\n",
              "      <td>Oman</td>\n",
              "      <td>Asia</td>\n",
              "      <td>None</td>\n",
              "    </tr>\n",
              "    <tr>\n",
              "      <th>23</th>\n",
              "      <td>Palestine - Asia</td>\n",
              "      <td>30</td>\n",
              "      <td>4</td>\n",
              "      <td>17.0</td>\n",
              "      <td>Palestine</td>\n",
              "      <td>Asia</td>\n",
              "      <td>None</td>\n",
              "    </tr>\n",
              "    <tr>\n",
              "      <th>24</th>\n",
              "      <td>Philippines - Asia</td>\n",
              "      <td>22</td>\n",
              "      <td>6</td>\n",
              "      <td>21.0</td>\n",
              "      <td>Philippines</td>\n",
              "      <td>Asia</td>\n",
              "      <td>None</td>\n",
              "    </tr>\n",
              "    <tr>\n",
              "      <th>25</th>\n",
              "      <td>Kyrgyzstan - Asia</td>\n",
              "      <td>27</td>\n",
              "      <td>5</td>\n",
              "      <td>15.0</td>\n",
              "      <td>Kyrgyzstan</td>\n",
              "      <td>Asia</td>\n",
              "      <td>None</td>\n",
              "    </tr>\n",
              "    <tr>\n",
              "      <th>26</th>\n",
              "      <td>Kazakhstan - Asia</td>\n",
              "      <td>21</td>\n",
              "      <td>7</td>\n",
              "      <td>8.0</td>\n",
              "      <td>Kazakhstan</td>\n",
              "      <td>Asia</td>\n",
              "      <td>None</td>\n",
              "    </tr>\n",
              "    <tr>\n",
              "      <th>27</th>\n",
              "      <td>Diameter - Asia</td>\n",
              "      <td>10</td>\n",
              "      <td>1</td>\n",
              "      <td>6.0</td>\n",
              "      <td>Diameter</td>\n",
              "      <td>Asia</td>\n",
              "      <td>None</td>\n",
              "    </tr>\n",
              "    <tr>\n",
              "      <th>28</th>\n",
              "      <td>Korea, Republic of South Korea - Asia</td>\n",
              "      <td>6</td>\n",
              "      <td>6</td>\n",
              "      <td>2.8</td>\n",
              "      <td>Korea, Republic of South Korea</td>\n",
              "      <td>Asia</td>\n",
              "      <td>None</td>\n",
              "    </tr>\n",
              "    <tr>\n",
              "      <th>29</th>\n",
              "      <td>Kuwait - Asia</td>\n",
              "      <td>14</td>\n",
              "      <td>2</td>\n",
              "      <td>7.0</td>\n",
              "      <td>Kuwait</td>\n",
              "      <td>Asia</td>\n",
              "      <td>None</td>\n",
              "    </tr>\n",
              "    <tr>\n",
              "      <th>30</th>\n",
              "      <td>Georgia - Asia</td>\n",
              "      <td>13</td>\n",
              "      <td>13</td>\n",
              "      <td>8.0</td>\n",
              "      <td>Georgia</td>\n",
              "      <td>Asia</td>\n",
              "      <td>None</td>\n",
              "    </tr>\n",
              "    <tr>\n",
              "      <th>31</th>\n",
              "      <td>Lebanon - Asia</td>\n",
              "      <td>17</td>\n",
              "      <td>5</td>\n",
              "      <td>9.0</td>\n",
              "      <td>Lebanon</td>\n",
              "      <td>Asia</td>\n",
              "      <td>None</td>\n",
              "    </tr>\n",
              "    <tr>\n",
              "      <th>32</th>\n",
              "      <td>Malaysia - Asia</td>\n",
              "      <td>16</td>\n",
              "      <td>5</td>\n",
              "      <td>7.0</td>\n",
              "      <td>Malaysia</td>\n",
              "      <td>Asia</td>\n",
              "      <td>None</td>\n",
              "    </tr>\n",
              "    <tr>\n",
              "      <th>33</th>\n",
              "      <td>India - Asia</td>\n",
              "      <td>20</td>\n",
              "      <td>6</td>\n",
              "      <td>33.0</td>\n",
              "      <td>India</td>\n",
              "      <td>Asia</td>\n",
              "      <td>None</td>\n",
              "    </tr>\n",
              "    <tr>\n",
              "      <th>34</th>\n",
              "      <td>Yemen - Asia</td>\n",
              "      <td>30</td>\n",
              "      <td>6</td>\n",
              "      <td>43.0</td>\n",
              "      <td>Yemen</td>\n",
              "      <td>Asia</td>\n",
              "      <td>None</td>\n",
              "    </tr>\n",
              "    <tr>\n",
              "      <th>35</th>\n",
              "      <td>Africa - Africa</td>\n",
              "      <td>34</td>\n",
              "      <td>8</td>\n",
              "      <td>49.0</td>\n",
              "      <td>Africa</td>\n",
              "      <td>Africa</td>\n",
              "      <td>None</td>\n",
              "    </tr>\n",
              "    <tr>\n",
              "      <th>36</th>\n",
              "      <td>Africa - South Africa</td>\n",
              "      <td>20</td>\n",
              "      <td>9</td>\n",
              "      <td>25.0</td>\n",
              "      <td>Africa</td>\n",
              "      <td>South Africa</td>\n",
              "      <td>None</td>\n",
              "    </tr>\n",
              "    <tr>\n",
              "      <th>37</th>\n",
              "      <td>Africa - Algeria</td>\n",
              "      <td>24</td>\n",
              "      <td>5</td>\n",
              "      <td>21.0</td>\n",
              "      <td>Africa</td>\n",
              "      <td>Algeria</td>\n",
              "      <td>None</td>\n",
              "    </tr>\n",
              "    <tr>\n",
              "      <th>38</th>\n",
              "      <td>Africa - Burkina Faso</td>\n",
              "      <td>38</td>\n",
              "      <td>8</td>\n",
              "      <td>52.0</td>\n",
              "      <td>Africa</td>\n",
              "      <td>Burkina Faso</td>\n",
              "      <td>None</td>\n",
              "    </tr>\n",
              "    <tr>\n",
              "      <th>39</th>\n",
              "      <td>Africa - Tunisia</td>\n",
              "      <td>17</td>\n",
              "      <td>6</td>\n",
              "      <td>14.0</td>\n",
              "      <td>Africa</td>\n",
              "      <td>Tunisia</td>\n",
              "      <td>None</td>\n",
              "    </tr>\n",
              "  </tbody>\n",
              "</table>\n",
              "</div>\n",
              "      <button class=\"colab-df-convert\" onclick=\"convertToInteractive('df-128ee8ef-d391-4ba1-9084-e8d33572e5a7')\"\n",
              "              title=\"Convert this dataframe to an interactive table.\"\n",
              "              style=\"display:none;\">\n",
              "        \n",
              "  <svg xmlns=\"http://www.w3.org/2000/svg\" height=\"24px\"viewBox=\"0 0 24 24\"\n",
              "       width=\"24px\">\n",
              "    <path d=\"M0 0h24v24H0V0z\" fill=\"none\"/>\n",
              "    <path d=\"M18.56 5.44l.94 2.06.94-2.06 2.06-.94-2.06-.94-.94-2.06-.94 2.06-2.06.94zm-11 1L8.5 8.5l.94-2.06 2.06-.94-2.06-.94L8.5 2.5l-.94 2.06-2.06.94zm10 10l.94 2.06.94-2.06 2.06-.94-2.06-.94-.94-2.06-.94 2.06-2.06.94z\"/><path d=\"M17.41 7.96l-1.37-1.37c-.4-.4-.92-.59-1.43-.59-.52 0-1.04.2-1.43.59L10.3 9.45l-7.72 7.72c-.78.78-.78 2.05 0 2.83L4 21.41c.39.39.9.59 1.41.59.51 0 1.02-.2 1.41-.59l7.78-7.78 2.81-2.81c.8-.78.8-2.07 0-2.86zM5.41 20L4 18.59l7.72-7.72 1.47 1.35L5.41 20z\"/>\n",
              "  </svg>\n",
              "      </button>\n",
              "      \n",
              "  <style>\n",
              "    .colab-df-container {\n",
              "      display:flex;\n",
              "      flex-wrap:wrap;\n",
              "      gap: 12px;\n",
              "    }\n",
              "\n",
              "    .colab-df-convert {\n",
              "      background-color: #E8F0FE;\n",
              "      border: none;\n",
              "      border-radius: 50%;\n",
              "      cursor: pointer;\n",
              "      display: none;\n",
              "      fill: #1967D2;\n",
              "      height: 32px;\n",
              "      padding: 0 0 0 0;\n",
              "      width: 32px;\n",
              "    }\n",
              "\n",
              "    .colab-df-convert:hover {\n",
              "      background-color: #E2EBFA;\n",
              "      box-shadow: 0px 1px 2px rgba(60, 64, 67, 0.3), 0px 1px 3px 1px rgba(60, 64, 67, 0.15);\n",
              "      fill: #174EA6;\n",
              "    }\n",
              "\n",
              "    [theme=dark] .colab-df-convert {\n",
              "      background-color: #3B4455;\n",
              "      fill: #D2E3FC;\n",
              "    }\n",
              "\n",
              "    [theme=dark] .colab-df-convert:hover {\n",
              "      background-color: #434B5C;\n",
              "      box-shadow: 0px 1px 3px 1px rgba(0, 0, 0, 0.15);\n",
              "      filter: drop-shadow(0px 1px 2px rgba(0, 0, 0, 0.3));\n",
              "      fill: #FFFFFF;\n",
              "    }\n",
              "  </style>\n",
              "\n",
              "      <script>\n",
              "        const buttonEl =\n",
              "          document.querySelector('#df-128ee8ef-d391-4ba1-9084-e8d33572e5a7 button.colab-df-convert');\n",
              "        buttonEl.style.display =\n",
              "          google.colab.kernel.accessAllowed ? 'block' : 'none';\n",
              "\n",
              "        async function convertToInteractive(key) {\n",
              "          const element = document.querySelector('#df-128ee8ef-d391-4ba1-9084-e8d33572e5a7');\n",
              "          const dataTable =\n",
              "            await google.colab.kernel.invokeFunction('convertToInteractive',\n",
              "                                                     [key], {});\n",
              "          if (!dataTable) return;\n",
              "\n",
              "          const docLinkHtml = 'Like what you see? Visit the ' +\n",
              "            '<a target=\"_blank\" href=https://colab.research.google.com/notebooks/data_table.ipynb>data table notebook</a>'\n",
              "            + ' to learn more about interactive tables.';\n",
              "          element.innerHTML = '';\n",
              "          dataTable['output_type'] = 'display_data';\n",
              "          await google.colab.output.renderOutput(dataTable, element);\n",
              "          const docLink = document.createElement('div');\n",
              "          docLink.innerHTML = docLinkHtml;\n",
              "          element.appendChild(docLink);\n",
              "        }\n",
              "      </script>\n",
              "    </div>\n",
              "  </div>\n",
              "  "
            ]
          },
          "metadata": {},
          "execution_count": 8
        }
      ]
    },
    {
      "cell_type": "markdown",
      "source": [
        "Let's convert column values to strings: 'Region', 'Country', 'Misc'. The function [`astype()`](https://www.geeksforgeeks.org/python-pandas-series-astype-to-convert-data-type-of-series/) changes data format/type."
      ],
      "metadata": {
        "id": "FGh6rLJbL5-W"
      }
    },
    {
      "cell_type": "code",
      "source": [
        "df['Region'] = df['Region'].astype(str) \n",
        "df['Country'] = df['Country'].astype(str) \n",
        "df['Misc'] = df['Misc'].astype(str) "
      ],
      "metadata": {
        "id": "EV5wRB0gfat9"
      },
      "execution_count": 9,
      "outputs": []
    },
    {
      "cell_type": "markdown",
      "source": [
        "Now, let's filter the main dataframe to create separate dataframes separated by 'Region'."
      ],
      "metadata": {
        "id": "MEHcGrOIL9F5"
      }
    },
    {
      "cell_type": "code",
      "source": [
        "asia_df = df.loc[df['Country'] == 'Asia']\n",
        "# to check #asia_df\n",
        "\n",
        "# for asia_df, we will need to switch the 'Region' and 'Country' columns\n",
        "asia_df = asia_df.rename(columns={'Region': 'Country', 'Country': 'Region'})\n",
        "\n",
        "# asia_df.head(3) # to check the first three rows of our newly created asia_df"
      ],
      "metadata": {
        "id": "9uGgEe-32IYE"
      },
      "execution_count": 10,
      "outputs": []
    },
    {
      "cell_type": "code",
      "source": [
        "africa_df = df.loc[df['Region'] == 'Africa']\n",
        "# africa_df.head(3) # to check the first three rows of our newly created africa_df"
      ],
      "metadata": {
        "id": "jCpwXpq32wCq"
      },
      "execution_count": 11,
      "outputs": []
    },
    {
      "cell_type": "code",
      "source": [
        "europe_df = df.loc[df['Region'] == 'Europe']\n",
        "# europe_df.head(3) # to check the first three rows of our newly created europe_df"
      ],
      "metadata": {
        "id": "WEryuPNJ6rL2"
      },
      "execution_count": 12,
      "outputs": []
    },
    {
      "cell_type": "code",
      "source": [
        "oceania_df = df.loc[df['Region'] == 'Oceania']\n",
        "# oceania_df.head(3) # to check the first three rows of our newly created oceania_df"
      ],
      "metadata": {
        "id": "QAytloUOz7-A"
      },
      "execution_count": 13,
      "outputs": []
    },
    {
      "cell_type": "code",
      "source": [
        "latinamerica_df = df.loc[df['Region'] == 'Latin America and the Caribbean']\n",
        "# latinamerica_df.head(3) # to check the first three rows of our newly created latinamerica_df"
      ],
      "metadata": {
        "id": "dCn_xbXO2hq9"
      },
      "execution_count": 14,
      "outputs": []
    },
    {
      "cell_type": "code",
      "source": [
        "northamerica_df = df.loc[df['Region'] == 'North America']\n",
        "# northamerica_df.head(3) # to check the first three rows of our newly created northamerica_df"
      ],
      "metadata": {
        "id": "j4pdGiMo0VWU"
      },
      "execution_count": 15,
      "outputs": []
    },
    {
      "cell_type": "code",
      "source": [
        "southamerica_df = df.loc[df['Region'] == 'South America']\n",
        "# southamerica_df.head(3) # to check the first three rows of our newly created southamerica_df"
      ],
      "metadata": {
        "id": "DC7kUyhT0XpF"
      },
      "execution_count": 16,
      "outputs": []
    },
    {
      "cell_type": "markdown",
      "source": [
        "Now let's check that the length of the original dataframe, 87 rows, matches the lengths of the dataframes (filtered by region) combined."
      ],
      "metadata": {
        "id": "xxVniaS-WlBL"
      }
    },
    {
      "cell_type": "code",
      "source": [
        "len(asia_df)+len(africa_df)+len(europe_df)+len(oceania_df)+len(northamerica_df)+len(southamerica_df)+len(latinamerica_df)"
      ],
      "metadata": {
        "id": "JAAdbdne0cpD",
        "colab": {
          "base_uri": "https://localhost:8080/"
        },
        "outputId": "0de0d9d6-7b35-4db1-bdff-07e51761e148"
      },
      "execution_count": 17,
      "outputs": [
        {
          "output_type": "execute_result",
          "data": {
            "text/plain": [
              "85"
            ]
          },
          "metadata": {},
          "execution_count": 17
        }
      ]
    },
    {
      "cell_type": "markdown",
      "source": [
        "Since the 'Country' and 'Region' columns are correctly assigned now, we can join these regional dataframes."
      ],
      "metadata": {
        "id": "WIA-0JL8MFFV"
      }
    },
    {
      "cell_type": "code",
      "source": [
        "world_df = pd.concat([asia_df, africa_df, europe_df, oceania_df, latinamerica_df, northamerica_df, southamerica_df], axis=0)\n",
        "# make sure to check what it looks like! "
      ],
      "metadata": {
        "id": "vjFwTJGd2ZnU"
      },
      "execution_count": 18,
      "outputs": []
    },
    {
      "cell_type": "markdown",
      "source": [
        "Let's drop the original column that had both Region and Country, as well as the 'Misc' column we created to catch any extra unnecessary data from splitting the original column into separate Region and Country columns. After this, we will have a cleaned dataset that is ready to be visualized!"
      ],
      "metadata": {
        "id": "5GIZyOzWaedh"
      }
    },
    {
      "cell_type": "code",
      "source": [
        "# drop first column that has both Region and Country and the 'Misc' column\n",
        "\n",
        "world_df_edited = world_df.drop(['Region and country - Asia', 'Misc'], axis=1)\n",
        "world_df_edited.head(5)"
      ],
      "metadata": {
        "id": "cAz7KboXIZkh",
        "colab": {
          "base_uri": "https://localhost:8080/",
          "height": 285
        },
        "outputId": "5ce9ce61-a87f-4df0-bfd9-0dc4a6628deb"
      },
      "execution_count": 19,
      "outputs": [
        {
          "output_type": "execute_result",
          "data": {
            "text/plain": [
              "   Crude birth rate - per thousand population  \\\n",
              "1                                          14   \n",
              "2                                          22   \n",
              "3                                          12   \n",
              "4                                          23   \n",
              "5                                          33   \n",
              "\n",
              "   Crude death rate - per thousand population  \\\n",
              "1                                           6   \n",
              "2                                           4   \n",
              "3                                           9   \n",
              "4                                           5   \n",
              "5                                           6   \n",
              "\n",
              "   Child mortality rate is less than - One year - per thousand live births  \\\n",
              "1                                               11.0                         \n",
              "2                                               17.0                         \n",
              "3                                                6.0                         \n",
              "4                                               11.0                         \n",
              "5                                               50.0                         \n",
              "\n",
              "                   Country Region  \n",
              "1  Azerbaijan, Republic of   Asia  \n",
              "2                   Jordan   Asia  \n",
              "3                  Armenia   Asia  \n",
              "4               Uzbekistan   Asia  \n",
              "5              Afghanistan   Asia  "
            ],
            "text/html": [
              "\n",
              "  <div id=\"df-d30e9577-cbd2-4048-82af-059a484aaf41\">\n",
              "    <div class=\"colab-df-container\">\n",
              "      <div>\n",
              "<style scoped>\n",
              "    .dataframe tbody tr th:only-of-type {\n",
              "        vertical-align: middle;\n",
              "    }\n",
              "\n",
              "    .dataframe tbody tr th {\n",
              "        vertical-align: top;\n",
              "    }\n",
              "\n",
              "    .dataframe thead th {\n",
              "        text-align: right;\n",
              "    }\n",
              "</style>\n",
              "<table border=\"1\" class=\"dataframe\">\n",
              "  <thead>\n",
              "    <tr style=\"text-align: right;\">\n",
              "      <th></th>\n",
              "      <th>Crude birth rate - per thousand population</th>\n",
              "      <th>Crude death rate - per thousand population</th>\n",
              "      <th>Child mortality rate is less than - One year - per thousand live births</th>\n",
              "      <th>Country</th>\n",
              "      <th>Region</th>\n",
              "    </tr>\n",
              "  </thead>\n",
              "  <tbody>\n",
              "    <tr>\n",
              "      <th>1</th>\n",
              "      <td>14</td>\n",
              "      <td>6</td>\n",
              "      <td>11.0</td>\n",
              "      <td>Azerbaijan, Republic of</td>\n",
              "      <td>Asia</td>\n",
              "    </tr>\n",
              "    <tr>\n",
              "      <th>2</th>\n",
              "      <td>22</td>\n",
              "      <td>4</td>\n",
              "      <td>17.0</td>\n",
              "      <td>Jordan</td>\n",
              "      <td>Asia</td>\n",
              "    </tr>\n",
              "    <tr>\n",
              "      <th>3</th>\n",
              "      <td>12</td>\n",
              "      <td>9</td>\n",
              "      <td>6.0</td>\n",
              "      <td>Armenia</td>\n",
              "      <td>Asia</td>\n",
              "    </tr>\n",
              "    <tr>\n",
              "      <th>4</th>\n",
              "      <td>23</td>\n",
              "      <td>5</td>\n",
              "      <td>11.0</td>\n",
              "      <td>Uzbekistan</td>\n",
              "      <td>Asia</td>\n",
              "    </tr>\n",
              "    <tr>\n",
              "      <th>5</th>\n",
              "      <td>33</td>\n",
              "      <td>6</td>\n",
              "      <td>50.0</td>\n",
              "      <td>Afghanistan</td>\n",
              "      <td>Asia</td>\n",
              "    </tr>\n",
              "  </tbody>\n",
              "</table>\n",
              "</div>\n",
              "      <button class=\"colab-df-convert\" onclick=\"convertToInteractive('df-d30e9577-cbd2-4048-82af-059a484aaf41')\"\n",
              "              title=\"Convert this dataframe to an interactive table.\"\n",
              "              style=\"display:none;\">\n",
              "        \n",
              "  <svg xmlns=\"http://www.w3.org/2000/svg\" height=\"24px\"viewBox=\"0 0 24 24\"\n",
              "       width=\"24px\">\n",
              "    <path d=\"M0 0h24v24H0V0z\" fill=\"none\"/>\n",
              "    <path d=\"M18.56 5.44l.94 2.06.94-2.06 2.06-.94-2.06-.94-.94-2.06-.94 2.06-2.06.94zm-11 1L8.5 8.5l.94-2.06 2.06-.94-2.06-.94L8.5 2.5l-.94 2.06-2.06.94zm10 10l.94 2.06.94-2.06 2.06-.94-2.06-.94-.94-2.06-.94 2.06-2.06.94z\"/><path d=\"M17.41 7.96l-1.37-1.37c-.4-.4-.92-.59-1.43-.59-.52 0-1.04.2-1.43.59L10.3 9.45l-7.72 7.72c-.78.78-.78 2.05 0 2.83L4 21.41c.39.39.9.59 1.41.59.51 0 1.02-.2 1.41-.59l7.78-7.78 2.81-2.81c.8-.78.8-2.07 0-2.86zM5.41 20L4 18.59l7.72-7.72 1.47 1.35L5.41 20z\"/>\n",
              "  </svg>\n",
              "      </button>\n",
              "      \n",
              "  <style>\n",
              "    .colab-df-container {\n",
              "      display:flex;\n",
              "      flex-wrap:wrap;\n",
              "      gap: 12px;\n",
              "    }\n",
              "\n",
              "    .colab-df-convert {\n",
              "      background-color: #E8F0FE;\n",
              "      border: none;\n",
              "      border-radius: 50%;\n",
              "      cursor: pointer;\n",
              "      display: none;\n",
              "      fill: #1967D2;\n",
              "      height: 32px;\n",
              "      padding: 0 0 0 0;\n",
              "      width: 32px;\n",
              "    }\n",
              "\n",
              "    .colab-df-convert:hover {\n",
              "      background-color: #E2EBFA;\n",
              "      box-shadow: 0px 1px 2px rgba(60, 64, 67, 0.3), 0px 1px 3px 1px rgba(60, 64, 67, 0.15);\n",
              "      fill: #174EA6;\n",
              "    }\n",
              "\n",
              "    [theme=dark] .colab-df-convert {\n",
              "      background-color: #3B4455;\n",
              "      fill: #D2E3FC;\n",
              "    }\n",
              "\n",
              "    [theme=dark] .colab-df-convert:hover {\n",
              "      background-color: #434B5C;\n",
              "      box-shadow: 0px 1px 3px 1px rgba(0, 0, 0, 0.15);\n",
              "      filter: drop-shadow(0px 1px 2px rgba(0, 0, 0, 0.3));\n",
              "      fill: #FFFFFF;\n",
              "    }\n",
              "  </style>\n",
              "\n",
              "      <script>\n",
              "        const buttonEl =\n",
              "          document.querySelector('#df-d30e9577-cbd2-4048-82af-059a484aaf41 button.colab-df-convert');\n",
              "        buttonEl.style.display =\n",
              "          google.colab.kernel.accessAllowed ? 'block' : 'none';\n",
              "\n",
              "        async function convertToInteractive(key) {\n",
              "          const element = document.querySelector('#df-d30e9577-cbd2-4048-82af-059a484aaf41');\n",
              "          const dataTable =\n",
              "            await google.colab.kernel.invokeFunction('convertToInteractive',\n",
              "                                                     [key], {});\n",
              "          if (!dataTable) return;\n",
              "\n",
              "          const docLinkHtml = 'Like what you see? Visit the ' +\n",
              "            '<a target=\"_blank\" href=https://colab.research.google.com/notebooks/data_table.ipynb>data table notebook</a>'\n",
              "            + ' to learn more about interactive tables.';\n",
              "          element.innerHTML = '';\n",
              "          dataTable['output_type'] = 'display_data';\n",
              "          await google.colab.output.renderOutput(dataTable, element);\n",
              "          const docLink = document.createElement('div');\n",
              "          docLink.innerHTML = docLinkHtml;\n",
              "          element.appendChild(docLink);\n",
              "        }\n",
              "      </script>\n",
              "    </div>\n",
              "  </div>\n",
              "  "
            ]
          },
          "metadata": {},
          "execution_count": 19
        }
      ]
    },
    {
      "cell_type": "markdown",
      "source": [
        "#### Step 3: Visualizing the data\n",
        "\n",
        "Now we can use the matplotlib library we imported at the very beginning to visualize data from our cleaned dataframe (world_df_edited). Let's make **bar charts** and **scatterplots.**\n",
        "\n",
        "Bar charts are generally good for comparing data in one category (*grouped* bar charts are good for if you want to compare data from *more* than one category). \n",
        "\n",
        "Let's create a bar chart to compare *just* **crude birth rates** among different **countries in Asia.** "
      ],
      "metadata": {
        "id": "2wBh5QMxJf4Q"
      }
    },
    {
      "cell_type": "markdown",
      "source": [
        "##### Making a bar chart with matplotlib"
      ],
      "metadata": {
        "id": "UMJqcvvaZcDx"
      }
    },
    {
      "cell_type": "markdown",
      "source": [
        "Note: Remember that you imported matplotlib.pyplot as `plt` in the beginning: `from matplotlib import pyplot as plt`\n",
        "\n",
        "The basic format to create a bar chart using matplotlib is the following:\n",
        "`plt.bar(x, height, width, bottom, align)`"
      ],
      "metadata": {
        "id": "_JHyvGTpQsOh"
      }
    },
    {
      "cell_type": "code",
      "source": [
        "## bar charts are one type of basic visualization you can create using matplotlib\n",
        "\n",
        "# we created a separate dataframe for data from countries in Asia, so we will use this\n",
        "\n",
        "# the 'x' value in this case would be what is on the x-axis: names of the different countries\n",
        "bar_x_asia = asia_df['Country']\n",
        "\n",
        "# the 'height' value in this case would be what influences the height of the bars: the crude birth rates of these countries\n",
        "bar_y_asia = asia_df['Crude birth rate - per thousand population']\n",
        "  \n",
        "# now set the size you want your bar chart to be in inches\n",
        "# in this case, we have the bar chart set to 10 by 5 inches\n",
        "fig = plt.figure(figsize = (10, 5))\n",
        " \n",
        "# this will actually create the bar chart itself with the data we want\n",
        "# set this bar chart to what color you want the bar to be\n",
        "# and the bar's width\n",
        "plt.bar(bar_x_asia, bar_y_asia, color ='skyblue', width = 0.4)\n",
        " \n",
        "# you can also set the chart title, along with the x and y-axis labels - this is generally good practice to describe what your chart is showing\n",
        "plt.xlabel(\"Countries in Asia\")\n",
        "plt.ylabel(\"Crude birth rate (per thousand population)\")\n",
        "plt.title(\"Crude birth rates in Asia\")\n",
        "plt.show()"
      ],
      "metadata": {
        "colab": {
          "base_uri": "https://localhost:8080/",
          "height": 487
        },
        "id": "oT7YFGfBJEZQ",
        "outputId": "10cf0f8c-d259-43c9-a3ff-514089e2692b"
      },
      "execution_count": 20,
      "outputs": [
        {
          "output_type": "display_data",
          "data": {
            "text/plain": [
              "<Figure size 1000x500 with 1 Axes>"
            ],
            "image/png": "[encoded data removed]"
          },
          "metadata": {}
        }
      ]
    },
    {
      "cell_type": "markdown",
      "source": [
        "You may notice that the x-axis is quite unreadable - this is because there are too many countries displayed.\n"
      ],
      "metadata": {
        "id": "LqQHM6MPSXy2"
      }
    },
    {
      "cell_type": "markdown",
      "source": [
        "One solution we could try is switching this bar chart from vertical to **horizontal**. We can do this by using the command [`plt.barh()`](https://matplotlib.org/stable/api/_as_gen/matplotlib.pyplot.barh.html#matplotlib.pyplot.barh) instead of `plt.bar()`."
      ],
      "metadata": {
        "id": "WRbaDYMjZXAP"
      }
    },
    {
      "cell_type": "code",
      "source": [
        "# setting the dimensions\n",
        "fig = plt.figure(figsize = (10, 8))\n",
        "\n",
        "# plotting the actual horizontal bar chart\n",
        "plt.barh(bar_x_asia, bar_y_asia, color ='skyblue')\n",
        "\n",
        "# putting axes labels and a title\n",
        "plt.xlabel(\"Crude birth rate (per thousand population)\")\n",
        "plt.title(\"Crude birth rates in Asia\")\n",
        "plt.show()"
      ],
      "metadata": {
        "id": "riRA6r4KZWXm",
        "colab": {
          "base_uri": "https://localhost:8080/",
          "height": 718
        },
        "outputId": "5753e7b6-9e05-40f8-f965-301483af18b6"
      },
      "execution_count": 25,
      "outputs": [
        {
          "output_type": "display_data",
          "data": {
            "text/plain": [
              "<Figure size 1000x800 with 1 Axes>"
            ],
            "image/png": "[encoded data removed]"
          },
          "metadata": {}
        }
      ]
    },
    {
      "cell_type": "markdown",
      "source": [
        "Now there is a lot more space to discern which bar (representing crude birth rate) corresponds with which country."
      ],
      "metadata": {
        "id": "hm3kZm-e9wkI"
      }
    },
    {
      "cell_type": "markdown",
      "source": [
        "Bar charts like these are especially helpful for drawing general conclusions from datasets. From this bar chart, we can see that compared to its geographic neighbors, Iran had one of the *lowest* crude birth rates in 2020."
      ],
      "metadata": {
        "id": "BUcnxwiNZ65O"
      }
    },
    {
      "cell_type": "markdown",
      "source": [
        "##### Making a scatterplot with matplotlib"
      ],
      "metadata": {
        "id": "byoS9DJ5ZoJO"
      }
    },
    {
      "cell_type": "markdown",
      "source": [
        "`matplotlib` can also be used to make scatterplots. Scatterplots are generally used to compare two different *numeric** variables.\n",
        "\n",
        "The general format of a matplotlib scatterplot is:\n",
        "`plt.scatter(x, y)`, where matplotlib.pyplot is imported as `plt`. It takes x and y-values.\n",
        "\n",
        "We can try making a scatterplot comparing the crude birth rates and death rates among countries in Asia."
      ],
      "metadata": {
        "id": "qgz8zqq5a1Fx"
      }
    },
    {
      "cell_type": "code",
      "source": [
        "# the x-values will be scatter_x_asia, the variable we are creating for our scatter plot\n",
        "# that represents the crude birth rates from these same countries\n",
        "scatter_x_asia = asia_df['Crude birth rate - per thousand population']"
      ],
      "metadata": {
        "id": "0jrjvGPh_wkK"
      },
      "execution_count": 28,
      "outputs": []
    },
    {
      "cell_type": "code",
      "source": [
        "# the y-values in this case would be scatter_y_asia\n",
        "# the crude death rates of these countries\n",
        "scatter_y_asia = asia_df['Crude death rate - per thousand population']"
      ],
      "metadata": {
        "id": "MfDCPRh___oR"
      },
      "execution_count": 29,
      "outputs": []
    },
    {
      "cell_type": "code",
      "source": [
        "# now that we have the specific data, let's plot these data points\n",
        "\n",
        "# passing this data to the scatter plot\n",
        "plt.scatter(scatter_x_asia, scatter_y_asia, color='skyblue')\n",
        " \n",
        "# setting the chart title, along with the x and y-axis labels\n",
        "plt.xlabel(\"Crude birth rate (per thousand population)\")\n",
        "plt.ylabel(\"Crude death rate (per thousand population)\")\n",
        "plt.title(\"Crude birth vs. death rates in Asia\")\n",
        "plt.show()"
      ],
      "metadata": {
        "colab": {
          "base_uri": "https://localhost:8080/",
          "height": 472
        },
        "id": "9h76gAaccNIN",
        "outputId": "0ed38816-1bd3-47bb-8fb5-9f56f02c1239"
      },
      "execution_count": 30,
      "outputs": [
        {
          "output_type": "display_data",
          "data": {
            "text/plain": [
              "<Figure size 640x480 with 1 Axes>"
            ],
            "image/png": "[encoded data removed]"
          },
          "metadata": {}
        }
      ]
    },
    {
      "cell_type": "markdown",
      "source": [
        "It's important to note the scale differences between axes when drawing conclusions from these charts. In this scatterplot, the scales on the x and y axes are different - the range of crude birth rates goes up past 30 while the range in crude death rates only goes up to 9. \n",
        "\n",
        "Let's try re-creating this scatterplot with both the x and y-axes having **the same scale.**"
      ],
      "metadata": {
        "id": "Kfb880bPnEoE"
      }
    },
    {
      "cell_type": "code",
      "source": [
        "plt.scatter(scatter_x_asia, scatter_y_asia, color='skyblue')\n",
        "\n",
        "# setting the x and y axes to be the same scale\n",
        "plt.xlim(0, 35)\n",
        "plt.ylim(0, 35)\n",
        " \n",
        "plt.xlabel(\"Crude birth rate (per thousand population)\")\n",
        "plt.ylabel(\"Crude death rate (per thousand population)\")\n",
        "plt.title(\"Crude birth vs. death rates in Asia\")\n",
        "plt.show()"
      ],
      "metadata": {
        "colab": {
          "base_uri": "https://localhost:8080/",
          "height": 472
        },
        "id": "JiUqWspY_cUT",
        "outputId": "d5289a5d-20c6-40cd-93bd-3c1e6b945bf1"
      },
      "execution_count": 31,
      "outputs": [
        {
          "output_type": "display_data",
          "data": {
            "text/plain": [
              "<Figure size 640x480 with 1 Axes>"
            ],
            "image/png": "[encoded data removed]"
          },
          "metadata": {}
        }
      ]
    },
    {
      "cell_type": "markdown",
      "source": [
        "When we plot the birth and death rates in this way, we can better observe how crude birth rates across most countries in Asia are much higher than their crude death rates."
      ],
      "metadata": {
        "id": "8kOoLeszAoCN"
      }
    },
    {
      "cell_type": "markdown",
      "source": [
        "### Additional exercises\n",
        "\n",
        "Try creating your **own** bar and scatter plots with the other dataframes you created in this lesson, such as `africa_df` or `oceania_df`. If you make your own bar chart, you could try coloring the bars according to region (i.e. Africa, Oceania, Asia etc.), or try creating a [grouped bar chart](https://matplotlib.org/stable/gallery/lines_bars_and_markers/barchart.html#sphx-glr-gallery-lines-bars-and-markers-barchart-py)!"
      ],
      "metadata": {
        "id": "YO5uYvFYliYD"
      }
    },
    {
      "cell_type": "markdown",
      "source": [
        "### Additional resources\n",
        "\n",
        "* Explore more about the [matplotlib Python library](https://matplotlib.org/)\n",
        "* Using the pandas [rename()](http://pandas.pydata.org/pandas-docs/stable/reference/api/pandas.DataFrame.rename.html) function\n",
        "\n"
      ],
      "metadata": {
        "id": "tJOae6oiZkY0"
      }
    },
    {
      "cell_type": "markdown",
      "source": [
        "### Congrats on finishing your first lesson on basic chart creation! \n",
        "\n",
        "In the next lesson, we'll try adding text annotations to the scatterplot we made in this lesson. "
      ],
      "metadata": {
        "id": "Bv9g56Y8Nb5l"
      }
    },
    {
      "cell_type": "code",
      "source": [
        " "
      ],
      "metadata": {
        "id": "lRcKKINUg0jL"
      },
      "execution_count": null,
      "outputs": []
    }
  ]
}