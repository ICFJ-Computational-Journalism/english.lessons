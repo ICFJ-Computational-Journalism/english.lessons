{
 "cells": [
  {
   "cell_type": "markdown",
   "metadata": {},
   "source": [
    "## Introduction to matplotlib"
   ]
  },
  {
   "cell_type": "markdown",
   "metadata": {},
   "source": [
    "#### Note for Jenny: For ICFJ, do global/international/Iranian or company datasets. For mapping, make sure to do something in Iran or country-level, NOT bay area/sf specific - do JHU or CDC, not DataSF for COVID (global or Iranian numbers)"
   ]
  },
  {
   "cell_type": "markdown",
   "metadata": {},
   "source": [
    "### Importing matplotlib"
   ]
  },
  {
   "cell_type": "markdown",
   "metadata": {},
   "source": [
    "Make sure you first have matplotlib installed locally if you're running this notebook locally! If you have Python 3, run <strong>pip3 install matplotlib</strong> on the terminal before running the cells below."
   ]
  },
  {
   "cell_type": "code",
   "execution_count": 8,
   "metadata": {},
   "outputs": [],
   "source": [
    "from matplotlib import pyplot as plt"
   ]
  },
  {
   "cell_type": "code",
   "execution_count": 9,
   "metadata": {},
   "outputs": [],
   "source": [
    "# importing any other necessary libraries below\n",
    "\n",
    "import numpy as np\n",
    "import pandas as pd"
   ]
  },
  {
   "cell_type": "markdown",
   "metadata": {},
   "source": [
    "### Getting started and making basic charts with matplotlib"
   ]
  },
  {
   "cell_type": "markdown",
   "metadata": {},
   "source": [
    "#### Step 1: Importing your data source for your visualizations"
   ]
  },
  {
   "cell_type": "markdown",
   "metadata": {},
   "source": [
    "Let's import the <a href=\"https://data.sfgov.org/COVID-19/COVID-19-Cases-by-Geography-Over-Time/d2ef-idww/explore\">COVID-19 by Geography Over Time dataset</a> from DataSF, San Francisco's open data portal. This specific dataset has been filtered to only include cases between Mar. 1, 2022 and Mar. 1, 2023."
   ]
  },
  {
   "cell_type": "markdown",
   "metadata": {},
   "source": [
    "You can also download the dataset we'll be visualizing <a href=\"https://raw.githubusercontent.com/kwonjs/datasets-to-use/main/From01012023to02012023COVID-19_Cases_by_Geography_Over_Time.csv\">here</a> (takes you to a raw Github link)."
   ]
  },
  {
   "cell_type": "code",
   "execution_count": 19,
   "metadata": {},
   "outputs": [],
   "source": [
    "# importing the dataset below - make sure that if you're not importing from a URL that you first upload\n",
    "# the raw dataset to jupyter notebook\n",
    "\n",
    "# import dataset as a dataframe to analyze in python\n",
    "url = \"https://raw.githubusercontent.com/kwonjs/datasets-to-use/main/From03012022to03012023_COVID-19_Cases_by_Geography_Over_Time.csv\"\n",
    "cases_raw = pd.read_csv(url)\n",
    "\n",
    "# to make sure the data is showing up properly for basic analysis and charting/graphing\n",
    "# cases_raw.head(20) "
   ]
  },
  {
   "cell_type": "markdown",
   "metadata": {},
   "source": [
    "Let's take a look at this dataset. What variables/columns are we working with?"
   ]
  },
  {
   "cell_type": "markdown",
   "metadata": {},
   "source": [
    "#### Step 2: Doing some basic filtering and analysis with pandas "
   ]
  },
  {
   "cell_type": "markdown",
   "metadata": {},
   "source": [
    "<i>For a refresher, refer to the data analysis section (LINK TO SECTION HERE) on how to work with the pandas library!</i>"
   ]
  },
  {
   "cell_type": "code",
   "execution_count": 22,
   "metadata": {},
   "outputs": [],
   "source": [
    "# filter rows by the 'Analysis Neighborhood' area_type, which is associated with specific districts\n",
    "# within San Francisco (i.e. Bayview Hunters Point)\n",
    "\n",
    "neighborhood_cases = cases_raw[cases_raw['area_type']=='Analysis Neighborhood']"
   ]
  },
  {
   "cell_type": "markdown",
   "metadata": {},
   "source": [
    "In this dataset, there's a column called \"new_confirmed_cases.\" We can use the <a href=\"https://pandas.pydata.org/docs/reference/api/pandas.DataFrame.groupby.html\">groupby</a> function on the dataframe of cases by neighborhood (neighborhood_cases) to get the total number of cases in all of SF's neighborhoods (in other words, in all of SF) by date. "
   ]
  },
  {
   "cell_type": "code",
   "execution_count": 31,
   "metadata": {},
   "outputs": [
    {
     "name": "stderr",
     "output_type": "stream",
     "text": [
      "/var/folders/81/wsywmw8s4zl4fn217py78mpm0000gr/T/ipykernel_17398/4197905618.py:1: FutureWarning: The default value of numeric_only in DataFrameGroupBy.sum is deprecated. In a future version, numeric_only will default to False. Either specify numeric_only or select only columns which should be valid for the function.\n",
      "  new_cases_byday = neighborhood_cases.groupby('specimen_collection_date').sum()['new_confirmed_cases']\n"
     ]
    }
   ],
   "source": [
    "new_cases_byday = neighborhood_cases.groupby('specimen_collection_date').sum()['new_confirmed_cases']"
   ]
  },
  {
   "cell_type": "code",
   "execution_count": 35,
   "metadata": {
    "scrolled": true
   },
   "outputs": [
    {
     "data": {
      "text/html": [
       "<div>\n",
       "<style scoped>\n",
       "    .dataframe tbody tr th:only-of-type {\n",
       "        vertical-align: middle;\n",
       "    }\n",
       "\n",
       "    .dataframe tbody tr th {\n",
       "        vertical-align: top;\n",
       "    }\n",
       "\n",
       "    .dataframe thead th {\n",
       "        text-align: right;\n",
       "    }\n",
       "</style>\n",
       "<table border=\"1\" class=\"dataframe\">\n",
       "  <thead>\n",
       "    <tr style=\"text-align: right;\">\n",
       "      <th></th>\n",
       "      <th>specimen_collection_date</th>\n",
       "      <th>new_confirmed_cases</th>\n",
       "    </tr>\n",
       "  </thead>\n",
       "  <tbody>\n",
       "    <tr>\n",
       "      <th>0</th>\n",
       "      <td>2022/03/01</td>\n",
       "      <td>129.0</td>\n",
       "    </tr>\n",
       "    <tr>\n",
       "      <th>1</th>\n",
       "      <td>2022/03/02</td>\n",
       "      <td>102.0</td>\n",
       "    </tr>\n",
       "    <tr>\n",
       "      <th>2</th>\n",
       "      <td>2022/03/03</td>\n",
       "      <td>108.0</td>\n",
       "    </tr>\n",
       "    <tr>\n",
       "      <th>3</th>\n",
       "      <td>2022/03/04</td>\n",
       "      <td>78.0</td>\n",
       "    </tr>\n",
       "    <tr>\n",
       "      <th>4</th>\n",
       "      <td>2022/03/05</td>\n",
       "      <td>52.0</td>\n",
       "    </tr>\n",
       "    <tr>\n",
       "      <th>...</th>\n",
       "      <td>...</td>\n",
       "      <td>...</td>\n",
       "    </tr>\n",
       "    <tr>\n",
       "      <th>361</th>\n",
       "      <td>2023/02/25</td>\n",
       "      <td>59.0</td>\n",
       "    </tr>\n",
       "    <tr>\n",
       "      <th>362</th>\n",
       "      <td>2023/02/26</td>\n",
       "      <td>46.0</td>\n",
       "    </tr>\n",
       "    <tr>\n",
       "      <th>363</th>\n",
       "      <td>2023/02/27</td>\n",
       "      <td>98.0</td>\n",
       "    </tr>\n",
       "    <tr>\n",
       "      <th>364</th>\n",
       "      <td>2023/02/28</td>\n",
       "      <td>107.0</td>\n",
       "    </tr>\n",
       "    <tr>\n",
       "      <th>365</th>\n",
       "      <td>2023/03/01</td>\n",
       "      <td>87.0</td>\n",
       "    </tr>\n",
       "  </tbody>\n",
       "</table>\n",
       "<p>366 rows × 2 columns</p>\n",
       "</div>"
      ],
      "text/plain": [
       "    specimen_collection_date  new_confirmed_cases\n",
       "0                 2022/03/01                129.0\n",
       "1                 2022/03/02                102.0\n",
       "2                 2022/03/03                108.0\n",
       "3                 2022/03/04                 78.0\n",
       "4                 2022/03/05                 52.0\n",
       "..                       ...                  ...\n",
       "361               2023/02/25                 59.0\n",
       "362               2023/02/26                 46.0\n",
       "363               2023/02/27                 98.0\n",
       "364               2023/02/28                107.0\n",
       "365               2023/03/01                 87.0\n",
       "\n",
       "[366 rows x 2 columns]"
      ]
     },
     "execution_count": 35,
     "metadata": {},
     "output_type": "execute_result"
    }
   ],
   "source": [
    "# convert the groupby output to a dataframe\n",
    "new_cases_byday_df = new_cases_byday.to_frame()\n",
    "\n",
    "# reset the index so that the date column isn't treated as the index\n",
    "new_cases_byday_df = new_cases_byday_df.reset_index()\n",
    "new_cases_byday_df"
   ]
  },
  {
   "cell_type": "code",
   "execution_count": 38,
   "metadata": {},
   "outputs": [
    {
     "name": "stderr",
     "output_type": "stream",
     "text": [
      "/var/folders/81/wsywmw8s4zl4fn217py78mpm0000gr/T/ipykernel_17398/36508659.py:5: SettingWithCopyWarning: \n",
      "A value is trying to be set on a copy of a slice from a DataFrame.\n",
      "Try using .loc[row_indexer,col_indexer] = value instead\n",
      "\n",
      "See the caveats in the documentation: https://pandas.pydata.org/pandas-docs/stable/user_guide/indexing.html#returning-a-view-versus-a-copy\n",
      "  neighborhood_cases[['year', 'month', 'day']] = neighborhood_cases['specimen_collection_date'].str.split('/', expand=True)\n",
      "/var/folders/81/wsywmw8s4zl4fn217py78mpm0000gr/T/ipykernel_17398/36508659.py:5: SettingWithCopyWarning: \n",
      "A value is trying to be set on a copy of a slice from a DataFrame.\n",
      "Try using .loc[row_indexer,col_indexer] = value instead\n",
      "\n",
      "See the caveats in the documentation: https://pandas.pydata.org/pandas-docs/stable/user_guide/indexing.html#returning-a-view-versus-a-copy\n",
      "  neighborhood_cases[['year', 'month', 'day']] = neighborhood_cases['specimen_collection_date'].str.split('/', expand=True)\n",
      "/var/folders/81/wsywmw8s4zl4fn217py78mpm0000gr/T/ipykernel_17398/36508659.py:5: SettingWithCopyWarning: \n",
      "A value is trying to be set on a copy of a slice from a DataFrame.\n",
      "Try using .loc[row_indexer,col_indexer] = value instead\n",
      "\n",
      "See the caveats in the documentation: https://pandas.pydata.org/pandas-docs/stable/user_guide/indexing.html#returning-a-view-versus-a-copy\n",
      "  neighborhood_cases[['year', 'month', 'day']] = neighborhood_cases['specimen_collection_date'].str.split('/', expand=True)\n"
     ]
    }
   ],
   "source": [
    "# let's go back to the neighborhood_cases dataframe\n",
    "# and let's split the specimen_collection_date into three separate columns\n",
    "# one column for year, one for month and one for day\n",
    "\n",
    "neighborhood_cases[['year', 'month', 'day']] = neighborhood_cases['specimen_collection_date'].str.split('/', expand=True)"
   ]
  },
  {
   "cell_type": "code",
   "execution_count": 41,
   "metadata": {},
   "outputs": [],
   "source": [
    "# we can choose only the variables/columns we care about\n",
    "# for this specific dataset, we care about the year, month and day of the collection, maybe the population\n",
    "# of the neighborhood based on the american community survey (acs_population) and \n",
    "# new confirmed cases for that specific day in that neighborhood\n",
    "\n",
    "new_cases_neighborhood = neighborhood_cases[[\"year\", \"month\", \"day\", \"id\", \"acs_population\", \"new_confirmed_cases\"]]"
   ]
  },
  {
   "cell_type": "code",
   "execution_count": 45,
   "metadata": {},
   "outputs": [],
   "source": [
    "# we can further filter new_cases_neighborhood for cases per day in a specific neighborhood (i.e. the Tenderloin)\n",
    "\n",
    "tenderloin_cases = new_cases_neighborhood[new_cases_neighborhood[\"id\"]==\"Tenderloin\"]"
   ]
  },
  {
   "cell_type": "markdown",
   "metadata": {},
   "source": [
    "#### Step 3: Let's make some visualizations as part of our exploratory data analysis"
   ]
  },
  {
   "cell_type": "markdown",
   "metadata": {},
   "source": [
    "The general format for creating a <strong>bar chart</strong> using matplotlib is:"
   ]
  },
  {
   "cell_type": "markdown",
   "metadata": {},
   "source": [
    "plt.bar(x, height, width=0.8, bottom=None, *, align='center', data=None, **kwargs) "
   ]
  },
  {
   "cell_type": "code",
   "execution_count": 51,
   "metadata": {},
   "outputs": [
    {
     "name": "stderr",
     "output_type": "stream",
     "text": [
      "/var/folders/81/wsywmw8s4zl4fn217py78mpm0000gr/T/ipykernel_17398/1773384349.py:1: FutureWarning: The default value of numeric_only in DataFrameGroupBy.sum is deprecated. In a future version, numeric_only will default to False. Either specify numeric_only or select only columns which should be valid for the function.\n",
      "  tenderloin_cases.groupby(['month', 'year']).sum().reset_index()\n"
     ]
    },
    {
     "data": {
      "text/html": [
       "<div>\n",
       "<style scoped>\n",
       "    .dataframe tbody tr th:only-of-type {\n",
       "        vertical-align: middle;\n",
       "    }\n",
       "\n",
       "    .dataframe tbody tr th {\n",
       "        vertical-align: top;\n",
       "    }\n",
       "\n",
       "    .dataframe thead th {\n",
       "        text-align: right;\n",
       "    }\n",
       "</style>\n",
       "<table border=\"1\" class=\"dataframe\">\n",
       "  <thead>\n",
       "    <tr style=\"text-align: right;\">\n",
       "      <th></th>\n",
       "      <th>month</th>\n",
       "      <th>year</th>\n",
       "      <th>acs_population</th>\n",
       "      <th>new_confirmed_cases</th>\n",
       "    </tr>\n",
       "  </thead>\n",
       "  <tbody>\n",
       "    <tr>\n",
       "      <th>0</th>\n",
       "      <td>01</td>\n",
       "      <td>2023</td>\n",
       "      <td>921506</td>\n",
       "      <td>74.0</td>\n",
       "    </tr>\n",
       "    <tr>\n",
       "      <th>1</th>\n",
       "      <td>02</td>\n",
       "      <td>2023</td>\n",
       "      <td>832328</td>\n",
       "      <td>97.0</td>\n",
       "    </tr>\n",
       "    <tr>\n",
       "      <th>2</th>\n",
       "      <td>03</td>\n",
       "      <td>2022</td>\n",
       "      <td>921506</td>\n",
       "      <td>75.0</td>\n",
       "    </tr>\n",
       "    <tr>\n",
       "      <th>3</th>\n",
       "      <td>03</td>\n",
       "      <td>2023</td>\n",
       "      <td>29726</td>\n",
       "      <td>4.0</td>\n",
       "    </tr>\n",
       "    <tr>\n",
       "      <th>4</th>\n",
       "      <td>04</td>\n",
       "      <td>2022</td>\n",
       "      <td>891780</td>\n",
       "      <td>156.0</td>\n",
       "    </tr>\n",
       "    <tr>\n",
       "      <th>5</th>\n",
       "      <td>05</td>\n",
       "      <td>2022</td>\n",
       "      <td>921506</td>\n",
       "      <td>300.0</td>\n",
       "    </tr>\n",
       "    <tr>\n",
       "      <th>6</th>\n",
       "      <td>06</td>\n",
       "      <td>2022</td>\n",
       "      <td>891780</td>\n",
       "      <td>343.0</td>\n",
       "    </tr>\n",
       "    <tr>\n",
       "      <th>7</th>\n",
       "      <td>07</td>\n",
       "      <td>2022</td>\n",
       "      <td>921506</td>\n",
       "      <td>270.0</td>\n",
       "    </tr>\n",
       "    <tr>\n",
       "      <th>8</th>\n",
       "      <td>08</td>\n",
       "      <td>2022</td>\n",
       "      <td>921506</td>\n",
       "      <td>162.0</td>\n",
       "    </tr>\n",
       "    <tr>\n",
       "      <th>9</th>\n",
       "      <td>09</td>\n",
       "      <td>2022</td>\n",
       "      <td>891780</td>\n",
       "      <td>84.0</td>\n",
       "    </tr>\n",
       "    <tr>\n",
       "      <th>10</th>\n",
       "      <td>10</td>\n",
       "      <td>2022</td>\n",
       "      <td>921506</td>\n",
       "      <td>70.0</td>\n",
       "    </tr>\n",
       "    <tr>\n",
       "      <th>11</th>\n",
       "      <td>11</td>\n",
       "      <td>2022</td>\n",
       "      <td>891780</td>\n",
       "      <td>158.0</td>\n",
       "    </tr>\n",
       "    <tr>\n",
       "      <th>12</th>\n",
       "      <td>12</td>\n",
       "      <td>2022</td>\n",
       "      <td>921506</td>\n",
       "      <td>188.0</td>\n",
       "    </tr>\n",
       "  </tbody>\n",
       "</table>\n",
       "</div>"
      ],
      "text/plain": [
       "   month  year  acs_population  new_confirmed_cases\n",
       "0     01  2023          921506                 74.0\n",
       "1     02  2023          832328                 97.0\n",
       "2     03  2022          921506                 75.0\n",
       "3     03  2023           29726                  4.0\n",
       "4     04  2022          891780                156.0\n",
       "5     05  2022          921506                300.0\n",
       "6     06  2022          891780                343.0\n",
       "7     07  2022          921506                270.0\n",
       "8     08  2022          921506                162.0\n",
       "9     09  2022          891780                 84.0\n",
       "10    10  2022          921506                 70.0\n",
       "11    11  2022          891780                158.0\n",
       "12    12  2022          921506                188.0"
      ]
     },
     "execution_count": 51,
     "metadata": {},
     "output_type": "execute_result"
    }
   ],
   "source": [
    "tenderloin_cases.groupby(['month', 'year']).sum().reset_index()"
   ]
  },
  {
   "cell_type": "code",
   "execution_count": null,
   "metadata": {},
   "outputs": [],
   "source": [
    "# our data source will be new_cases_byday_df\n",
    "\n",
    "# defining the different parameters used to create a bar using matplotlib\n",
    "bar_x = new_cases_byday_df['']\n",
    "\n",
    "plt.bar()"
   ]
  }
 ],
 "metadata": {
  "kernelspec": {
   "display_name": "Python 3 (ipykernel)",
   "language": "python",
   "name": "python3"
  },
  "language_info": {
   "codemirror_mode": {
    "name": "ipython",
    "version": 3
   },
   "file_extension": ".py",
   "mimetype": "text/x-python",
   "name": "python",
   "nbconvert_exporter": "python",
   "pygments_lexer": "ipython3",
   "version": "3.10.9"
  }
 },
 "nbformat": 4,
 "nbformat_minor": 4
}
