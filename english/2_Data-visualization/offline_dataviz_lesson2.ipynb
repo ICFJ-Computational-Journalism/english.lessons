{
  "nbformat": 4,
  "nbformat_minor": 0,
  "metadata": {
    "colab": {
      "provenance": []
    },
    "kernelspec": {
      "name": "python3",
      "display_name": "Python 3"
    },
    "language_info": {
      "name": "python"
    }
  },
  "cells": [
    {
      "cell_type": "markdown",
      "source": [
        "# Adding text and annotations to our charts\n",
        "\n",
        "Make sure to first do the basic charts notebook before completing this notebook. This notebook relies on at least one chart you created in the previous lesson!"
      ],
      "metadata": {
        "id": "h0xvGvHRQPJd"
      }
    },
    {
      "cell_type": "code",
      "source": [
        "# bringing back the scatterplot of crude birth and death data\n",
        "# of specific countries in Asia\n",
        "\n",
        "# the x-values will be iran_neighbors_birth, the variable we created for the bar chart\n",
        "# that represents the crude birth rates from these same countries\n",
        "\n",
        "# re-create this bar chart, this time with data from these spsecific countries\n",
        "\n",
        "# we can rename countries with longer names to one word for easier data analysis and visualization\n",
        "asia_df = asia_df.replace({'Country':{\"Iran, Islamic Republic\":\"Iran\", \"Azerbaijan, Republic of\": \"Azerbaijan\"}})\n",
        "\n",
        "# assigning a new variable for the specific countries that will be shown on this bar chart\n",
        "iran_neighbors = [\"Iran\", \"Azerbaijan\", \"Armenia\", \"Turkmenistan\", \"Pakistan\", \"Afghanistan\", \"Oman\", \"Turkey\", \"Iraq\"]\n",
        "\n",
        "# assigning a new variable to get the 'height' value, the crude birth rates of these countries\n",
        "# for these specific countries\n",
        "iran_neighbors_birth = asia_df[asia_df['Country'].isin(iran_neighbors)]['Crude birth rate - per thousand population']\n",
        "\n",
        "# the y-values\n",
        "\n",
        "iran_neighbors_death = asia_df[asia_df['Country'].isin(iran_neighbors)]['Crude death rate - per thousand population']\n",
        "# check that this outputs as a series of values #iran_neighbors_child_mortality\n",
        "\n",
        "# we need to make a 'subplot,' the 'ax' variable, in order to add data point labels\n",
        "fig, ax = plt.subplots(figsize=(10,5))\n",
        "\n",
        "# passing this data to the scatter plot\n",
        "plt.scatter(iran_neighbors_birth, iran_neighbors_death, color='skyblue')\n",
        " \n",
        "# setting the chart title, along with the x and y-axis labels\n",
        "plt.xlabel(\"Crude birth rate (per thousand population)\")\n",
        "plt.ylabel(\"Crude death rate (per thousand population)\")\n",
        "plt.title(\"Crude birth vs. death rates in Asia\")\n",
        "\n",
        "# add labels to the points\n",
        "for i in range(len(iran_neighbors_birth)):\n",
        "  plt.text(iran_neighbors_birth.reset_index(drop=True)[i], iran_neighbors_death.reset_index(drop=True)[i], 'test', size=10)\n",
        "\n",
        "plt.show()"
      ],
      "metadata": {
        "id": "UzrKXYmtQb9N"
      },
      "execution_count": null,
      "outputs": []
    }
  ]
}