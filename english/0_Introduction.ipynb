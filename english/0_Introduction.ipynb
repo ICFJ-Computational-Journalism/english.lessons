{
 "cells": [
  {
   "cell_type": "markdown",
   "id": "10e1cb6d",
   "metadata": {},
   "source": [
    "# 0. Introduction\n",
    "\n",
    "## About this course\n",
    "\n",
    "Talk about how this course is intended to teach journalists how to code with Python. Talk about what Python is, etc. etc. TKTK.\n",
    "\n",
    "This course was funded by through a grant from ICJF."
   ]
  },
  {
   "cell_type": "markdown",
   "id": "d69b45e7",
   "metadata": {},
   "source": [
    "## How to use this course\n",
    "\n",
    "How to navigate modules - order.\n",
    "\n",
    "How to donwload Python etc"
   ]
  },
  {
   "cell_type": "markdown",
   "id": "81c01a87",
   "metadata": {},
   "source": [
    "## Python basics"
   ]
  },
  {
   "cell_type": "code",
   "execution_count": 1,
   "id": "4bd9348e",
   "metadata": {},
   "outputs": [
    {
     "data": {
      "text/plain": [
       "4"
      ]
     },
     "execution_count": 1,
     "metadata": {},
     "output_type": "execute_result"
    }
   ],
   "source": [
    "1 + 3"
   ]
  },
  {
   "cell_type": "code",
   "execution_count": 3,
   "id": "4b06d433",
   "metadata": {},
   "outputs": [
    {
     "data": {
      "text/plain": [
       "4"
      ]
     },
     "execution_count": 3,
     "metadata": {},
     "output_type": "execute_result"
    }
   ],
   "source": [
    "# Anything that starts with a '#' symbol is a comment\n",
    "# So it won't change any code\n",
    "\n",
    "1 + 3  # We can also add comments on the same line as code"
   ]
  },
  {
   "cell_type": "code",
   "execution_count": 4,
   "id": "37a7cfd7",
   "metadata": {},
   "outputs": [
    {
     "data": {
      "text/plain": [
       "int"
      ]
     },
     "execution_count": 4,
     "metadata": {},
     "output_type": "execute_result"
    }
   ],
   "source": [
    "type(4)"
   ]
  },
  {
   "cell_type": "code",
   "execution_count": 5,
   "id": "0becb1f7",
   "metadata": {},
   "outputs": [
    {
     "data": {
      "text/plain": [
       "str"
      ]
     },
     "execution_count": 5,
     "metadata": {},
     "output_type": "execute_result"
    }
   ],
   "source": [
    "type('hello')"
   ]
  },
  {
   "cell_type": "code",
   "execution_count": 6,
   "id": "bffbfbc6",
   "metadata": {},
   "outputs": [
    {
     "data": {
      "text/plain": [
       "str"
      ]
     },
     "execution_count": 6,
     "metadata": {},
     "output_type": "execute_result"
    }
   ],
   "source": [
    "type('4')"
   ]
  },
  {
   "cell_type": "code",
   "execution_count": 18,
   "id": "5eb40f5c",
   "metadata": {},
   "outputs": [
    {
     "data": {
      "text/plain": [
       "'hello, world'"
      ]
     },
     "execution_count": 18,
     "metadata": {},
     "output_type": "execute_result"
    }
   ],
   "source": [
    "'hello,' + ' ' + 'world'"
   ]
  },
  {
   "cell_type": "code",
   "execution_count": 17,
   "id": "81a832e9",
   "metadata": {},
   "outputs": [
    {
     "data": {
      "text/plain": [
       "'hello, my friend'"
      ]
     },
     "execution_count": 17,
     "metadata": {},
     "output_type": "execute_result"
    }
   ],
   "source": [
    "recipient = 'my friend'\n",
    "'hello, {}'.format(recipient)"
   ]
  },
  {
   "cell_type": "code",
   "execution_count": 16,
   "id": "84cd4905",
   "metadata": {},
   "outputs": [
    {
     "data": {
      "text/plain": [
       "'This costs $4 to buy eggs'"
      ]
     },
     "execution_count": 16,
     "metadata": {},
     "output_type": "execute_result"
    }
   ],
   "source": [
    "cost = 1 + 3\n",
    "'This costs ${} to buy {}'.format(cost, 'eggs')"
   ]
  },
  {
   "cell_type": "code",
   "execution_count": null,
   "id": "165222db",
   "metadata": {},
   "outputs": [],
   "source": []
  }
 ],
 "metadata": {
  "kernelspec": {
   "display_name": "Python 3 (ipykernel)",
   "language": "python",
   "name": "python3"
  },
  "language_info": {
   "codemirror_mode": {
    "name": "ipython",
    "version": 3
   },
   "file_extension": ".py",
   "mimetype": "text/x-python",
   "name": "python",
   "nbconvert_exporter": "python",
   "pygments_lexer": "ipython3",
   "version": "3.7.16"
  }
 },
 "nbformat": 4,
 "nbformat_minor": 5
}
