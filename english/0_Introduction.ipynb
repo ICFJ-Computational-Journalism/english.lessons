{
 "cells": [
  {
   "cell_type": "markdown",
   "id": "10e1cb6d",
   "metadata": {},
   "source": [
    "# Introduction\n",
    "\n",
    "Welcome to these introductory lessons on computational reporting! This course is directed at Iranian journalists and advocates who are interested in using data and programmatic methods to improve their reporting. No prior coding experience is necessary, but some familiarity with basic statistics will be helpful.\n",
    "\n",
    "The majority of these lessons will be written in the programming language Python. Python is a general-purpose programming language that can be used for various things ranging from mobile apps to machine learning. Python is also one of the [most popular](https://survey.stackoverflow.co/2022/#technology-most-popular-technologies) programming languages currently. Here we will primarily go over how to use Python for data analysis, data visualization, scraping, and natural language processing (where we analyze data made of natural languages like Persian or English).\n",
    "\n",
    "In this introduction, we will:\n",
    "- get an overview of lessons and how to use this course,\n",
    "- go over how to download this code and run it locally, and\n",
    "- learn some basics of Python and Jupyter notebooks."
   ]
  },
  {
   "cell_type": "markdown",
   "id": "d69b45e7",
   "metadata": {},
   "source": [
    "### How to use this course\n",
    "This course is broken up into modules. It is recommended that you complete a given module in order, and do the prerequisites first. Otherwise, you are welcome to take the modules in whatever order you prefer.\n",
    "\n",
    "For example, you need take the **Data analysis** module first. But then after that, you might take the **NLP** module before taking the **Data visualization** module."
   ]
  },
  {
   "cell_type": "markdown",
   "id": "fd9dd701",
   "metadata": {},
   "source": [
    "### Lesson overview\n",
    "\n",
    "**1. Data analysis**    \n",
    "&nbsp;&nbsp;1. Introduction to pandas    \n",
    "&nbsp;&nbsp;2. Basics of statistics    \n",
    "&nbsp;&nbsp;3. Working with time data    \n",
    "&nbsp;&nbsp;4. Combining data from multiple tables    \n",
    "&nbsp;&nbsp;5. Introduction to data cleaning    \n",
    "<br>\n",
    "\n",
    "**2. Data visualization**    \n",
    "_(prerequisite: 1. Data analysis)_    \n",
    "&nbsp;&nbsp;1. Introduction to basic charts    \n",
    "&nbsp;&nbsp;2. Adding text and annotations to our charts    \n",
    "&nbsp;&nbsp;3. Introduction to basic mapping    \n",
    "&nbsp;&nbsp;4. Introduction to map projections    \n",
    "&nbsp;&nbsp;5. Combining different types of geographic data for insight    \n",
    "<br>\n",
    "\n",
    "**3. APIs**    \n",
    "_(prerequisite: 1. Data analysis)_    \n",
    "&nbsp;&nbsp;1. What is an API, and why would we use one?    \n",
    "&nbsp;&nbsp;2. Building a Telegram bot    \n",
    "&nbsp;&nbsp;3. Telegram bot examples    \n",
    "&nbsp;&nbsp;4. GitHub Actions    \n",
    "<br>\n",
    "\n",
    "**4. Scraping without an API**    \n",
    "_(prerequisite: 1. Data analysis, 3. APIs )_    \n",
    "&nbsp;&nbsp;1. Scraping static sites    \n",
    "&nbsp;&nbsp;2. Sraping dynamic sites    \n",
    "&nbsp;&nbsp;3. Getting data from PDFs: Tabula and OCR    \n",
    "<br>\n",
    "\n",
    "**5. Natural Language Processing (NLP)**   \n",
    "_(prerequisite: 1. Data analysis)_     \n",
    "&nbsp;&nbsp;1. Introduction to NLP    \n",
    "&nbsp;&nbsp;2. Words as data    "
   ]
  },
  {
   "cell_type": "markdown",
   "id": "e73f2344",
   "metadata": {},
   "source": [
    "## Technical introduction\n",
    "### Getting this code\n",
    "All the code for this project is stored (or \"hosted\") on GitHub, which is a website that hosts a lot of code. It is used a lot for open-source projects as well as just projects that might require collaboration from multiple coders. For now, we are primarily using it as a place to find our code. (Note: If you are interested in learning about version control with git, you can try out [this tutorial in English](https://git-scm.com/docs/gittutorial/en) or [this one in Persian](http://git.codecast.ir/en/latest/index.html), but for the most part, it is not needed for our lessons here.)\n",
    "\n",
    "Each project is called a \"repository.\" You can find the repository for this project here: \n",
    "https://github.com/ICFJ-Computational-Journaism/computational-journalism-lessons\n",
    "\n",
    "To download the code, you can press the green \"Code\" button. You can download as a ZIP file, and open it up once downloaded:\n",
    "\n",
    "<img width='400' src='../img/download.png' alt='Screenshot from GitHub. We want to press the green \"Code\" button and download the ZIP file' />\n",
    "\n",
    "Once you have installed this folder, you can uncompress this, and it will create a series of folders."
   ]
  },
  {
   "cell_type": "markdown",
   "id": "6ac166b3",
   "metadata": {},
   "source": [
    "### Install and setup with Python\n",
    "#### Downloading Python\n",
    "You can download Python [here](https://www.python.org/downloads/). Note that it depends on your computer's operating system.\n",
    "\n",
    "For this lesson, we will want to download some **Python version 3.10**. In this screencap, we would want to download version `3.10.12`:\n",
    "![Screenshot showing different versions of Python we can install. We want version 3.10.12](../img/python-version.png)\n",
    "\n",
    "After you have downloaded it, make sure to follow the steps to install Python."
   ]
  },
  {
   "cell_type": "markdown",
   "id": "5b619f3e",
   "metadata": {},
   "source": [
    "### Opening the terminal\n",
    "To run our code, we will need to user our terminal.\n",
    "\n",
    "- In Windows, we would open either the \"Command Prompt\" or \"Powershell\" app. For more information, you can check [this guide](https://www.makeuseof.com/tag/a-beginners-guide-to-the-windows-command-line/)\n",
    "- In macOS, this would be the \"terminal\" app.\n",
    "\n",
    "Inside the terminal, we can use \"shell commands\" to navigate our file system and run code from inside our terminal. Shell scripting is a very powerful tool, but we only require a few operations here.\n",
    "\n",
    "### Navigate to our directory in the terminal\n",
    "#### `pwd`\n",
    "By default, when you open the terminal, it opens up in your \"root directory.\" If you want to check what directory you are in, you can use the `pwd` command. This stands for \"present working directory.\" A \"directory\" is just another word for a file folder.\n",
    "\n",
    "#### `ls`\n",
    "If you want to see what files and subfolders are in our directory, we can use the `ls` command. This is short for \"list,\" as in we want to \"list\" out what is inside a directory.\n",
    "\n",
    "#### `cd`\n",
    "Next we will need to navigate to the directory that contains our code. By default, our files are downloaded in the `Downloads/` folder. We can use the `cd` command to \"change directory\":\n",
    "\n",
    "```sh\n",
    "cd Downloads/computational-journalism-lessons\n",
    "```\n",
    "\n",
    "You can also do this iteratively and combine with `ls` to check to make sure you are going to the right place:\n",
    "\n",
    "```sh\n",
    "ls\n",
    "cd Downloads\n",
    "ls # check that there is a `computational-journalism-lessons` folder\n",
    "cd computational-journalism-lessons\n",
    "```\n",
    "\n",
    "And check that we are in the right directory (inside the `computational-journalism-lessons` folder):\n",
    "```sh\n",
    "pwd\n",
    "```"
   ]
  },
  {
   "cell_type": "markdown",
   "id": "af2f3cc9",
   "metadata": {},
   "source": [
    "### Get Python requirements\n",
    "\n",
    "#### Check for Python\n",
    "Now that we are in the right directory, let's make sure that we have Python properly installed. You can do this command:\n",
    "\n",
    "```sh\n",
    "python -V\n",
    "```\n",
    "\n",
    "And it should print out the version of Python we have installed (for example, `3.10.12`). If that doesn't work, try:\n",
    "\n",
    "```sh\n",
    "python3 -V\n",
    "```\n",
    "\n",
    "If neither of those work, please check again to see if you have properly downloaded and installed Python.\n",
    "\n",
    "#### Install `pipenv`\n",
    "Next we will install `pipenv`, which is a tool we use to manage our Python packages. Packages are basically bundles of code that other people have prepared to solve common problems. You will either do:\n",
    "```sh\n",
    "pip install pipenv --user\n",
    "```\n",
    "or\n",
    "```sh\n",
    "pip3 install pipenv --user\n",
    "```\n",
    "\n",
    "#### Installing Python packages\n",
    "Once `pipenv` is installed, then we can use it to install our packages. (Our packages are listed inside the Pipfile in our repository.) We run this command:\n",
    "```sh\n",
    "pipenv install\n",
    "```\n",
    "\n",
    "Note that this will download a lot of files from the Internet, so this may take some time, especially if you have a slower Internet connection. You might want to plug in your laptop, and have a coffee while you wait!\n",
    "\n",
    "#### Running the notebook\n",
    "Once all of our packages are installed, you will be able to run our lessons using the following command:\n",
    "```sh\n",
    "pipenv run jupyter notebook\n",
    "```\n",
    "Each lesson is in its own Jupyter notebook, such as the one you are looking at now. Once you have this command running, you should be able to open a notebook in the browser. The terminal will tell you where to find it running, but usually it opens at http://localhost:8888.\n",
    "\n",
    "From there, you can navigate to the proper notebook (which will be a file that ends with `.ipynb`). And click it to open the notebook. In the following section, we will go over how to run Python code inside our notebook.\n",
    "\n",
    "Once you are done, you can shut down the notebook in your terminal by using `Ctrl+C` on your keyboard."
   ]
  },
  {
   "cell_type": "markdown",
   "id": "81c01a87",
   "metadata": {},
   "source": [
    "## Python and Jupyter notebook basics\n",
    "If you have opened this notebook in your own http://localhost:8888/, you'll be able to run the cells in this Jupyter notebook.\n",
    "\n",
    "Notice that each of these gray blocks is a \"cell\" of Python code. You can press the \"▶ Run\" button at the top of the notebook or use the hotkey `Shift+Enter` to run the cell. This will output the \"result\" of the code below the cell:"
   ]
  },
  {
   "cell_type": "code",
   "execution_count": 9,
   "id": "4bd9348e",
   "metadata": {},
   "outputs": [
    {
     "data": {
      "text/plain": [
       "4"
      ]
     },
     "execution_count": 9,
     "metadata": {},
     "output_type": "execute_result"
    }
   ],
   "source": [
    "1 + 3"
   ]
  },
  {
   "cell_type": "markdown",
   "id": "90e0da9a",
   "metadata": {},
   "source": [
    "Feel free to try to edit the above or any following cells and running `Shift+Enter` to see what output you get!"
   ]
  },
  {
   "cell_type": "markdown",
   "id": "9c4243d5",
   "metadata": {},
   "source": [
    "#### Comments\n",
    "Anything that starts with a `#` in Python is a comment, so it won't change our code. This is useful for annotating what our code means:"
   ]
  },
  {
   "cell_type": "code",
   "execution_count": 2,
   "id": "4b06d433",
   "metadata": {},
   "outputs": [
    {
     "data": {
      "text/plain": [
       "4"
      ]
     },
     "execution_count": 2,
     "metadata": {},
     "output_type": "execute_result"
    }
   ],
   "source": [
    "# This code performs simple arithmetic\n",
    "\n",
    "1 + 3  # We can also add comments on the same line as code"
   ]
  },
  {
   "cell_type": "markdown",
   "id": "c160765b",
   "metadata": {},
   "source": [
    "#### Variables\n",
    "We can also have _variables_ which let us store values and perform calcuations over multiple lines of code:"
   ]
  },
  {
   "cell_type": "code",
   "execution_count": 4,
   "id": "69bd3c1a",
   "metadata": {},
   "outputs": [],
   "source": [
    "myVariable = 14\n",
    "print(myVariable)"
   ]
  },
  {
   "cell_type": "code",
   "execution_count": 5,
   "id": "33afe1d4",
   "metadata": {},
   "outputs": [],
   "source": [
    "myVariable / 2"
   ]
  },
  {
   "cell_type": "markdown",
   "id": "23f2ed3f",
   "metadata": {},
   "source": [
    "#### More complicated operators\n",
    "In addition to basic arithmetic operations, there are also some more complicated operators built into Python. For example, the modulo (%) will return the \"remainder\" after the first number is divided by the second. In this case, 14 divided by 3 is 4 with a remainder of 2, so the modulo is 2:"
   ]
  },
  {
   "cell_type": "code",
   "execution_count": 6,
   "id": "abfb6283",
   "metadata": {},
   "outputs": [],
   "source": [
    "myVariable % 3"
   ]
  },
  {
   "cell_type": "markdown",
   "id": "88a6337f",
   "metadata": {},
   "source": [
    "#### Object types\n",
    "_Numeric types_\n",
    "\n",
    "Python also has a notion of object types. For example, `4` is an `int` or an integer:"
   ]
  },
  {
   "cell_type": "code",
   "execution_count": 4,
   "id": "37a7cfd7",
   "metadata": {},
   "outputs": [
    {
     "data": {
      "text/plain": [
       "int"
      ]
     },
     "execution_count": 4,
     "metadata": {},
     "output_type": "execute_result"
    }
   ],
   "source": [
    "type(4)"
   ]
  },
  {
   "cell_type": "markdown",
   "id": "4bae8b25",
   "metadata": {},
   "source": [
    "Whereas a number that has anything after the decimal places is a `float` or a \"floating point numnber\":"
   ]
  },
  {
   "cell_type": "code",
   "execution_count": 10,
   "id": "4176a094",
   "metadata": {},
   "outputs": [
    {
     "data": {
      "text/plain": [
       "float"
      ]
     },
     "execution_count": 10,
     "metadata": {},
     "output_type": "execute_result"
    }
   ],
   "source": [
    "type(4.5)"
   ]
  },
  {
   "cell_type": "markdown",
   "id": "1765c0ac",
   "metadata": {},
   "source": [
    "_Boolean_\n",
    "\n",
    "We also have the Boolean data type, which can only have the value `True` or `False`:"
   ]
  },
  {
   "cell_type": "code",
   "execution_count": 17,
   "id": "ebecc866",
   "metadata": {},
   "outputs": [
    {
     "data": {
      "text/plain": [
       "False"
      ]
     },
     "execution_count": 17,
     "metadata": {},
     "output_type": "execute_result"
    }
   ],
   "source": [
    "3 > 5"
   ]
  },
  {
   "cell_type": "markdown",
   "id": "2acd7920",
   "metadata": {},
   "source": [
    "_Strings_\n",
    "\n",
    "We also have strings, which are wrapped in quotation marks. These can be single quotes (') or double quotes (\")"
   ]
  },
  {
   "cell_type": "code",
   "execution_count": 5,
   "id": "0becb1f7",
   "metadata": {},
   "outputs": [
    {
     "data": {
      "text/plain": [
       "str"
      ]
     },
     "execution_count": 5,
     "metadata": {},
     "output_type": "execute_result"
    }
   ],
   "source": [
    "type('hello')"
   ]
  },
  {
   "cell_type": "code",
   "execution_count": 11,
   "id": "bffbfbc6",
   "metadata": {},
   "outputs": [
    {
     "data": {
      "text/plain": [
       "str"
      ]
     },
     "execution_count": 11,
     "metadata": {},
     "output_type": "execute_result"
    }
   ],
   "source": [
    "type(\"4\")"
   ]
  },
  {
   "cell_type": "markdown",
   "id": "b9016488",
   "metadata": {},
   "source": [
    "#### String formatting\n",
    "Just like we can add up numbers, we can also add together or \"concatenate\" strings with a plus sign:"
   ]
  },
  {
   "cell_type": "code",
   "execution_count": 18,
   "id": "5eb40f5c",
   "metadata": {},
   "outputs": [
    {
     "data": {
      "text/plain": [
       "'hello, world'"
      ]
     },
     "execution_count": 18,
     "metadata": {},
     "output_type": "execute_result"
    }
   ],
   "source": [
    "'hello,' + ' ' + 'world'"
   ]
  },
  {
   "cell_type": "markdown",
   "id": "781705d2",
   "metadata": {},
   "source": [
    "And we can also format strings with variables like this:"
   ]
  },
  {
   "cell_type": "code",
   "execution_count": 17,
   "id": "81a832e9",
   "metadata": {},
   "outputs": [
    {
     "data": {
      "text/plain": [
       "'hello, my friend'"
      ]
     },
     "execution_count": 17,
     "metadata": {},
     "output_type": "execute_result"
    }
   ],
   "source": [
    "recipient = 'my friend'\n",
    "'hello, {}'.format(recipient)"
   ]
  },
  {
   "cell_type": "code",
   "execution_count": 1,
   "id": "84cd4905",
   "metadata": {},
   "outputs": [
    {
     "data": {
      "text/plain": [
       "'This costs $4 to buy eggs'"
      ]
     },
     "execution_count": 1,
     "metadata": {},
     "output_type": "execute_result"
    }
   ],
   "source": [
    "cost = 1 + 3\n",
    "template = 'This costs ${} to buy {}'\n",
    "template.format(cost, 'eggs')"
   ]
  },
  {
   "cell_type": "markdown",
   "id": "68581f3d",
   "metadata": {},
   "source": [
    "### Conclusion\n",
    "Hopefully this has given you a good taste of what we will be getting into. You've already done a lot to get set up, and from now on, things will be more fun and educational! In the following modules, we will go more in-depth on more complex topics such as data visualization, scraping websites, and natural language processing."
   ]
  }
 ],
 "metadata": {
  "kernelspec": {
   "display_name": "Python 3 (ipykernel)",
   "language": "python",
   "name": "python3"
  },
  "language_info": {
   "codemirror_mode": {
    "name": "ipython",
    "version": 3
   },
   "file_extension": ".py",
   "mimetype": "text/x-python",
   "name": "python",
   "nbconvert_exporter": "python",
   "pygments_lexer": "ipython3",
   "version": "3.10.9"
  }
 },
 "nbformat": 4,
 "nbformat_minor": 5
}
