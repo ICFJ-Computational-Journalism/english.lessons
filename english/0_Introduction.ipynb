{
 "cells": [
  {
   "cell_type": "markdown",
   "id": "10e1cb6d",
   "metadata": {},
   "source": [
    "# 0. Introduction\n",
    "\n",
    "## About this course\n",
    "\n",
    "Talk about how this course is intended to teach journalists how to code with Python. Talk about what Python is, etc. etc. TKTK.\n",
    "\n",
    "This course was funded by through a grant from ICJF."
   ]
  },
  {
   "cell_type": "markdown",
   "id": "d69b45e7",
   "metadata": {},
   "source": [
    "## How to use this course\n",
    "\n",
    "How to navigate modules - order.\n",
    "\n",
    "How to donwload Python etc"
   ]
  },
  {
   "cell_type": "markdown",
   "id": "81c01a87",
   "metadata": {},
   "source": [
    "## Python basics"
   ]
  },
  {
   "cell_type": "code",
   "execution_count": 1,
   "id": "4bd9348e",
   "metadata": {},
   "outputs": [
    {
     "data": {
      "text/plain": [
       "4"
      ]
     },
     "execution_count": 1,
     "metadata": {},
     "output_type": "execute_result"
    }
   ],
   "source": [
    "1 + 3"
   ]
  },
  {
   "cell_type": "code",
   "execution_count": null,
   "id": "4b06d433",
   "metadata": {},
   "outputs": [],
   "source": []
  }
 ],
 "metadata": {
  "kernelspec": {
   "display_name": "Python 3 (ipykernel)",
   "language": "python",
   "name": "python3"
  },
  "language_info": {
   "codemirror_mode": {
    "name": "ipython",
    "version": 3
   },
   "file_extension": ".py",
   "mimetype": "text/x-python",
   "name": "python",
   "nbconvert_exporter": "python",
   "pygments_lexer": "ipython3",
   "version": "3.10.9"
  }
 },
 "nbformat": 4,
 "nbformat_minor": 5
}
