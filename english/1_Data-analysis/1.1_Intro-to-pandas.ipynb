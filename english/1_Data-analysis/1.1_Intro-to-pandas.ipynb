{
 "cells": [
  {
   "cell_type": "markdown",
   "id": "52de6ee6",
   "metadata": {},
   "source": [
    "# 1.1 Introduction to `pandas`"
   ]
  },
  {
   "cell_type": "markdown",
   "id": "ae54d9e4",
   "metadata": {},
   "source": [
    "## What is a `pandas`?\n",
    "\n",
    "With Python, we can uses \"packages,\" which are toolkits of code that people release to accomplish certain tasks. For example, here we will use `pandas`, which is a package designed specifically for data analysis and manipulation.\n",
    "\n",
    "In order to use `pandas` in our code, we need to use the `import` keyword:"
   ]
  },
  {
   "cell_type": "code",
   "execution_count": 1,
   "id": "6a54ca96",
   "metadata": {},
   "outputs": [],
   "source": [
    "import pandas as pd"
   ]
  },
  {
   "cell_type": "markdown",
   "id": "0debafaa",
   "metadata": {},
   "source": [
    "## Using DataFrames in `pandas`\n",
    "In order to analyze and manipulate data with `pandas`, we use tabular data in a format called a DataFrame. This is similar to how data is formatted in a spreadsheet software like Microsoft Excel or Google Sheets.\n",
    "\n",
    "For example, we can create a DataFrame to store information about animal species and the number of legs they have. Here we call this DataFrame `df`, which is a common shorthand:"
   ]
  },
  {
   "cell_type": "code",
   "execution_count": 2,
   "id": "c6da075e",
   "metadata": {},
   "outputs": [],
   "source": [
    "df = pd.DataFrame([\n",
    "    [\"cat\", \"mammal\", 4],\n",
    "    [\"dog\", \"mammal\", 4],\n",
    "    [\"ant\", \"bug\", 6],\n",
    "    [\"spider\", \"bug\", 8],\n",
    "    [\"lizard\", \"reptile\", 4],\n",
    "    [\"snake\", \"reptile\", 0],\n",
    "    [\"pig\", \"mammal\", 4],\n",
    "],\n",
    "columns = [\"species\", \"class\", \"number_legs\"])"
   ]
  },
  {
   "cell_type": "code",
   "execution_count": 3,
   "id": "15dc9cbf",
   "metadata": {},
   "outputs": [
    {
     "data": {
      "text/html": [
       "<div>\n",
       "<style scoped>\n",
       "    .dataframe tbody tr th:only-of-type {\n",
       "        vertical-align: middle;\n",
       "    }\n",
       "\n",
       "    .dataframe tbody tr th {\n",
       "        vertical-align: top;\n",
       "    }\n",
       "\n",
       "    .dataframe thead th {\n",
       "        text-align: right;\n",
       "    }\n",
       "</style>\n",
       "<table border=\"1\" class=\"dataframe\">\n",
       "  <thead>\n",
       "    <tr style=\"text-align: right;\">\n",
       "      <th></th>\n",
       "      <th>species</th>\n",
       "      <th>class</th>\n",
       "      <th>number_legs</th>\n",
       "    </tr>\n",
       "  </thead>\n",
       "  <tbody>\n",
       "    <tr>\n",
       "      <th>0</th>\n",
       "      <td>cat</td>\n",
       "      <td>mammal</td>\n",
       "      <td>4</td>\n",
       "    </tr>\n",
       "    <tr>\n",
       "      <th>1</th>\n",
       "      <td>dog</td>\n",
       "      <td>mammal</td>\n",
       "      <td>4</td>\n",
       "    </tr>\n",
       "    <tr>\n",
       "      <th>2</th>\n",
       "      <td>ant</td>\n",
       "      <td>bug</td>\n",
       "      <td>6</td>\n",
       "    </tr>\n",
       "    <tr>\n",
       "      <th>3</th>\n",
       "      <td>spider</td>\n",
       "      <td>bug</td>\n",
       "      <td>8</td>\n",
       "    </tr>\n",
       "    <tr>\n",
       "      <th>4</th>\n",
       "      <td>lizard</td>\n",
       "      <td>reptile</td>\n",
       "      <td>4</td>\n",
       "    </tr>\n",
       "    <tr>\n",
       "      <th>5</th>\n",
       "      <td>snake</td>\n",
       "      <td>reptile</td>\n",
       "      <td>0</td>\n",
       "    </tr>\n",
       "    <tr>\n",
       "      <th>6</th>\n",
       "      <td>pig</td>\n",
       "      <td>mammal</td>\n",
       "      <td>4</td>\n",
       "    </tr>\n",
       "  </tbody>\n",
       "</table>\n",
       "</div>"
      ],
      "text/plain": [
       "  species    class  number_legs\n",
       "0     cat   mammal            4\n",
       "1     dog   mammal            4\n",
       "2     ant      bug            6\n",
       "3  spider      bug            8\n",
       "4  lizard  reptile            4\n",
       "5   snake  reptile            0\n",
       "6     pig   mammal            4"
      ]
     },
     "execution_count": 3,
     "metadata": {},
     "output_type": "execute_result"
    }
   ],
   "source": [
    "df"
   ]
  },
  {
   "cell_type": "markdown",
   "id": "a03ecbad",
   "metadata": {},
   "source": [
    "From here, we can do various operations, such as sorting the rows by a specific column:"
   ]
  },
  {
   "cell_type": "code",
   "execution_count": 4,
   "id": "2f21f0ff",
   "metadata": {},
   "outputs": [
    {
     "data": {
      "text/html": [
       "<div>\n",
       "<style scoped>\n",
       "    .dataframe tbody tr th:only-of-type {\n",
       "        vertical-align: middle;\n",
       "    }\n",
       "\n",
       "    .dataframe tbody tr th {\n",
       "        vertical-align: top;\n",
       "    }\n",
       "\n",
       "    .dataframe thead th {\n",
       "        text-align: right;\n",
       "    }\n",
       "</style>\n",
       "<table border=\"1\" class=\"dataframe\">\n",
       "  <thead>\n",
       "    <tr style=\"text-align: right;\">\n",
       "      <th></th>\n",
       "      <th>species</th>\n",
       "      <th>class</th>\n",
       "      <th>number_legs</th>\n",
       "    </tr>\n",
       "  </thead>\n",
       "  <tbody>\n",
       "    <tr>\n",
       "      <th>5</th>\n",
       "      <td>snake</td>\n",
       "      <td>reptile</td>\n",
       "      <td>0</td>\n",
       "    </tr>\n",
       "    <tr>\n",
       "      <th>0</th>\n",
       "      <td>cat</td>\n",
       "      <td>mammal</td>\n",
       "      <td>4</td>\n",
       "    </tr>\n",
       "    <tr>\n",
       "      <th>1</th>\n",
       "      <td>dog</td>\n",
       "      <td>mammal</td>\n",
       "      <td>4</td>\n",
       "    </tr>\n",
       "    <tr>\n",
       "      <th>4</th>\n",
       "      <td>lizard</td>\n",
       "      <td>reptile</td>\n",
       "      <td>4</td>\n",
       "    </tr>\n",
       "    <tr>\n",
       "      <th>6</th>\n",
       "      <td>pig</td>\n",
       "      <td>mammal</td>\n",
       "      <td>4</td>\n",
       "    </tr>\n",
       "    <tr>\n",
       "      <th>2</th>\n",
       "      <td>ant</td>\n",
       "      <td>bug</td>\n",
       "      <td>6</td>\n",
       "    </tr>\n",
       "    <tr>\n",
       "      <th>3</th>\n",
       "      <td>spider</td>\n",
       "      <td>bug</td>\n",
       "      <td>8</td>\n",
       "    </tr>\n",
       "  </tbody>\n",
       "</table>\n",
       "</div>"
      ],
      "text/plain": [
       "  species    class  number_legs\n",
       "5   snake  reptile            0\n",
       "0     cat   mammal            4\n",
       "1     dog   mammal            4\n",
       "4  lizard  reptile            4\n",
       "6     pig   mammal            4\n",
       "2     ant      bug            6\n",
       "3  spider      bug            8"
      ]
     },
     "execution_count": 4,
     "metadata": {},
     "output_type": "execute_result"
    }
   ],
   "source": [
    "df.sort_values(by=\"number_legs\")"
   ]
  },
  {
   "cell_type": "markdown",
   "id": "92e8627d",
   "metadata": {},
   "source": [
    "Or counting how many rows we have of a given `class` value:"
   ]
  },
  {
   "cell_type": "code",
   "execution_count": 5,
   "id": "31717369",
   "metadata": {},
   "outputs": [
    {
     "data": {
      "text/plain": [
       "class\n",
       "mammal     3\n",
       "bug        2\n",
       "reptile    2\n",
       "dtype: int64"
      ]
     },
     "execution_count": 5,
     "metadata": {},
     "output_type": "execute_result"
    }
   ],
   "source": [
    "df.value_counts(\"class\")"
   ]
  },
  {
   "cell_type": "markdown",
   "id": "aec402ce",
   "metadata": {},
   "source": [
    "Or a given `number_legs` value:"
   ]
  },
  {
   "cell_type": "code",
   "execution_count": 6,
   "id": "7d2aa905",
   "metadata": {},
   "outputs": [
    {
     "data": {
      "text/plain": [
       "number_legs\n",
       "4    4\n",
       "0    1\n",
       "6    1\n",
       "8    1\n",
       "dtype: int64"
      ]
     },
     "execution_count": 6,
     "metadata": {},
     "output_type": "execute_result"
    }
   ],
   "source": [
    "df.value_counts('number_legs')"
   ]
  },
  {
   "cell_type": "markdown",
   "id": "55841de0",
   "metadata": {},
   "source": [
    "In these above two examples, we can see that \"mammal\" is the most common class in our DataFrame, and \"4\" is the most common number of legs.\n",
    "\n",
    "We can build on these basic operations as we work with even larger datasets."
   ]
  },
  {
   "cell_type": "markdown",
   "id": "7cf318fb",
   "metadata": {},
   "source": [
    "## Working with data files\n",
    "\n",
    "### Loading data from a file\n",
    "Oftentimes we will want to analyze data that is already stored in another file. We'll go over how to do this with an example.\n",
    "\n",
    "In this example, we can try to read a CSV file downloaded from [here](https://iranopendata.org/en/dataset/109-projects-extracted-official-website-khatam-alanbiya-2020). In particular, this dataset shows the 2020 contracts held by Khatam al-Anbiya Construction Headquarter. Because it is a CSV format, we can use the `read_csv()` function in pandas to convert this into a DataFrame. Again, we can call this DataFrame anything, but to make it easy for us to remember what it represents, I'll call it `contracts`.\n",
    "\n",
    "Note that we pass in the relative path to the file we want. Since we are in the `english/1_Data-analysis/` subfolder, we have to use `../../` to go outside of these 2 subfolders (one `../` for each subfolder) in order to access the `input/` folder, where our CSV is stored."
   ]
  },
  {
   "cell_type": "code",
   "execution_count": 7,
   "id": "8ebb0396",
   "metadata": {},
   "outputs": [],
   "source": [
    "contracts = pd.read_csv(\"../../input/kaches204-109-projects-extracted-official-website-khatam-alanbiya-2020-en.csv\")"
   ]
  },
  {
   "cell_type": "markdown",
   "id": "c2f7d529",
   "metadata": {},
   "source": [
    "Now we can check to make sure our DataFrame is loaded property. For longer DataFrames like this one, `pandas` will show the first and last 5 rows by default:"
   ]
  },
  {
   "cell_type": "code",
   "execution_count": 8,
   "id": "91258a14",
   "metadata": {},
   "outputs": [
    {
     "data": {
      "text/html": [
       "<div>\n",
       "<style scoped>\n",
       "    .dataframe tbody tr th:only-of-type {\n",
       "        vertical-align: middle;\n",
       "    }\n",
       "\n",
       "    .dataframe tbody tr th {\n",
       "        vertical-align: top;\n",
       "    }\n",
       "\n",
       "    .dataframe thead th {\n",
       "        text-align: right;\n",
       "    }\n",
       "</style>\n",
       "<table border=\"1\" class=\"dataframe\">\n",
       "  <thead>\n",
       "    <tr style=\"text-align: right;\">\n",
       "      <th></th>\n",
       "      <th>area</th>\n",
       "      <th>classification</th>\n",
       "      <th>project status</th>\n",
       "      <th>project name</th>\n",
       "      <th>description</th>\n",
       "    </tr>\n",
       "  </thead>\n",
       "  <tbody>\n",
       "    <tr>\n",
       "      <th>0</th>\n",
       "      <td>oil, gas, petrochemicals</td>\n",
       "      <td>field development</td>\n",
       "      <td>under construction</td>\n",
       "      <td>construction of a new gas injection station in...</td>\n",
       "      <td>NaN</td>\n",
       "    </tr>\n",
       "    <tr>\n",
       "      <th>1</th>\n",
       "      <td>oil, gas, petrochemicals</td>\n",
       "      <td>field development</td>\n",
       "      <td>finished</td>\n",
       "      <td>final design of 3d seismic data harvesting ope...</td>\n",
       "      <td>NaN</td>\n",
       "    </tr>\n",
       "    <tr>\n",
       "      <th>2</th>\n",
       "      <td>oil, gas, petrochemicals</td>\n",
       "      <td>field development</td>\n",
       "      <td>finished</td>\n",
       "      <td>seismic operations in azadegan north oil field</td>\n",
       "      <td>NaN</td>\n",
       "    </tr>\n",
       "    <tr>\n",
       "      <th>3</th>\n",
       "      <td>oil, gas, petrochemicals</td>\n",
       "      <td>field development</td>\n",
       "      <td>finished</td>\n",
       "      <td>timab-changoleh three-dimensional seismic oper...</td>\n",
       "      <td>-</td>\n",
       "    </tr>\n",
       "    <tr>\n",
       "      <th>4</th>\n",
       "      <td>oil, gas, petrochemicals</td>\n",
       "      <td>refinery industries</td>\n",
       "      <td>under construction</td>\n",
       "      <td>construction and civil operations of iran lng ...</td>\n",
       "      <td>-</td>\n",
       "    </tr>\n",
       "    <tr>\n",
       "      <th>...</th>\n",
       "      <td>...</td>\n",
       "      <td>...</td>\n",
       "      <td>...</td>\n",
       "      <td>...</td>\n",
       "      <td>...</td>\n",
       "    </tr>\n",
       "    <tr>\n",
       "      <th>105</th>\n",
       "      <td>civil engineering and industry</td>\n",
       "      <td>communication and information technology</td>\n",
       "      <td>in progress</td>\n",
       "      <td>telecommunications and the sixth gas transmiss...</td>\n",
       "      <td>-</td>\n",
       "    </tr>\n",
       "    <tr>\n",
       "      <th>106</th>\n",
       "      <td>civil engineering and industry</td>\n",
       "      <td>special structures</td>\n",
       "      <td>special structures</td>\n",
       "      <td>nature bridge</td>\n",
       "      <td>-</td>\n",
       "    </tr>\n",
       "    <tr>\n",
       "      <th>107</th>\n",
       "      <td>civil engineering and industry</td>\n",
       "      <td>special structures</td>\n",
       "      <td>special structures</td>\n",
       "      <td>class bridge and sadr tunnel</td>\n",
       "      <td>-</td>\n",
       "    </tr>\n",
       "    <tr>\n",
       "      <th>108</th>\n",
       "      <td>civil engineering and industry</td>\n",
       "      <td>special structures</td>\n",
       "      <td>special structures</td>\n",
       "      <td>persian gulf lake crown buildings</td>\n",
       "      <td>-</td>\n",
       "    </tr>\n",
       "    <tr>\n",
       "      <th>109</th>\n",
       "      <td>agriculture</td>\n",
       "      <td>agriculture</td>\n",
       "      <td>agriculture</td>\n",
       "      <td>pumping station: 25 chapters\\nwell drilling: 6...</td>\n",
       "      <td>-</td>\n",
       "    </tr>\n",
       "  </tbody>\n",
       "</table>\n",
       "<p>110 rows × 5 columns</p>\n",
       "</div>"
      ],
      "text/plain": [
       "                               area                            classification  \\\n",
       "0          oil, gas, petrochemicals                         field development   \n",
       "1          oil, gas, petrochemicals                         field development   \n",
       "2          oil, gas, petrochemicals                         field development   \n",
       "3          oil, gas, petrochemicals                         field development   \n",
       "4          oil, gas, petrochemicals                       refinery industries   \n",
       "..                              ...                                       ...   \n",
       "105  civil engineering and industry  communication and information technology   \n",
       "106  civil engineering and industry                        special structures   \n",
       "107  civil engineering and industry                        special structures   \n",
       "108  civil engineering and industry                        special structures   \n",
       "109                     agriculture                               agriculture   \n",
       "\n",
       "         project status                                       project name  \\\n",
       "0    under construction  construction of a new gas injection station in...   \n",
       "1              finished  final design of 3d seismic data harvesting ope...   \n",
       "2              finished     seismic operations in azadegan north oil field   \n",
       "3              finished  timab-changoleh three-dimensional seismic oper...   \n",
       "4    under construction  construction and civil operations of iran lng ...   \n",
       "..                  ...                                                ...   \n",
       "105         in progress  telecommunications and the sixth gas transmiss...   \n",
       "106  special structures                                      nature bridge   \n",
       "107  special structures                       class bridge and sadr tunnel   \n",
       "108  special structures                  persian gulf lake crown buildings   \n",
       "109         agriculture  pumping station: 25 chapters\\nwell drilling: 6...   \n",
       "\n",
       "    description  \n",
       "0           NaN  \n",
       "1           NaN  \n",
       "2           NaN  \n",
       "3             -  \n",
       "4             -  \n",
       "..          ...  \n",
       "105           -  \n",
       "106           -  \n",
       "107           -  \n",
       "108           -  \n",
       "109           -  \n",
       "\n",
       "[110 rows x 5 columns]"
      ]
     },
     "execution_count": 8,
     "metadata": {},
     "output_type": "execute_result"
    }
   ],
   "source": [
    "contracts"
   ]
  },
  {
   "cell_type": "markdown",
   "id": "eda75dd3",
   "metadata": {},
   "source": [
    "We can use the `head()` function, which by default shows us the first 5 rows of our DataFrame:"
   ]
  },
  {
   "cell_type": "code",
   "execution_count": 9,
   "id": "d5f549a7",
   "metadata": {},
   "outputs": [
    {
     "data": {
      "text/html": [
       "<div>\n",
       "<style scoped>\n",
       "    .dataframe tbody tr th:only-of-type {\n",
       "        vertical-align: middle;\n",
       "    }\n",
       "\n",
       "    .dataframe tbody tr th {\n",
       "        vertical-align: top;\n",
       "    }\n",
       "\n",
       "    .dataframe thead th {\n",
       "        text-align: right;\n",
       "    }\n",
       "</style>\n",
       "<table border=\"1\" class=\"dataframe\">\n",
       "  <thead>\n",
       "    <tr style=\"text-align: right;\">\n",
       "      <th></th>\n",
       "      <th>area</th>\n",
       "      <th>classification</th>\n",
       "      <th>project status</th>\n",
       "      <th>project name</th>\n",
       "      <th>description</th>\n",
       "    </tr>\n",
       "  </thead>\n",
       "  <tbody>\n",
       "    <tr>\n",
       "      <th>0</th>\n",
       "      <td>oil, gas, petrochemicals</td>\n",
       "      <td>field development</td>\n",
       "      <td>under construction</td>\n",
       "      <td>construction of a new gas injection station in...</td>\n",
       "      <td>NaN</td>\n",
       "    </tr>\n",
       "    <tr>\n",
       "      <th>1</th>\n",
       "      <td>oil, gas, petrochemicals</td>\n",
       "      <td>field development</td>\n",
       "      <td>finished</td>\n",
       "      <td>final design of 3d seismic data harvesting ope...</td>\n",
       "      <td>NaN</td>\n",
       "    </tr>\n",
       "    <tr>\n",
       "      <th>2</th>\n",
       "      <td>oil, gas, petrochemicals</td>\n",
       "      <td>field development</td>\n",
       "      <td>finished</td>\n",
       "      <td>seismic operations in azadegan north oil field</td>\n",
       "      <td>NaN</td>\n",
       "    </tr>\n",
       "    <tr>\n",
       "      <th>3</th>\n",
       "      <td>oil, gas, petrochemicals</td>\n",
       "      <td>field development</td>\n",
       "      <td>finished</td>\n",
       "      <td>timab-changoleh three-dimensional seismic oper...</td>\n",
       "      <td>-</td>\n",
       "    </tr>\n",
       "    <tr>\n",
       "      <th>4</th>\n",
       "      <td>oil, gas, petrochemicals</td>\n",
       "      <td>refinery industries</td>\n",
       "      <td>under construction</td>\n",
       "      <td>construction and civil operations of iran lng ...</td>\n",
       "      <td>-</td>\n",
       "    </tr>\n",
       "  </tbody>\n",
       "</table>\n",
       "</div>"
      ],
      "text/plain": [
       "                       area       classification      project status  \\\n",
       "0  oil, gas, petrochemicals    field development  under construction   \n",
       "1  oil, gas, petrochemicals    field development            finished   \n",
       "2  oil, gas, petrochemicals    field development            finished   \n",
       "3  oil, gas, petrochemicals    field development            finished   \n",
       "4  oil, gas, petrochemicals  refinery industries  under construction   \n",
       "\n",
       "                                        project name description  \n",
       "0  construction of a new gas injection station in...         NaN  \n",
       "1  final design of 3d seismic data harvesting ope...         NaN  \n",
       "2     seismic operations in azadegan north oil field         NaN  \n",
       "3  timab-changoleh three-dimensional seismic oper...           -  \n",
       "4  construction and civil operations of iran lng ...           -  "
      ]
     },
     "execution_count": 9,
     "metadata": {},
     "output_type": "execute_result"
    }
   ],
   "source": [
    "contracts.head()"
   ]
  },
  {
   "cell_type": "markdown",
   "id": "706482a9",
   "metadata": {},
   "source": [
    "We can also use the `shape` property of the DataFrame to see the dimensions of our data. In this case we have 110 rows and 5 columns:"
   ]
  },
  {
   "cell_type": "code",
   "execution_count": 10,
   "id": "3b15ecbe",
   "metadata": {},
   "outputs": [
    {
     "data": {
      "text/plain": [
       "(110, 5)"
      ]
     },
     "execution_count": 10,
     "metadata": {},
     "output_type": "execute_result"
    }
   ],
   "source": [
    "contracts.shape"
   ]
  },
  {
   "cell_type": "markdown",
   "id": "08eb29c0",
   "metadata": {},
   "source": [
    "### Saving data to a file\n",
    "After we do out data analysis and processing, we may want to store our processed data in another file to reference later. For example, if we wanted to save our earlier DataFrame `df` from before into a CSV, we could use `to_csv()`:"
   ]
  },
  {
   "cell_type": "code",
   "execution_count": 11,
   "id": "5d258d22",
   "metadata": {},
   "outputs": [],
   "source": [
    "df.to_csv(\"../../output/1.1_data-output-example.csv\")"
   ]
  },
  {
   "cell_type": "markdown",
   "id": "9596440d",
   "metadata": {},
   "source": [
    "Note that if this command didn't work for you, then you might need to make an `output` folder in the root directory of this project!"
   ]
  },
  {
   "cell_type": "markdown",
   "id": "25f8c74d",
   "metadata": {},
   "source": [
    "### Other file formats\n",
    "\n",
    "On other occasions, you may need to read/write data to other file formats like an Excel spreadsheet or a JSON file. You can always look up what functions are provided in `pandas` using the [API reference](https://pandas.pydata.org/pandas-docs/stable/reference/io.html). For example, [it would tell you](https://pandas.pydata.org/pandas-docs/stable/reference/io.html#excel) that you can read an Excel file to a DataFrame using `read_excel()`.\n",
    "\n",
    "And of course, you can always try using a search engine to help you if you have any problems too!"
   ]
  }
 ],
 "metadata": {
  "kernelspec": {
   "display_name": "Python 3 (ipykernel)",
   "language": "python",
   "name": "python3"
  },
  "language_info": {
   "codemirror_mode": {
    "name": "ipython",
    "version": 3
   },
   "file_extension": ".py",
   "mimetype": "text/x-python",
   "name": "python",
   "nbconvert_exporter": "python",
   "pygments_lexer": "ipython3",
   "version": "3.7.16"
  }
 },
 "nbformat": 4,
 "nbformat_minor": 5
}
