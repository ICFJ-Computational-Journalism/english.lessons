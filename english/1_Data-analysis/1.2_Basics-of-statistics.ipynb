{
 "cells": [
  {
   "cell_type": "markdown",
   "id": "650924b4",
   "metadata": {},
   "source": [
    "# 1.2 Basics of statistics"
   ]
  },
  {
   "cell_type": "code",
   "execution_count": 1,
   "id": "cc509995",
   "metadata": {},
   "outputs": [],
   "source": [
    "import pandas as pd"
   ]
  },
  {
   "cell_type": "markdown",
   "id": "aee9781d",
   "metadata": {},
   "source": [
    "Here we go over some basic statistics operations we can do with pandas DataFrames. To start, we'll load a DataFrame from a CSV file showing [the number of athletes broken down by gender for various organized sports in 1398](https://iranopendata.org/en/dataset/organized-athletes-categorized-by-sports-and-gender-1398/resource/a82ca9e9-d774-4558-950c-46b77ef9bd39)."
   ]
  },
  {
   "cell_type": "code",
   "execution_count": 2,
   "id": "0f40ab1f",
   "metadata": {},
   "outputs": [],
   "source": [
    "athletes = pd.read_csv('../../input/IOD-00932-organized-athletes-categorized-by-sports-and-sex-1398-en.csv')"
   ]
  },
  {
   "cell_type": "markdown",
   "id": "36735818",
   "metadata": {},
   "source": [
    "As before, we can use `head()` to preview the first 5 rows of our DataFrame and `shape` to see the dimensions. In this case, we have 52 rows and 5 columns."
   ]
  },
  {
   "cell_type": "code",
   "execution_count": 3,
   "id": "ccf9c796",
   "metadata": {},
   "outputs": [
    {
     "data": {
      "text/html": [
       "<div>\n",
       "<style scoped>\n",
       "    .dataframe tbody tr th:only-of-type {\n",
       "        vertical-align: middle;\n",
       "    }\n",
       "\n",
       "    .dataframe tbody tr th {\n",
       "        vertical-align: top;\n",
       "    }\n",
       "\n",
       "    .dataframe thead th {\n",
       "        text-align: right;\n",
       "    }\n",
       "</style>\n",
       "<table border=\"1\" class=\"dataframe\">\n",
       "  <thead>\n",
       "    <tr style=\"text-align: right;\">\n",
       "      <th></th>\n",
       "      <th>Sports</th>\n",
       "      <th>Total</th>\n",
       "      <th>Male</th>\n",
       "      <th>Female</th>\n",
       "    </tr>\n",
       "  </thead>\n",
       "  <tbody>\n",
       "    <tr>\n",
       "      <th>0</th>\n",
       "      <td>Total</td>\n",
       "      <td>3386522</td>\n",
       "      <td>1973949</td>\n",
       "      <td>1412573</td>\n",
       "    </tr>\n",
       "    <tr>\n",
       "      <th>1</th>\n",
       "      <td>Skate</td>\n",
       "      <td>25972</td>\n",
       "      <td>8731</td>\n",
       "      <td>17241</td>\n",
       "    </tr>\n",
       "    <tr>\n",
       "      <th>2</th>\n",
       "      <td>Squash</td>\n",
       "      <td>2363</td>\n",
       "      <td>875</td>\n",
       "      <td>1488</td>\n",
       "    </tr>\n",
       "    <tr>\n",
       "      <th>3</th>\n",
       "      <td>Ski</td>\n",
       "      <td>2315</td>\n",
       "      <td>1604</td>\n",
       "      <td>711</td>\n",
       "    </tr>\n",
       "    <tr>\n",
       "      <th>4</th>\n",
       "      <td>Sports Groups</td>\n",
       "      <td>21067</td>\n",
       "      <td>13803</td>\n",
       "      <td>7264</td>\n",
       "    </tr>\n",
       "  </tbody>\n",
       "</table>\n",
       "</div>"
      ],
      "text/plain": [
       "          Sports    Total     Male   Female\n",
       "0          Total  3386522  1973949  1412573\n",
       "1          Skate    25972     8731    17241\n",
       "2         Squash     2363      875     1488\n",
       "3            Ski     2315     1604      711\n",
       "4  Sports Groups    21067    13803     7264"
      ]
     },
     "execution_count": 3,
     "metadata": {},
     "output_type": "execute_result"
    }
   ],
   "source": [
    "athletes.head()"
   ]
  },
  {
   "cell_type": "code",
   "execution_count": 4,
   "id": "c2dbeda9",
   "metadata": {},
   "outputs": [
    {
     "data": {
      "text/plain": [
       "(52, 4)"
      ]
     },
     "execution_count": 4,
     "metadata": {},
     "output_type": "execute_result"
    }
   ],
   "source": [
    "athletes.shape"
   ]
  },
  {
   "cell_type": "markdown",
   "id": "5e45bcc2",
   "metadata": {},
   "source": [
    "If we want to get a better sense of any specific column, we can also use `unique()`. For example, we can see what values are in the `Sports` column:"
   ]
  },
  {
   "cell_type": "code",
   "execution_count": 5,
   "id": "a8645e40",
   "metadata": {},
   "outputs": [
    {
     "data": {
      "text/plain": [
       "array(['Total', 'Skate', 'Squash', 'Ski', 'Sports Groups', 'Badminton',\n",
       "       'Bodybuilding and Body Sculpting', 'Basketball',\n",
       "       'Bowling and Billiards', 'Boxing', 'Tennis', 'Table Tennis',\n",
       "       'Taekwondo', 'Shooting', 'Archery', 'Judo', 'Polo',\n",
       "       'Track and Field', 'Biking', 'Martial Arts', 'Gymnastics',\n",
       "       'Bureau of Prisons', 'Traditional Indigenous Games', 'Equestrian',\n",
       "       'Chess', 'Fencing', 'Swimming', 'Soccer', 'Rowing', 'Golf',\n",
       "       'Motorcycle Racing', 'Lifeguard', 'Hockey',\n",
       "       'Public Fitness Groups', 'Weightlifting', 'Wushu', 'Karate',\n",
       "       'Kabaddi', 'Wrestling', 'Kung Fu and Martial Arts',\n",
       "       'Mountaineering', 'Handball', 'Volleyball', 'Labor Unions Sports',\n",
       "       'Sports for the Deaf',\n",
       "       'Sports for the Special Patients & Organ Receivers',\n",
       "       'Traditional Sports & Heroic Wrestling',\n",
       "       'Sports for the Wounded in Action & the Disabled', 'K-12 Sports',\n",
       "       'College Sports', 'Triathlon',\n",
       "       'Sports for the Blind & Visually Impaired'], dtype=object)"
      ]
     },
     "execution_count": 5,
     "metadata": {},
     "output_type": "execute_result"
    }
   ],
   "source": [
    "athletes['Sports'].unique()"
   ]
  },
  {
   "cell_type": "markdown",
   "id": "297f558c",
   "metadata": {},
   "source": [
    "## Calculating new fields from old fields"
   ]
  },
  {
   "cell_type": "markdown",
   "id": "95dac1f8",
   "metadata": {},
   "source": [
    "Right now, our DataFrame has the gross number of male atheletes and female athletes. If we wanted the percentage of female athletes for each sport, we could simply create a new column that is based on values of other columns:"
   ]
  },
  {
   "cell_type": "code",
   "execution_count": 6,
   "id": "83d2db36",
   "metadata": {},
   "outputs": [],
   "source": [
    "athletes['Percent_Female'] = athletes['Female'] / athletes['Total'] * 100"
   ]
  },
  {
   "cell_type": "code",
   "execution_count": 7,
   "id": "78df48f0",
   "metadata": {},
   "outputs": [
    {
     "data": {
      "text/html": [
       "<div>\n",
       "<style scoped>\n",
       "    .dataframe tbody tr th:only-of-type {\n",
       "        vertical-align: middle;\n",
       "    }\n",
       "\n",
       "    .dataframe tbody tr th {\n",
       "        vertical-align: top;\n",
       "    }\n",
       "\n",
       "    .dataframe thead th {\n",
       "        text-align: right;\n",
       "    }\n",
       "</style>\n",
       "<table border=\"1\" class=\"dataframe\">\n",
       "  <thead>\n",
       "    <tr style=\"text-align: right;\">\n",
       "      <th></th>\n",
       "      <th>Sports</th>\n",
       "      <th>Total</th>\n",
       "      <th>Male</th>\n",
       "      <th>Female</th>\n",
       "      <th>Percent_Female</th>\n",
       "    </tr>\n",
       "  </thead>\n",
       "  <tbody>\n",
       "    <tr>\n",
       "      <th>0</th>\n",
       "      <td>Total</td>\n",
       "      <td>3386522</td>\n",
       "      <td>1973949</td>\n",
       "      <td>1412573</td>\n",
       "      <td>41.711614</td>\n",
       "    </tr>\n",
       "    <tr>\n",
       "      <th>1</th>\n",
       "      <td>Skate</td>\n",
       "      <td>25972</td>\n",
       "      <td>8731</td>\n",
       "      <td>17241</td>\n",
       "      <td>66.383028</td>\n",
       "    </tr>\n",
       "    <tr>\n",
       "      <th>2</th>\n",
       "      <td>Squash</td>\n",
       "      <td>2363</td>\n",
       "      <td>875</td>\n",
       "      <td>1488</td>\n",
       "      <td>62.970800</td>\n",
       "    </tr>\n",
       "    <tr>\n",
       "      <th>3</th>\n",
       "      <td>Ski</td>\n",
       "      <td>2315</td>\n",
       "      <td>1604</td>\n",
       "      <td>711</td>\n",
       "      <td>30.712743</td>\n",
       "    </tr>\n",
       "    <tr>\n",
       "      <th>4</th>\n",
       "      <td>Sports Groups</td>\n",
       "      <td>21067</td>\n",
       "      <td>13803</td>\n",
       "      <td>7264</td>\n",
       "      <td>34.480467</td>\n",
       "    </tr>\n",
       "  </tbody>\n",
       "</table>\n",
       "</div>"
      ],
      "text/plain": [
       "          Sports    Total     Male   Female  Percent_Female\n",
       "0          Total  3386522  1973949  1412573       41.711614\n",
       "1          Skate    25972     8731    17241       66.383028\n",
       "2         Squash     2363      875     1488       62.970800\n",
       "3            Ski     2315     1604      711       30.712743\n",
       "4  Sports Groups    21067    13803     7264       34.480467"
      ]
     },
     "execution_count": 7,
     "metadata": {},
     "output_type": "execute_result"
    }
   ],
   "source": [
    "athletes.head()"
   ]
  },
  {
   "cell_type": "markdown",
   "id": "03e4aee1",
   "metadata": {},
   "source": [
    "## Statistics about one field\n",
    "If we wanted to, we could isolate the variables of this new column:"
   ]
  },
  {
   "cell_type": "code",
   "execution_count": 10,
   "id": "52f3e0bc",
   "metadata": {
    "scrolled": true
   },
   "outputs": [
    {
     "data": {
      "text/plain": [
       "0     41.711614\n",
       "1     66.383028\n",
       "2     62.970800\n",
       "3     30.712743\n",
       "4     34.480467\n",
       "5     66.390934\n",
       "6     46.231983\n",
       "7     44.908654\n",
       "8     17.144720\n",
       "9      0.016035\n",
       "10    46.780917\n",
       "11    35.821523\n",
       "12    48.132674\n",
       "13    43.705197\n",
       "14    52.326821\n",
       "15    28.062049\n",
       "16    40.174672\n",
       "17    48.204183\n",
       "18    29.069920\n",
       "19    31.855006\n",
       "20    49.451705\n",
       "21    12.189156\n",
       "22    25.780660\n",
       "23    47.017707\n",
       "24    41.845269\n",
       "25    48.511905\n",
       "26    54.623440\n",
       "27     4.419968\n",
       "28    53.077699\n",
       "29    37.864823\n",
       "30    10.121457\n",
       "31    47.483709\n",
       "32    46.814603\n",
       "33    88.153490\n",
       "34    20.950485\n",
       "35    34.475257\n",
       "36    47.358407\n",
       "37    49.725554\n",
       "38     0.926246\n",
       "39    30.160776\n",
       "40    36.557205\n",
       "41    58.012079\n",
       "42    58.677138\n",
       "43    66.281513\n",
       "44    32.123288\n",
       "45    52.674157\n",
       "46     0.000000\n",
       "47    34.603520\n",
       "48    39.860394\n",
       "49    56.457486\n",
       "50    54.697674\n",
       "51    36.931818\n",
       "Name: Percent_Female, dtype: float64"
      ]
     },
     "execution_count": 10,
     "metadata": {},
     "output_type": "execute_result"
    }
   ],
   "source": [
    "athletes['Percent_Female']"
   ]
  },
  {
   "cell_type": "markdown",
   "id": "bc992b70",
   "metadata": {},
   "source": [
    "If we wanted things like the maximum, minimum, or median values, we can call these functions on that columns:"
   ]
  },
  {
   "cell_type": "code",
   "execution_count": 11,
   "id": "df45aa18",
   "metadata": {
    "scrolled": true
   },
   "outputs": [
    {
     "data": {
      "text/plain": [
       "88.15348956992017"
      ]
     },
     "execution_count": 11,
     "metadata": {},
     "output_type": "execute_result"
    }
   ],
   "source": [
    "athletes['Percent_Female'].max()"
   ]
  },
  {
   "cell_type": "code",
   "execution_count": 12,
   "id": "847b2229",
   "metadata": {},
   "outputs": [
    {
     "data": {
      "text/plain": [
       "0.0"
      ]
     },
     "execution_count": 12,
     "metadata": {},
     "output_type": "execute_result"
    }
   ],
   "source": [
    "athletes['Percent_Female'].min()"
   ]
  },
  {
   "cell_type": "code",
   "execution_count": 13,
   "id": "edfa5ff8",
   "metadata": {},
   "outputs": [
    {
     "data": {
      "text/plain": [
       "42.77523317164018"
      ]
     },
     "execution_count": 13,
     "metadata": {},
     "output_type": "execute_result"
    }
   ],
   "source": [
    "athletes['Percent_Female'].median()"
   ]
  },
  {
   "cell_type": "markdown",
   "id": "df962001",
   "metadata": {},
   "source": [
    "And if we wanted to sort our DataFrame by this column, we could see exactly which sport is the one with 0% female atheltes and which is the one with 88.15%:"
   ]
  },
  {
   "cell_type": "code",
   "execution_count": 13,
   "id": "faf41965",
   "metadata": {
    "scrolled": true
   },
   "outputs": [
    {
     "data": {
      "text/html": [
       "<div>\n",
       "<style scoped>\n",
       "    .dataframe tbody tr th:only-of-type {\n",
       "        vertical-align: middle;\n",
       "    }\n",
       "\n",
       "    .dataframe tbody tr th {\n",
       "        vertical-align: top;\n",
       "    }\n",
       "\n",
       "    .dataframe thead th {\n",
       "        text-align: right;\n",
       "    }\n",
       "</style>\n",
       "<table border=\"1\" class=\"dataframe\">\n",
       "  <thead>\n",
       "    <tr style=\"text-align: right;\">\n",
       "      <th></th>\n",
       "      <th>Sports</th>\n",
       "      <th>Total</th>\n",
       "      <th>Male</th>\n",
       "      <th>Female</th>\n",
       "      <th>Percent_Female</th>\n",
       "    </tr>\n",
       "  </thead>\n",
       "  <tbody>\n",
       "    <tr>\n",
       "      <th>46</th>\n",
       "      <td>Traditional Sports &amp; Heroic Wrestling</td>\n",
       "      <td>11415</td>\n",
       "      <td>11415</td>\n",
       "      <td>0</td>\n",
       "      <td>0.000000</td>\n",
       "    </tr>\n",
       "    <tr>\n",
       "      <th>9</th>\n",
       "      <td>Boxing</td>\n",
       "      <td>37418</td>\n",
       "      <td>37412</td>\n",
       "      <td>6</td>\n",
       "      <td>0.000160</td>\n",
       "    </tr>\n",
       "    <tr>\n",
       "      <th>38</th>\n",
       "      <td>Wrestling</td>\n",
       "      <td>98354</td>\n",
       "      <td>97443</td>\n",
       "      <td>911</td>\n",
       "      <td>0.009262</td>\n",
       "    </tr>\n",
       "    <tr>\n",
       "      <th>27</th>\n",
       "      <td>Soccer</td>\n",
       "      <td>604122</td>\n",
       "      <td>577420</td>\n",
       "      <td>26702</td>\n",
       "      <td>0.044200</td>\n",
       "    </tr>\n",
       "    <tr>\n",
       "      <th>30</th>\n",
       "      <td>Motorcycle Racing</td>\n",
       "      <td>5434</td>\n",
       "      <td>4884</td>\n",
       "      <td>550</td>\n",
       "      <td>0.101215</td>\n",
       "    </tr>\n",
       "    <tr>\n",
       "      <th>21</th>\n",
       "      <td>Bureau of Prisons</td>\n",
       "      <td>2453</td>\n",
       "      <td>2154</td>\n",
       "      <td>299</td>\n",
       "      <td>0.121892</td>\n",
       "    </tr>\n",
       "    <tr>\n",
       "      <th>8</th>\n",
       "      <td>Bowling and Billiards</td>\n",
       "      <td>1534</td>\n",
       "      <td>1271</td>\n",
       "      <td>263</td>\n",
       "      <td>0.171447</td>\n",
       "    </tr>\n",
       "    <tr>\n",
       "      <th>34</th>\n",
       "      <td>Weightlifting</td>\n",
       "      <td>4019</td>\n",
       "      <td>3177</td>\n",
       "      <td>842</td>\n",
       "      <td>0.209505</td>\n",
       "    </tr>\n",
       "    <tr>\n",
       "      <th>22</th>\n",
       "      <td>Traditional Indigenous Games</td>\n",
       "      <td>133829</td>\n",
       "      <td>99327</td>\n",
       "      <td>34502</td>\n",
       "      <td>0.257807</td>\n",
       "    </tr>\n",
       "    <tr>\n",
       "      <th>15</th>\n",
       "      <td>Judo</td>\n",
       "      <td>41451</td>\n",
       "      <td>29819</td>\n",
       "      <td>11632</td>\n",
       "      <td>0.280620</td>\n",
       "    </tr>\n",
       "    <tr>\n",
       "      <th>18</th>\n",
       "      <td>Biking</td>\n",
       "      <td>7623</td>\n",
       "      <td>5407</td>\n",
       "      <td>2216</td>\n",
       "      <td>0.290699</td>\n",
       "    </tr>\n",
       "    <tr>\n",
       "      <th>39</th>\n",
       "      <td>Kung Fu and Martial Arts</td>\n",
       "      <td>58964</td>\n",
       "      <td>41180</td>\n",
       "      <td>17784</td>\n",
       "      <td>0.301608</td>\n",
       "    </tr>\n",
       "    <tr>\n",
       "      <th>3</th>\n",
       "      <td>Ski</td>\n",
       "      <td>2315</td>\n",
       "      <td>1604</td>\n",
       "      <td>711</td>\n",
       "      <td>0.307127</td>\n",
       "    </tr>\n",
       "    <tr>\n",
       "      <th>19</th>\n",
       "      <td>Martial Arts</td>\n",
       "      <td>118129</td>\n",
       "      <td>80499</td>\n",
       "      <td>37630</td>\n",
       "      <td>0.318550</td>\n",
       "    </tr>\n",
       "    <tr>\n",
       "      <th>44</th>\n",
       "      <td>Sports for the Deaf</td>\n",
       "      <td>1460</td>\n",
       "      <td>991</td>\n",
       "      <td>469</td>\n",
       "      <td>0.321233</td>\n",
       "    </tr>\n",
       "    <tr>\n",
       "      <th>35</th>\n",
       "      <td>Wushu</td>\n",
       "      <td>56542</td>\n",
       "      <td>37049</td>\n",
       "      <td>19493</td>\n",
       "      <td>0.344753</td>\n",
       "    </tr>\n",
       "    <tr>\n",
       "      <th>4</th>\n",
       "      <td>Sports Groups</td>\n",
       "      <td>21067</td>\n",
       "      <td>13803</td>\n",
       "      <td>7264</td>\n",
       "      <td>0.344805</td>\n",
       "    </tr>\n",
       "    <tr>\n",
       "      <th>47</th>\n",
       "      <td>Sports for the Wounded in Action &amp; the Disabled</td>\n",
       "      <td>5511</td>\n",
       "      <td>3604</td>\n",
       "      <td>1907</td>\n",
       "      <td>0.346035</td>\n",
       "    </tr>\n",
       "    <tr>\n",
       "      <th>11</th>\n",
       "      <td>Table Tennis</td>\n",
       "      <td>16652</td>\n",
       "      <td>10687</td>\n",
       "      <td>5965</td>\n",
       "      <td>0.358215</td>\n",
       "    </tr>\n",
       "    <tr>\n",
       "      <th>40</th>\n",
       "      <td>Mountaineering</td>\n",
       "      <td>62792</td>\n",
       "      <td>39837</td>\n",
       "      <td>22955</td>\n",
       "      <td>0.365572</td>\n",
       "    </tr>\n",
       "    <tr>\n",
       "      <th>51</th>\n",
       "      <td>Sports for the Blind &amp; Visually Impaired</td>\n",
       "      <td>1584</td>\n",
       "      <td>999</td>\n",
       "      <td>585</td>\n",
       "      <td>0.369318</td>\n",
       "    </tr>\n",
       "    <tr>\n",
       "      <th>29</th>\n",
       "      <td>Golf</td>\n",
       "      <td>1302</td>\n",
       "      <td>809</td>\n",
       "      <td>493</td>\n",
       "      <td>0.378648</td>\n",
       "    </tr>\n",
       "    <tr>\n",
       "      <th>48</th>\n",
       "      <td>K-12 Sports</td>\n",
       "      <td>140109</td>\n",
       "      <td>84261</td>\n",
       "      <td>55848</td>\n",
       "      <td>0.398604</td>\n",
       "    </tr>\n",
       "    <tr>\n",
       "      <th>16</th>\n",
       "      <td>Polo</td>\n",
       "      <td>229</td>\n",
       "      <td>137</td>\n",
       "      <td>92</td>\n",
       "      <td>0.401747</td>\n",
       "    </tr>\n",
       "    <tr>\n",
       "      <th>0</th>\n",
       "      <td>Total</td>\n",
       "      <td>3386522</td>\n",
       "      <td>1973949</td>\n",
       "      <td>1412573</td>\n",
       "      <td>0.417116</td>\n",
       "    </tr>\n",
       "    <tr>\n",
       "      <th>24</th>\n",
       "      <td>Chess</td>\n",
       "      <td>3826</td>\n",
       "      <td>2225</td>\n",
       "      <td>1601</td>\n",
       "      <td>0.418453</td>\n",
       "    </tr>\n",
       "    <tr>\n",
       "      <th>13</th>\n",
       "      <td>Shooting</td>\n",
       "      <td>8928</td>\n",
       "      <td>5026</td>\n",
       "      <td>3902</td>\n",
       "      <td>0.437052</td>\n",
       "    </tr>\n",
       "    <tr>\n",
       "      <th>7</th>\n",
       "      <td>Basketball</td>\n",
       "      <td>55722</td>\n",
       "      <td>30698</td>\n",
       "      <td>25024</td>\n",
       "      <td>0.449087</td>\n",
       "    </tr>\n",
       "    <tr>\n",
       "      <th>6</th>\n",
       "      <td>Bodybuilding and Body Sculpting</td>\n",
       "      <td>340033</td>\n",
       "      <td>182829</td>\n",
       "      <td>157204</td>\n",
       "      <td>0.462320</td>\n",
       "    </tr>\n",
       "    <tr>\n",
       "      <th>10</th>\n",
       "      <td>Tennis</td>\n",
       "      <td>6477</td>\n",
       "      <td>3447</td>\n",
       "      <td>3030</td>\n",
       "      <td>0.467809</td>\n",
       "    </tr>\n",
       "    <tr>\n",
       "      <th>32</th>\n",
       "      <td>Hockey</td>\n",
       "      <td>1397</td>\n",
       "      <td>743</td>\n",
       "      <td>654</td>\n",
       "      <td>0.468146</td>\n",
       "    </tr>\n",
       "    <tr>\n",
       "      <th>23</th>\n",
       "      <td>Equestrian</td>\n",
       "      <td>8584</td>\n",
       "      <td>4548</td>\n",
       "      <td>4036</td>\n",
       "      <td>0.470177</td>\n",
       "    </tr>\n",
       "    <tr>\n",
       "      <th>36</th>\n",
       "      <td>Karate</td>\n",
       "      <td>152938</td>\n",
       "      <td>80509</td>\n",
       "      <td>72429</td>\n",
       "      <td>0.473584</td>\n",
       "    </tr>\n",
       "    <tr>\n",
       "      <th>31</th>\n",
       "      <td>Lifeguard</td>\n",
       "      <td>12737</td>\n",
       "      <td>6689</td>\n",
       "      <td>6048</td>\n",
       "      <td>0.474837</td>\n",
       "    </tr>\n",
       "    <tr>\n",
       "      <th>12</th>\n",
       "      <td>Taekwondo</td>\n",
       "      <td>179749</td>\n",
       "      <td>93231</td>\n",
       "      <td>86518</td>\n",
       "      <td>0.481327</td>\n",
       "    </tr>\n",
       "    <tr>\n",
       "      <th>17</th>\n",
       "      <td>Track and Field</td>\n",
       "      <td>15731</td>\n",
       "      <td>8148</td>\n",
       "      <td>7583</td>\n",
       "      <td>0.482042</td>\n",
       "    </tr>\n",
       "    <tr>\n",
       "      <th>25</th>\n",
       "      <td>Fencing</td>\n",
       "      <td>1680</td>\n",
       "      <td>865</td>\n",
       "      <td>815</td>\n",
       "      <td>0.485119</td>\n",
       "    </tr>\n",
       "    <tr>\n",
       "      <th>20</th>\n",
       "      <td>Gymnastics</td>\n",
       "      <td>269016</td>\n",
       "      <td>135983</td>\n",
       "      <td>133033</td>\n",
       "      <td>0.494517</td>\n",
       "    </tr>\n",
       "    <tr>\n",
       "      <th>37</th>\n",
       "      <td>Kabaddi</td>\n",
       "      <td>4919</td>\n",
       "      <td>2473</td>\n",
       "      <td>2446</td>\n",
       "      <td>0.497256</td>\n",
       "    </tr>\n",
       "    <tr>\n",
       "      <th>14</th>\n",
       "      <td>Archery</td>\n",
       "      <td>2815</td>\n",
       "      <td>1342</td>\n",
       "      <td>1473</td>\n",
       "      <td>0.523268</td>\n",
       "    </tr>\n",
       "    <tr>\n",
       "      <th>45</th>\n",
       "      <td>Sports for the Special Patients &amp; Organ Receivers</td>\n",
       "      <td>2225</td>\n",
       "      <td>1053</td>\n",
       "      <td>1172</td>\n",
       "      <td>0.526742</td>\n",
       "    </tr>\n",
       "    <tr>\n",
       "      <th>28</th>\n",
       "      <td>Rowing</td>\n",
       "      <td>2973</td>\n",
       "      <td>1395</td>\n",
       "      <td>1578</td>\n",
       "      <td>0.530777</td>\n",
       "    </tr>\n",
       "    <tr>\n",
       "      <th>26</th>\n",
       "      <td>Swimming</td>\n",
       "      <td>127297</td>\n",
       "      <td>57763</td>\n",
       "      <td>69534</td>\n",
       "      <td>0.546234</td>\n",
       "    </tr>\n",
       "    <tr>\n",
       "      <th>50</th>\n",
       "      <td>Triathlon</td>\n",
       "      <td>2150</td>\n",
       "      <td>974</td>\n",
       "      <td>1176</td>\n",
       "      <td>0.546977</td>\n",
       "    </tr>\n",
       "    <tr>\n",
       "      <th>49</th>\n",
       "      <td>College Sports</td>\n",
       "      <td>4669</td>\n",
       "      <td>2033</td>\n",
       "      <td>2636</td>\n",
       "      <td>0.564575</td>\n",
       "    </tr>\n",
       "    <tr>\n",
       "      <th>41</th>\n",
       "      <td>Handball</td>\n",
       "      <td>17717</td>\n",
       "      <td>7439</td>\n",
       "      <td>10278</td>\n",
       "      <td>0.580121</td>\n",
       "    </tr>\n",
       "    <tr>\n",
       "      <th>42</th>\n",
       "      <td>Volleyball</td>\n",
       "      <td>206779</td>\n",
       "      <td>85447</td>\n",
       "      <td>121332</td>\n",
       "      <td>0.586771</td>\n",
       "    </tr>\n",
       "    <tr>\n",
       "      <th>2</th>\n",
       "      <td>Squash</td>\n",
       "      <td>2363</td>\n",
       "      <td>875</td>\n",
       "      <td>1488</td>\n",
       "      <td>0.629708</td>\n",
       "    </tr>\n",
       "    <tr>\n",
       "      <th>43</th>\n",
       "      <td>Labor Unions Sports</td>\n",
       "      <td>4760</td>\n",
       "      <td>1605</td>\n",
       "      <td>3155</td>\n",
       "      <td>0.662815</td>\n",
       "    </tr>\n",
       "    <tr>\n",
       "      <th>1</th>\n",
       "      <td>Skate</td>\n",
       "      <td>25972</td>\n",
       "      <td>8731</td>\n",
       "      <td>17241</td>\n",
       "      <td>0.663830</td>\n",
       "    </tr>\n",
       "    <tr>\n",
       "      <th>5</th>\n",
       "      <td>Badminton</td>\n",
       "      <td>20914</td>\n",
       "      <td>7029</td>\n",
       "      <td>13885</td>\n",
       "      <td>0.663909</td>\n",
       "    </tr>\n",
       "    <tr>\n",
       "      <th>33</th>\n",
       "      <td>Public Fitness Groups</td>\n",
       "      <td>469843</td>\n",
       "      <td>55660</td>\n",
       "      <td>414183</td>\n",
       "      <td>0.881535</td>\n",
       "    </tr>\n",
       "  </tbody>\n",
       "</table>\n",
       "</div>"
      ],
      "text/plain": [
       "                                               Sports    Total     Male  \\\n",
       "46              Traditional Sports & Heroic Wrestling    11415    11415   \n",
       "9                                              Boxing    37418    37412   \n",
       "38                                          Wrestling    98354    97443   \n",
       "27                                             Soccer   604122   577420   \n",
       "30                                  Motorcycle Racing     5434     4884   \n",
       "21                                  Bureau of Prisons     2453     2154   \n",
       "8                               Bowling and Billiards     1534     1271   \n",
       "34                                      Weightlifting     4019     3177   \n",
       "22                       Traditional Indigenous Games   133829    99327   \n",
       "15                                               Judo    41451    29819   \n",
       "18                                             Biking     7623     5407   \n",
       "39                           Kung Fu and Martial Arts    58964    41180   \n",
       "3                                                 Ski     2315     1604   \n",
       "19                                       Martial Arts   118129    80499   \n",
       "44                                Sports for the Deaf     1460      991   \n",
       "35                                              Wushu    56542    37049   \n",
       "4                                       Sports Groups    21067    13803   \n",
       "47    Sports for the Wounded in Action & the Disabled     5511     3604   \n",
       "11                                       Table Tennis    16652    10687   \n",
       "40                                     Mountaineering    62792    39837   \n",
       "51           Sports for the Blind & Visually Impaired     1584      999   \n",
       "29                                               Golf     1302      809   \n",
       "48                                        K-12 Sports   140109    84261   \n",
       "16                                               Polo      229      137   \n",
       "0                                               Total  3386522  1973949   \n",
       "24                                              Chess     3826     2225   \n",
       "13                                           Shooting     8928     5026   \n",
       "7                                          Basketball    55722    30698   \n",
       "6                     Bodybuilding and Body Sculpting   340033   182829   \n",
       "10                                             Tennis     6477     3447   \n",
       "32                                             Hockey     1397      743   \n",
       "23                                         Equestrian     8584     4548   \n",
       "36                                             Karate   152938    80509   \n",
       "31                                          Lifeguard    12737     6689   \n",
       "12                                          Taekwondo   179749    93231   \n",
       "17                                    Track and Field    15731     8148   \n",
       "25                                            Fencing     1680      865   \n",
       "20                                         Gymnastics   269016   135983   \n",
       "37                                            Kabaddi     4919     2473   \n",
       "14                                            Archery     2815     1342   \n",
       "45  Sports for the Special Patients & Organ Receivers     2225     1053   \n",
       "28                                             Rowing     2973     1395   \n",
       "26                                           Swimming   127297    57763   \n",
       "50                                          Triathlon     2150      974   \n",
       "49                                     College Sports     4669     2033   \n",
       "41                                           Handball    17717     7439   \n",
       "42                                         Volleyball   206779    85447   \n",
       "2                                              Squash     2363      875   \n",
       "43                                Labor Unions Sports     4760     1605   \n",
       "1                                               Skate    25972     8731   \n",
       "5                                           Badminton    20914     7029   \n",
       "33                              Public Fitness Groups   469843    55660   \n",
       "\n",
       "     Female  Percent_Female  \n",
       "46        0        0.000000  \n",
       "9         6        0.000160  \n",
       "38      911        0.009262  \n",
       "27    26702        0.044200  \n",
       "30      550        0.101215  \n",
       "21      299        0.121892  \n",
       "8       263        0.171447  \n",
       "34      842        0.209505  \n",
       "22    34502        0.257807  \n",
       "15    11632        0.280620  \n",
       "18     2216        0.290699  \n",
       "39    17784        0.301608  \n",
       "3       711        0.307127  \n",
       "19    37630        0.318550  \n",
       "44      469        0.321233  \n",
       "35    19493        0.344753  \n",
       "4      7264        0.344805  \n",
       "47     1907        0.346035  \n",
       "11     5965        0.358215  \n",
       "40    22955        0.365572  \n",
       "51      585        0.369318  \n",
       "29      493        0.378648  \n",
       "48    55848        0.398604  \n",
       "16       92        0.401747  \n",
       "0   1412573        0.417116  \n",
       "24     1601        0.418453  \n",
       "13     3902        0.437052  \n",
       "7     25024        0.449087  \n",
       "6    157204        0.462320  \n",
       "10     3030        0.467809  \n",
       "32      654        0.468146  \n",
       "23     4036        0.470177  \n",
       "36    72429        0.473584  \n",
       "31     6048        0.474837  \n",
       "12    86518        0.481327  \n",
       "17     7583        0.482042  \n",
       "25      815        0.485119  \n",
       "20   133033        0.494517  \n",
       "37     2446        0.497256  \n",
       "14     1473        0.523268  \n",
       "45     1172        0.526742  \n",
       "28     1578        0.530777  \n",
       "26    69534        0.546234  \n",
       "50     1176        0.546977  \n",
       "49     2636        0.564575  \n",
       "41    10278        0.580121  \n",
       "42   121332        0.586771  \n",
       "2      1488        0.629708  \n",
       "43     3155        0.662815  \n",
       "1     17241        0.663830  \n",
       "5     13885        0.663909  \n",
       "33   414183        0.881535  "
      ]
     },
     "execution_count": 13,
     "metadata": {},
     "output_type": "execute_result"
    }
   ],
   "source": [
    "athletes.sort_values('Percent_Female')"
   ]
  },
  {
   "cell_type": "markdown",
   "id": "825463d0",
   "metadata": {},
   "source": [
    "We can also use the describe function to see the percentiles. By default, it will show the 25%, 50%, and 75% percentiles. Percentiles are used to indicate the distribution of a set of numbers. For example, the 50% percentile means that there are 50% of rows are below that value and 50% are above; in other words, this is the median."
   ]
  },
  {
   "cell_type": "code",
   "execution_count": 23,
   "id": "c0b56bbf",
   "metadata": {
    "scrolled": true
   },
   "outputs": [
    {
     "data": {
      "text/plain": [
       "count    52.000000\n",
       "mean     40.248318\n",
       "std      18.236251\n",
       "min       0.000000\n",
       "25%      31.569440\n",
       "50%      42.775233\n",
       "75%      50.375871\n",
       "max      88.153490\n",
       "Name: Percent_Female, dtype: float64"
      ]
     },
     "execution_count": 23,
     "metadata": {},
     "output_type": "execute_result"
    }
   ],
   "source": [
    "athletes['Percent_Female'].describe()"
   ]
  },
  {
   "cell_type": "markdown",
   "id": "8e21dad0",
   "metadata": {},
   "source": [
    "We can also pass in an argument if we want to see another percentile. For example, we can pass in 2/3 = 0.667 = 66.7% to show the 66.7% percentile. This roughly means that two-thirds of our rows have a percentage of female athletes less than or equal to 48.13%"
   ]
  },
  {
   "cell_type": "code",
   "execution_count": 24,
   "id": "f98dc3b6",
   "metadata": {},
   "outputs": [
    {
     "data": {
      "text/plain": [
       "count    52.000000\n",
       "mean     40.248318\n",
       "std      18.236251\n",
       "min       0.000000\n",
       "50%      42.775233\n",
       "66.7%    48.132674\n",
       "max      88.153490\n",
       "Name: Percent_Female, dtype: float64"
      ]
     },
     "execution_count": 24,
     "metadata": {},
     "output_type": "execute_result"
    }
   ],
   "source": [
    "athletes['Percent_Female'].describe(percentiles=[2/3])"
   ]
  },
  {
   "cell_type": "markdown",
   "id": "4e500842",
   "metadata": {},
   "source": [
    "## Statistics about multiple fields\n",
    "You can also call these statistical fields on the whole DataFrame to get those calculations for all fields. Note that for the `Sports` column, the min and max function show us the string that comes first and last in alphabetical order, respectively"
   ]
  },
  {
   "cell_type": "code",
   "execution_count": 18,
   "id": "d1f22568",
   "metadata": {},
   "outputs": [
    {
     "data": {
      "text/plain": [
       "Sports            Archery\n",
       "Total                 229\n",
       "Male                  137\n",
       "Female                  0\n",
       "Percent_Female        0.0\n",
       "dtype: object"
      ]
     },
     "execution_count": 18,
     "metadata": {},
     "output_type": "execute_result"
    }
   ],
   "source": [
    "athletes.min()"
   ]
  },
  {
   "cell_type": "code",
   "execution_count": 17,
   "id": "f8c87ba9",
   "metadata": {},
   "outputs": [
    {
     "data": {
      "text/plain": [
       "Sports               Wushu\n",
       "Total              3386522\n",
       "Male               1973949\n",
       "Female             1412573\n",
       "Percent_Female    88.15349\n",
       "dtype: object"
      ]
     },
     "execution_count": 17,
     "metadata": {},
     "output_type": "execute_result"
    }
   ],
   "source": [
    "athletes.max()"
   ]
  },
  {
   "cell_type": "code",
   "execution_count": 19,
   "id": "2e8ae479",
   "metadata": {},
   "outputs": [
    {
     "name": "stderr",
     "output_type": "stream",
     "text": [
      "/Users/vngo/.local/share/virtualenvs/icfj-d8_OMVAY/lib/python3.7/site-packages/ipykernel_launcher.py:1: FutureWarning: Dropping of nuisance columns in DataFrame reductions (with 'numeric_only=None') is deprecated; in a future version this will raise TypeError.  Select only valid columns before calling the reduction.\n",
      "  \"\"\"Entry point for launching an IPython kernel.\n"
     ]
    },
    {
     "data": {
      "text/plain": [
       "Total             130250.846154\n",
       "Male               75921.115385\n",
       "Female             54329.730769\n",
       "Percent_Female        40.248318\n",
       "dtype: float64"
      ]
     },
     "execution_count": 19,
     "metadata": {},
     "output_type": "execute_result"
    }
   ],
   "source": [
    "athletes.mean()"
   ]
  },
  {
   "cell_type": "code",
   "execution_count": 20,
   "id": "be9db0dc",
   "metadata": {
    "scrolled": true
   },
   "outputs": [
    {
     "name": "stderr",
     "output_type": "stream",
     "text": [
      "/Users/vngo/.local/share/virtualenvs/icfj-d8_OMVAY/lib/python3.7/site-packages/ipykernel_launcher.py:1: FutureWarning: Dropping of nuisance columns in DataFrame reductions (with 'numeric_only=None') is deprecated; in a future version this will raise TypeError.  Select only valid columns before calling the reduction.\n",
      "  \"\"\"Entry point for launching an IPython kernel.\n"
     ]
    },
    {
     "data": {
      "text/plain": [
       "Total             12076.000000\n",
       "Male               6859.000000\n",
       "Female             3528.500000\n",
       "Percent_Female       42.775233\n",
       "dtype: float64"
      ]
     },
     "execution_count": 20,
     "metadata": {},
     "output_type": "execute_result"
    }
   ],
   "source": [
    "athletes.median()"
   ]
  },
  {
   "cell_type": "code",
   "execution_count": 33,
   "id": "ccd981cd",
   "metadata": {},
   "outputs": [
    {
     "data": {
      "text/html": [
       "<div>\n",
       "<style scoped>\n",
       "    .dataframe tbody tr th:only-of-type {\n",
       "        vertical-align: middle;\n",
       "    }\n",
       "\n",
       "    .dataframe tbody tr th {\n",
       "        vertical-align: top;\n",
       "    }\n",
       "\n",
       "    .dataframe thead th {\n",
       "        text-align: right;\n",
       "    }\n",
       "</style>\n",
       "<table border=\"1\" class=\"dataframe\">\n",
       "  <thead>\n",
       "    <tr style=\"text-align: right;\">\n",
       "      <th></th>\n",
       "      <th>Total</th>\n",
       "      <th>Male</th>\n",
       "      <th>Female</th>\n",
       "      <th>Percent_Female</th>\n",
       "    </tr>\n",
       "  </thead>\n",
       "  <tbody>\n",
       "    <tr>\n",
       "      <th>count</th>\n",
       "      <td>5.200000e+01</td>\n",
       "      <td>5.200000e+01</td>\n",
       "      <td>5.200000e+01</td>\n",
       "      <td>52.000000</td>\n",
       "    </tr>\n",
       "    <tr>\n",
       "      <th>mean</th>\n",
       "      <td>1.302508e+05</td>\n",
       "      <td>7.592112e+04</td>\n",
       "      <td>5.432973e+04</td>\n",
       "      <td>40.248318</td>\n",
       "    </tr>\n",
       "    <tr>\n",
       "      <th>std</th>\n",
       "      <td>4.760102e+05</td>\n",
       "      <td>2.818953e+05</td>\n",
       "      <td>2.027947e+05</td>\n",
       "      <td>18.236251</td>\n",
       "    </tr>\n",
       "    <tr>\n",
       "      <th>min</th>\n",
       "      <td>2.290000e+02</td>\n",
       "      <td>1.370000e+02</td>\n",
       "      <td>0.000000e+00</td>\n",
       "      <td>0.000000</td>\n",
       "    </tr>\n",
       "    <tr>\n",
       "      <th>25%</th>\n",
       "      <td>2.933500e+03</td>\n",
       "      <td>1.604750e+03</td>\n",
       "      <td>8.937500e+02</td>\n",
       "      <td>31.569440</td>\n",
       "    </tr>\n",
       "    <tr>\n",
       "      <th>50%</th>\n",
       "      <td>1.207600e+04</td>\n",
       "      <td>6.859000e+03</td>\n",
       "      <td>3.528500e+03</td>\n",
       "      <td>42.775233</td>\n",
       "    </tr>\n",
       "    <tr>\n",
       "      <th>75%</th>\n",
       "      <td>7.168250e+04</td>\n",
       "      <td>4.480000e+04</td>\n",
       "      <td>2.347225e+04</td>\n",
       "      <td>50.375871</td>\n",
       "    </tr>\n",
       "    <tr>\n",
       "      <th>max</th>\n",
       "      <td>3.386522e+06</td>\n",
       "      <td>1.973949e+06</td>\n",
       "      <td>1.412573e+06</td>\n",
       "      <td>88.153490</td>\n",
       "    </tr>\n",
       "  </tbody>\n",
       "</table>\n",
       "</div>"
      ],
      "text/plain": [
       "              Total          Male        Female  Percent_Female\n",
       "count  5.200000e+01  5.200000e+01  5.200000e+01       52.000000\n",
       "mean   1.302508e+05  7.592112e+04  5.432973e+04       40.248318\n",
       "std    4.760102e+05  2.818953e+05  2.027947e+05       18.236251\n",
       "min    2.290000e+02  1.370000e+02  0.000000e+00        0.000000\n",
       "25%    2.933500e+03  1.604750e+03  8.937500e+02       31.569440\n",
       "50%    1.207600e+04  6.859000e+03  3.528500e+03       42.775233\n",
       "75%    7.168250e+04  4.480000e+04  2.347225e+04       50.375871\n",
       "max    3.386522e+06  1.973949e+06  1.412573e+06       88.153490"
      ]
     },
     "execution_count": 33,
     "metadata": {},
     "output_type": "execute_result"
    }
   ],
   "source": [
    "athletes.describe()"
   ]
  },
  {
   "cell_type": "code",
   "execution_count": null,
   "id": "9154a7d7",
   "metadata": {},
   "outputs": [],
   "source": []
  }
 ],
 "metadata": {
  "kernelspec": {
   "display_name": "Python 3 (ipykernel)",
   "language": "python",
   "name": "python3"
  },
  "language_info": {
   "codemirror_mode": {
    "name": "ipython",
    "version": 3
   },
   "file_extension": ".py",
   "mimetype": "text/x-python",
   "name": "python",
   "nbconvert_exporter": "python",
   "pygments_lexer": "ipython3",
   "version": "3.7.16"
  }
 },
 "nbformat": 4,
 "nbformat_minor": 5
}
