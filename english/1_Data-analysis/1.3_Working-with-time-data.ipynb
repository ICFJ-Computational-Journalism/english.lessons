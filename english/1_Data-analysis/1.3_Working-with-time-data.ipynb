{
 "cells": [
  {
   "cell_type": "markdown",
   "id": "ebf17175",
   "metadata": {},
   "source": [
    "# 1.3 Working with time data"
   ]
  },
  {
   "cell_type": "markdown",
   "id": "97cb839d",
   "metadata": {},
   "source": [
    "## Introduction to `datetime`"
   ]
  },
  {
   "cell_type": "code",
   "execution_count": null,
   "id": "a3833c65",
   "metadata": {},
   "outputs": [],
   "source": [
    "# Talk about datetime structure. Show how you can convert a string"
   ]
  },
  {
   "cell_type": "markdown",
   "id": "d1ef0075",
   "metadata": {},
   "source": [
    "## Using `datetime` in a DataFrame"
   ]
  },
  {
   "cell_type": "code",
   "execution_count": 1,
   "id": "767181d7",
   "metadata": {},
   "outputs": [],
   "source": [
    "# TK: Checking variable type of columns"
   ]
  },
  {
   "cell_type": "code",
   "execution_count": 3,
   "id": "651a09a7",
   "metadata": {},
   "outputs": [],
   "source": [
    "# TK: Converting column of strings to column of datetime"
   ]
  },
  {
   "cell_type": "markdown",
   "id": "07fa051d",
   "metadata": {},
   "source": [
    "## Converting Persian date to Gregorian date "
   ]
  },
  {
   "cell_type": "code",
   "execution_count": 6,
   "id": "d64360a6",
   "metadata": {},
   "outputs": [],
   "source": [
    "# TK: Convert Jalali year to Gregorian calendar year\n",
    "# https://stackoverflow.com/q/29654536\n",
    "# https://pypi.org/project/jdatetime/"
   ]
  },
  {
   "cell_type": "code",
   "execution_count": null,
   "id": "f3ff5816",
   "metadata": {},
   "outputs": [],
   "source": []
  }
 ],
 "metadata": {
  "kernelspec": {
   "display_name": "Python 3 (ipykernel)",
   "language": "python",
   "name": "python3"
  },
  "language_info": {
   "codemirror_mode": {
    "name": "ipython",
    "version": 3
   },
   "file_extension": ".py",
   "mimetype": "text/x-python",
   "name": "python",
   "nbconvert_exporter": "python",
   "pygments_lexer": "ipython3",
   "version": "3.7.16"
  }
 },
 "nbformat": 4,
 "nbformat_minor": 5
}
