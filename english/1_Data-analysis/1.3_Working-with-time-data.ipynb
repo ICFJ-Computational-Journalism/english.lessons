{
 "cells": [
  {
   "cell_type": "markdown",
   "id": "97cb839d",
   "metadata": {},
   "source": [
    "# 1.3 Working with time data\n",
    "\n",
    "## Introduction to `datetime` module"
   ]
  },
  {
   "cell_type": "markdown",
   "id": "6a7ba591",
   "metadata": {},
   "source": [
    "Python has several [buit-in types](https://docs.python.org/3/library/stdtypes.html) such as:\n",
    "- `int` for integers (e.g. `-1` or `2023`),\n",
    "- `str` for strings like `\"hello\"`, and\n",
    "- `list` objects, which represent arrays like `[1, 2, 3]` or `[\"cow\", \"pig\", \"goat\", \"chicken\"]`\n",
    "\n",
    "We can also uses \"classes\" to create more complex object types. Previously, we used the [`DataFrame` class](https://pandas.pydata.org/docs/reference/api/pandas.DataFrame.html) that came from `pandas`. Now, we are going to use various classes that come from the [`datetime` module](https://docs.python.org/3/library/datetime.html), which is part of the standard Python library.\n",
    "\n",
    "In order to do the `datetime` module, we first need to import it. We use `dt` as a shorthand for the whole module:"
   ]
  },
  {
   "cell_type": "code",
   "execution_count": 7,
   "id": "463f4ce7",
   "metadata": {},
   "outputs": [],
   "source": [
    "import datetime as dt"
   ]
  },
  {
   "cell_type": "markdown",
   "id": "ff64953e",
   "metadata": {},
   "source": [
    "### `datetime` class\n",
    "The first class that we'll look at in the `datetime` module is, in fact, `datetime`. This class of objects represents a Gregorian calendar date (year, month, day) and time (hour, minute, second, microsecond). For example, we can get the `datetime` representing the current moment:"
   ]
  },
  {
   "cell_type": "code",
   "execution_count": 8,
   "id": "dc9220ac",
   "metadata": {},
   "outputs": [
    {
     "data": {
      "text/plain": [
       "datetime.datetime(2023, 2, 21, 17, 25, 33, 220960)"
      ]
     },
     "execution_count": 8,
     "metadata": {},
     "output_type": "execute_result"
    }
   ],
   "source": [
    "dt.datetime.now()"
   ]
  },
  {
   "cell_type": "markdown",
   "id": "5e43807c",
   "metadata": {},
   "source": [
    "### `date` class\n",
    "And sometimes, we may not need this level or precision of a `datetime` object, and we just need the date. For this, our module also comes with a `date` class. For example, we can grabe a `date` object representing the current date:"
   ]
  },
  {
   "cell_type": "code",
   "execution_count": 9,
   "id": "0adf8919",
   "metadata": {},
   "outputs": [
    {
     "data": {
      "text/plain": [
       "datetime.date(2023, 2, 21)"
      ]
     },
     "execution_count": 9,
     "metadata": {},
     "output_type": "execute_result"
    }
   ],
   "source": [
    "dt.date.today()"
   ]
  },
  {
   "cell_type": "markdown",
   "id": "2bbeaf34",
   "metadata": {},
   "source": [
    "We can also pass in the arguments to create a `date` object for a specific date we want:\n",
    "`dt.date(year, month, day)`"
   ]
  },
  {
   "cell_type": "code",
   "execution_count": 10,
   "id": "20d29d72",
   "metadata": {},
   "outputs": [
    {
     "data": {
      "text/plain": [
       "datetime.date(2010, 12, 31)"
      ]
     },
     "execution_count": 10,
     "metadata": {},
     "output_type": "execute_result"
    }
   ],
   "source": [
    "dt.date(2010, 12, 31)"
   ]
  },
  {
   "cell_type": "markdown",
   "id": "c6fbe465",
   "metadata": {},
   "source": [
    "The library also has some utility functions, so for example, we can convert an ISO format string into a `date` object:"
   ]
  },
  {
   "cell_type": "code",
   "execution_count": 11,
   "id": "f194f376",
   "metadata": {},
   "outputs": [
    {
     "data": {
      "text/plain": [
       "datetime.date(2010, 12, 31)"
      ]
     },
     "execution_count": 11,
     "metadata": {},
     "output_type": "execute_result"
    }
   ],
   "source": [
    "dt.date.fromisoformat(\"2010-12-31\")"
   ]
  },
  {
   "cell_type": "markdown",
   "id": "cb03ff27",
   "metadata": {},
   "source": [
    "We can also spit out the `date` in various formats. For custom formats, you can create your own format string. For example, `%d` represents the day of the month as a zero-padded number, and `%A` represents the weekday as a full name."
   ]
  },
  {
   "cell_type": "code",
   "execution_count": 15,
   "id": "df875222",
   "metadata": {},
   "outputs": [
    {
     "name": "stdout",
     "output_type": "stream",
     "text": [
      "ISO format:    2010-12-31\n",
      "%d/%m/%y:      31/12/10\n",
      "%A %d. %B %Y:  Friday 31. December 2010\n"
     ]
    }
   ],
   "source": [
    "my_date = dt.date(2010, 12, 31)\n",
    "print(\"ISO format:   \" + my_date.isoformat())\n",
    "print(\"%d/%m/%y:     \" + my_date.strftime(\"%d/%m/%y\"))\n",
    "print(\"%A %d. %B %Y: \" + my_date.strftime(\"%A %d. %B %Y\"))"
   ]
  },
  {
   "cell_type": "markdown",
   "id": "6c0da1dc",
   "metadata": {},
   "source": [
    "For all the different types of format strings you can use for datetimes, you can reference [the format codes](https://docs.python.org/3/library/datetime.html#strftime-and-strptime-format-codes) in the official documentation."
   ]
  },
  {
   "cell_type": "markdown",
   "id": "8013d3c5",
   "metadata": {},
   "source": [
    "### Other classes\n",
    "The `datetime` module also supplies us with a few other classes, such as:\n",
    "- a `time` class that represents a (local) time of day\n",
    "- a `timedelta` class that represents a duration, the difference between two dates or times\n",
    "\n",
    "For more information on all of these classes and more, you can refer to [the official documentation](https://docs.python.org/3/library/datetime.html) on the `datetime` module."
   ]
  },
  {
   "cell_type": "markdown",
   "id": "d1ef0075",
   "metadata": {},
   "source": [
    "## Using `datetime` inside a `DataFrame`\n",
    "Now that we have some understanding of the `datetime` and `date` classes, let's see how we can use them when we analyze large datasets with `pandas`. Suppose we have a CSV with a row for each president and dates for when the took office and when the left. We can create a `DataFrame` for this:"
   ]
  },
  {
   "cell_type": "code",
   "execution_count": 82,
   "id": "967c2a93",
   "metadata": {},
   "outputs": [],
   "source": [
    "import pandas as pd\n",
    "from io import StringIO"
   ]
  },
  {
   "cell_type": "code",
   "execution_count": 83,
   "id": "b44eae92",
   "metadata": {},
   "outputs": [],
   "source": [
    "csv_data = \"\"\"name,took_office,left_office\n",
    "Abolhassan Banisadr,4 February 1980,22 June 1981\n",
    "Mohammad-Ali Rajai,2 August 1981,30 August 1981\n",
    "Ali Khamenei,9 October 1981,16 August 1989\n",
    "Akbar Hashemi Rafsanjani,16 August 1989,3 August 1997\n",
    "Mohammad Khatami,3 August 1997,3 August 2005\n",
    "Mahmoud Ahmadinejad,3 August 2005,3 August 2013\n",
    "Hassan Rouhani,3 August 2013,3 August 2021\n",
    "Ebrahim Raisi,3 August 2021,\"\"\""
   ]
  },
  {
   "cell_type": "code",
   "execution_count": 84,
   "id": "8ecd7a6e",
   "metadata": {},
   "outputs": [
    {
     "data": {
      "text/html": [
       "<div>\n",
       "<style scoped>\n",
       "    .dataframe tbody tr th:only-of-type {\n",
       "        vertical-align: middle;\n",
       "    }\n",
       "\n",
       "    .dataframe tbody tr th {\n",
       "        vertical-align: top;\n",
       "    }\n",
       "\n",
       "    .dataframe thead th {\n",
       "        text-align: right;\n",
       "    }\n",
       "</style>\n",
       "<table border=\"1\" class=\"dataframe\">\n",
       "  <thead>\n",
       "    <tr style=\"text-align: right;\">\n",
       "      <th></th>\n",
       "      <th>name</th>\n",
       "      <th>took_office</th>\n",
       "      <th>left_office</th>\n",
       "    </tr>\n",
       "  </thead>\n",
       "  <tbody>\n",
       "    <tr>\n",
       "      <th>0</th>\n",
       "      <td>Abolhassan Banisadr</td>\n",
       "      <td>4 February 1980</td>\n",
       "      <td>22 June 1981</td>\n",
       "    </tr>\n",
       "    <tr>\n",
       "      <th>1</th>\n",
       "      <td>Mohammad-Ali Rajai</td>\n",
       "      <td>2 August 1981</td>\n",
       "      <td>30 August 1981</td>\n",
       "    </tr>\n",
       "    <tr>\n",
       "      <th>2</th>\n",
       "      <td>Ali Khamenei</td>\n",
       "      <td>9 October 1981</td>\n",
       "      <td>16 August 1989</td>\n",
       "    </tr>\n",
       "    <tr>\n",
       "      <th>3</th>\n",
       "      <td>Akbar Hashemi Rafsanjani</td>\n",
       "      <td>16 August 1989</td>\n",
       "      <td>3 August 1997</td>\n",
       "    </tr>\n",
       "    <tr>\n",
       "      <th>4</th>\n",
       "      <td>Mohammad Khatami</td>\n",
       "      <td>3 August 1997</td>\n",
       "      <td>3 August 2005</td>\n",
       "    </tr>\n",
       "    <tr>\n",
       "      <th>5</th>\n",
       "      <td>Mahmoud Ahmadinejad</td>\n",
       "      <td>3 August 2005</td>\n",
       "      <td>3 August 2013</td>\n",
       "    </tr>\n",
       "    <tr>\n",
       "      <th>6</th>\n",
       "      <td>Hassan Rouhani</td>\n",
       "      <td>3 August 2013</td>\n",
       "      <td>3 August 2021</td>\n",
       "    </tr>\n",
       "    <tr>\n",
       "      <th>7</th>\n",
       "      <td>Ebrahim Raisi</td>\n",
       "      <td>3 August 2021</td>\n",
       "      <td>NaN</td>\n",
       "    </tr>\n",
       "  </tbody>\n",
       "</table>\n",
       "</div>"
      ],
      "text/plain": [
       "                       name      took_office     left_office\n",
       "0       Abolhassan Banisadr  4 February 1980    22 June 1981\n",
       "1        Mohammad-Ali Rajai    2 August 1981  30 August 1981\n",
       "2              Ali Khamenei   9 October 1981  16 August 1989\n",
       "3  Akbar Hashemi Rafsanjani   16 August 1989   3 August 1997\n",
       "4          Mohammad Khatami    3 August 1997   3 August 2005\n",
       "5       Mahmoud Ahmadinejad    3 August 2005   3 August 2013\n",
       "6            Hassan Rouhani    3 August 2013   3 August 2021\n",
       "7             Ebrahim Raisi    3 August 2021             NaN"
      ]
     },
     "execution_count": 84,
     "metadata": {},
     "output_type": "execute_result"
    }
   ],
   "source": [
    "presidents = pd.read_csv(StringIO(csv_data))\n",
    "presidents"
   ]
  },
  {
   "cell_type": "markdown",
   "id": "51de8b90",
   "metadata": {},
   "source": [
    "*Note: row 7 has a `NaN` value for `left_office` since it was left blank. This stands for \"Not a Number,\" but it essentially means that [data is missing](https://pandas.pydata.org/pandas-docs/dev/user_guide/gotchas.html#nan-integer-na-values-and-na-type-promotions), whether a number or not.\n",
    "\n",
    "Now, what happens if we sort our `DataFrame` by the `took_office` column?"
   ]
  },
  {
   "cell_type": "code",
   "execution_count": 85,
   "id": "8158175b",
   "metadata": {},
   "outputs": [
    {
     "data": {
      "text/html": [
       "<div>\n",
       "<style scoped>\n",
       "    .dataframe tbody tr th:only-of-type {\n",
       "        vertical-align: middle;\n",
       "    }\n",
       "\n",
       "    .dataframe tbody tr th {\n",
       "        vertical-align: top;\n",
       "    }\n",
       "\n",
       "    .dataframe thead th {\n",
       "        text-align: right;\n",
       "    }\n",
       "</style>\n",
       "<table border=\"1\" class=\"dataframe\">\n",
       "  <thead>\n",
       "    <tr style=\"text-align: right;\">\n",
       "      <th></th>\n",
       "      <th>name</th>\n",
       "      <th>took_office</th>\n",
       "      <th>left_office</th>\n",
       "    </tr>\n",
       "  </thead>\n",
       "  <tbody>\n",
       "    <tr>\n",
       "      <th>3</th>\n",
       "      <td>Akbar Hashemi Rafsanjani</td>\n",
       "      <td>16 August 1989</td>\n",
       "      <td>3 August 1997</td>\n",
       "    </tr>\n",
       "    <tr>\n",
       "      <th>1</th>\n",
       "      <td>Mohammad-Ali Rajai</td>\n",
       "      <td>2 August 1981</td>\n",
       "      <td>30 August 1981</td>\n",
       "    </tr>\n",
       "    <tr>\n",
       "      <th>4</th>\n",
       "      <td>Mohammad Khatami</td>\n",
       "      <td>3 August 1997</td>\n",
       "      <td>3 August 2005</td>\n",
       "    </tr>\n",
       "    <tr>\n",
       "      <th>5</th>\n",
       "      <td>Mahmoud Ahmadinejad</td>\n",
       "      <td>3 August 2005</td>\n",
       "      <td>3 August 2013</td>\n",
       "    </tr>\n",
       "    <tr>\n",
       "      <th>6</th>\n",
       "      <td>Hassan Rouhani</td>\n",
       "      <td>3 August 2013</td>\n",
       "      <td>3 August 2021</td>\n",
       "    </tr>\n",
       "    <tr>\n",
       "      <th>7</th>\n",
       "      <td>Ebrahim Raisi</td>\n",
       "      <td>3 August 2021</td>\n",
       "      <td>NaN</td>\n",
       "    </tr>\n",
       "    <tr>\n",
       "      <th>0</th>\n",
       "      <td>Abolhassan Banisadr</td>\n",
       "      <td>4 February 1980</td>\n",
       "      <td>22 June 1981</td>\n",
       "    </tr>\n",
       "    <tr>\n",
       "      <th>2</th>\n",
       "      <td>Ali Khamenei</td>\n",
       "      <td>9 October 1981</td>\n",
       "      <td>16 August 1989</td>\n",
       "    </tr>\n",
       "  </tbody>\n",
       "</table>\n",
       "</div>"
      ],
      "text/plain": [
       "                       name      took_office     left_office\n",
       "3  Akbar Hashemi Rafsanjani   16 August 1989   3 August 1997\n",
       "1        Mohammad-Ali Rajai    2 August 1981  30 August 1981\n",
       "4          Mohammad Khatami    3 August 1997   3 August 2005\n",
       "5       Mahmoud Ahmadinejad    3 August 2005   3 August 2013\n",
       "6            Hassan Rouhani    3 August 2013   3 August 2021\n",
       "7             Ebrahim Raisi    3 August 2021             NaN\n",
       "0       Abolhassan Banisadr  4 February 1980    22 June 1981\n",
       "2              Ali Khamenei   9 October 1981  16 August 1989"
      ]
     },
     "execution_count": 85,
     "metadata": {},
     "output_type": "execute_result"
    }
   ],
   "source": [
    "presidents.sort_values(\"took_office\")"
   ]
  },
  {
   "cell_type": "markdown",
   "id": "8af3b334",
   "metadata": {},
   "source": [
    "We see that this function will sort Akbar Hashemi Rafsanjani first, even though he should come third if we are speaking chornologically. This is because the datatype for that column is a string. We can check the type for each column:"
   ]
  },
  {
   "cell_type": "code",
   "execution_count": 86,
   "id": "4d8f79f4",
   "metadata": {},
   "outputs": [
    {
     "data": {
      "text/plain": [
       "name           object\n",
       "took_office    object\n",
       "left_office    object\n",
       "dtype: object"
      ]
     },
     "execution_count": 86,
     "metadata": {},
     "output_type": "execute_result"
    }
   ],
   "source": [
    "presidents.dtypes"
   ]
  },
  {
   "cell_type": "markdown",
   "id": "ac894cea",
   "metadata": {},
   "source": [
    "If we wanted to convert the `took_office` and `left_office` columns to `datetime` objects, we could use the `to_datetime` function provided by `pandas`:"
   ]
  },
  {
   "cell_type": "code",
   "execution_count": 87,
   "id": "822fafef",
   "metadata": {},
   "outputs": [],
   "source": [
    "presidents[\"took_office\"] = pd.to_datetime(presidents[\"took_office\"].str.strip(), format=\"%d %B %Y\")\n",
    "presidents[\"left_office\"] = pd.to_datetime(presidents[\"left_office\"].str.strip(), format=\"%d %B %Y\")"
   ]
  },
  {
   "cell_type": "code",
   "execution_count": 88,
   "id": "0d35dc66",
   "metadata": {},
   "outputs": [
    {
     "data": {
      "text/html": [
       "<div>\n",
       "<style scoped>\n",
       "    .dataframe tbody tr th:only-of-type {\n",
       "        vertical-align: middle;\n",
       "    }\n",
       "\n",
       "    .dataframe tbody tr th {\n",
       "        vertical-align: top;\n",
       "    }\n",
       "\n",
       "    .dataframe thead th {\n",
       "        text-align: right;\n",
       "    }\n",
       "</style>\n",
       "<table border=\"1\" class=\"dataframe\">\n",
       "  <thead>\n",
       "    <tr style=\"text-align: right;\">\n",
       "      <th></th>\n",
       "      <th>name</th>\n",
       "      <th>took_office</th>\n",
       "      <th>left_office</th>\n",
       "    </tr>\n",
       "  </thead>\n",
       "  <tbody>\n",
       "    <tr>\n",
       "      <th>0</th>\n",
       "      <td>Abolhassan Banisadr</td>\n",
       "      <td>1980-02-04</td>\n",
       "      <td>1981-06-22</td>\n",
       "    </tr>\n",
       "    <tr>\n",
       "      <th>1</th>\n",
       "      <td>Mohammad-Ali Rajai</td>\n",
       "      <td>1981-08-02</td>\n",
       "      <td>1981-08-30</td>\n",
       "    </tr>\n",
       "    <tr>\n",
       "      <th>2</th>\n",
       "      <td>Ali Khamenei</td>\n",
       "      <td>1981-10-09</td>\n",
       "      <td>1989-08-16</td>\n",
       "    </tr>\n",
       "    <tr>\n",
       "      <th>3</th>\n",
       "      <td>Akbar Hashemi Rafsanjani</td>\n",
       "      <td>1989-08-16</td>\n",
       "      <td>1997-08-03</td>\n",
       "    </tr>\n",
       "    <tr>\n",
       "      <th>4</th>\n",
       "      <td>Mohammad Khatami</td>\n",
       "      <td>1997-08-03</td>\n",
       "      <td>2005-08-03</td>\n",
       "    </tr>\n",
       "    <tr>\n",
       "      <th>5</th>\n",
       "      <td>Mahmoud Ahmadinejad</td>\n",
       "      <td>2005-08-03</td>\n",
       "      <td>2013-08-03</td>\n",
       "    </tr>\n",
       "    <tr>\n",
       "      <th>6</th>\n",
       "      <td>Hassan Rouhani</td>\n",
       "      <td>2013-08-03</td>\n",
       "      <td>2021-08-03</td>\n",
       "    </tr>\n",
       "    <tr>\n",
       "      <th>7</th>\n",
       "      <td>Ebrahim Raisi</td>\n",
       "      <td>2021-08-03</td>\n",
       "      <td>NaT</td>\n",
       "    </tr>\n",
       "  </tbody>\n",
       "</table>\n",
       "</div>"
      ],
      "text/plain": [
       "                       name took_office left_office\n",
       "0       Abolhassan Banisadr  1980-02-04  1981-06-22\n",
       "1        Mohammad-Ali Rajai  1981-08-02  1981-08-30\n",
       "2              Ali Khamenei  1981-10-09  1989-08-16\n",
       "3  Akbar Hashemi Rafsanjani  1989-08-16  1997-08-03\n",
       "4          Mohammad Khatami  1997-08-03  2005-08-03\n",
       "5       Mahmoud Ahmadinejad  2005-08-03  2013-08-03\n",
       "6            Hassan Rouhani  2013-08-03  2021-08-03\n",
       "7             Ebrahim Raisi  2021-08-03         NaT"
      ]
     },
     "execution_count": 88,
     "metadata": {},
     "output_type": "execute_result"
    }
   ],
   "source": [
    "presidents"
   ]
  },
  {
   "cell_type": "markdown",
   "id": "e45a2f3c",
   "metadata": {},
   "source": [
    "Now if we check for the datatypes of our columns, we see that `took_office` and `left_office` are of type `datetime`:"
   ]
  },
  {
   "cell_type": "code",
   "execution_count": 89,
   "id": "8b71fdc0",
   "metadata": {},
   "outputs": [
    {
     "data": {
      "text/plain": [
       "name                   object\n",
       "took_office    datetime64[ns]\n",
       "left_office    datetime64[ns]\n",
       "dtype: object"
      ]
     },
     "execution_count": 89,
     "metadata": {},
     "output_type": "execute_result"
    }
   ],
   "source": [
    "presidents.dtypes"
   ]
  },
  {
   "cell_type": "markdown",
   "id": "689c0730",
   "metadata": {},
   "source": [
    "And if we sort by our `took_office` column, things are sorted in chronological order rather than alphabetical:"
   ]
  },
  {
   "cell_type": "code",
   "execution_count": 90,
   "id": "ab11f1e8",
   "metadata": {},
   "outputs": [
    {
     "data": {
      "text/html": [
       "<div>\n",
       "<style scoped>\n",
       "    .dataframe tbody tr th:only-of-type {\n",
       "        vertical-align: middle;\n",
       "    }\n",
       "\n",
       "    .dataframe tbody tr th {\n",
       "        vertical-align: top;\n",
       "    }\n",
       "\n",
       "    .dataframe thead th {\n",
       "        text-align: right;\n",
       "    }\n",
       "</style>\n",
       "<table border=\"1\" class=\"dataframe\">\n",
       "  <thead>\n",
       "    <tr style=\"text-align: right;\">\n",
       "      <th></th>\n",
       "      <th>name</th>\n",
       "      <th>took_office</th>\n",
       "      <th>left_office</th>\n",
       "    </tr>\n",
       "  </thead>\n",
       "  <tbody>\n",
       "    <tr>\n",
       "      <th>0</th>\n",
       "      <td>Abolhassan Banisadr</td>\n",
       "      <td>1980-02-04</td>\n",
       "      <td>1981-06-22</td>\n",
       "    </tr>\n",
       "    <tr>\n",
       "      <th>1</th>\n",
       "      <td>Mohammad-Ali Rajai</td>\n",
       "      <td>1981-08-02</td>\n",
       "      <td>1981-08-30</td>\n",
       "    </tr>\n",
       "    <tr>\n",
       "      <th>2</th>\n",
       "      <td>Ali Khamenei</td>\n",
       "      <td>1981-10-09</td>\n",
       "      <td>1989-08-16</td>\n",
       "    </tr>\n",
       "    <tr>\n",
       "      <th>3</th>\n",
       "      <td>Akbar Hashemi Rafsanjani</td>\n",
       "      <td>1989-08-16</td>\n",
       "      <td>1997-08-03</td>\n",
       "    </tr>\n",
       "    <tr>\n",
       "      <th>4</th>\n",
       "      <td>Mohammad Khatami</td>\n",
       "      <td>1997-08-03</td>\n",
       "      <td>2005-08-03</td>\n",
       "    </tr>\n",
       "    <tr>\n",
       "      <th>5</th>\n",
       "      <td>Mahmoud Ahmadinejad</td>\n",
       "      <td>2005-08-03</td>\n",
       "      <td>2013-08-03</td>\n",
       "    </tr>\n",
       "    <tr>\n",
       "      <th>6</th>\n",
       "      <td>Hassan Rouhani</td>\n",
       "      <td>2013-08-03</td>\n",
       "      <td>2021-08-03</td>\n",
       "    </tr>\n",
       "    <tr>\n",
       "      <th>7</th>\n",
       "      <td>Ebrahim Raisi</td>\n",
       "      <td>2021-08-03</td>\n",
       "      <td>NaT</td>\n",
       "    </tr>\n",
       "  </tbody>\n",
       "</table>\n",
       "</div>"
      ],
      "text/plain": [
       "                       name took_office left_office\n",
       "0       Abolhassan Banisadr  1980-02-04  1981-06-22\n",
       "1        Mohammad-Ali Rajai  1981-08-02  1981-08-30\n",
       "2              Ali Khamenei  1981-10-09  1989-08-16\n",
       "3  Akbar Hashemi Rafsanjani  1989-08-16  1997-08-03\n",
       "4          Mohammad Khatami  1997-08-03  2005-08-03\n",
       "5       Mahmoud Ahmadinejad  2005-08-03  2013-08-03\n",
       "6            Hassan Rouhani  2013-08-03  2021-08-03\n",
       "7             Ebrahim Raisi  2021-08-03         NaT"
      ]
     },
     "execution_count": 90,
     "metadata": {},
     "output_type": "execute_result"
    }
   ],
   "source": [
    "presidents.sort_values(\"took_office\")"
   ]
  },
  {
   "cell_type": "markdown",
   "id": "6435c61c",
   "metadata": {},
   "source": [
    "We can also now do more interesting analysis with these columns as `datetime` objects. For example, we can calculate the duration that each president was in office:"
   ]
  },
  {
   "cell_type": "code",
   "execution_count": 92,
   "id": "2e6fa4d3",
   "metadata": {},
   "outputs": [],
   "source": [
    "presidents[\"duration\"] = presidents[\"left_office\"] - presidents[\"took_office\"]"
   ]
  },
  {
   "cell_type": "code",
   "execution_count": 93,
   "id": "d0be2d98",
   "metadata": {},
   "outputs": [
    {
     "data": {
      "text/html": [
       "<div>\n",
       "<style scoped>\n",
       "    .dataframe tbody tr th:only-of-type {\n",
       "        vertical-align: middle;\n",
       "    }\n",
       "\n",
       "    .dataframe tbody tr th {\n",
       "        vertical-align: top;\n",
       "    }\n",
       "\n",
       "    .dataframe thead th {\n",
       "        text-align: right;\n",
       "    }\n",
       "</style>\n",
       "<table border=\"1\" class=\"dataframe\">\n",
       "  <thead>\n",
       "    <tr style=\"text-align: right;\">\n",
       "      <th></th>\n",
       "      <th>name</th>\n",
       "      <th>took_office</th>\n",
       "      <th>left_office</th>\n",
       "      <th>duration</th>\n",
       "    </tr>\n",
       "  </thead>\n",
       "  <tbody>\n",
       "    <tr>\n",
       "      <th>0</th>\n",
       "      <td>Abolhassan Banisadr</td>\n",
       "      <td>1980-02-04</td>\n",
       "      <td>1981-06-22</td>\n",
       "      <td>504 days</td>\n",
       "    </tr>\n",
       "    <tr>\n",
       "      <th>1</th>\n",
       "      <td>Mohammad-Ali Rajai</td>\n",
       "      <td>1981-08-02</td>\n",
       "      <td>1981-08-30</td>\n",
       "      <td>28 days</td>\n",
       "    </tr>\n",
       "    <tr>\n",
       "      <th>2</th>\n",
       "      <td>Ali Khamenei</td>\n",
       "      <td>1981-10-09</td>\n",
       "      <td>1989-08-16</td>\n",
       "      <td>2868 days</td>\n",
       "    </tr>\n",
       "    <tr>\n",
       "      <th>3</th>\n",
       "      <td>Akbar Hashemi Rafsanjani</td>\n",
       "      <td>1989-08-16</td>\n",
       "      <td>1997-08-03</td>\n",
       "      <td>2909 days</td>\n",
       "    </tr>\n",
       "    <tr>\n",
       "      <th>4</th>\n",
       "      <td>Mohammad Khatami</td>\n",
       "      <td>1997-08-03</td>\n",
       "      <td>2005-08-03</td>\n",
       "      <td>2922 days</td>\n",
       "    </tr>\n",
       "    <tr>\n",
       "      <th>5</th>\n",
       "      <td>Mahmoud Ahmadinejad</td>\n",
       "      <td>2005-08-03</td>\n",
       "      <td>2013-08-03</td>\n",
       "      <td>2922 days</td>\n",
       "    </tr>\n",
       "    <tr>\n",
       "      <th>6</th>\n",
       "      <td>Hassan Rouhani</td>\n",
       "      <td>2013-08-03</td>\n",
       "      <td>2021-08-03</td>\n",
       "      <td>2922 days</td>\n",
       "    </tr>\n",
       "    <tr>\n",
       "      <th>7</th>\n",
       "      <td>Ebrahim Raisi</td>\n",
       "      <td>2021-08-03</td>\n",
       "      <td>NaT</td>\n",
       "      <td>NaT</td>\n",
       "    </tr>\n",
       "  </tbody>\n",
       "</table>\n",
       "</div>"
      ],
      "text/plain": [
       "                       name took_office left_office  duration\n",
       "0       Abolhassan Banisadr  1980-02-04  1981-06-22  504 days\n",
       "1        Mohammad-Ali Rajai  1981-08-02  1981-08-30   28 days\n",
       "2              Ali Khamenei  1981-10-09  1989-08-16 2868 days\n",
       "3  Akbar Hashemi Rafsanjani  1989-08-16  1997-08-03 2909 days\n",
       "4          Mohammad Khatami  1997-08-03  2005-08-03 2922 days\n",
       "5       Mahmoud Ahmadinejad  2005-08-03  2013-08-03 2922 days\n",
       "6            Hassan Rouhani  2013-08-03  2021-08-03 2922 days\n",
       "7             Ebrahim Raisi  2021-08-03         NaT       NaT"
      ]
     },
     "execution_count": 93,
     "metadata": {},
     "output_type": "execute_result"
    }
   ],
   "source": [
    "presidents"
   ]
  },
  {
   "cell_type": "markdown",
   "id": "e049cab3",
   "metadata": {},
   "source": [
    "And if we wanted, we could sort our rows to see which president was in office for the shortest amount of time and which one for the longest:"
   ]
  },
  {
   "cell_type": "code",
   "execution_count": 94,
   "id": "767181d7",
   "metadata": {},
   "outputs": [
    {
     "data": {
      "text/html": [
       "<div>\n",
       "<style scoped>\n",
       "    .dataframe tbody tr th:only-of-type {\n",
       "        vertical-align: middle;\n",
       "    }\n",
       "\n",
       "    .dataframe tbody tr th {\n",
       "        vertical-align: top;\n",
       "    }\n",
       "\n",
       "    .dataframe thead th {\n",
       "        text-align: right;\n",
       "    }\n",
       "</style>\n",
       "<table border=\"1\" class=\"dataframe\">\n",
       "  <thead>\n",
       "    <tr style=\"text-align: right;\">\n",
       "      <th></th>\n",
       "      <th>name</th>\n",
       "      <th>took_office</th>\n",
       "      <th>left_office</th>\n",
       "      <th>duration</th>\n",
       "    </tr>\n",
       "  </thead>\n",
       "  <tbody>\n",
       "    <tr>\n",
       "      <th>1</th>\n",
       "      <td>Mohammad-Ali Rajai</td>\n",
       "      <td>1981-08-02</td>\n",
       "      <td>1981-08-30</td>\n",
       "      <td>28 days</td>\n",
       "    </tr>\n",
       "    <tr>\n",
       "      <th>0</th>\n",
       "      <td>Abolhassan Banisadr</td>\n",
       "      <td>1980-02-04</td>\n",
       "      <td>1981-06-22</td>\n",
       "      <td>504 days</td>\n",
       "    </tr>\n",
       "    <tr>\n",
       "      <th>2</th>\n",
       "      <td>Ali Khamenei</td>\n",
       "      <td>1981-10-09</td>\n",
       "      <td>1989-08-16</td>\n",
       "      <td>2868 days</td>\n",
       "    </tr>\n",
       "    <tr>\n",
       "      <th>3</th>\n",
       "      <td>Akbar Hashemi Rafsanjani</td>\n",
       "      <td>1989-08-16</td>\n",
       "      <td>1997-08-03</td>\n",
       "      <td>2909 days</td>\n",
       "    </tr>\n",
       "    <tr>\n",
       "      <th>4</th>\n",
       "      <td>Mohammad Khatami</td>\n",
       "      <td>1997-08-03</td>\n",
       "      <td>2005-08-03</td>\n",
       "      <td>2922 days</td>\n",
       "    </tr>\n",
       "    <tr>\n",
       "      <th>5</th>\n",
       "      <td>Mahmoud Ahmadinejad</td>\n",
       "      <td>2005-08-03</td>\n",
       "      <td>2013-08-03</td>\n",
       "      <td>2922 days</td>\n",
       "    </tr>\n",
       "    <tr>\n",
       "      <th>6</th>\n",
       "      <td>Hassan Rouhani</td>\n",
       "      <td>2013-08-03</td>\n",
       "      <td>2021-08-03</td>\n",
       "      <td>2922 days</td>\n",
       "    </tr>\n",
       "    <tr>\n",
       "      <th>7</th>\n",
       "      <td>Ebrahim Raisi</td>\n",
       "      <td>2021-08-03</td>\n",
       "      <td>NaT</td>\n",
       "      <td>NaT</td>\n",
       "    </tr>\n",
       "  </tbody>\n",
       "</table>\n",
       "</div>"
      ],
      "text/plain": [
       "                       name took_office left_office  duration\n",
       "1        Mohammad-Ali Rajai  1981-08-02  1981-08-30   28 days\n",
       "0       Abolhassan Banisadr  1980-02-04  1981-06-22  504 days\n",
       "2              Ali Khamenei  1981-10-09  1989-08-16 2868 days\n",
       "3  Akbar Hashemi Rafsanjani  1989-08-16  1997-08-03 2909 days\n",
       "4          Mohammad Khatami  1997-08-03  2005-08-03 2922 days\n",
       "5       Mahmoud Ahmadinejad  2005-08-03  2013-08-03 2922 days\n",
       "6            Hassan Rouhani  2013-08-03  2021-08-03 2922 days\n",
       "7             Ebrahim Raisi  2021-08-03         NaT       NaT"
      ]
     },
     "execution_count": 94,
     "metadata": {},
     "output_type": "execute_result"
    }
   ],
   "source": [
    "presidents.sort_values(\"duration\")"
   ]
  },
  {
   "cell_type": "markdown",
   "id": "07fa051d",
   "metadata": {},
   "source": [
    "## Jalali dates\n",
    "Oftentimes, Iranian datasets may use the Jalali calendar rather than the Gregorian calendar. The `datetime` classes are formatted in terms of the Gregorian calendar. However, for this exact problem, someone has created [another package](https://pypi.org/project/jdatetime/) called `jdatetime`, which is \"a Jalali implementation of Python’s datetime module.\""
   ]
  },
  {
   "cell_type": "code",
   "execution_count": 1,
   "id": "3070c5f3",
   "metadata": {},
   "outputs": [],
   "source": [
    "import jdatetime as jdt"
   ]
  },
  {
   "cell_type": "markdown",
   "id": "699f183c",
   "metadata": {},
   "source": [
    "We can do very similar things with the `jdatetime` package as we did with the `datetime`, including getting objects that represent the current `datetime` and `date`, except now according to the Jalali calendar:"
   ]
  },
  {
   "cell_type": "code",
   "execution_count": 2,
   "id": "05176c30",
   "metadata": {
    "scrolled": true
   },
   "outputs": [
    {
     "data": {
      "text/plain": [
       "jdatetime.datetime(1401, 12, 2, 17, 22, 39, 271776)"
      ]
     },
     "execution_count": 2,
     "metadata": {},
     "output_type": "execute_result"
    }
   ],
   "source": [
    "jdt.datetime.now()"
   ]
  },
  {
   "cell_type": "code",
   "execution_count": 3,
   "id": "e3e67ed6",
   "metadata": {},
   "outputs": [
    {
     "data": {
      "text/plain": [
       "jdatetime.date(1401, 12, 2)"
      ]
     },
     "execution_count": 3,
     "metadata": {},
     "output_type": "execute_result"
    }
   ],
   "source": [
    "jdt.date.today()"
   ]
  },
  {
   "cell_type": "markdown",
   "id": "821e9b36",
   "metadata": {},
   "source": [
    "### Converting between Jalali and Gregorian calendar dates\n",
    "The `jdatetime` module also offers functions that allow you to convert from Gregorian calendar to Jalali, and vice-versa."
   ]
  },
  {
   "cell_type": "code",
   "execution_count": 27,
   "id": "763e458c",
   "metadata": {},
   "outputs": [
    {
     "data": {
      "text/plain": [
       "jdatetime.date(1389, 10, 10)"
      ]
     },
     "execution_count": 27,
     "metadata": {},
     "output_type": "execute_result"
    }
   ],
   "source": [
    "jdt.date.fromgregorian(day=31, month=12, year=2010)"
   ]
  },
  {
   "cell_type": "code",
   "execution_count": 28,
   "id": "4c0d57b3",
   "metadata": {},
   "outputs": [
    {
     "data": {
      "text/plain": [
       "datetime.date(2010, 12, 31)"
      ]
     },
     "execution_count": 28,
     "metadata": {},
     "output_type": "execute_result"
    }
   ],
   "source": [
    "jdt.date(1389,10,10).togregorian()"
   ]
  },
  {
   "cell_type": "markdown",
   "id": "9a391565",
   "metadata": {},
   "source": [
    "### Formatting Jalali date strings\n",
    "Note that for formatted strings, you may need to add a locale as an argument (`locale=\"fa_IR\"`) when you create your `date` or `datetime` object. Otherwise, the string may be written with Roman characters."
   ]
  },
  {
   "cell_type": "code",
   "execution_count": 24,
   "id": "b275ec47",
   "metadata": {
    "scrolled": false
   },
   "outputs": [
    {
     "name": "stdout",
     "output_type": "stream",
     "text": [
      "Saturday, 23 Tir 1397\n",
      "شنبه, 23 تیر 1397\n"
     ]
    }
   ],
   "source": [
    "en_date = jdt.date(1397, 4, 23)\n",
    "fa_date = jdt.date(1397, 4, 23, locale=\"fa_IR\")\n",
    "\n",
    "print(en_date.strftime(\"%A, %d %b %Y\"))\n",
    "print(fa_date.strftime(\"%A, %d %b %Y\"))"
   ]
  },
  {
   "cell_type": "markdown",
   "id": "d948ec56",
   "metadata": {},
   "source": [
    "## Jalali dates inside a DataFrame\n",
    "\n",
    "Now let's do a brief example of a `DataFrame` with Jalali dates. Here we'll use data on [consumption of energy products by year](https://iranopendata.org/en/dataset/consumption-energy-products-2-1355-1397)"
   ]
  },
  {
   "cell_type": "code",
   "execution_count": 98,
   "id": "798b1172",
   "metadata": {
    "scrolled": true
   },
   "outputs": [],
   "source": [
    "df = pd.read_csv(\"../../input/niocnre2144-consumption-energy-products-2-1355-1397-en.csv\")"
   ]
  },
  {
   "cell_type": "code",
   "execution_count": 104,
   "id": "ccd24471",
   "metadata": {},
   "outputs": [
    {
     "data": {
      "text/html": [
       "<div>\n",
       "<style scoped>\n",
       "    .dataframe tbody tr th:only-of-type {\n",
       "        vertical-align: middle;\n",
       "    }\n",
       "\n",
       "    .dataframe tbody tr th {\n",
       "        vertical-align: top;\n",
       "    }\n",
       "\n",
       "    .dataframe thead th {\n",
       "        text-align: right;\n",
       "    }\n",
       "</style>\n",
       "<table border=\"1\" class=\"dataframe\">\n",
       "  <thead>\n",
       "    <tr style=\"text-align: right;\">\n",
       "      <th></th>\n",
       "      <th>year</th>\n",
       "      <th>natural gas - one thousand barrels of crude oil per day</th>\n",
       "      <th>liquid petroleum gas - one thousand barrels of crude oil per day</th>\n",
       "      <th>petrol - one thousand barrels of crude oil per day</th>\n",
       "      <th>naphtha - one thousand barrels of crude oil per day</th>\n",
       "      <th>diesel - one thousand barrels of crude oil per day</th>\n",
       "      <th>fuel oil - one thousand barrels of crude oil per day</th>\n",
       "      <th>jet fuel - one thousand barrels of crude oil per day</th>\n",
       "      <th>total - one thousand barrels of crude oil per day</th>\n",
       "    </tr>\n",
       "  </thead>\n",
       "  <tbody>\n",
       "    <tr>\n",
       "      <th>0</th>\n",
       "      <td>1355</td>\n",
       "      <td>45</td>\n",
       "      <td>9</td>\n",
       "      <td>61</td>\n",
       "      <td>86</td>\n",
       "      <td>126</td>\n",
       "      <td>104</td>\n",
       "      <td>19</td>\n",
       "      <td>449</td>\n",
       "    </tr>\n",
       "    <tr>\n",
       "      <th>1</th>\n",
       "      <td>1356</td>\n",
       "      <td>57</td>\n",
       "      <td>12</td>\n",
       "      <td>73</td>\n",
       "      <td>96</td>\n",
       "      <td>152</td>\n",
       "      <td>111</td>\n",
       "      <td>23</td>\n",
       "      <td>524</td>\n",
       "    </tr>\n",
       "    <tr>\n",
       "      <th>2</th>\n",
       "      <td>1357</td>\n",
       "      <td>43</td>\n",
       "      <td>12</td>\n",
       "      <td>79</td>\n",
       "      <td>96</td>\n",
       "      <td>159</td>\n",
       "      <td>108</td>\n",
       "      <td>19</td>\n",
       "      <td>515</td>\n",
       "    </tr>\n",
       "    <tr>\n",
       "      <th>3</th>\n",
       "      <td>1358</td>\n",
       "      <td>63</td>\n",
       "      <td>13</td>\n",
       "      <td>89</td>\n",
       "      <td>118</td>\n",
       "      <td>158</td>\n",
       "      <td>114</td>\n",
       "      <td>10</td>\n",
       "      <td>565</td>\n",
       "    </tr>\n",
       "    <tr>\n",
       "      <th>4</th>\n",
       "      <td>1359</td>\n",
       "      <td>71</td>\n",
       "      <td>12</td>\n",
       "      <td>75</td>\n",
       "      <td>92</td>\n",
       "      <td>155</td>\n",
       "      <td>134</td>\n",
       "      <td>10</td>\n",
       "      <td>549</td>\n",
       "    </tr>\n",
       "  </tbody>\n",
       "</table>\n",
       "</div>"
      ],
      "text/plain": [
       "   year  natural gas - one thousand barrels of crude oil per day  \\\n",
       "0  1355                                                 45         \n",
       "1  1356                                                 57         \n",
       "2  1357                                                 43         \n",
       "3  1358                                                 63         \n",
       "4  1359                                                 71         \n",
       "\n",
       "   liquid petroleum gas - one thousand barrels of crude oil per day  \\\n",
       "0                                                  9                  \n",
       "1                                                 12                  \n",
       "2                                                 12                  \n",
       "3                                                 13                  \n",
       "4                                                 12                  \n",
       "\n",
       "   petrol - one thousand barrels of crude oil per day  \\\n",
       "0                                                 61    \n",
       "1                                                 73    \n",
       "2                                                 79    \n",
       "3                                                 89    \n",
       "4                                                 75    \n",
       "\n",
       "   naphtha - one thousand barrels of crude oil per day  \\\n",
       "0                                                 86     \n",
       "1                                                 96     \n",
       "2                                                 96     \n",
       "3                                                118     \n",
       "4                                                 92     \n",
       "\n",
       "   diesel - one thousand barrels of crude oil per day  \\\n",
       "0                                                126    \n",
       "1                                                152    \n",
       "2                                                159    \n",
       "3                                                158    \n",
       "4                                                155    \n",
       "\n",
       "   fuel oil - one thousand barrels of crude oil per day  \\\n",
       "0                                                104      \n",
       "1                                                111      \n",
       "2                                                108      \n",
       "3                                                114      \n",
       "4                                                134      \n",
       "\n",
       "   jet fuel - one thousand barrels of crude oil per day  \\\n",
       "0                                                 19      \n",
       "1                                                 23      \n",
       "2                                                 19      \n",
       "3                                                 10      \n",
       "4                                                 10      \n",
       "\n",
       "   total - one thousand barrels of crude oil per day  \n",
       "0                                                449  \n",
       "1                                                524  \n",
       "2                                                515  \n",
       "3                                                565  \n",
       "4                                                549  "
      ]
     },
     "execution_count": 104,
     "metadata": {},
     "output_type": "execute_result"
    }
   ],
   "source": [
    "df.head()"
   ]
  },
  {
   "cell_type": "markdown",
   "id": "75223e9a",
   "metadata": {},
   "source": [
    "We can see that the years get read in as integers:"
   ]
  },
  {
   "cell_type": "code",
   "execution_count": 100,
   "id": "7ccdfbb9",
   "metadata": {},
   "outputs": [
    {
     "data": {
      "text/plain": [
       "year                                                                int64\n",
       "natural gas - one thousand barrels of crude oil per day             int64\n",
       "liquid petroleum gas - one thousand barrels of crude oil per day    int64\n",
       "petrol - one thousand barrels of crude oil per day                  int64\n",
       "naphtha - one thousand barrels of crude oil per day                 int64\n",
       "diesel - one thousand barrels of crude oil per day                  int64\n",
       "fuel oil - one thousand barrels of crude oil per day                int64\n",
       "jet fuel - one thousand barrels of crude oil per day                int64\n",
       "total - one thousand barrels of crude oil per day                   int64\n",
       "dtype: object"
      ]
     },
     "execution_count": 100,
     "metadata": {},
     "output_type": "execute_result"
    }
   ],
   "source": [
    "df.dtypes"
   ]
  },
  {
   "cell_type": "markdown",
   "id": "d2f52cb7",
   "metadata": {},
   "source": [
    "If we wanted to convert the year into a Jalali `datetime`, we can use the `apply()` function that comes with the `DataFrame` class. From this, we can give it a function to apply to each row. In this case, we take the `\"year\"` variable of a given row and use it to create a `date` object from the `jdatetime` library:"
   ]
  },
  {
   "cell_type": "code",
   "execution_count": 112,
   "id": "21ec7caa",
   "metadata": {},
   "outputs": [],
   "source": [
    "df[\"jdt_year\"] = df.apply(lambda row: jdt.date(row[\"year\"], 1, 1), axis=1)"
   ]
  },
  {
   "cell_type": "code",
   "execution_count": 116,
   "id": "1a7f6914",
   "metadata": {
    "scrolled": true
   },
   "outputs": [
    {
     "data": {
      "text/html": [
       "<div>\n",
       "<style scoped>\n",
       "    .dataframe tbody tr th:only-of-type {\n",
       "        vertical-align: middle;\n",
       "    }\n",
       "\n",
       "    .dataframe tbody tr th {\n",
       "        vertical-align: top;\n",
       "    }\n",
       "\n",
       "    .dataframe thead th {\n",
       "        text-align: right;\n",
       "    }\n",
       "</style>\n",
       "<table border=\"1\" class=\"dataframe\">\n",
       "  <thead>\n",
       "    <tr style=\"text-align: right;\">\n",
       "      <th></th>\n",
       "      <th>year</th>\n",
       "      <th>natural gas - one thousand barrels of crude oil per day</th>\n",
       "      <th>liquid petroleum gas - one thousand barrels of crude oil per day</th>\n",
       "      <th>petrol - one thousand barrels of crude oil per day</th>\n",
       "      <th>naphtha - one thousand barrels of crude oil per day</th>\n",
       "      <th>diesel - one thousand barrels of crude oil per day</th>\n",
       "      <th>fuel oil - one thousand barrels of crude oil per day</th>\n",
       "      <th>jet fuel - one thousand barrels of crude oil per day</th>\n",
       "      <th>total - one thousand barrels of crude oil per day</th>\n",
       "      <th>jdt_year</th>\n",
       "      <th>dt_year</th>\n",
       "    </tr>\n",
       "  </thead>\n",
       "  <tbody>\n",
       "    <tr>\n",
       "      <th>0</th>\n",
       "      <td>1355</td>\n",
       "      <td>45</td>\n",
       "      <td>9</td>\n",
       "      <td>61</td>\n",
       "      <td>86</td>\n",
       "      <td>126</td>\n",
       "      <td>104</td>\n",
       "      <td>19</td>\n",
       "      <td>449</td>\n",
       "      <td>1355-01-01</td>\n",
       "      <td>1976-03-21</td>\n",
       "    </tr>\n",
       "    <tr>\n",
       "      <th>1</th>\n",
       "      <td>1356</td>\n",
       "      <td>57</td>\n",
       "      <td>12</td>\n",
       "      <td>73</td>\n",
       "      <td>96</td>\n",
       "      <td>152</td>\n",
       "      <td>111</td>\n",
       "      <td>23</td>\n",
       "      <td>524</td>\n",
       "      <td>1356-01-01</td>\n",
       "      <td>1977-03-21</td>\n",
       "    </tr>\n",
       "    <tr>\n",
       "      <th>2</th>\n",
       "      <td>1357</td>\n",
       "      <td>43</td>\n",
       "      <td>12</td>\n",
       "      <td>79</td>\n",
       "      <td>96</td>\n",
       "      <td>159</td>\n",
       "      <td>108</td>\n",
       "      <td>19</td>\n",
       "      <td>515</td>\n",
       "      <td>1357-01-01</td>\n",
       "      <td>1978-03-21</td>\n",
       "    </tr>\n",
       "    <tr>\n",
       "      <th>3</th>\n",
       "      <td>1358</td>\n",
       "      <td>63</td>\n",
       "      <td>13</td>\n",
       "      <td>89</td>\n",
       "      <td>118</td>\n",
       "      <td>158</td>\n",
       "      <td>114</td>\n",
       "      <td>10</td>\n",
       "      <td>565</td>\n",
       "      <td>1358-01-01</td>\n",
       "      <td>1979-03-21</td>\n",
       "    </tr>\n",
       "    <tr>\n",
       "      <th>4</th>\n",
       "      <td>1359</td>\n",
       "      <td>71</td>\n",
       "      <td>12</td>\n",
       "      <td>75</td>\n",
       "      <td>92</td>\n",
       "      <td>155</td>\n",
       "      <td>134</td>\n",
       "      <td>10</td>\n",
       "      <td>549</td>\n",
       "      <td>1359-01-01</td>\n",
       "      <td>1980-03-21</td>\n",
       "    </tr>\n",
       "  </tbody>\n",
       "</table>\n",
       "</div>"
      ],
      "text/plain": [
       "   year  natural gas - one thousand barrels of crude oil per day  \\\n",
       "0  1355                                                 45         \n",
       "1  1356                                                 57         \n",
       "2  1357                                                 43         \n",
       "3  1358                                                 63         \n",
       "4  1359                                                 71         \n",
       "\n",
       "   liquid petroleum gas - one thousand barrels of crude oil per day  \\\n",
       "0                                                  9                  \n",
       "1                                                 12                  \n",
       "2                                                 12                  \n",
       "3                                                 13                  \n",
       "4                                                 12                  \n",
       "\n",
       "   petrol - one thousand barrels of crude oil per day  \\\n",
       "0                                                 61    \n",
       "1                                                 73    \n",
       "2                                                 79    \n",
       "3                                                 89    \n",
       "4                                                 75    \n",
       "\n",
       "   naphtha - one thousand barrels of crude oil per day  \\\n",
       "0                                                 86     \n",
       "1                                                 96     \n",
       "2                                                 96     \n",
       "3                                                118     \n",
       "4                                                 92     \n",
       "\n",
       "   diesel - one thousand barrels of crude oil per day  \\\n",
       "0                                                126    \n",
       "1                                                152    \n",
       "2                                                159    \n",
       "3                                                158    \n",
       "4                                                155    \n",
       "\n",
       "   fuel oil - one thousand barrels of crude oil per day  \\\n",
       "0                                                104      \n",
       "1                                                111      \n",
       "2                                                108      \n",
       "3                                                114      \n",
       "4                                                134      \n",
       "\n",
       "   jet fuel - one thousand barrels of crude oil per day  \\\n",
       "0                                                 19      \n",
       "1                                                 23      \n",
       "2                                                 19      \n",
       "3                                                 10      \n",
       "4                                                 10      \n",
       "\n",
       "   total - one thousand barrels of crude oil per day    jdt_year     dt_year  \n",
       "0                                                449  1355-01-01  1976-03-21  \n",
       "1                                                524  1356-01-01  1977-03-21  \n",
       "2                                                515  1357-01-01  1978-03-21  \n",
       "3                                                565  1358-01-01  1979-03-21  \n",
       "4                                                549  1359-01-01  1980-03-21  "
      ]
     },
     "execution_count": 116,
     "metadata": {},
     "output_type": "execute_result"
    }
   ],
   "source": [
    "df.head()"
   ]
  },
  {
   "cell_type": "markdown",
   "id": "6a949e51",
   "metadata": {},
   "source": [
    "Now that we are using a `date` class from the `jdatetime` module, we can use its `togregorian()` function if we want to convert it to the Gregorian calendar:"
   ]
  },
  {
   "cell_type": "code",
   "execution_count": 123,
   "id": "6fc3ce9e",
   "metadata": {},
   "outputs": [],
   "source": [
    "df[\"dt_year\"] = df.apply(lambda row: row[\"jdt_year\"].togregorian(), axis=1)"
   ]
  },
  {
   "cell_type": "code",
   "execution_count": 124,
   "id": "afb3b965",
   "metadata": {},
   "outputs": [
    {
     "data": {
      "text/html": [
       "<div>\n",
       "<style scoped>\n",
       "    .dataframe tbody tr th:only-of-type {\n",
       "        vertical-align: middle;\n",
       "    }\n",
       "\n",
       "    .dataframe tbody tr th {\n",
       "        vertical-align: top;\n",
       "    }\n",
       "\n",
       "    .dataframe thead th {\n",
       "        text-align: right;\n",
       "    }\n",
       "</style>\n",
       "<table border=\"1\" class=\"dataframe\">\n",
       "  <thead>\n",
       "    <tr style=\"text-align: right;\">\n",
       "      <th></th>\n",
       "      <th>year</th>\n",
       "      <th>natural gas - one thousand barrels of crude oil per day</th>\n",
       "      <th>liquid petroleum gas - one thousand barrels of crude oil per day</th>\n",
       "      <th>petrol - one thousand barrels of crude oil per day</th>\n",
       "      <th>naphtha - one thousand barrels of crude oil per day</th>\n",
       "      <th>diesel - one thousand barrels of crude oil per day</th>\n",
       "      <th>fuel oil - one thousand barrels of crude oil per day</th>\n",
       "      <th>jet fuel - one thousand barrels of crude oil per day</th>\n",
       "      <th>total - one thousand barrels of crude oil per day</th>\n",
       "      <th>jdt_year</th>\n",
       "      <th>dt_year</th>\n",
       "    </tr>\n",
       "  </thead>\n",
       "  <tbody>\n",
       "    <tr>\n",
       "      <th>0</th>\n",
       "      <td>1355</td>\n",
       "      <td>45</td>\n",
       "      <td>9</td>\n",
       "      <td>61</td>\n",
       "      <td>86</td>\n",
       "      <td>126</td>\n",
       "      <td>104</td>\n",
       "      <td>19</td>\n",
       "      <td>449</td>\n",
       "      <td>1355-01-01</td>\n",
       "      <td>1976-03-21</td>\n",
       "    </tr>\n",
       "    <tr>\n",
       "      <th>1</th>\n",
       "      <td>1356</td>\n",
       "      <td>57</td>\n",
       "      <td>12</td>\n",
       "      <td>73</td>\n",
       "      <td>96</td>\n",
       "      <td>152</td>\n",
       "      <td>111</td>\n",
       "      <td>23</td>\n",
       "      <td>524</td>\n",
       "      <td>1356-01-01</td>\n",
       "      <td>1977-03-21</td>\n",
       "    </tr>\n",
       "    <tr>\n",
       "      <th>2</th>\n",
       "      <td>1357</td>\n",
       "      <td>43</td>\n",
       "      <td>12</td>\n",
       "      <td>79</td>\n",
       "      <td>96</td>\n",
       "      <td>159</td>\n",
       "      <td>108</td>\n",
       "      <td>19</td>\n",
       "      <td>515</td>\n",
       "      <td>1357-01-01</td>\n",
       "      <td>1978-03-21</td>\n",
       "    </tr>\n",
       "    <tr>\n",
       "      <th>3</th>\n",
       "      <td>1358</td>\n",
       "      <td>63</td>\n",
       "      <td>13</td>\n",
       "      <td>89</td>\n",
       "      <td>118</td>\n",
       "      <td>158</td>\n",
       "      <td>114</td>\n",
       "      <td>10</td>\n",
       "      <td>565</td>\n",
       "      <td>1358-01-01</td>\n",
       "      <td>1979-03-21</td>\n",
       "    </tr>\n",
       "    <tr>\n",
       "      <th>4</th>\n",
       "      <td>1359</td>\n",
       "      <td>71</td>\n",
       "      <td>12</td>\n",
       "      <td>75</td>\n",
       "      <td>92</td>\n",
       "      <td>155</td>\n",
       "      <td>134</td>\n",
       "      <td>10</td>\n",
       "      <td>549</td>\n",
       "      <td>1359-01-01</td>\n",
       "      <td>1980-03-21</td>\n",
       "    </tr>\n",
       "  </tbody>\n",
       "</table>\n",
       "</div>"
      ],
      "text/plain": [
       "   year  natural gas - one thousand barrels of crude oil per day  \\\n",
       "0  1355                                                 45         \n",
       "1  1356                                                 57         \n",
       "2  1357                                                 43         \n",
       "3  1358                                                 63         \n",
       "4  1359                                                 71         \n",
       "\n",
       "   liquid petroleum gas - one thousand barrels of crude oil per day  \\\n",
       "0                                                  9                  \n",
       "1                                                 12                  \n",
       "2                                                 12                  \n",
       "3                                                 13                  \n",
       "4                                                 12                  \n",
       "\n",
       "   petrol - one thousand barrels of crude oil per day  \\\n",
       "0                                                 61    \n",
       "1                                                 73    \n",
       "2                                                 79    \n",
       "3                                                 89    \n",
       "4                                                 75    \n",
       "\n",
       "   naphtha - one thousand barrels of crude oil per day  \\\n",
       "0                                                 86     \n",
       "1                                                 96     \n",
       "2                                                 96     \n",
       "3                                                118     \n",
       "4                                                 92     \n",
       "\n",
       "   diesel - one thousand barrels of crude oil per day  \\\n",
       "0                                                126    \n",
       "1                                                152    \n",
       "2                                                159    \n",
       "3                                                158    \n",
       "4                                                155    \n",
       "\n",
       "   fuel oil - one thousand barrels of crude oil per day  \\\n",
       "0                                                104      \n",
       "1                                                111      \n",
       "2                                                108      \n",
       "3                                                114      \n",
       "4                                                134      \n",
       "\n",
       "   jet fuel - one thousand barrels of crude oil per day  \\\n",
       "0                                                 19      \n",
       "1                                                 23      \n",
       "2                                                 19      \n",
       "3                                                 10      \n",
       "4                                                 10      \n",
       "\n",
       "   total - one thousand barrels of crude oil per day    jdt_year     dt_year  \n",
       "0                                                449  1355-01-01  1976-03-21  \n",
       "1                                                524  1356-01-01  1977-03-21  \n",
       "2                                                515  1357-01-01  1978-03-21  \n",
       "3                                                565  1358-01-01  1979-03-21  \n",
       "4                                                549  1359-01-01  1980-03-21  "
      ]
     },
     "execution_count": 124,
     "metadata": {},
     "output_type": "execute_result"
    }
   ],
   "source": [
    "df.head()"
   ]
  }
 ],
 "metadata": {
  "kernelspec": {
   "display_name": "Python 3 (ipykernel)",
   "language": "python",
   "name": "python3"
  },
  "language_info": {
   "codemirror_mode": {
    "name": "ipython",
    "version": 3
   },
   "file_extension": ".py",
   "mimetype": "text/x-python",
   "name": "python",
   "nbconvert_exporter": "python",
   "pygments_lexer": "ipython3",
   "version": "3.7.16"
  }
 },
 "nbformat": 4,
 "nbformat_minor": 5
}
