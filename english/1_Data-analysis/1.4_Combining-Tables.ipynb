{
 "cells": [
  {
   "cell_type": "markdown",
   "metadata": {
    "id": "rtO6AezzpvGi"
   },
   "source": [
    "# Combining Data from Multiple Tables\n"
   ]
  },
  {
   "cell_type": "code",
   "execution_count": null,
   "metadata": {
    "id": "yYgdy3oa1lot"
   },
   "outputs": [],
   "source": [
    "import pandas as pd"
   ]
  },
  {
   "cell_type": "markdown",
   "metadata": {
    "id": "0YmhWg7gqJYn"
   },
   "source": [
    "## Introduction"
   ]
  },
  {
   "cell_type": "markdown",
   "metadata": {
    "id": "7sTXdbQqqJUb"
   },
   "source": [
    "This lesson will allow you to work with data from multiple sources to enhance your storytelling capabilities and uncover valuable insights. In this Jupyter notebook, we will explore how to merge data from multiple tables using the pandas library in Python."
   ]
  },
  {
   "cell_type": "markdown",
   "metadata": {
    "id": "2dA9efVSTO1h"
   },
   "source": [
    "## What does it mean to combine tables, and why would we want to do it?\n",
    "We now define what it means to combine tables and provide motivation for doing so. Consider this table in the form of a pandas DataFrame:"
   ]
  },
  {
   "cell_type": "code",
   "execution_count": null,
   "metadata": {
    "colab": {
     "base_uri": "https://localhost:8080/",
     "height": 314
    },
    "id": "MKGQWhR-TjXE",
    "outputId": "91072620-1eb3-4c5f-f842-8a362c96d044"
   },
   "outputs": [],
   "source": [
    "# Larger product table\n",
    "product_data = {\n",
    "    'Product ID': [101, 102, 103, 104, 105, 106, 107, 108],\n",
    "    'Product Name': ['Laptop', 'Smartphone', 'Tablet', 'Smartwatch', 'Laptop', 'Smartphone', 'Tablet', 'Smartwatch'],\n",
    "    'Category': ['Electronics', 'Electronics', 'Electronics', 'Electronics', 'Electronics', 'Electronics', 'Electronics', 'Electronics'],\n",
    "    'Brand': ['Brand A', 'Brand A', 'Brand A', 'Brand A', 'Brand B', 'Brand B', 'Brand B', 'Brand B']\n",
    "}\n",
    "\n",
    "product_df = pd.DataFrame(product_data)\n",
    "print(\"Product Table:\")\n",
    "display(product_df)"
   ]
  },
  {
   "cell_type": "markdown",
   "metadata": {
    "id": "gskL8epHWK6b"
   },
   "source": [
    "Each row has an index (on the left side of the table) and these attributes: `Product ID`, `Product Name`, and `Category`.\n",
    "\n",
    "We *combine tables* when we integrate the information in one table with the information in another to obtain a larger dataset or a dataset with a larger capacity for insights. Suppose we had another table with the following information:\n"
   ]
  },
  {
   "cell_type": "code",
   "execution_count": null,
   "metadata": {
    "colab": {
     "base_uri": "https://localhost:8080/",
     "height": 331
    },
    "id": "C8Z9ovIxWY-L",
    "outputId": "3255d6e3-2d96-4d26-de3d-7d7cb0238ce8"
   },
   "outputs": [],
   "source": [
    "# Separate table with product ID and cost\n",
    "cost_data = {\n",
    "    'Product ID': [101, 102, 103, 104, 105, 106, 107, 108],\n",
    "    'Cost': [800, 500, 300, 250, 850, 550, 350, 275]\n",
    "}\n",
    "\n",
    "cost_df = pd.DataFrame(cost_data)\n",
    "print(\"\\nCost Table:\")\n",
    "display(cost_df)"
   ]
  },
  {
   "cell_type": "markdown",
   "metadata": {
    "id": "BQ6JCllVWr5Z"
   },
   "source": [
    "Alone, the first table does not provide much opportunity for insight. It allows us to create a histogram of product types and a sense of which brands offers which products, but little else. By combining the first table with the second table, we can unlock deeper insights. What are some additional forms of analysis we could do by combining the first and second tables?\n",
    "*   Determine the average cost of each product, e.g. the average cost of a smartphone.\n",
    "*   Determine the % difference in cost between the average Brand A smartphone and the average Brand B smartphone.\n",
    "\n"
   ]
  },
  {
   "cell_type": "markdown",
   "metadata": {
    "id": "aIBOlq5Is8hO"
   },
   "source": [
    "\n",
    "## Merging tables with pandas\n",
    "\n",
    "Depending on what kind of programming language you are using, there are different technical tools for storing tables and combining them. In this lesson, we store data in pandas DataFrames, and we use the pandas merge function to combine them."
   ]
  },
  {
   "cell_type": "markdown",
   "metadata": {
    "id": "JHAvUQRf3soJ"
   },
   "source": [
    "Below, we use the `pd.merge` function ([documentation here](https://pandas.pydata.org/pandas-docs/stable/reference/api/pandas.merge.html)) to merge the DataFrames above:"
   ]
  },
  {
   "cell_type": "code",
   "execution_count": null,
   "metadata": {
    "colab": {
     "base_uri": "https://localhost:8080/",
     "height": 297
    },
    "id": "q7zyWnKayuBN",
    "outputId": "62ab1175-f42c-45d4-e9c7-28d447350631"
   },
   "outputs": [],
   "source": [
    "pd.merge(product_df, cost_df, on='Product ID')"
   ]
  },
  {
   "cell_type": "markdown",
   "metadata": {
    "id": "hUgavUtLS_gG"
   },
   "source": [
    "`pd.merge` also has a `how` parameter. Since we did not specify it above, it took on a default value of `inner`. In a moment, we will go more in depth on what the `how` parameter signifies.\n",
    "\n",
    "Before merging tables, we can first carefully envision what kind of table we want to produce. By understanding the information that you want to capture in the resulting table, you can understand what kind of merge operation is appropriate.\n",
    "\n",
    "When we perform a merge operation, we use a certain column as a basis for merging. In the above example, we used Product ID. Notice that both tables had all the same product IDs available—both had 101 through 108. Suppose that one table had only 101 through 106. What would we do then? This is why we need to consider the 'how' parameter of the merge function. In the examples below, we illustrate how different kinds of joins can allow us to work with situations where we have missing data in a DataFrame."
   ]
  },
  {
   "cell_type": "markdown",
   "metadata": {
    "id": "Ijs9DDu4TbcY"
   },
   "source": [
    "#### Left Merge (`how = 'left'`)"
   ]
  },
  {
   "cell_type": "markdown",
   "metadata": {
    "id": "Z4Zr07z19lDA"
   },
   "source": [
    "Imagine that we have a dataset of all of the cities that have been affected by a recent disease outbreak. We have a dataset that contains a list of those cities and their city IDs. Suppose we also have a dataset with populations correspondign to several city IDs, but the population DataFrame does not include all of the city IDs that have been affected by the outbreak. Now suppose we want to create a table with each city and its population for a publication. We want to make sure that each city that has been affected by the outbreak is included in the table. We accomplish this as follows:"
   ]
  },
  {
   "cell_type": "code",
   "execution_count": null,
   "metadata": {
    "colab": {
     "base_uri": "https://localhost:8080/",
     "height": 142
    },
    "id": "5mb7cYPC9377",
    "outputId": "eca7173e-14d5-4951-d0df-299d0c0dd0d1"
   },
   "outputs": [],
   "source": [
    "iranian_cities = pd.DataFrame({'city_id': [1, 2, 3], 'city_name': ['Tehran', 'Mashhad', 'Isfahan']})\n",
    "city_populations = pd.DataFrame({'city_id': [1, 2], 'population': [9172195, 3203253]})\n",
    "\n",
    "merged = pd.merge(left = iranian_cities, right = city_populations, on='city_id', how='left')\n",
    "merged"
   ]
  },
  {
   "cell_type": "markdown",
   "metadata": {
    "id": "ZT2bm6sVE-N-"
   },
   "source": [
    "The `merge` function will take all the rows from the left DataFrame (`iranian_cities`) and attempt to match them with the corresponding rows in the right DataFrame (`city_populations`) based on the `city_id` column. If a matching row is found in the right DataFrame, then the corresponding information from the right DataFrame is included in the resulting DataFrame. If no matching row is found, then the values in the right DataFrame will be filled with NaN.\n",
    "\n",
    "#### Right Merge (`how = 'right'`)\n",
    "\n",
    "Hence, by specifying `how='left'`, we ensure that all the cities in `iranian_cities` DataFrame are present in the resulting DataFrame, regardless of whether or not there is a corresponding row in the `city_populations` DataFrame. If we had specified `how='right'`, then all the cities in `city_populations` DataFrame would have been included in the resulting DataFrame, and any cities in `iranian_cities` without a corresponding row in `city_populations` would have been excluded, as we see below:"
   ]
  },
  {
   "cell_type": "code",
   "execution_count": null,
   "metadata": {
    "colab": {
     "base_uri": "https://localhost:8080/",
     "height": 111
    },
    "id": "CrXkD0u_E0Ul",
    "outputId": "5e037b73-4925-4559-9d76-6c74a5635dbd"
   },
   "outputs": [],
   "source": [
    "right_merged = pd.merge(iranian_cities, city_populations, on='city_id', how='right')\n",
    "right_merged"
   ]
  },
  {
   "cell_type": "markdown",
   "metadata": {
    "id": "xzzZGCQ5-Tp5"
   },
   "source": [
    "In the above, we used a left merge and contrasted it with a right merge. To illustrate other types of merges, we go through further examples."
   ]
  },
  {
   "cell_type": "markdown",
   "metadata": {
    "id": "zy9euJVuTuhg"
   },
   "source": [
    "#### Inner Merge (`how = 'inner'`)"
   ]
  },
  {
   "cell_type": "markdown",
   "metadata": {
    "id": "Nsm3UABBp-Lf"
   },
   "source": [
    "Suppose that we want to create a table with the nutritional content of our friends' favorite fruits. We have a table with our friends, and we have a table with the nutritional content of certain fruits. What happens when we use inner merge vs. outer merge to merge these two tables?"
   ]
  },
  {
   "cell_type": "code",
   "execution_count": null,
   "metadata": {
    "id": "B3cwBQcYpflu"
   },
   "outputs": [],
   "source": [
    "# Create the first dataset with information about people and their favorite fruits\n",
    "people_fruits_data = {\n",
    "    \"Name\": [\"Alice\", \"Bob\", \"Charlie\", \"David\", \"Edward\"],\n",
    "    \"Favorite_Fruit\": [\"Apple\", \"Banana\", \"Grapes\", \"Orange\",\"Papaya\"]\n",
    "}\n",
    "\n",
    "people_fruits_df = pd.DataFrame(people_fruits_data)\n",
    "\n",
    "# Create the second dataset with the nutritional content of various fruits\n",
    "nutritional_content_data = {\n",
    "    \"Fruit\": [\"Apple\", \"Banana\", \"Grapes\", \"Orange\", \"Pineapple\"],\n",
    "    \"Calories\": [95, 89, 67, 47, 50],\n",
    "    \"Vitamin_C_mg\": [4.6, 8.7, 3.2, 45, 48],\n",
    "    \"Fiber_g\": [2.4, 2.6, 0.9, 2.4, 1.4]\n",
    "}\n",
    "\n",
    "nutritional_content_df = pd.DataFrame(nutritional_content_data)"
   ]
  },
  {
   "cell_type": "markdown",
   "metadata": {
    "id": "JI3aRujHqzeX"
   },
   "source": [
    "We now merge the two DataFrames using an inner merge."
   ]
  },
  {
   "cell_type": "code",
   "execution_count": null,
   "metadata": {
    "colab": {
     "base_uri": "https://localhost:8080/",
     "height": 173
    },
    "id": "2N61VVXRp0MM",
    "outputId": "503949d4-a7d4-41fd-b464-41a2cfa10560"
   },
   "outputs": [],
   "source": [
    "# Merge the datasets using an inner merge\n",
    "merged_data = pd.merge(\n",
    "    people_fruits_df, nutritional_content_df,\n",
    "    left_on=\"Favorite_Fruit\", right_on=\"Fruit\",\n",
    "    how=\"inner\"\n",
    ")\n",
    "\n",
    "# Drop the 'Fruit' column since it's redundant\n",
    "merged_data = merged_data.drop(columns=\"Fruit\")\n",
    "\n",
    "# Display the merged dataset\n",
    "display(merged_data)"
   ]
  },
  {
   "cell_type": "markdown",
   "metadata": {
    "id": "a1xH8akZTzPj"
   },
   "source": [
    "#### Outer Merge (`how = 'outer'`)"
   ]
  },
  {
   "cell_type": "markdown",
   "metadata": {
    "id": "vAVGsjjqq7Ao"
   },
   "source": [
    "Now, observe what happens when we use an outer merge."
   ]
  },
  {
   "cell_type": "code",
   "execution_count": null,
   "metadata": {
    "colab": {
     "base_uri": "https://localhost:8080/",
     "height": 235
    },
    "id": "qD4MdDr_q3bu",
    "outputId": "2535131a-4b3f-43d0-fc48-e627b51f97d0"
   },
   "outputs": [],
   "source": [
    "# Merge the datasets using an inner merge\n",
    "merged_data = pd.merge(\n",
    "    people_fruits_df, nutritional_content_df,\n",
    "    left_on=\"Favorite_Fruit\", right_on=\"Fruit\",\n",
    "    how=\"outer\"\n",
    ")\n",
    "\n",
    "# Drop the 'Fruit' column since it's redundant\n",
    "merged_data = merged_data.drop(columns=\"Fruit\")\n",
    "\n",
    "# Display the merged dataset\n",
    "display(merged_data)"
   ]
  },
  {
   "cell_type": "markdown",
   "metadata": {
    "id": "MSsUcrtTp5Uj"
   },
   "source": [
    "To define these merges rigorously: An inner merge (or inner join) between two dataframes returns only the matching rows between the two dataframes, based on the specified common columns. In other words, only the rows with matching values in both dataframes are included in the merged dataframe.\n",
    "\n",
    "An outer merge (or outer join) returns all the rows from both dataframes and fills in missing values with NaN (or a specified fill value) for any non-matching rows. In other words, it includes all the rows from both dataframes and merges the common rows based on the specified common columns.\n",
    "\n",
    "To more deeply understand merges, you can modify the \"how\" parameter in the above to change the merge type to \"left\" or \"right.\" Then, you can observe how the merged DataFrame changes."
   ]
  },
  {
   "cell_type": "markdown",
   "metadata": {
    "id": "_ZYaIbib7kX8"
   },
   "source": [
    "#### Finding the appropriate merge type"
   ]
  },
  {
   "cell_type": "markdown",
   "metadata": {
    "id": "MSbTJ0ei5W3m"
   },
   "source": [
    "The type of analysis we do can determine the type of merge that is appropriate. In the following example, imagine that we are trying to analyze the locations of customers that have purchased different kinds of product product.\n",
    "\n",
    "In this case, using a right merge makes sense because our primary focus is on the product sales data, and we want to include all sales records in the final dataset. The right merge ensures that all product sales records are included, regardless of whether there is a matching customer in the customer information dataset.\n",
    "\n",
    "If we were to use a left merge or an inner merge, it would exclude any product sales records that do not have a corresponding customer in the customer information dataset, which may not be desirable if we want a complete overview of product sales."
   ]
  },
  {
   "cell_type": "code",
   "execution_count": null,
   "metadata": {
    "id": "k3WvqGCIr9d_"
   },
   "outputs": [],
   "source": [
    "# Create the first dataset with customer information\n",
    "customer_information_data = {\n",
    "    \"ID\": [1, 2, 3, 4],\n",
    "    \"Name\": [\"John Doe\", \"Jane Smith\", \"Michael Brown\", \"Lucy Green\"],\n",
    "    \"Email\": [\"john.doe@example.com\", \"jane.smith@example.com\", \"michael.brown@example.com\", \"lucy.green@example.com\"],\n",
    "    \"Location\": [\"New York, NY\",\"New York, NY\",\"Chester, NJ\",\"Boston, MA\"]\n",
    "}\n",
    "\n",
    "customer_information_df = pd.DataFrame(customer_information_data)\n",
    "\n",
    "# Create the second dataset with product sales information\n",
    "product_sales_data = {\n",
    "    \"Product_ID\": [101, 102, 103, 104, 105],\n",
    "    \"Product_Name\": [\"Laptop\", \"Monitor\", \"Keyboard\", \"Mouse\", \"Headset\"],\n",
    "    \"Units_Sold\": [50, 120, 200, 180, 80],\n",
    "    \"Customer_ID\": [1, 2, 3, 1, 3]\n",
    "}\n",
    "\n",
    "product_sales_df = pd.DataFrame(product_sales_data)"
   ]
  },
  {
   "cell_type": "code",
   "execution_count": null,
   "metadata": {
    "colab": {
     "base_uri": "https://localhost:8080/",
     "height": 204
    },
    "id": "t857hV9jsSbF",
    "outputId": "8c809ada-dfb6-4562-980a-8acc8603cd86"
   },
   "outputs": [],
   "source": [
    "# Merge the datasets\n",
    "merged_data = pd.merge(customer_information_df,\n",
    "    product_sales_df,\n",
    "    left_on=\"ID\", right_on=\"Customer_ID\",\n",
    "    how=\"right\"\n",
    ")\n",
    "\n",
    "display(merged_data)"
   ]
  },
  {
   "cell_type": "markdown",
   "metadata": {
    "id": "CdWztwmVujtZ"
   },
   "source": [
    "We have two small datasets, one with sales data for different products in various regions, and the other with regional tax rates. We use a right merge to include all regions with tax rate information in the resulting dataset, even if there is no matching product sales data."
   ]
  },
  {
   "cell_type": "code",
   "execution_count": null,
   "metadata": {
    "id": "XU5SJtaSueW-"
   },
   "outputs": [],
   "source": [
    "# Sales data\n",
    "sales_data = {\n",
    "    'region': ['North', 'South', 'East', 'West'],\n",
    "    'product': ['A', 'B', 'C', 'D'],\n",
    "    'sales': [1000, 1200, 900, 1100],\n",
    "}\n",
    "\n",
    "sales_df = pd.DataFrame(sales_data)\n",
    "\n",
    "# Regional tax rates\n",
    "tax_data = {\n",
    "    'region': ['North', 'South', 'East', 'West', 'Central'],\n",
    "    'tax_rate': [0.05, 0.06, 0.07, 0.05, 0.06],\n",
    "}\n",
    "\n",
    "tax_df = pd.DataFrame(tax_data)"
   ]
  },
  {
   "cell_type": "code",
   "execution_count": null,
   "metadata": {
    "colab": {
     "base_uri": "https://localhost:8080/",
     "height": 204
    },
    "id": "bJO5knnluqVn",
    "outputId": "9a3da53c-0834-4813-c266-5af948459009"
   },
   "outputs": [],
   "source": [
    "# Merge sales and tax data using a right merge\n",
    "merged_df = pd.merge(sales_df, tax_df, on='region', how='right')\n",
    "\n",
    "display(merged_df)"
   ]
  },
  {
   "cell_type": "markdown",
   "metadata": {
    "id": "UkxzVfoqOw8_"
   },
   "source": [
    "#### Going Deeper"
   ]
  },
  {
   "cell_type": "markdown",
   "metadata": {
    "id": "eAF65THgPHo0"
   },
   "source": [
    "When we combine DataFrames, paying attention to certain details can help ensure that they are merged correctly. In the above, an important detail was that one DataFrame did not contain all the cities included in the other. In the example below, we notice some other important details to pay attention to."
   ]
  },
  {
   "cell_type": "code",
   "execution_count": null,
   "metadata": {
    "id": "-RAV_jDIO2L4"
   },
   "outputs": [],
   "source": [
    "#Data not necessarily correct\n",
    "iran_covid_data = {\n",
    "    'Province': ['Tehran', 'Isfahan', 'Mazandaran', 'Khorasan Razavi', 'Fars', 'Gilan', 'Kerman', 'Khuzestan', 'Kermanshah', 'East Azerbaijan', 'Qom', 'Semnan', 'Golestan', 'West Azerbaijan', 'Markazi', 'Lorestan', 'Hormozgan', 'Yazd', 'Chaharmahal and Bakhtiari', 'Kohgiluyeh and Boyer-Ahmad', 'Ilam', 'Bushehr', 'North Khorasan', 'South Khorasan', 'Sistan and Baluchestan', 'Ardebil'],\n",
    "    'Deaths': [22824, 5392, 5302, 4969, 4851, 3496, 3016, 2963, 2823, 2536, 2213, 2059, 2044, 2027, 2004, 1958, 1624, 1607, 1202, 996, 971, 961, 836, 778, 765, 762]\n",
    "}\n",
    "\n",
    "iran_covid_df = pd.DataFrame.from_dict(iran_covid_data)"
   ]
  },
  {
   "cell_type": "code",
   "execution_count": null,
   "metadata": {
    "colab": {
     "base_uri": "https://localhost:8080/",
     "height": 1000
    },
    "id": "PG-rh4oUPPrX",
    "outputId": "abbb8180-9182-4e85-df00-771808df2979"
   },
   "outputs": [],
   "source": [
    "#Data not necessarily correct\n",
    "gdp_data = {\n",
    "    'province_name': ['Alborz', 'Ardabil', 'Bushehr', 'Chaharmahal and Bakhtiari', 'East Azerbaijan', 'Fars', 'Gilan', 'Golestan', 'Hamadan', 'Hormozgan', 'Ilam', 'Isfahan', 'Kerman', 'Kermanshah', 'Khuzestan', 'Kohgiluyeh and Boyer-Ahmad', 'Kurdistan', 'Lorestan', 'Markazi', 'Mazandaran', 'North Khorasan', 'Qazvin', 'Qom', 'Razavi Khorasan', 'Semnan', 'Sistan and Baluchestan', 'South Khorasan', 'Tehran', 'West Azerbaijan', 'Yazd', 'Zanjan'],\n",
    "    'Abbreviation': ['AL', 'AR', 'BU', 'CB', 'EA', 'FA', 'GN', 'GO', 'HA', 'HO', 'IL', 'IS', 'KN', 'KE', 'KH', 'KB', 'KU', 'LO', 'MA', 'MN', 'NK', 'QA', 'QM', 'RK', 'SE', 'SB', 'SK', 'TE', 'WA', 'YA', 'ZA'],\n",
    "    'Area (km2)': [5833, 17800, 22743, 16332, 45650, 122608, 14042, 20195, 19368, 70669, 20133, 107029, 183285, 24998, 64055, 15504, 29137, 28294, 29130, 23701, 28434, 15549, 11526, 118884, 97491, 180726, 151913, 18814, 37437, 76469, 21773],\n",
    "    'GDP per capita': [12500, 9000, 10000, 6000, 7500, 7500, 7500, 6000, 6000, 8000, 6000, 7000, 9000, 8000, 6000, 6000, 6000, 8000, 6000, 8000, 6000, 7000, 7000, 6000, 7500, 6000, 5000, 6000, 8000, 8000, 8000],\n",
    "    'Population (2023)': [2730000, 1284000, 1174000, 973000, 3925000, 4904000, 2546000, 1893000, 1756000, 1806000, 591000, 5136000, 3184000, 2003000, 4725000, 728000, 1614000, 1784000, 1436000, 3302000, 868000, 1284000, 1300000, 6444000, 715000, 2777000, 786000, 13323000, 3278000, 1156000, 1103000]\n",
    "}\n",
    "\n",
    "gdp_df = pd.DataFrame(gdp_data)\n",
    "display(gdp_df)"
   ]
  },
  {
   "cell_type": "markdown",
   "metadata": {
    "id": "PCOjr8EaRC0j"
   },
   "source": [
    "In the above, we have two DataFrames, iran_covid_data and gdp_data. We want to merge the two DataFrames so that we can observe the relationship between GDP per capita and covid deaths per capita. To accomplish this, we first note the following:\n",
    "*   To merge the two DataFrames, we can use the province name column in the two DataFrames. However, the province name column is different in each dataframe. To address this, we can use the left_on and right_on parameters to indicate which column refers to province in each DataFrame.\n",
    "*   These data were assembled from a source of mediocre quality. Therefore we cannot be certain that the provinces in one DataFrame match the provinces in another. To address this issue, we can use an outer join, which enables us to see which provinces for which we lack a certain kind of data. An outer join is a good idea in this case because it allows you to keep all of the rows from both DataFrames, even if there is no match between the values in the specified column. An outer join combines the rows from both DataFrames and fills in missing values with NaN (Not a Number) or a specified fill value. This means that all the rows from both DataFrames are included in the resulting DataFrame, with NaN or the specified fill value used to represent missing data where there is no match in the specified column.\n",
    "\n",
    "\n"
   ]
  },
  {
   "cell_type": "code",
   "execution_count": null,
   "metadata": {
    "colab": {
     "base_uri": "https://localhost:8080/",
     "height": 1000
    },
    "id": "y6ynufYD8UPV",
    "outputId": "d18f5571-6da9-47fc-a7de-f52279697197"
   },
   "outputs": [],
   "source": [
    "outer_merged = pd.merge(iran_covid_df, gdp_df, left_on='Province', right_on = 'province_name', how='outer')\n",
    "display(outer_merged)"
   ]
  },
  {
   "cell_type": "markdown",
   "metadata": {
    "id": "iMaIFb3O9QUP"
   },
   "source": [
    "We see that there are two provinces in the Province column of the left DataFrame, Khorasan Razavi and Ardebil, that did not match with something in the province_name in the right DataFrame, and seven provinces in the province_name column of the right DataFrame that did not match with a province in the Province column of the left.  However, we see that Ardabil appears in the right DataFrame—it did not match simply because it is spelled differently from the corresponding province in the left DataFrame (Ardebil).\n",
    "\n",
    "To complete the analysis, we change the spelling of the Ardabil province in the left DataFrame so that it matches properly. Then, it will be necessary to decide what to do with rows for which there is missing data due to a province name in one DataFrame not matching with a province in the other. Some options are to remove those provinces from the analysis, find alternative data sources to provide the data, or guess appropriate values."
   ]
  },
  {
   "cell_type": "markdown",
   "metadata": {
    "id": "I5ggnqoEv9GM"
   },
   "source": [
    "### pd.merge overview"
   ]
  },
  {
   "cell_type": "markdown",
   "metadata": {
    "id": "3SKmJoAbv6tl"
   },
   "source": [
    "For reference, we outline the pd.merge function and how it works below. The description includes important parameters for the function that enable you to ensure that data is merged properly. It's not necessary to understand everything below immediately. For now, you can just skim over it to get a basic idea of how the function works. After, we will go through some examples to give you a better sense of how to think through merging tables.\n",
    "\n",
    "pd.merge() is a function in the pandas library used for merging DataFrames in Python. It combines the data from two DataFrames based on a common column or index, allowing you to join and analyze data from different sources. The function has several parameters that control the merging behavior:\n",
    "\n",
    "\n",
    "\n",
    "*   left: The first (left) DataFrame to be merged.\n",
    "*   right: The second (right) DataFrame to be merged.\n",
    "*   how: Determines the type of merge to be performed. Default is 'inner' The 'left', 'right', 'outer', and 'inner' options correspond to different types of merges: left outer join using keys from the left DataFrame, right outer join using keys from the right DataFrame, full outer join using keys from the union of both DataFrames, and inner join using keys from the intersection of both DataFrames, respectively.\n",
    "*   on: The column (or list of columns) used to join the DataFrames. Both DataFrames must have the specified column(s). If not provided, the function will use the columns with the same names in both DataFrames.\n",
    "*   left_on: The column(s) in the left DataFrame to use as the merge key(s). This can be used instead of, or in conjunction with, the on parameter.\n",
    "*   right_on: The column(s) in the right DataFrame to use as the merge key(s). This can be used instead of, or in conjunction with, the on parameter.\n",
    "*   left_index: If True, use the index from the left DataFrame as the merge key(s). The default is False.\n",
    "*   right_index: If True, use the index from the right DataFrame as the merge key(s). The default is False."
   ]
  },
  {
   "cell_type": "markdown",
   "metadata": {
    "id": "sudokNSHU3ac"
   },
   "source": [
    "## Parting Notes\n",
    "I hope you enjoyed this lesson on combining tables. This lesson has introduced the basic concepts of combining tables. With this basis of understanding, you will be able to effectively conquer similar tasks in the future."
   ]
  }
 ],
 "metadata": {
  "colab": {
   "provenance": []
  },
  "kernelspec": {
   "display_name": "Python 3 (ipykernel)",
   "language": "python",
   "name": "python3"
  },
  "language_info": {
   "codemirror_mode": {
    "name": "ipython",
    "version": 3
   },
   "file_extension": ".py",
   "mimetype": "text/x-python",
   "name": "python",
   "nbconvert_exporter": "python",
   "pygments_lexer": "ipython3",
   "version": "3.7.16"
  }
 },
 "nbformat": 4,
 "nbformat_minor": 1
}
