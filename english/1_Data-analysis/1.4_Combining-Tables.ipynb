{
  "nbformat": 4,
  "nbformat_minor": 0,
  "metadata": {
    "colab": {
      "provenance": []
    },
    "kernelspec": {
      "name": "python3",
      "display_name": "Python 3"
    },
    "language_info": {
      "name": "python"
    }
  },
  "cells": [
    {
      "cell_type": "markdown",
      "source": [
        "## 1.4 Combining Data from Multiple Tables\n"
      ],
      "metadata": {
        "id": "rtO6AezzpvGi"
      }
    },
    {
      "cell_type": "code",
      "source": [
        "import pandas as pd"
      ],
      "metadata": {
        "id": "yYgdy3oa1lot"
      },
      "execution_count": 4,
      "outputs": []
    },
    {
      "cell_type": "markdown",
      "source": [
        "## Introduction"
      ],
      "metadata": {
        "id": "0YmhWg7gqJYn"
      }
    },
    {
      "cell_type": "markdown",
      "source": [
        "Welcome to the \"Combining Data from Multiple Tables\" lesson! I am excited to introduce you to this topic, which will allow you to work with data from multiple sources to enhance your storytelling capabilities and uncover valuable insights. By practicing some key concepts in combining tables, you will form a valuable basis of understanding in combining tables. In this Jupyter notebook, we will explore how to merge data from multiple tables using the pandas library in Python."
      ],
      "metadata": {
        "id": "7sTXdbQqqJUb"
      }
    },
    {
      "cell_type": "markdown",
      "source": [
        "## What does it mean to combine tables, and why would we want to do it?\n",
        "We now define what it means to combine tables and provide motivation for doing so. First, consider what a table is. The following is an example of a table:"
      ],
      "metadata": {
        "id": "2dA9efVSTO1h"
      }
    },
    {
      "cell_type": "code",
      "source": [
        "# Larger product table\n",
        "product_data = {\n",
        "    'Product ID': [101, 102, 103, 104, 105, 106, 107, 108],\n",
        "    'Product Name': ['Laptop', 'Smartphone', 'Tablet', 'Smartwatch', 'Laptop', 'Smartphone', 'Tablet', 'Smartwatch'],\n",
        "    'Category': ['Electronics', 'Electronics', 'Electronics', 'Electronics', 'Electronics', 'Electronics', 'Electronics', 'Electronics'],\n",
        "    'Brand': ['Brand A', 'Brand A', 'Brand A', 'Brand A', 'Brand B', 'Brand B', 'Brand B', 'Brand B']\n",
        "}\n",
        "\n",
        "product_df = pd.DataFrame(product_data)\n",
        "print(\"Product Table:\")\n",
        "display(product_df)"
      ],
      "metadata": {
        "colab": {
          "base_uri": "https://localhost:8080/",
          "height": 314
        },
        "id": "MKGQWhR-TjXE",
        "outputId": "a36912b1-f3de-4dcc-e531-68ae5c4f9418"
      },
      "execution_count": 6,
      "outputs": [
        {
          "output_type": "stream",
          "name": "stdout",
          "text": [
            "Product Table:\n"
          ]
        },
        {
          "output_type": "display_data",
          "data": {
            "text/plain": [
              "   Product ID Product Name     Category    Brand\n",
              "0         101       Laptop  Electronics  Brand A\n",
              "1         102   Smartphone  Electronics  Brand A\n",
              "2         103       Tablet  Electronics  Brand A\n",
              "3         104   Smartwatch  Electronics  Brand A\n",
              "4         105       Laptop  Electronics  Brand B\n",
              "5         106   Smartphone  Electronics  Brand B\n",
              "6         107       Tablet  Electronics  Brand B\n",
              "7         108   Smartwatch  Electronics  Brand B"
            ],
            "text/html": [
              "\n",
              "  <div id=\"df-8032af73-b937-42ff-a98c-ab1e122e95da\">\n",
              "    <div class=\"colab-df-container\">\n",
              "      <div>\n",
              "<style scoped>\n",
              "    .dataframe tbody tr th:only-of-type {\n",
              "        vertical-align: middle;\n",
              "    }\n",
              "\n",
              "    .dataframe tbody tr th {\n",
              "        vertical-align: top;\n",
              "    }\n",
              "\n",
              "    .dataframe thead th {\n",
              "        text-align: right;\n",
              "    }\n",
              "</style>\n",
              "<table border=\"1\" class=\"dataframe\">\n",
              "  <thead>\n",
              "    <tr style=\"text-align: right;\">\n",
              "      <th></th>\n",
              "      <th>Product ID</th>\n",
              "      <th>Product Name</th>\n",
              "      <th>Category</th>\n",
              "      <th>Brand</th>\n",
              "    </tr>\n",
              "  </thead>\n",
              "  <tbody>\n",
              "    <tr>\n",
              "      <th>0</th>\n",
              "      <td>101</td>\n",
              "      <td>Laptop</td>\n",
              "      <td>Electronics</td>\n",
              "      <td>Brand A</td>\n",
              "    </tr>\n",
              "    <tr>\n",
              "      <th>1</th>\n",
              "      <td>102</td>\n",
              "      <td>Smartphone</td>\n",
              "      <td>Electronics</td>\n",
              "      <td>Brand A</td>\n",
              "    </tr>\n",
              "    <tr>\n",
              "      <th>2</th>\n",
              "      <td>103</td>\n",
              "      <td>Tablet</td>\n",
              "      <td>Electronics</td>\n",
              "      <td>Brand A</td>\n",
              "    </tr>\n",
              "    <tr>\n",
              "      <th>3</th>\n",
              "      <td>104</td>\n",
              "      <td>Smartwatch</td>\n",
              "      <td>Electronics</td>\n",
              "      <td>Brand A</td>\n",
              "    </tr>\n",
              "    <tr>\n",
              "      <th>4</th>\n",
              "      <td>105</td>\n",
              "      <td>Laptop</td>\n",
              "      <td>Electronics</td>\n",
              "      <td>Brand B</td>\n",
              "    </tr>\n",
              "    <tr>\n",
              "      <th>5</th>\n",
              "      <td>106</td>\n",
              "      <td>Smartphone</td>\n",
              "      <td>Electronics</td>\n",
              "      <td>Brand B</td>\n",
              "    </tr>\n",
              "    <tr>\n",
              "      <th>6</th>\n",
              "      <td>107</td>\n",
              "      <td>Tablet</td>\n",
              "      <td>Electronics</td>\n",
              "      <td>Brand B</td>\n",
              "    </tr>\n",
              "    <tr>\n",
              "      <th>7</th>\n",
              "      <td>108</td>\n",
              "      <td>Smartwatch</td>\n",
              "      <td>Electronics</td>\n",
              "      <td>Brand B</td>\n",
              "    </tr>\n",
              "  </tbody>\n",
              "</table>\n",
              "</div>\n",
              "      <button class=\"colab-df-convert\" onclick=\"convertToInteractive('df-8032af73-b937-42ff-a98c-ab1e122e95da')\"\n",
              "              title=\"Convert this dataframe to an interactive table.\"\n",
              "              style=\"display:none;\">\n",
              "        \n",
              "  <svg xmlns=\"http://www.w3.org/2000/svg\" height=\"24px\"viewBox=\"0 0 24 24\"\n",
              "       width=\"24px\">\n",
              "    <path d=\"M0 0h24v24H0V0z\" fill=\"none\"/>\n",
              "    <path d=\"M18.56 5.44l.94 2.06.94-2.06 2.06-.94-2.06-.94-.94-2.06-.94 2.06-2.06.94zm-11 1L8.5 8.5l.94-2.06 2.06-.94-2.06-.94L8.5 2.5l-.94 2.06-2.06.94zm10 10l.94 2.06.94-2.06 2.06-.94-2.06-.94-.94-2.06-.94 2.06-2.06.94z\"/><path d=\"M17.41 7.96l-1.37-1.37c-.4-.4-.92-.59-1.43-.59-.52 0-1.04.2-1.43.59L10.3 9.45l-7.72 7.72c-.78.78-.78 2.05 0 2.83L4 21.41c.39.39.9.59 1.41.59.51 0 1.02-.2 1.41-.59l7.78-7.78 2.81-2.81c.8-.78.8-2.07 0-2.86zM5.41 20L4 18.59l7.72-7.72 1.47 1.35L5.41 20z\"/>\n",
              "  </svg>\n",
              "      </button>\n",
              "      \n",
              "  <style>\n",
              "    .colab-df-container {\n",
              "      display:flex;\n",
              "      flex-wrap:wrap;\n",
              "      gap: 12px;\n",
              "    }\n",
              "\n",
              "    .colab-df-convert {\n",
              "      background-color: #E8F0FE;\n",
              "      border: none;\n",
              "      border-radius: 50%;\n",
              "      cursor: pointer;\n",
              "      display: none;\n",
              "      fill: #1967D2;\n",
              "      height: 32px;\n",
              "      padding: 0 0 0 0;\n",
              "      width: 32px;\n",
              "    }\n",
              "\n",
              "    .colab-df-convert:hover {\n",
              "      background-color: #E2EBFA;\n",
              "      box-shadow: 0px 1px 2px rgba(60, 64, 67, 0.3), 0px 1px 3px 1px rgba(60, 64, 67, 0.15);\n",
              "      fill: #174EA6;\n",
              "    }\n",
              "\n",
              "    [theme=dark] .colab-df-convert {\n",
              "      background-color: #3B4455;\n",
              "      fill: #D2E3FC;\n",
              "    }\n",
              "\n",
              "    [theme=dark] .colab-df-convert:hover {\n",
              "      background-color: #434B5C;\n",
              "      box-shadow: 0px 1px 3px 1px rgba(0, 0, 0, 0.15);\n",
              "      filter: drop-shadow(0px 1px 2px rgba(0, 0, 0, 0.3));\n",
              "      fill: #FFFFFF;\n",
              "    }\n",
              "  </style>\n",
              "\n",
              "      <script>\n",
              "        const buttonEl =\n",
              "          document.querySelector('#df-8032af73-b937-42ff-a98c-ab1e122e95da button.colab-df-convert');\n",
              "        buttonEl.style.display =\n",
              "          google.colab.kernel.accessAllowed ? 'block' : 'none';\n",
              "\n",
              "        async function convertToInteractive(key) {\n",
              "          const element = document.querySelector('#df-8032af73-b937-42ff-a98c-ab1e122e95da');\n",
              "          const dataTable =\n",
              "            await google.colab.kernel.invokeFunction('convertToInteractive',\n",
              "                                                     [key], {});\n",
              "          if (!dataTable) return;\n",
              "\n",
              "          const docLinkHtml = 'Like what you see? Visit the ' +\n",
              "            '<a target=\"_blank\" href=https://colab.research.google.com/notebooks/data_table.ipynb>data table notebook</a>'\n",
              "            + ' to learn more about interactive tables.';\n",
              "          element.innerHTML = '';\n",
              "          dataTable['output_type'] = 'display_data';\n",
              "          await google.colab.output.renderOutput(dataTable, element);\n",
              "          const docLink = document.createElement('div');\n",
              "          docLink.innerHTML = docLinkHtml;\n",
              "          element.appendChild(docLink);\n",
              "        }\n",
              "      </script>\n",
              "    </div>\n",
              "  </div>\n",
              "  "
            ]
          },
          "metadata": {}
        }
      ]
    },
    {
      "cell_type": "markdown",
      "source": [
        "Generally speaking, in a table, each row provides information about a separate entity. In the table above, the entities are products. Each column contains a different attribute of the entity. In the example above, those attributes are Product ID, Product Name, and Category. A Pandas DataFrame also contains an index for each row, which you can see on the left side of the table."
      ],
      "metadata": {
        "id": "NymfdI2ZUhP-"
      }
    },
    {
      "cell_type": "markdown",
      "source": [
        "We *combine tables* when we integrate the information in one table with the information in another to obtain a larger dataset or a dataset with a larger capacity for insights. Suppose we had another table with the following information:\n"
      ],
      "metadata": {
        "id": "gskL8epHWK6b"
      }
    },
    {
      "cell_type": "code",
      "source": [
        "# Separate table with product ID and cost\n",
        "cost_data = {\n",
        "    'Product ID': [101, 102, 103, 104, 105, 106, 107, 108],\n",
        "    'Cost': [800, 500, 300, 250, 850, 550, 350, 275]\n",
        "}\n",
        "\n",
        "cost_df = pd.DataFrame(cost_data)\n",
        "print(\"\\nCost Table:\")\n",
        "display(cost_df)"
      ],
      "metadata": {
        "colab": {
          "base_uri": "https://localhost:8080/",
          "height": 331
        },
        "id": "C8Z9ovIxWY-L",
        "outputId": "3c465445-56ad-4a25-c57b-b6a642930282"
      },
      "execution_count": 7,
      "outputs": [
        {
          "output_type": "stream",
          "name": "stdout",
          "text": [
            "\n",
            "Cost Table:\n"
          ]
        },
        {
          "output_type": "display_data",
          "data": {
            "text/plain": [
              "   Product ID  Cost\n",
              "0         101   800\n",
              "1         102   500\n",
              "2         103   300\n",
              "3         104   250\n",
              "4         105   850\n",
              "5         106   550\n",
              "6         107   350\n",
              "7         108   275"
            ],
            "text/html": [
              "\n",
              "  <div id=\"df-3fa6d6e5-31e6-4d09-a080-6535c76ae56f\">\n",
              "    <div class=\"colab-df-container\">\n",
              "      <div>\n",
              "<style scoped>\n",
              "    .dataframe tbody tr th:only-of-type {\n",
              "        vertical-align: middle;\n",
              "    }\n",
              "\n",
              "    .dataframe tbody tr th {\n",
              "        vertical-align: top;\n",
              "    }\n",
              "\n",
              "    .dataframe thead th {\n",
              "        text-align: right;\n",
              "    }\n",
              "</style>\n",
              "<table border=\"1\" class=\"dataframe\">\n",
              "  <thead>\n",
              "    <tr style=\"text-align: right;\">\n",
              "      <th></th>\n",
              "      <th>Product ID</th>\n",
              "      <th>Cost</th>\n",
              "    </tr>\n",
              "  </thead>\n",
              "  <tbody>\n",
              "    <tr>\n",
              "      <th>0</th>\n",
              "      <td>101</td>\n",
              "      <td>800</td>\n",
              "    </tr>\n",
              "    <tr>\n",
              "      <th>1</th>\n",
              "      <td>102</td>\n",
              "      <td>500</td>\n",
              "    </tr>\n",
              "    <tr>\n",
              "      <th>2</th>\n",
              "      <td>103</td>\n",
              "      <td>300</td>\n",
              "    </tr>\n",
              "    <tr>\n",
              "      <th>3</th>\n",
              "      <td>104</td>\n",
              "      <td>250</td>\n",
              "    </tr>\n",
              "    <tr>\n",
              "      <th>4</th>\n",
              "      <td>105</td>\n",
              "      <td>850</td>\n",
              "    </tr>\n",
              "    <tr>\n",
              "      <th>5</th>\n",
              "      <td>106</td>\n",
              "      <td>550</td>\n",
              "    </tr>\n",
              "    <tr>\n",
              "      <th>6</th>\n",
              "      <td>107</td>\n",
              "      <td>350</td>\n",
              "    </tr>\n",
              "    <tr>\n",
              "      <th>7</th>\n",
              "      <td>108</td>\n",
              "      <td>275</td>\n",
              "    </tr>\n",
              "  </tbody>\n",
              "</table>\n",
              "</div>\n",
              "      <button class=\"colab-df-convert\" onclick=\"convertToInteractive('df-3fa6d6e5-31e6-4d09-a080-6535c76ae56f')\"\n",
              "              title=\"Convert this dataframe to an interactive table.\"\n",
              "              style=\"display:none;\">\n",
              "        \n",
              "  <svg xmlns=\"http://www.w3.org/2000/svg\" height=\"24px\"viewBox=\"0 0 24 24\"\n",
              "       width=\"24px\">\n",
              "    <path d=\"M0 0h24v24H0V0z\" fill=\"none\"/>\n",
              "    <path d=\"M18.56 5.44l.94 2.06.94-2.06 2.06-.94-2.06-.94-.94-2.06-.94 2.06-2.06.94zm-11 1L8.5 8.5l.94-2.06 2.06-.94-2.06-.94L8.5 2.5l-.94 2.06-2.06.94zm10 10l.94 2.06.94-2.06 2.06-.94-2.06-.94-.94-2.06-.94 2.06-2.06.94z\"/><path d=\"M17.41 7.96l-1.37-1.37c-.4-.4-.92-.59-1.43-.59-.52 0-1.04.2-1.43.59L10.3 9.45l-7.72 7.72c-.78.78-.78 2.05 0 2.83L4 21.41c.39.39.9.59 1.41.59.51 0 1.02-.2 1.41-.59l7.78-7.78 2.81-2.81c.8-.78.8-2.07 0-2.86zM5.41 20L4 18.59l7.72-7.72 1.47 1.35L5.41 20z\"/>\n",
              "  </svg>\n",
              "      </button>\n",
              "      \n",
              "  <style>\n",
              "    .colab-df-container {\n",
              "      display:flex;\n",
              "      flex-wrap:wrap;\n",
              "      gap: 12px;\n",
              "    }\n",
              "\n",
              "    .colab-df-convert {\n",
              "      background-color: #E8F0FE;\n",
              "      border: none;\n",
              "      border-radius: 50%;\n",
              "      cursor: pointer;\n",
              "      display: none;\n",
              "      fill: #1967D2;\n",
              "      height: 32px;\n",
              "      padding: 0 0 0 0;\n",
              "      width: 32px;\n",
              "    }\n",
              "\n",
              "    .colab-df-convert:hover {\n",
              "      background-color: #E2EBFA;\n",
              "      box-shadow: 0px 1px 2px rgba(60, 64, 67, 0.3), 0px 1px 3px 1px rgba(60, 64, 67, 0.15);\n",
              "      fill: #174EA6;\n",
              "    }\n",
              "\n",
              "    [theme=dark] .colab-df-convert {\n",
              "      background-color: #3B4455;\n",
              "      fill: #D2E3FC;\n",
              "    }\n",
              "\n",
              "    [theme=dark] .colab-df-convert:hover {\n",
              "      background-color: #434B5C;\n",
              "      box-shadow: 0px 1px 3px 1px rgba(0, 0, 0, 0.15);\n",
              "      filter: drop-shadow(0px 1px 2px rgba(0, 0, 0, 0.3));\n",
              "      fill: #FFFFFF;\n",
              "    }\n",
              "  </style>\n",
              "\n",
              "      <script>\n",
              "        const buttonEl =\n",
              "          document.querySelector('#df-3fa6d6e5-31e6-4d09-a080-6535c76ae56f button.colab-df-convert');\n",
              "        buttonEl.style.display =\n",
              "          google.colab.kernel.accessAllowed ? 'block' : 'none';\n",
              "\n",
              "        async function convertToInteractive(key) {\n",
              "          const element = document.querySelector('#df-3fa6d6e5-31e6-4d09-a080-6535c76ae56f');\n",
              "          const dataTable =\n",
              "            await google.colab.kernel.invokeFunction('convertToInteractive',\n",
              "                                                     [key], {});\n",
              "          if (!dataTable) return;\n",
              "\n",
              "          const docLinkHtml = 'Like what you see? Visit the ' +\n",
              "            '<a target=\"_blank\" href=https://colab.research.google.com/notebooks/data_table.ipynb>data table notebook</a>'\n",
              "            + ' to learn more about interactive tables.';\n",
              "          element.innerHTML = '';\n",
              "          dataTable['output_type'] = 'display_data';\n",
              "          await google.colab.output.renderOutput(dataTable, element);\n",
              "          const docLink = document.createElement('div');\n",
              "          docLink.innerHTML = docLinkHtml;\n",
              "          element.appendChild(docLink);\n",
              "        }\n",
              "      </script>\n",
              "    </div>\n",
              "  </div>\n",
              "  "
            ]
          },
          "metadata": {}
        }
      ]
    },
    {
      "cell_type": "markdown",
      "source": [
        "Alone, the first table does not provide much opportunity for insight. It allows us to create a histogram of product types and a sense of which brands offers which products, but little else. By combining the first table with the second table, we can unlock deeper insights. What are some additional forms of analysis we could do by combining the first and second tables?\n",
        "*   Determine the average cost of each product. E.g. the average cost of a smartphone.\n",
        "*   Determine the % difference in cost between the average Brand A smartphone and the average Brand B smartphone.\n",
        "\n"
      ],
      "metadata": {
        "id": "BQ6JCllVWr5Z"
      }
    },
    {
      "cell_type": "markdown",
      "source": [
        "\n",
        "## Core Technical Tools\n",
        "\n",
        "Depending on what kind of programming language you are using, there are different technical tools for storing tables and combining them. In this lesson, we store data in pandas DataFrames, and we use the pandas merge function to combine them."
      ],
      "metadata": {
        "id": "aIBOlq5Is8hO"
      }
    },
    {
      "cell_type": "markdown",
      "source": [
        "Below, we outline the pd.merge function and how it works. The description includes important parameters for the function that enable you to ensure that data is merged properly. It's not necessary to understand everything below immediately. For now, you can just skim over it to get a basic idea of how the function works. After, we will go through some examples to give you a better sense of how to think through merging tables.\n",
        "\n",
        "pd.merge() is a function in the pandas library used for merging DataFrames in Python. It combines the data from two DataFrames based on a common column or index, allowing you to join and analyze data from different sources. The function has several parameters that control the merging behavior:\n",
        "\n",
        "\n",
        "\n",
        "*   left: The first (left) DataFrame to be merged.\n",
        "*   right: The second (right) DataFrame to be merged.\n",
        "*   how: Determines the type of merge to be performed. Default is 'inner' The 'left', 'right', 'outer', and 'inner' options correspond to different types of merges: left outer join using keys from the left DataFrame, right outer join using keys from the right DataFrame, full outer join using keys from the union of both DataFrames, and inner join using keys from the intersection of both DataFrames, respectively.\n",
        "*   on: The column (or list of columns) used to join the DataFrames. Both DataFrames must have the specified column(s). If not provided, the function will use the columns with the same names in both DataFrames.\n",
        "*   left_on: The column(s) in the left DataFrame to use as the merge key(s). This can be used instead of, or in conjunction with, the on parameter.\n",
        "*   right_on: The column(s) in the right DataFrame to use as the merge key(s). This can be used instead of, or in conjunction with, the on parameter.\n",
        "*   left_index: If True, use the index from the left DataFrame as the merge key(s). The default is False.\n",
        "*   right_index: If True, use the index from the right DataFrame as the merge key(s). The default is False.\n",
        "\n",
        "\n",
        "\n",
        "\n",
        "\n",
        "\n",
        "\n",
        "\n"
      ],
      "metadata": {
        "id": "myWdgohIyyLo"
      }
    },
    {
      "cell_type": "markdown",
      "source": [
        "#### Below, we use the pd.merge function to merge the DataFrames above:"
      ],
      "metadata": {
        "id": "JHAvUQRf3soJ"
      }
    },
    {
      "cell_type": "code",
      "source": [
        "pd.merge(product_df, cost_df, on='Product ID')"
      ],
      "metadata": {
        "colab": {
          "base_uri": "https://localhost:8080/",
          "height": 297
        },
        "id": "q7zyWnKayuBN",
        "outputId": "d6dd512b-5023-42e4-9e1f-b7a1bad9db6b"
      },
      "execution_count": 8,
      "outputs": [
        {
          "output_type": "execute_result",
          "data": {
            "text/plain": [
              "   Product ID Product Name     Category    Brand  Cost\n",
              "0         101       Laptop  Electronics  Brand A   800\n",
              "1         102   Smartphone  Electronics  Brand A   500\n",
              "2         103       Tablet  Electronics  Brand A   300\n",
              "3         104   Smartwatch  Electronics  Brand A   250\n",
              "4         105       Laptop  Electronics  Brand B   850\n",
              "5         106   Smartphone  Electronics  Brand B   550\n",
              "6         107       Tablet  Electronics  Brand B   350\n",
              "7         108   Smartwatch  Electronics  Brand B   275"
            ],
            "text/html": [
              "\n",
              "  <div id=\"df-bb8539ee-d800-4501-ba42-ab6d99d2a252\">\n",
              "    <div class=\"colab-df-container\">\n",
              "      <div>\n",
              "<style scoped>\n",
              "    .dataframe tbody tr th:only-of-type {\n",
              "        vertical-align: middle;\n",
              "    }\n",
              "\n",
              "    .dataframe tbody tr th {\n",
              "        vertical-align: top;\n",
              "    }\n",
              "\n",
              "    .dataframe thead th {\n",
              "        text-align: right;\n",
              "    }\n",
              "</style>\n",
              "<table border=\"1\" class=\"dataframe\">\n",
              "  <thead>\n",
              "    <tr style=\"text-align: right;\">\n",
              "      <th></th>\n",
              "      <th>Product ID</th>\n",
              "      <th>Product Name</th>\n",
              "      <th>Category</th>\n",
              "      <th>Brand</th>\n",
              "      <th>Cost</th>\n",
              "    </tr>\n",
              "  </thead>\n",
              "  <tbody>\n",
              "    <tr>\n",
              "      <th>0</th>\n",
              "      <td>101</td>\n",
              "      <td>Laptop</td>\n",
              "      <td>Electronics</td>\n",
              "      <td>Brand A</td>\n",
              "      <td>800</td>\n",
              "    </tr>\n",
              "    <tr>\n",
              "      <th>1</th>\n",
              "      <td>102</td>\n",
              "      <td>Smartphone</td>\n",
              "      <td>Electronics</td>\n",
              "      <td>Brand A</td>\n",
              "      <td>500</td>\n",
              "    </tr>\n",
              "    <tr>\n",
              "      <th>2</th>\n",
              "      <td>103</td>\n",
              "      <td>Tablet</td>\n",
              "      <td>Electronics</td>\n",
              "      <td>Brand A</td>\n",
              "      <td>300</td>\n",
              "    </tr>\n",
              "    <tr>\n",
              "      <th>3</th>\n",
              "      <td>104</td>\n",
              "      <td>Smartwatch</td>\n",
              "      <td>Electronics</td>\n",
              "      <td>Brand A</td>\n",
              "      <td>250</td>\n",
              "    </tr>\n",
              "    <tr>\n",
              "      <th>4</th>\n",
              "      <td>105</td>\n",
              "      <td>Laptop</td>\n",
              "      <td>Electronics</td>\n",
              "      <td>Brand B</td>\n",
              "      <td>850</td>\n",
              "    </tr>\n",
              "    <tr>\n",
              "      <th>5</th>\n",
              "      <td>106</td>\n",
              "      <td>Smartphone</td>\n",
              "      <td>Electronics</td>\n",
              "      <td>Brand B</td>\n",
              "      <td>550</td>\n",
              "    </tr>\n",
              "    <tr>\n",
              "      <th>6</th>\n",
              "      <td>107</td>\n",
              "      <td>Tablet</td>\n",
              "      <td>Electronics</td>\n",
              "      <td>Brand B</td>\n",
              "      <td>350</td>\n",
              "    </tr>\n",
              "    <tr>\n",
              "      <th>7</th>\n",
              "      <td>108</td>\n",
              "      <td>Smartwatch</td>\n",
              "      <td>Electronics</td>\n",
              "      <td>Brand B</td>\n",
              "      <td>275</td>\n",
              "    </tr>\n",
              "  </tbody>\n",
              "</table>\n",
              "</div>\n",
              "      <button class=\"colab-df-convert\" onclick=\"convertToInteractive('df-bb8539ee-d800-4501-ba42-ab6d99d2a252')\"\n",
              "              title=\"Convert this dataframe to an interactive table.\"\n",
              "              style=\"display:none;\">\n",
              "        \n",
              "  <svg xmlns=\"http://www.w3.org/2000/svg\" height=\"24px\"viewBox=\"0 0 24 24\"\n",
              "       width=\"24px\">\n",
              "    <path d=\"M0 0h24v24H0V0z\" fill=\"none\"/>\n",
              "    <path d=\"M18.56 5.44l.94 2.06.94-2.06 2.06-.94-2.06-.94-.94-2.06-.94 2.06-2.06.94zm-11 1L8.5 8.5l.94-2.06 2.06-.94-2.06-.94L8.5 2.5l-.94 2.06-2.06.94zm10 10l.94 2.06.94-2.06 2.06-.94-2.06-.94-.94-2.06-.94 2.06-2.06.94z\"/><path d=\"M17.41 7.96l-1.37-1.37c-.4-.4-.92-.59-1.43-.59-.52 0-1.04.2-1.43.59L10.3 9.45l-7.72 7.72c-.78.78-.78 2.05 0 2.83L4 21.41c.39.39.9.59 1.41.59.51 0 1.02-.2 1.41-.59l7.78-7.78 2.81-2.81c.8-.78.8-2.07 0-2.86zM5.41 20L4 18.59l7.72-7.72 1.47 1.35L5.41 20z\"/>\n",
              "  </svg>\n",
              "      </button>\n",
              "      \n",
              "  <style>\n",
              "    .colab-df-container {\n",
              "      display:flex;\n",
              "      flex-wrap:wrap;\n",
              "      gap: 12px;\n",
              "    }\n",
              "\n",
              "    .colab-df-convert {\n",
              "      background-color: #E8F0FE;\n",
              "      border: none;\n",
              "      border-radius: 50%;\n",
              "      cursor: pointer;\n",
              "      display: none;\n",
              "      fill: #1967D2;\n",
              "      height: 32px;\n",
              "      padding: 0 0 0 0;\n",
              "      width: 32px;\n",
              "    }\n",
              "\n",
              "    .colab-df-convert:hover {\n",
              "      background-color: #E2EBFA;\n",
              "      box-shadow: 0px 1px 2px rgba(60, 64, 67, 0.3), 0px 1px 3px 1px rgba(60, 64, 67, 0.15);\n",
              "      fill: #174EA6;\n",
              "    }\n",
              "\n",
              "    [theme=dark] .colab-df-convert {\n",
              "      background-color: #3B4455;\n",
              "      fill: #D2E3FC;\n",
              "    }\n",
              "\n",
              "    [theme=dark] .colab-df-convert:hover {\n",
              "      background-color: #434B5C;\n",
              "      box-shadow: 0px 1px 3px 1px rgba(0, 0, 0, 0.15);\n",
              "      filter: drop-shadow(0px 1px 2px rgba(0, 0, 0, 0.3));\n",
              "      fill: #FFFFFF;\n",
              "    }\n",
              "  </style>\n",
              "\n",
              "      <script>\n",
              "        const buttonEl =\n",
              "          document.querySelector('#df-bb8539ee-d800-4501-ba42-ab6d99d2a252 button.colab-df-convert');\n",
              "        buttonEl.style.display =\n",
              "          google.colab.kernel.accessAllowed ? 'block' : 'none';\n",
              "\n",
              "        async function convertToInteractive(key) {\n",
              "          const element = document.querySelector('#df-bb8539ee-d800-4501-ba42-ab6d99d2a252');\n",
              "          const dataTable =\n",
              "            await google.colab.kernel.invokeFunction('convertToInteractive',\n",
              "                                                     [key], {});\n",
              "          if (!dataTable) return;\n",
              "\n",
              "          const docLinkHtml = 'Like what you see? Visit the ' +\n",
              "            '<a target=\"_blank\" href=https://colab.research.google.com/notebooks/data_table.ipynb>data table notebook</a>'\n",
              "            + ' to learn more about interactive tables.';\n",
              "          element.innerHTML = '';\n",
              "          dataTable['output_type'] = 'display_data';\n",
              "          await google.colab.output.renderOutput(dataTable, element);\n",
              "          const docLink = document.createElement('div');\n",
              "          docLink.innerHTML = docLinkHtml;\n",
              "          element.appendChild(docLink);\n",
              "        }\n",
              "      </script>\n",
              "    </div>\n",
              "  </div>\n",
              "  "
            ]
          },
          "metadata": {},
          "execution_count": 8
        }
      ]
    },
    {
      "cell_type": "markdown",
      "source": [
        "Before merging tables, we can first carefully envision what kind of table we want to produce. By understanding the information that you want to capture in the resulting table, you can better understand how to "
      ],
      "metadata": {
        "id": "qIqtgPFI9rpP"
      }
    },
    {
      "cell_type": "markdown",
      "source": [
        "When we perform a merge operation, we use a certain column as a basis for merging. In the above example, we used Product ID. Notice that both tables had all the same product IDs available—both had 101 through 108. Suppose that one table had only 101 through 106. What would we do then? This is why we need to consider the 'how' parameter of the merge function. In the examples below, we illustrate how different kinds of joins can allow us to work with situations where we have missing data in a DataFrame."
      ],
      "metadata": {
        "id": "ZTin76A6-oW1"
      }
    },
    {
      "cell_type": "markdown",
      "source": [
        "Imagine that we have a dataset of all of the cities that have been affected by a recent disease outbreak. We have a dataset that contains a list of those cities and their city IDs. Suppose we also have a dataset with populations correspondign to several city IDs, but the population DataFrame does not include all of the city IDs that have been affected by the outbreak. Now suppose we want to create a table with each city and its population for a publication. We want to make sure that each city that has been affected by the outbreak is included in the table. We accomplish this as follows:"
      ],
      "metadata": {
        "id": "Z4Zr07z19lDA"
      }
    },
    {
      "cell_type": "code",
      "source": [
        "iranian_cities = pd.DataFrame({'city_id': [1, 2, 3], 'city_name': ['Tehran', 'Mashhad', 'Isfahan']})\n",
        "city_populations = pd.DataFrame({'city_id': [1, 2], 'population': [9172195, 3203253]})\n",
        "\n",
        "merged = pd.merge(left = iranian_cities, right = city_populations, on='city_id', how='left')\n",
        "merged"
      ],
      "metadata": {
        "colab": {
          "base_uri": "https://localhost:8080/",
          "height": 142
        },
        "id": "5mb7cYPC9377",
        "outputId": "45f1f231-c769-4348-a4dc-edbe8ac7b552"
      },
      "execution_count": 11,
      "outputs": [
        {
          "output_type": "execute_result",
          "data": {
            "text/plain": [
              "   city_id city_name  population\n",
              "0        1    Tehran   9172195.0\n",
              "1        2   Mashhad   3203253.0\n",
              "2        3   Isfahan         NaN"
            ],
            "text/html": [
              "\n",
              "  <div id=\"df-a44bb748-797b-4c12-b8ab-09a86009a8a0\">\n",
              "    <div class=\"colab-df-container\">\n",
              "      <div>\n",
              "<style scoped>\n",
              "    .dataframe tbody tr th:only-of-type {\n",
              "        vertical-align: middle;\n",
              "    }\n",
              "\n",
              "    .dataframe tbody tr th {\n",
              "        vertical-align: top;\n",
              "    }\n",
              "\n",
              "    .dataframe thead th {\n",
              "        text-align: right;\n",
              "    }\n",
              "</style>\n",
              "<table border=\"1\" class=\"dataframe\">\n",
              "  <thead>\n",
              "    <tr style=\"text-align: right;\">\n",
              "      <th></th>\n",
              "      <th>city_id</th>\n",
              "      <th>city_name</th>\n",
              "      <th>population</th>\n",
              "    </tr>\n",
              "  </thead>\n",
              "  <tbody>\n",
              "    <tr>\n",
              "      <th>0</th>\n",
              "      <td>1</td>\n",
              "      <td>Tehran</td>\n",
              "      <td>9172195.0</td>\n",
              "    </tr>\n",
              "    <tr>\n",
              "      <th>1</th>\n",
              "      <td>2</td>\n",
              "      <td>Mashhad</td>\n",
              "      <td>3203253.0</td>\n",
              "    </tr>\n",
              "    <tr>\n",
              "      <th>2</th>\n",
              "      <td>3</td>\n",
              "      <td>Isfahan</td>\n",
              "      <td>NaN</td>\n",
              "    </tr>\n",
              "  </tbody>\n",
              "</table>\n",
              "</div>\n",
              "      <button class=\"colab-df-convert\" onclick=\"convertToInteractive('df-a44bb748-797b-4c12-b8ab-09a86009a8a0')\"\n",
              "              title=\"Convert this dataframe to an interactive table.\"\n",
              "              style=\"display:none;\">\n",
              "        \n",
              "  <svg xmlns=\"http://www.w3.org/2000/svg\" height=\"24px\"viewBox=\"0 0 24 24\"\n",
              "       width=\"24px\">\n",
              "    <path d=\"M0 0h24v24H0V0z\" fill=\"none\"/>\n",
              "    <path d=\"M18.56 5.44l.94 2.06.94-2.06 2.06-.94-2.06-.94-.94-2.06-.94 2.06-2.06.94zm-11 1L8.5 8.5l.94-2.06 2.06-.94-2.06-.94L8.5 2.5l-.94 2.06-2.06.94zm10 10l.94 2.06.94-2.06 2.06-.94-2.06-.94-.94-2.06-.94 2.06-2.06.94z\"/><path d=\"M17.41 7.96l-1.37-1.37c-.4-.4-.92-.59-1.43-.59-.52 0-1.04.2-1.43.59L10.3 9.45l-7.72 7.72c-.78.78-.78 2.05 0 2.83L4 21.41c.39.39.9.59 1.41.59.51 0 1.02-.2 1.41-.59l7.78-7.78 2.81-2.81c.8-.78.8-2.07 0-2.86zM5.41 20L4 18.59l7.72-7.72 1.47 1.35L5.41 20z\"/>\n",
              "  </svg>\n",
              "      </button>\n",
              "      \n",
              "  <style>\n",
              "    .colab-df-container {\n",
              "      display:flex;\n",
              "      flex-wrap:wrap;\n",
              "      gap: 12px;\n",
              "    }\n",
              "\n",
              "    .colab-df-convert {\n",
              "      background-color: #E8F0FE;\n",
              "      border: none;\n",
              "      border-radius: 50%;\n",
              "      cursor: pointer;\n",
              "      display: none;\n",
              "      fill: #1967D2;\n",
              "      height: 32px;\n",
              "      padding: 0 0 0 0;\n",
              "      width: 32px;\n",
              "    }\n",
              "\n",
              "    .colab-df-convert:hover {\n",
              "      background-color: #E2EBFA;\n",
              "      box-shadow: 0px 1px 2px rgba(60, 64, 67, 0.3), 0px 1px 3px 1px rgba(60, 64, 67, 0.15);\n",
              "      fill: #174EA6;\n",
              "    }\n",
              "\n",
              "    [theme=dark] .colab-df-convert {\n",
              "      background-color: #3B4455;\n",
              "      fill: #D2E3FC;\n",
              "    }\n",
              "\n",
              "    [theme=dark] .colab-df-convert:hover {\n",
              "      background-color: #434B5C;\n",
              "      box-shadow: 0px 1px 3px 1px rgba(0, 0, 0, 0.15);\n",
              "      filter: drop-shadow(0px 1px 2px rgba(0, 0, 0, 0.3));\n",
              "      fill: #FFFFFF;\n",
              "    }\n",
              "  </style>\n",
              "\n",
              "      <script>\n",
              "        const buttonEl =\n",
              "          document.querySelector('#df-a44bb748-797b-4c12-b8ab-09a86009a8a0 button.colab-df-convert');\n",
              "        buttonEl.style.display =\n",
              "          google.colab.kernel.accessAllowed ? 'block' : 'none';\n",
              "\n",
              "        async function convertToInteractive(key) {\n",
              "          const element = document.querySelector('#df-a44bb748-797b-4c12-b8ab-09a86009a8a0');\n",
              "          const dataTable =\n",
              "            await google.colab.kernel.invokeFunction('convertToInteractive',\n",
              "                                                     [key], {});\n",
              "          if (!dataTable) return;\n",
              "\n",
              "          const docLinkHtml = 'Like what you see? Visit the ' +\n",
              "            '<a target=\"_blank\" href=https://colab.research.google.com/notebooks/data_table.ipynb>data table notebook</a>'\n",
              "            + ' to learn more about interactive tables.';\n",
              "          element.innerHTML = '';\n",
              "          dataTable['output_type'] = 'display_data';\n",
              "          await google.colab.output.renderOutput(dataTable, element);\n",
              "          const docLink = document.createElement('div');\n",
              "          docLink.innerHTML = docLinkHtml;\n",
              "          element.appendChild(docLink);\n",
              "        }\n",
              "      </script>\n",
              "    </div>\n",
              "  </div>\n",
              "  "
            ]
          },
          "metadata": {},
          "execution_count": 11
        }
      ]
    },
    {
      "cell_type": "markdown",
      "source": [
        "The merge() function will take all the rows from the left DataFrame (iranian_cities) and attempt to match them with the corresponding rows in the right DataFrame (city_populations) based on the city_id column. If a matching row is found in the right DataFrame, then the corresponding information from the right DataFrame is included in the resulting DataFrame. If no matching row is found, then the values in the right DataFrame will be filled with NaN.\n",
        "\n",
        "Therefore, by specifying how='left', we ensure that all the cities in iranian_cities DataFrame are present in the resulting DataFrame, regardless of whether or not there is a corresponding row in the city_populations DataFrame. If we had specified how='right', then all the cities in city_populations DataFrame would have been included in the resulting DataFrame, and any cities in iranian_cities without a corresponding row in city_populations would have been excluded:"
      ],
      "metadata": {
        "id": "ZT2bm6sVE-N-"
      }
    },
    {
      "cell_type": "code",
      "source": [
        "right_merged = pd.merge(iranian_cities, city_populations, on='city_id', how='right')\n",
        "right_merged"
      ],
      "metadata": {
        "colab": {
          "base_uri": "https://localhost:8080/",
          "height": 111
        },
        "id": "CrXkD0u_E0Ul",
        "outputId": "c192b007-222d-4ced-839f-02a8c6d4b11f"
      },
      "execution_count": 16,
      "outputs": [
        {
          "output_type": "execute_result",
          "data": {
            "text/plain": [
              "   city_id city_name  population\n",
              "0        1    Tehran     9172195\n",
              "1        2   Mashhad     3203253"
            ],
            "text/html": [
              "\n",
              "  <div id=\"df-07f4d01d-af2d-473a-8106-5bad281b5cd8\">\n",
              "    <div class=\"colab-df-container\">\n",
              "      <div>\n",
              "<style scoped>\n",
              "    .dataframe tbody tr th:only-of-type {\n",
              "        vertical-align: middle;\n",
              "    }\n",
              "\n",
              "    .dataframe tbody tr th {\n",
              "        vertical-align: top;\n",
              "    }\n",
              "\n",
              "    .dataframe thead th {\n",
              "        text-align: right;\n",
              "    }\n",
              "</style>\n",
              "<table border=\"1\" class=\"dataframe\">\n",
              "  <thead>\n",
              "    <tr style=\"text-align: right;\">\n",
              "      <th></th>\n",
              "      <th>city_id</th>\n",
              "      <th>city_name</th>\n",
              "      <th>population</th>\n",
              "    </tr>\n",
              "  </thead>\n",
              "  <tbody>\n",
              "    <tr>\n",
              "      <th>0</th>\n",
              "      <td>1</td>\n",
              "      <td>Tehran</td>\n",
              "      <td>9172195</td>\n",
              "    </tr>\n",
              "    <tr>\n",
              "      <th>1</th>\n",
              "      <td>2</td>\n",
              "      <td>Mashhad</td>\n",
              "      <td>3203253</td>\n",
              "    </tr>\n",
              "  </tbody>\n",
              "</table>\n",
              "</div>\n",
              "      <button class=\"colab-df-convert\" onclick=\"convertToInteractive('df-07f4d01d-af2d-473a-8106-5bad281b5cd8')\"\n",
              "              title=\"Convert this dataframe to an interactive table.\"\n",
              "              style=\"display:none;\">\n",
              "        \n",
              "  <svg xmlns=\"http://www.w3.org/2000/svg\" height=\"24px\"viewBox=\"0 0 24 24\"\n",
              "       width=\"24px\">\n",
              "    <path d=\"M0 0h24v24H0V0z\" fill=\"none\"/>\n",
              "    <path d=\"M18.56 5.44l.94 2.06.94-2.06 2.06-.94-2.06-.94-.94-2.06-.94 2.06-2.06.94zm-11 1L8.5 8.5l.94-2.06 2.06-.94-2.06-.94L8.5 2.5l-.94 2.06-2.06.94zm10 10l.94 2.06.94-2.06 2.06-.94-2.06-.94-.94-2.06-.94 2.06-2.06.94z\"/><path d=\"M17.41 7.96l-1.37-1.37c-.4-.4-.92-.59-1.43-.59-.52 0-1.04.2-1.43.59L10.3 9.45l-7.72 7.72c-.78.78-.78 2.05 0 2.83L4 21.41c.39.39.9.59 1.41.59.51 0 1.02-.2 1.41-.59l7.78-7.78 2.81-2.81c.8-.78.8-2.07 0-2.86zM5.41 20L4 18.59l7.72-7.72 1.47 1.35L5.41 20z\"/>\n",
              "  </svg>\n",
              "      </button>\n",
              "      \n",
              "  <style>\n",
              "    .colab-df-container {\n",
              "      display:flex;\n",
              "      flex-wrap:wrap;\n",
              "      gap: 12px;\n",
              "    }\n",
              "\n",
              "    .colab-df-convert {\n",
              "      background-color: #E8F0FE;\n",
              "      border: none;\n",
              "      border-radius: 50%;\n",
              "      cursor: pointer;\n",
              "      display: none;\n",
              "      fill: #1967D2;\n",
              "      height: 32px;\n",
              "      padding: 0 0 0 0;\n",
              "      width: 32px;\n",
              "    }\n",
              "\n",
              "    .colab-df-convert:hover {\n",
              "      background-color: #E2EBFA;\n",
              "      box-shadow: 0px 1px 2px rgba(60, 64, 67, 0.3), 0px 1px 3px 1px rgba(60, 64, 67, 0.15);\n",
              "      fill: #174EA6;\n",
              "    }\n",
              "\n",
              "    [theme=dark] .colab-df-convert {\n",
              "      background-color: #3B4455;\n",
              "      fill: #D2E3FC;\n",
              "    }\n",
              "\n",
              "    [theme=dark] .colab-df-convert:hover {\n",
              "      background-color: #434B5C;\n",
              "      box-shadow: 0px 1px 3px 1px rgba(0, 0, 0, 0.15);\n",
              "      filter: drop-shadow(0px 1px 2px rgba(0, 0, 0, 0.3));\n",
              "      fill: #FFFFFF;\n",
              "    }\n",
              "  </style>\n",
              "\n",
              "      <script>\n",
              "        const buttonEl =\n",
              "          document.querySelector('#df-07f4d01d-af2d-473a-8106-5bad281b5cd8 button.colab-df-convert');\n",
              "        buttonEl.style.display =\n",
              "          google.colab.kernel.accessAllowed ? 'block' : 'none';\n",
              "\n",
              "        async function convertToInteractive(key) {\n",
              "          const element = document.querySelector('#df-07f4d01d-af2d-473a-8106-5bad281b5cd8');\n",
              "          const dataTable =\n",
              "            await google.colab.kernel.invokeFunction('convertToInteractive',\n",
              "                                                     [key], {});\n",
              "          if (!dataTable) return;\n",
              "\n",
              "          const docLinkHtml = 'Like what you see? Visit the ' +\n",
              "            '<a target=\"_blank\" href=https://colab.research.google.com/notebooks/data_table.ipynb>data table notebook</a>'\n",
              "            + ' to learn more about interactive tables.';\n",
              "          element.innerHTML = '';\n",
              "          dataTable['output_type'] = 'display_data';\n",
              "          await google.colab.output.renderOutput(dataTable, element);\n",
              "          const docLink = document.createElement('div');\n",
              "          docLink.innerHTML = docLinkHtml;\n",
              "          element.appendChild(docLink);\n",
              "        }\n",
              "      </script>\n",
              "    </div>\n",
              "  </div>\n",
              "  "
            ]
          },
          "metadata": {},
          "execution_count": 16
        }
      ]
    },
    {
      "cell_type": "markdown",
      "source": [
        "In the above, we used a left merge and contrasted it with a right merge. For completeness, note that there are other types of merges. We define inner and outer merge here.\n",
        "\n",
        "Inner Merge:\n",
        "An inner merge (or inner join) between two dataframes returns only the matching rows between the two dataframes, based on the specified common columns. In other words, only the rows with matching values in both dataframes are included in the merged dataframe.\n",
        "\n",
        "\n",
        "Outer Merge:\n",
        "An outer merge (or outer join) returns all the rows from both dataframes and fills in missing values with NaN (or a specified fill value) for any non-matching rows. In other words, it includes all the rows from both dataframes and merges the common rows based on the specified common columns."
      ],
      "metadata": {
        "id": "xzzZGCQ5-Tp5"
      }
    },
    {
      "cell_type": "markdown",
      "source": [
        "#### Going Deeper"
      ],
      "metadata": {
        "id": "UkxzVfoqOw8_"
      }
    },
    {
      "cell_type": "markdown",
      "source": [
        "When we combine DataFrames, paying attention to certain details can help ensure that they are merged correctly. In the above, an important detail was that one DataFrame did not contain all the cities included in the other. In the example below, we notice some other important details to pay attention to."
      ],
      "metadata": {
        "id": "eAF65THgPHo0"
      }
    },
    {
      "cell_type": "code",
      "source": [
        "import pandas as pd\n",
        "\n",
        "#Data not necessarily correct\n",
        "iran_covid_data = {\n",
        "    'Province': ['Tehran', 'Isfahan', 'Mazandaran', 'Khorasan Razavi', 'Fars', 'Gilan', 'Kerman', 'Khuzestan', 'Kermanshah', 'East Azerbaijan', 'Qom', 'Semnan', 'Golestan', 'West Azerbaijan', 'Markazi', 'Lorestan', 'Hormozgan', 'Yazd', 'Chaharmahal and Bakhtiari', 'Kohgiluyeh and Boyer-Ahmad', 'Ilam', 'Bushehr', 'North Khorasan', 'South Khorasan', 'Sistan and Baluchestan', 'Ardebil'],\n",
        "    'Deaths': [22824, 5392, 5302, 4969, 4851, 3496, 3016, 2963, 2823, 2536, 2213, 2059, 2044, 2027, 2004, 1958, 1624, 1607, 1202, 996, 971, 961, 836, 778, 765, 762]\n",
        "}\n",
        "\n",
        "iran_covid_df = pd.DataFrame.from_dict(iran_covid_data)"
      ],
      "metadata": {
        "id": "-RAV_jDIO2L4"
      },
      "execution_count": 10,
      "outputs": []
    },
    {
      "cell_type": "code",
      "source": [
        "\n",
        "\n",
        "#Data not necessarily correct\n",
        "gdp_data = {\n",
        "    'province_name': ['Alborz', 'Ardabil', 'Bushehr', 'Chaharmahal and Bakhtiari', 'East Azerbaijan', 'Fars', 'Gilan', 'Golestan', 'Hamadan', 'Hormozgan', 'Ilam', 'Isfahan', 'Kerman', 'Kermanshah', 'Khuzestan', 'Kohgiluyeh and Boyer-Ahmad', 'Kurdistan', 'Lorestan', 'Markazi', 'Mazandaran', 'North Khorasan', 'Qazvin', 'Qom', 'Razavi Khorasan', 'Semnan', 'Sistan and Baluchestan', 'South Khorasan', 'Tehran', 'West Azerbaijan', 'Yazd', 'Zanjan'],\n",
        "    'Abbreviation': ['AL', 'AR', 'BU', 'CB', 'EA', 'FA', 'GN', 'GO', 'HA', 'HO', 'IL', 'IS', 'KN', 'KE', 'KH', 'KB', 'KU', 'LO', 'MA', 'MN', 'NK', 'QA', 'QM', 'RK', 'SE', 'SB', 'SK', 'TE', 'WA', 'YA', 'ZA'],\n",
        "    'Area (km2)': [5833, 17800, 22743, 16332, 45650, 122608, 14042, 20195, 19368, 70669, 20133, 107029, 183285, 24998, 64055, 15504, 29137, 28294, 29130, 23701, 28434, 15549, 11526, 118884, 97491, 180726, 151913, 18814, 37437, 76469, 21773],\n",
        "    'GDP per capita': [12500, 9000, 10000, 6000, 7500, 7500, 7500, 6000, 6000, 8000, 6000, 7000, 9000, 8000, 6000, 6000, 6000, 8000, 6000, 8000, 6000, 7000, 7000, 6000, 7500, 6000, 5000, 6000, 8000, 8000, 8000],\n",
        "    'Population (2023)': [2730000, 1284000, 1174000, 973000, 3925000, 4904000, 2546000, 1893000, 1756000, 1806000, 591000, 5136000, 3184000, 2003000, 4725000, 728000, 1614000, 1784000, 1436000, 3302000, 868000, 1284000, 1300000, 6444000, 715000, 2777000, 786000, 13323000, 3278000, 1156000, 1103000]\n",
        "}\n",
        "\n",
        "gdp_df = pd.DataFrame(gdp_data)\n",
        "print(gdp_df)"
      ],
      "metadata": {
        "id": "PG-rh4oUPPrX"
      },
      "execution_count": null,
      "outputs": []
    },
    {
      "cell_type": "markdown",
      "source": [
        "In the above, we have two DataFrames, iran_covid_data and gdp_data. We want to merge the two DataFrames so that we can observe the relationship between GDP per capita and covid deaths per capita. To accomplish this, we first note the following:\n",
        "*   To merge the two DataFrames, we can use the province name column in the two DataFrames. However, the province name column is different in each dataframe. To address this, we can simply change the name of the province name column in one of the DataFrames to match the other.\n",
        "*   These data were assembled from a source of mediocre quality. Therefore we cannot be certain that the provinces in one DataFrame match the provinces in another. To address this issue, we can use an outer join, which enables us to see which provinces for which we lack a certain kind of data. An outer join is a good idea in this case because it allows you to keep all of the rows from both DataFrames, even if there is no match between the values in the specified column. An outer join combines the rows from both DataFrames and fills in missing values with NaN (Not a Number) or a specified fill value. This means that all the rows from both DataFrames are included in the resulting DataFrame, with NaN or the specified fill value used to represent missing data where there is no match in the specified column.\n",
        "\n",
        "\n"
      ],
      "metadata": {
        "id": "PCOjr8EaRC0j"
      }
    },
    {
      "cell_type": "markdown",
      "source": [
        "#### Using ChatGPT to assist with merging tables"
      ],
      "metadata": {
        "id": "s4GvVNESJ8ar"
      }
    },
    {
      "cell_type": "markdown",
      "source": [
        "To help you get started with merging DataFrames, you can leverage the latest AI technology. If you can clearly state how each of your tables is structured, including the titles of its columns, you can ask ChatGPT to write code to merge the two DataFrames. Below are some examples of prompts that would help you do this.\n",
        "\n",
        "1.   \"I have two DataFrames: one containing information about Iranian cities (CityID, CityName, Province) and another containing population data for those cities (CityID, Population). The first dataframe is called iranian_cities, the second called city_populations. How do I merge these DataFrames using the CityID column? Please ask any necessary clarifying questions.\"\n",
        "2.   \"Suppose I have a DataFrame with Iranian historical sites and their locations (SiteName, CityName) and another DataFrame with city names and province names (CityName, Province). The first dataframe is called historical_sites, the second called city_populations.  How do I merge these DataFrames to create a single DataFrame containing the historical site, city name, and province? Please ask any necessary clarifying questions.\"\n",
        "3.   \"I have two DataFrames: one with information about Iranian universities (UniversityID, UniversityName, City) and another with their international rankings (UniversityID, Ranking). The first dataframe is called iranian_universities, the second called international_rankings. How can I merge these DataFrames to create a combined DataFrame with university information and their rankings? Suppose that we do not have the ranking for all universities. Please ask any necessary clarifying questions.\"\n",
        "4.   \"Let's say I have a DataFrame with the names of Iranian national parks and their area in square kilometers (ParkName, Area) and another DataFrame with the names of national parks and their number of visitors per year (ParkName, VisitorsPerYear). The first dataframe is called national_parks, the second is called park_visitors. How do I merge these DataFrames to get a single DataFrame with park names, area, and number of visitors per year? Please ask any necessary clarifying questions.\"\n",
        "\n",
        "\n",
        "You can also ask ChatGPT when you are running into difficulties with merging DataFrames. If you merge two DataFrames and are not getting what you expected, you can tell ChatGPT what the frames consist of, what you did to merge them, and what the output was, and it could provide a diagnosis of what went wrong as well as a possible fix."
      ],
      "metadata": {
        "id": "D8Z33hdtMMSt"
      }
    },
    {
      "cell_type": "markdown",
      "source": [
        "#### Parting Notes\n",
        "I hope you enjoyed this lesson on combining tables. This lesson has introduced the basic concepts of combining tables. With this basis of understanding and through augmenting it with the use of tools such as ChatGPT to solidify and extend your understanding, you will be able to effectively conquer similar tasks in the future."
      ],
      "metadata": {
        "id": "sudokNSHU3ac"
      }
    }
  ]
}
