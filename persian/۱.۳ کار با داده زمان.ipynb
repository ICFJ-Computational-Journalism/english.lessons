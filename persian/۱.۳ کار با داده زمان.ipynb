{
 "cells": [
  {
   "cell_type": "markdown",
   "id": "71b7f2fc",
   "metadata": {},
   "source": [
    "## ۱.۳ کار با داده زمان\n",
    "\n",
    "### مقدمه‌ای بر `ماژول تاریخ-زمان`\n",
    "\n",
    "پایتون چندین [تیپ از پیش ساخته شده](https://docs.python.org/3/library/stdtypes.html) دارد، تایپ‌هایی نظیر:\n",
    "\n",
    "- `int`\n",
    "\n",
    "`اینت` برای اعداد صحیح به کار می‌رود؛ به عنوان مثال `-۱` یا `۲۰۲۳`.\n",
    "\n",
    "- `str`\n",
    "\n",
    "`اِس‌تی‌آر` برای رشته‌ها به کار می‌رود؛ به عنوان مثال `\"سلام\"`، و \n",
    "\n",
    "- ‍‍`list`\n",
    "\n",
    ".`لیست` برای فهرست کردن موارد، نظیر [۱، ۲، ۳] یا [\"گاو\", \"خوک\", \"بز\", \"جوجه\"] \n",
    "\n",
    "همچنین می‌توانیم از «کلاس‌ها» برای ایجاد تیپ‌های پیچیده‌تر استفاده کنیم. پیشتر از [کلاس](https://pandas.pydata.org/docs/reference/api/pandas.DataFrame.html)`دیتافریم`که در `پانداس` موجود است، استفاده کرده‌ایم. حال می‌خواهیم از کلاس‌های مختلفی که در [ماژول](https://docs.python.org/3/library/datetime.html) `تاریخ-زمان` موجود است استفاده خواهیم کرد. این کلاس‌های بخشی از کتابخانه پایتون است.\n",
    "\n",
    "برای استفاده از ماژول `تاریخ-زمان`، ابتدا باید آن را ایمپورت کنیم. ما از مخفف `دی‌تی` یا همان \n",
    "\n",
    "`dt`\n",
    "\n",
    "برای این ماژول استفاده می‌کنیم: "
   ]
  },
  {
   "cell_type": "code",
   "execution_count": 2,
   "id": "e1c63fe3",
   "metadata": {},
   "outputs": [],
   "source": [
    "import datetime as dt"
   ]
  },
  {
   "cell_type": "markdown",
   "id": "f4b594ea",
   "metadata": {},
   "source": [
    "### کلاس `تاریخ-زمان`\n",
    "\n",
    "نخستین کلاسی که در ماژول `تاریخ-زمان` بررسی خواهیم کرد، همان `تاریخ-زمان` خواهد بود. این کلاس اشیاء (آبجکت‌ها) حاوی تقویم گریگوری (سال، ماه، روز) و زمان (ساعت، دقیقه، ثانیه، میلیونیم ثانیه) است. به عنوان مثال، می‌توانیم `تاریخ-زمان` هم‌اکنون را دریافت کنیم "
   ]
  },
  {
   "cell_type": "code",
   "execution_count": 3,
   "id": "f1b2f027",
   "metadata": {},
   "outputs": [
    {
     "data": {
      "text/plain": [
       "datetime.datetime(2023, 3, 22, 11, 47, 58, 664768)"
      ]
     },
     "execution_count": 3,
     "metadata": {},
     "output_type": "execute_result"
    }
   ],
   "source": [
    "dt.datetime.now()"
   ]
  },
  {
   "cell_type": "markdown",
   "id": "ab915f5a",
   "metadata": {},
   "source": [
    "### کلاس `تاریخ`\n",
    "\n",
    "گاهی به دقت زمانی بالایی نیاز نداریم و فقط می‌خواهیم تاریخ را بدانیم. برای این کار، ماژول ما کلاس `تاریخ` را دارد. به عنوان مثال، می‌توانیم از آبجکت (شیء) `تاریخ` برای به دست آوردن تاریخ امروز استفاده کنیم:"
   ]
  },
  {
   "cell_type": "code",
   "execution_count": 4,
   "id": "715c6612",
   "metadata": {},
   "outputs": [
    {
     "data": {
      "text/plain": [
       "datetime.date(2023, 3, 22)"
      ]
     },
     "execution_count": 4,
     "metadata": {},
     "output_type": "execute_result"
    }
   ],
   "source": [
    "dt.date.today()"
   ]
  },
  {
   "cell_type": "markdown",
   "id": "623d55bd",
   "metadata": {},
   "source": [
    "همچنین می‌توانیم آرگومان‌هایی را وارد شیء (آبجکت) `تاریخ` بکنیم تا تاریخ مشخصی را داشته باشیم:\n",
    "\n",
    "`dt.date(year, month, day)`"
   ]
  },
  {
   "cell_type": "code",
   "execution_count": 4,
   "id": "2cc7b24c",
   "metadata": {},
   "outputs": [
    {
     "data": {
      "text/plain": [
       "datetime.date(2010, 12, 31)"
      ]
     },
     "execution_count": 4,
     "metadata": {},
     "output_type": "execute_result"
    }
   ],
   "source": [
    "dt.date(2010, 12, 31)"
   ]
  },
  {
   "cell_type": "markdown",
   "id": "ece09c24",
   "metadata": {},
   "source": [
    "این کتابخانه همچنین حاوی تابع‌های کمکی (یوتیلیتی) است. مثلا می‌توانیم یک رشته در فرمت ایزو را به شی (آبجکت) `تاریخ` تبدیل کنیم:"
   ]
  },
  {
   "cell_type": "code",
   "execution_count": 5,
   "id": "b1cacd94",
   "metadata": {},
   "outputs": [
    {
     "data": {
      "text/plain": [
       "datetime.date(2010, 12, 31)"
      ]
     },
     "execution_count": 5,
     "metadata": {},
     "output_type": "execute_result"
    }
   ],
   "source": [
    "dt.date.fromisoformat(\"2010-12-31\")"
   ]
  },
  {
   "cell_type": "markdown",
   "id": "76ed1a58",
   "metadata": {},
   "source": [
    "همچنین می‌توانیم تاریخ را در فرمت‌های مختلفی دریافت کنیم. برای تنظیم این فرمت‌ها، می‌توانید رشته فرمت خودتان را ایجاد کنیم. به عنوان مثال،  \n",
    "\n",
    "`%d` \n",
    "\n",
    "روز را به صورت دورقمی نمایش می‌دهد و \n",
    "\n",
    "`%A`\n",
    "\n",
    "روز هفته را به صورت کامل نمایش می‌دهد."
   ]
  },
  {
   "cell_type": "code",
   "execution_count": 6,
   "id": "d31cb856",
   "metadata": {},
   "outputs": [
    {
     "name": "stdout",
     "output_type": "stream",
     "text": [
      "ISO format:   2010-12-31\n",
      "%d/%m/%y:     31/12/10\n",
      "%A %d. %B %Y: Friday 31. December 2010\n"
     ]
    }
   ],
   "source": [
    "my_date = dt.date(2010, 12, 31)\n",
    "print(\"ISO format:   \" + my_date.isoformat())\n",
    "print(\"%d/%m/%y:     \" + my_date.strftime(\"%d/%m/%y\"))\n",
    "print(\"%A %d. %B %Y: \" + my_date.strftime(\"%A %d. %B %Y\"))"
   ]
  },
  {
   "cell_type": "markdown",
   "id": "2c17e9d1",
   "metadata": {},
   "source": [
    "تمامی رشته‌های مرتبط با تاریخ و زمان را می‌توانید در [این صفحه رسمی پایتون](https://docs.python.org/3/library/datetime.html#strftime-and-strptime-format-codes) پیدا کنید. "
   ]
  },
  {
   "cell_type": "markdown",
   "id": "f6d0db1f",
   "metadata": {},
   "source": [
    "### کلاس‌های دیگر\n",
    "\n",
    "ماژول `تاریخ-زمان` چندین کلاس دیگر هم دارد؛ کلاس‌هایی نظیر:\n",
    "\n",
    "- کلاس زمان یا همان \n",
    "\n",
    "`time`\n",
    "\n",
    "که زمان را به وقت محلی به ما می‌دهد\n",
    "\n",
    "- کلاس تایم‌دلتا یا همان\n",
    "\n",
    "`timedelta`\n",
    "\n",
    "که فاصله زمانی میان تو تاریخ یا ساعت را به ما نشان می‌دهد\n",
    "\n",
    "برای اطلاعات بیشتر درباره این کلاس‌ها، همیشه می‌توانید به [مستندات مرتبط با ماژول تاریخ-زمان](https://docs.python.org/3/library/datetime.html) در صفحه رسمی پایتون مراجعه کنید."
   ]
  },
  {
   "cell_type": "markdown",
   "id": "21f1d75b",
   "metadata": {},
   "source": [
    "## استفاده از `تاریخ-زمان` در دیتافریم\n",
    "\n",
    "حال که به درکی از کلاس‌های `تاریخ-زمان` و `تاریخ` رسیدیم، بگذارید از این کلاس‌ها برای تحلیل دیتابیس‌های بزرگ در `پانداس` استفاده کنیم. فرض کنید یک فایل سی‌اِ،س‌وی داریم که هر سطر آن حاوی نام یکی از روسای جمهور ایران و تاریخ آغاز و پایان ریاست جمهوری‌اش است. می‌توانیم برای این فایل یک دیتافریم بسازیم: "
   ]
  },
  {
   "cell_type": "code",
   "execution_count": 7,
   "id": "03ce70f9",
   "metadata": {},
   "outputs": [],
   "source": [
    "import pandas as pd\n",
    "from io import StringIO"
   ]
  },
  {
   "cell_type": "code",
   "execution_count": 8,
   "id": "27464d59",
   "metadata": {},
   "outputs": [],
   "source": [
    "csv_data = \"\"\"name,took_office,left_office\n",
    "Abolhassan Banisadr,4 February 1980,22 June 1981\n",
    "Mohammad-Ali Rajai,2 August 1981,30 August 1981\n",
    "Ali Khamenei,9 October 1981,16 August 1989\n",
    "Akbar Hashemi Rafsanjani,16 August 1989,3 August 1997\n",
    "Mohammad Khatami,3 August 1997,3 August 2005\n",
    "Mahmoud Ahmadinejad,3 August 2005,3 August 2013\n",
    "Hassan Rouhani,3 August 2013,3 August 2021\n",
    "Ebrahim Raisi,3 August 2021,\"\"\""
   ]
  },
  {
   "cell_type": "code",
   "execution_count": 9,
   "id": "68fdb90e",
   "metadata": {},
   "outputs": [
    {
     "data": {
      "text/html": [
       "<div>\n",
       "<style scoped>\n",
       "    .dataframe tbody tr th:only-of-type {\n",
       "        vertical-align: middle;\n",
       "    }\n",
       "\n",
       "    .dataframe tbody tr th {\n",
       "        vertical-align: top;\n",
       "    }\n",
       "\n",
       "    .dataframe thead th {\n",
       "        text-align: right;\n",
       "    }\n",
       "</style>\n",
       "<table border=\"1\" class=\"dataframe\">\n",
       "  <thead>\n",
       "    <tr style=\"text-align: right;\">\n",
       "      <th></th>\n",
       "      <th>name</th>\n",
       "      <th>took_office</th>\n",
       "      <th>left_office</th>\n",
       "    </tr>\n",
       "  </thead>\n",
       "  <tbody>\n",
       "    <tr>\n",
       "      <th>0</th>\n",
       "      <td>Abolhassan Banisadr</td>\n",
       "      <td>4 February 1980</td>\n",
       "      <td>22 June 1981</td>\n",
       "    </tr>\n",
       "    <tr>\n",
       "      <th>1</th>\n",
       "      <td>Mohammad-Ali Rajai</td>\n",
       "      <td>2 August 1981</td>\n",
       "      <td>30 August 1981</td>\n",
       "    </tr>\n",
       "    <tr>\n",
       "      <th>2</th>\n",
       "      <td>Ali Khamenei</td>\n",
       "      <td>9 October 1981</td>\n",
       "      <td>16 August 1989</td>\n",
       "    </tr>\n",
       "    <tr>\n",
       "      <th>3</th>\n",
       "      <td>Akbar Hashemi Rafsanjani</td>\n",
       "      <td>16 August 1989</td>\n",
       "      <td>3 August 1997</td>\n",
       "    </tr>\n",
       "    <tr>\n",
       "      <th>4</th>\n",
       "      <td>Mohammad Khatami</td>\n",
       "      <td>3 August 1997</td>\n",
       "      <td>3 August 2005</td>\n",
       "    </tr>\n",
       "    <tr>\n",
       "      <th>5</th>\n",
       "      <td>Mahmoud Ahmadinejad</td>\n",
       "      <td>3 August 2005</td>\n",
       "      <td>3 August 2013</td>\n",
       "    </tr>\n",
       "    <tr>\n",
       "      <th>6</th>\n",
       "      <td>Hassan Rouhani</td>\n",
       "      <td>3 August 2013</td>\n",
       "      <td>3 August 2021</td>\n",
       "    </tr>\n",
       "    <tr>\n",
       "      <th>7</th>\n",
       "      <td>Ebrahim Raisi</td>\n",
       "      <td>3 August 2021</td>\n",
       "      <td>NaN</td>\n",
       "    </tr>\n",
       "  </tbody>\n",
       "</table>\n",
       "</div>"
      ],
      "text/plain": [
       "                       name      took_office     left_office\n",
       "0       Abolhassan Banisadr  4 February 1980    22 June 1981\n",
       "1        Mohammad-Ali Rajai    2 August 1981  30 August 1981\n",
       "2              Ali Khamenei   9 October 1981  16 August 1989\n",
       "3  Akbar Hashemi Rafsanjani   16 August 1989   3 August 1997\n",
       "4          Mohammad Khatami    3 August 1997   3 August 2005\n",
       "5       Mahmoud Ahmadinejad    3 August 2005   3 August 2013\n",
       "6            Hassan Rouhani    3 August 2013   3 August 2021\n",
       "7             Ebrahim Raisi    3 August 2021             NaN"
      ]
     },
     "execution_count": 9,
     "metadata": {},
     "output_type": "execute_result"
    }
   ],
   "source": [
    "presidents = pd.read_csv(StringIO(csv_data))\n",
    "presidents"
   ]
  },
  {
   "cell_type": "markdown",
   "id": "cd0e9dad",
   "metadata": {},
   "source": [
    "*توجه داشته باشید که سطر هفت، ستون «پایان ریاست‌جمهوری» حاوی مقدار  \n",
    "\n",
    "`NaN`\n",
    "\n",
    "است. این مخفف به معنای «عددی نیست» است و در اصل به این معناست که [این داده موجود نیست](https://pandas.pydata.org/pandas-docs/dev/user_guide/gotchas.html#nan-integer-na-values-and-na-type-promotions).\n",
    "\n",
    "حال بیایید این دیتافریم را بر اساس ستون «آغاز ریاست جمهوری» مرتب کنیم:"
   ]
  },
  {
   "cell_type": "code",
   "execution_count": 10,
   "id": "cd2a9103",
   "metadata": {},
   "outputs": [
    {
     "data": {
      "text/html": [
       "<div>\n",
       "<style scoped>\n",
       "    .dataframe tbody tr th:only-of-type {\n",
       "        vertical-align: middle;\n",
       "    }\n",
       "\n",
       "    .dataframe tbody tr th {\n",
       "        vertical-align: top;\n",
       "    }\n",
       "\n",
       "    .dataframe thead th {\n",
       "        text-align: right;\n",
       "    }\n",
       "</style>\n",
       "<table border=\"1\" class=\"dataframe\">\n",
       "  <thead>\n",
       "    <tr style=\"text-align: right;\">\n",
       "      <th></th>\n",
       "      <th>name</th>\n",
       "      <th>took_office</th>\n",
       "      <th>left_office</th>\n",
       "    </tr>\n",
       "  </thead>\n",
       "  <tbody>\n",
       "    <tr>\n",
       "      <th>3</th>\n",
       "      <td>Akbar Hashemi Rafsanjani</td>\n",
       "      <td>16 August 1989</td>\n",
       "      <td>3 August 1997</td>\n",
       "    </tr>\n",
       "    <tr>\n",
       "      <th>1</th>\n",
       "      <td>Mohammad-Ali Rajai</td>\n",
       "      <td>2 August 1981</td>\n",
       "      <td>30 August 1981</td>\n",
       "    </tr>\n",
       "    <tr>\n",
       "      <th>4</th>\n",
       "      <td>Mohammad Khatami</td>\n",
       "      <td>3 August 1997</td>\n",
       "      <td>3 August 2005</td>\n",
       "    </tr>\n",
       "    <tr>\n",
       "      <th>5</th>\n",
       "      <td>Mahmoud Ahmadinejad</td>\n",
       "      <td>3 August 2005</td>\n",
       "      <td>3 August 2013</td>\n",
       "    </tr>\n",
       "    <tr>\n",
       "      <th>6</th>\n",
       "      <td>Hassan Rouhani</td>\n",
       "      <td>3 August 2013</td>\n",
       "      <td>3 August 2021</td>\n",
       "    </tr>\n",
       "    <tr>\n",
       "      <th>7</th>\n",
       "      <td>Ebrahim Raisi</td>\n",
       "      <td>3 August 2021</td>\n",
       "      <td>NaN</td>\n",
       "    </tr>\n",
       "    <tr>\n",
       "      <th>0</th>\n",
       "      <td>Abolhassan Banisadr</td>\n",
       "      <td>4 February 1980</td>\n",
       "      <td>22 June 1981</td>\n",
       "    </tr>\n",
       "    <tr>\n",
       "      <th>2</th>\n",
       "      <td>Ali Khamenei</td>\n",
       "      <td>9 October 1981</td>\n",
       "      <td>16 August 1989</td>\n",
       "    </tr>\n",
       "  </tbody>\n",
       "</table>\n",
       "</div>"
      ],
      "text/plain": [
       "                       name      took_office     left_office\n",
       "3  Akbar Hashemi Rafsanjani   16 August 1989   3 August 1997\n",
       "1        Mohammad-Ali Rajai    2 August 1981  30 August 1981\n",
       "4          Mohammad Khatami    3 August 1997   3 August 2005\n",
       "5       Mahmoud Ahmadinejad    3 August 2005   3 August 2013\n",
       "6            Hassan Rouhani    3 August 2013   3 August 2021\n",
       "7             Ebrahim Raisi    3 August 2021             NaN\n",
       "0       Abolhassan Banisadr  4 February 1980    22 June 1981\n",
       "2              Ali Khamenei   9 October 1981  16 August 1989"
      ]
     },
     "execution_count": 10,
     "metadata": {},
     "output_type": "execute_result"
    }
   ],
   "source": [
    "presidents.sort_values(\"took_office\")"
   ]
  },
  {
   "cell_type": "markdown",
   "id": "8835f5d3",
   "metadata": {},
   "source": [
    "می‌بینیم که اگرچه اکبر هاشمی رفسنجانی در اصل سومین رئیس جمهور جمهوری اسلامی است، نام او اول آمده. دلیل این امر آن است که نوع داده این ستون رشته است. از این طریق می‌توانیم از نوع یا هر ستون آگاه شویم:  "
   ]
  },
  {
   "cell_type": "code",
   "execution_count": 11,
   "id": "3022b07b",
   "metadata": {},
   "outputs": [
    {
     "data": {
      "text/plain": [
       "name           object\n",
       "took_office    object\n",
       "left_office    object\n",
       "dtype: object"
      ]
     },
     "execution_count": 11,
     "metadata": {},
     "output_type": "execute_result"
    }
   ],
   "source": [
    "presidents.dtypes"
   ]
  },
  {
   "cell_type": "markdown",
   "id": "048619cc",
   "metadata": {},
   "source": [
    "اگر بخواهیم دو ستون \n",
    "\n",
    "`took_office` \n",
    "\n",
    "و\n",
    "\n",
    "`left_office`\n",
    "\n",
    "را به اشیا(آبجکت‌های) تاریخ-زمان تبدیل کنیم، می‌توانیم از فرمان \n",
    "\n",
    "`to_datetime`\n",
    "\n",
    "در پانداس استفاده کنیم:"
   ]
  },
  {
   "cell_type": "code",
   "execution_count": 11,
   "id": "0c4fc5eb",
   "metadata": {},
   "outputs": [],
   "source": [
    "presidents[\"took_office\"] = pd.to_datetime(presidents[\"took_office\"].str.strip(), format=\"%d %B %Y\")\n",
    "presidents[\"left_office\"] = pd.to_datetime(presidents[\"left_office\"].str.strip(), format=\"%d %B %Y\")"
   ]
  },
  {
   "cell_type": "code",
   "execution_count": 12,
   "id": "3e0d5f21",
   "metadata": {},
   "outputs": [
    {
     "data": {
      "text/html": [
       "<div>\n",
       "<style scoped>\n",
       "    .dataframe tbody tr th:only-of-type {\n",
       "        vertical-align: middle;\n",
       "    }\n",
       "\n",
       "    .dataframe tbody tr th {\n",
       "        vertical-align: top;\n",
       "    }\n",
       "\n",
       "    .dataframe thead th {\n",
       "        text-align: right;\n",
       "    }\n",
       "</style>\n",
       "<table border=\"1\" class=\"dataframe\">\n",
       "  <thead>\n",
       "    <tr style=\"text-align: right;\">\n",
       "      <th></th>\n",
       "      <th>name</th>\n",
       "      <th>took_office</th>\n",
       "      <th>left_office</th>\n",
       "    </tr>\n",
       "  </thead>\n",
       "  <tbody>\n",
       "    <tr>\n",
       "      <th>0</th>\n",
       "      <td>Abolhassan Banisadr</td>\n",
       "      <td>1980-02-04</td>\n",
       "      <td>1981-06-22</td>\n",
       "    </tr>\n",
       "    <tr>\n",
       "      <th>1</th>\n",
       "      <td>Mohammad-Ali Rajai</td>\n",
       "      <td>1981-08-02</td>\n",
       "      <td>1981-08-30</td>\n",
       "    </tr>\n",
       "    <tr>\n",
       "      <th>2</th>\n",
       "      <td>Ali Khamenei</td>\n",
       "      <td>1981-10-09</td>\n",
       "      <td>1989-08-16</td>\n",
       "    </tr>\n",
       "    <tr>\n",
       "      <th>3</th>\n",
       "      <td>Akbar Hashemi Rafsanjani</td>\n",
       "      <td>1989-08-16</td>\n",
       "      <td>1997-08-03</td>\n",
       "    </tr>\n",
       "    <tr>\n",
       "      <th>4</th>\n",
       "      <td>Mohammad Khatami</td>\n",
       "      <td>1997-08-03</td>\n",
       "      <td>2005-08-03</td>\n",
       "    </tr>\n",
       "    <tr>\n",
       "      <th>5</th>\n",
       "      <td>Mahmoud Ahmadinejad</td>\n",
       "      <td>2005-08-03</td>\n",
       "      <td>2013-08-03</td>\n",
       "    </tr>\n",
       "    <tr>\n",
       "      <th>6</th>\n",
       "      <td>Hassan Rouhani</td>\n",
       "      <td>2013-08-03</td>\n",
       "      <td>2021-08-03</td>\n",
       "    </tr>\n",
       "    <tr>\n",
       "      <th>7</th>\n",
       "      <td>Ebrahim Raisi</td>\n",
       "      <td>2021-08-03</td>\n",
       "      <td>NaT</td>\n",
       "    </tr>\n",
       "  </tbody>\n",
       "</table>\n",
       "</div>"
      ],
      "text/plain": [
       "                       name took_office left_office\n",
       "0       Abolhassan Banisadr  1980-02-04  1981-06-22\n",
       "1        Mohammad-Ali Rajai  1981-08-02  1981-08-30\n",
       "2              Ali Khamenei  1981-10-09  1989-08-16\n",
       "3  Akbar Hashemi Rafsanjani  1989-08-16  1997-08-03\n",
       "4          Mohammad Khatami  1997-08-03  2005-08-03\n",
       "5       Mahmoud Ahmadinejad  2005-08-03  2013-08-03\n",
       "6            Hassan Rouhani  2013-08-03  2021-08-03\n",
       "7             Ebrahim Raisi  2021-08-03         NaT"
      ]
     },
     "execution_count": 12,
     "metadata": {},
     "output_type": "execute_result"
    }
   ],
   "source": [
    "presidents"
   ]
  },
  {
   "cell_type": "markdown",
   "id": "e801a6ba",
   "metadata": {},
   "source": [
    "حال اگر نوع ستون‌هایمان را دوباره بررسی کنیم، متوجه می‌شویم که نوع دو ستونی \n",
    "\n",
    "`took_office` \n",
    "\n",
    "و\n",
    "\n",
    "`left_office`\n",
    "\n",
    "به `تاریخ-زمان` تغییر کرده است:"
   ]
  },
  {
   "cell_type": "code",
   "execution_count": 13,
   "id": "28608c17",
   "metadata": {},
   "outputs": [
    {
     "data": {
      "text/plain": [
       "name                   object\n",
       "took_office    datetime64[ns]\n",
       "left_office    datetime64[ns]\n",
       "dtype: object"
      ]
     },
     "execution_count": 13,
     "metadata": {},
     "output_type": "execute_result"
    }
   ],
   "source": [
    "presidents.dtypes"
   ]
  },
  {
   "cell_type": "markdown",
   "id": "a9d89da2",
   "metadata": {},
   "source": [
    "و حال اگر بار دیگر داده‌هایمان را بر اساس ستون «آغاز ریاست جمهوری» مرتب کنیم، همه‌چیز به درستی مرتب می‌شود.:"
   ]
  },
  {
   "cell_type": "code",
   "execution_count": 14,
   "id": "ea862b52",
   "metadata": {},
   "outputs": [
    {
     "data": {
      "text/html": [
       "<div>\n",
       "<style scoped>\n",
       "    .dataframe tbody tr th:only-of-type {\n",
       "        vertical-align: middle;\n",
       "    }\n",
       "\n",
       "    .dataframe tbody tr th {\n",
       "        vertical-align: top;\n",
       "    }\n",
       "\n",
       "    .dataframe thead th {\n",
       "        text-align: right;\n",
       "    }\n",
       "</style>\n",
       "<table border=\"1\" class=\"dataframe\">\n",
       "  <thead>\n",
       "    <tr style=\"text-align: right;\">\n",
       "      <th></th>\n",
       "      <th>name</th>\n",
       "      <th>took_office</th>\n",
       "      <th>left_office</th>\n",
       "    </tr>\n",
       "  </thead>\n",
       "  <tbody>\n",
       "    <tr>\n",
       "      <th>0</th>\n",
       "      <td>Abolhassan Banisadr</td>\n",
       "      <td>1980-02-04</td>\n",
       "      <td>1981-06-22</td>\n",
       "    </tr>\n",
       "    <tr>\n",
       "      <th>1</th>\n",
       "      <td>Mohammad-Ali Rajai</td>\n",
       "      <td>1981-08-02</td>\n",
       "      <td>1981-08-30</td>\n",
       "    </tr>\n",
       "    <tr>\n",
       "      <th>2</th>\n",
       "      <td>Ali Khamenei</td>\n",
       "      <td>1981-10-09</td>\n",
       "      <td>1989-08-16</td>\n",
       "    </tr>\n",
       "    <tr>\n",
       "      <th>3</th>\n",
       "      <td>Akbar Hashemi Rafsanjani</td>\n",
       "      <td>1989-08-16</td>\n",
       "      <td>1997-08-03</td>\n",
       "    </tr>\n",
       "    <tr>\n",
       "      <th>4</th>\n",
       "      <td>Mohammad Khatami</td>\n",
       "      <td>1997-08-03</td>\n",
       "      <td>2005-08-03</td>\n",
       "    </tr>\n",
       "    <tr>\n",
       "      <th>5</th>\n",
       "      <td>Mahmoud Ahmadinejad</td>\n",
       "      <td>2005-08-03</td>\n",
       "      <td>2013-08-03</td>\n",
       "    </tr>\n",
       "    <tr>\n",
       "      <th>6</th>\n",
       "      <td>Hassan Rouhani</td>\n",
       "      <td>2013-08-03</td>\n",
       "      <td>2021-08-03</td>\n",
       "    </tr>\n",
       "    <tr>\n",
       "      <th>7</th>\n",
       "      <td>Ebrahim Raisi</td>\n",
       "      <td>2021-08-03</td>\n",
       "      <td>NaT</td>\n",
       "    </tr>\n",
       "  </tbody>\n",
       "</table>\n",
       "</div>"
      ],
      "text/plain": [
       "                       name took_office left_office\n",
       "0       Abolhassan Banisadr  1980-02-04  1981-06-22\n",
       "1        Mohammad-Ali Rajai  1981-08-02  1981-08-30\n",
       "2              Ali Khamenei  1981-10-09  1989-08-16\n",
       "3  Akbar Hashemi Rafsanjani  1989-08-16  1997-08-03\n",
       "4          Mohammad Khatami  1997-08-03  2005-08-03\n",
       "5       Mahmoud Ahmadinejad  2005-08-03  2013-08-03\n",
       "6            Hassan Rouhani  2013-08-03  2021-08-03\n",
       "7             Ebrahim Raisi  2021-08-03         NaT"
      ]
     },
     "execution_count": 14,
     "metadata": {},
     "output_type": "execute_result"
    }
   ],
   "source": [
    "presidents.sort_values(\"took_office\")"
   ]
  },
  {
   "cell_type": "markdown",
   "id": "ee8da8e5",
   "metadata": {},
   "source": [
    "همچنین می‌توانیم تحلیل‌های جالب‌تری روی این ستون‌ها انجام بدهیم. به عنوان مثال، می‌توانیم به مدت زمان ریاست جمهوری هر یک از این افراد دست پیدا کنیم:"
   ]
  },
  {
   "cell_type": "code",
   "execution_count": 15,
   "id": "940536fc",
   "metadata": {},
   "outputs": [],
   "source": [
    "presidents[\"duration\"] = presidents[\"left_office\"] - presidents[\"took_office\"]"
   ]
  },
  {
   "cell_type": "code",
   "execution_count": 16,
   "id": "b05e0776",
   "metadata": {},
   "outputs": [
    {
     "data": {
      "text/html": [
       "<div>\n",
       "<style scoped>\n",
       "    .dataframe tbody tr th:only-of-type {\n",
       "        vertical-align: middle;\n",
       "    }\n",
       "\n",
       "    .dataframe tbody tr th {\n",
       "        vertical-align: top;\n",
       "    }\n",
       "\n",
       "    .dataframe thead th {\n",
       "        text-align: right;\n",
       "    }\n",
       "</style>\n",
       "<table border=\"1\" class=\"dataframe\">\n",
       "  <thead>\n",
       "    <tr style=\"text-align: right;\">\n",
       "      <th></th>\n",
       "      <th>name</th>\n",
       "      <th>took_office</th>\n",
       "      <th>left_office</th>\n",
       "      <th>duration</th>\n",
       "    </tr>\n",
       "  </thead>\n",
       "  <tbody>\n",
       "    <tr>\n",
       "      <th>0</th>\n",
       "      <td>Abolhassan Banisadr</td>\n",
       "      <td>1980-02-04</td>\n",
       "      <td>1981-06-22</td>\n",
       "      <td>504 days</td>\n",
       "    </tr>\n",
       "    <tr>\n",
       "      <th>1</th>\n",
       "      <td>Mohammad-Ali Rajai</td>\n",
       "      <td>1981-08-02</td>\n",
       "      <td>1981-08-30</td>\n",
       "      <td>28 days</td>\n",
       "    </tr>\n",
       "    <tr>\n",
       "      <th>2</th>\n",
       "      <td>Ali Khamenei</td>\n",
       "      <td>1981-10-09</td>\n",
       "      <td>1989-08-16</td>\n",
       "      <td>2868 days</td>\n",
       "    </tr>\n",
       "    <tr>\n",
       "      <th>3</th>\n",
       "      <td>Akbar Hashemi Rafsanjani</td>\n",
       "      <td>1989-08-16</td>\n",
       "      <td>1997-08-03</td>\n",
       "      <td>2909 days</td>\n",
       "    </tr>\n",
       "    <tr>\n",
       "      <th>4</th>\n",
       "      <td>Mohammad Khatami</td>\n",
       "      <td>1997-08-03</td>\n",
       "      <td>2005-08-03</td>\n",
       "      <td>2922 days</td>\n",
       "    </tr>\n",
       "    <tr>\n",
       "      <th>5</th>\n",
       "      <td>Mahmoud Ahmadinejad</td>\n",
       "      <td>2005-08-03</td>\n",
       "      <td>2013-08-03</td>\n",
       "      <td>2922 days</td>\n",
       "    </tr>\n",
       "    <tr>\n",
       "      <th>6</th>\n",
       "      <td>Hassan Rouhani</td>\n",
       "      <td>2013-08-03</td>\n",
       "      <td>2021-08-03</td>\n",
       "      <td>2922 days</td>\n",
       "    </tr>\n",
       "    <tr>\n",
       "      <th>7</th>\n",
       "      <td>Ebrahim Raisi</td>\n",
       "      <td>2021-08-03</td>\n",
       "      <td>NaT</td>\n",
       "      <td>NaT</td>\n",
       "    </tr>\n",
       "  </tbody>\n",
       "</table>\n",
       "</div>"
      ],
      "text/plain": [
       "                       name took_office left_office  duration\n",
       "0       Abolhassan Banisadr  1980-02-04  1981-06-22  504 days\n",
       "1        Mohammad-Ali Rajai  1981-08-02  1981-08-30   28 days\n",
       "2              Ali Khamenei  1981-10-09  1989-08-16 2868 days\n",
       "3  Akbar Hashemi Rafsanjani  1989-08-16  1997-08-03 2909 days\n",
       "4          Mohammad Khatami  1997-08-03  2005-08-03 2922 days\n",
       "5       Mahmoud Ahmadinejad  2005-08-03  2013-08-03 2922 days\n",
       "6            Hassan Rouhani  2013-08-03  2021-08-03 2922 days\n",
       "7             Ebrahim Raisi  2021-08-03         NaT       NaT"
      ]
     },
     "execution_count": 16,
     "metadata": {},
     "output_type": "execute_result"
    }
   ],
   "source": [
    "presidents"
   ]
  },
  {
   "cell_type": "markdown",
   "id": "e0bdb3f2",
   "metadata": {},
   "source": [
    "یا اگر بخواهیم، می‌توانیم سطورمان را بر اساس کوتاه‌ترین مدت ریاست جمهوری مرتب کنیم:"
   ]
  },
  {
   "cell_type": "code",
   "execution_count": 17,
   "id": "94e02115",
   "metadata": {},
   "outputs": [
    {
     "data": {
      "text/html": [
       "<div>\n",
       "<style scoped>\n",
       "    .dataframe tbody tr th:only-of-type {\n",
       "        vertical-align: middle;\n",
       "    }\n",
       "\n",
       "    .dataframe tbody tr th {\n",
       "        vertical-align: top;\n",
       "    }\n",
       "\n",
       "    .dataframe thead th {\n",
       "        text-align: right;\n",
       "    }\n",
       "</style>\n",
       "<table border=\"1\" class=\"dataframe\">\n",
       "  <thead>\n",
       "    <tr style=\"text-align: right;\">\n",
       "      <th></th>\n",
       "      <th>name</th>\n",
       "      <th>took_office</th>\n",
       "      <th>left_office</th>\n",
       "      <th>duration</th>\n",
       "    </tr>\n",
       "  </thead>\n",
       "  <tbody>\n",
       "    <tr>\n",
       "      <th>1</th>\n",
       "      <td>Mohammad-Ali Rajai</td>\n",
       "      <td>1981-08-02</td>\n",
       "      <td>1981-08-30</td>\n",
       "      <td>28 days</td>\n",
       "    </tr>\n",
       "    <tr>\n",
       "      <th>0</th>\n",
       "      <td>Abolhassan Banisadr</td>\n",
       "      <td>1980-02-04</td>\n",
       "      <td>1981-06-22</td>\n",
       "      <td>504 days</td>\n",
       "    </tr>\n",
       "    <tr>\n",
       "      <th>2</th>\n",
       "      <td>Ali Khamenei</td>\n",
       "      <td>1981-10-09</td>\n",
       "      <td>1989-08-16</td>\n",
       "      <td>2868 days</td>\n",
       "    </tr>\n",
       "    <tr>\n",
       "      <th>3</th>\n",
       "      <td>Akbar Hashemi Rafsanjani</td>\n",
       "      <td>1989-08-16</td>\n",
       "      <td>1997-08-03</td>\n",
       "      <td>2909 days</td>\n",
       "    </tr>\n",
       "    <tr>\n",
       "      <th>4</th>\n",
       "      <td>Mohammad Khatami</td>\n",
       "      <td>1997-08-03</td>\n",
       "      <td>2005-08-03</td>\n",
       "      <td>2922 days</td>\n",
       "    </tr>\n",
       "    <tr>\n",
       "      <th>5</th>\n",
       "      <td>Mahmoud Ahmadinejad</td>\n",
       "      <td>2005-08-03</td>\n",
       "      <td>2013-08-03</td>\n",
       "      <td>2922 days</td>\n",
       "    </tr>\n",
       "    <tr>\n",
       "      <th>6</th>\n",
       "      <td>Hassan Rouhani</td>\n",
       "      <td>2013-08-03</td>\n",
       "      <td>2021-08-03</td>\n",
       "      <td>2922 days</td>\n",
       "    </tr>\n",
       "    <tr>\n",
       "      <th>7</th>\n",
       "      <td>Ebrahim Raisi</td>\n",
       "      <td>2021-08-03</td>\n",
       "      <td>NaT</td>\n",
       "      <td>NaT</td>\n",
       "    </tr>\n",
       "  </tbody>\n",
       "</table>\n",
       "</div>"
      ],
      "text/plain": [
       "                       name took_office left_office  duration\n",
       "1        Mohammad-Ali Rajai  1981-08-02  1981-08-30   28 days\n",
       "0       Abolhassan Banisadr  1980-02-04  1981-06-22  504 days\n",
       "2              Ali Khamenei  1981-10-09  1989-08-16 2868 days\n",
       "3  Akbar Hashemi Rafsanjani  1989-08-16  1997-08-03 2909 days\n",
       "4          Mohammad Khatami  1997-08-03  2005-08-03 2922 days\n",
       "5       Mahmoud Ahmadinejad  2005-08-03  2013-08-03 2922 days\n",
       "6            Hassan Rouhani  2013-08-03  2021-08-03 2922 days\n",
       "7             Ebrahim Raisi  2021-08-03         NaT       NaT"
      ]
     },
     "execution_count": 17,
     "metadata": {},
     "output_type": "execute_result"
    }
   ],
   "source": [
    "presidents.sort_values(\"duration\")"
   ]
  },
  {
   "cell_type": "markdown",
   "id": "d26dcb5b",
   "metadata": {},
   "source": [
    "## تاریخ جلالی\n",
    "\n",
    "در داده‌های فارسی ممکن است اغلب از تقویم جلالی استفاده بشود. این در حالی است که کلاس‌های `تاریخ-زمان` بر اساس تقویم گریگوری تنظیم شده است. اما برای حل این مشکل، فردی یک [پکیج](https://pypi.org/project/jdatetime/) دیگر تهیه کرده با نام \n",
    "\n",
    "`jdatetime`\n",
    "\n",
    " که به معنای «پیاده‌سازی تقویم جلالی بر اساس ماژول تاریخ-زمان پایتون» است."
   ]
  },
  {
   "cell_type": "code",
   "execution_count": 25,
   "id": "f3e740f8",
   "metadata": {},
   "outputs": [],
   "source": [
    "import jdatetime as jdt"
   ]
  },
  {
   "cell_type": "markdown",
   "id": "1c3bd850",
   "metadata": {},
   "source": [
    "با این پکیج می‌توانیم بسیاری از همان کارهایی را که با ماژول `تاریخ-زمان` انجام می‌دهیم، انجام بدهیم. به عنوان مثال دریافت `تاریخ-زمان` و `تاریخ` بر اساس تقویم جلالی:   "
   ]
  },
  {
   "cell_type": "code",
   "execution_count": 26,
   "id": "7d36a111",
   "metadata": {},
   "outputs": [
    {
     "data": {
      "text/plain": [
       "jdatetime.datetime(1402, 1, 2, 12, 48, 10, 738213)"
      ]
     },
     "execution_count": 26,
     "metadata": {},
     "output_type": "execute_result"
    }
   ],
   "source": [
    "jdt.datetime.now()"
   ]
  },
  {
   "cell_type": "code",
   "execution_count": 27,
   "id": "61c77289",
   "metadata": {},
   "outputs": [
    {
     "data": {
      "text/plain": [
       "jdatetime.date(1402, 1, 2)"
      ]
     },
     "execution_count": 27,
     "metadata": {},
     "output_type": "execute_result"
    }
   ],
   "source": [
    "jdt.date.today()"
   ]
  },
  {
   "cell_type": "markdown",
   "id": "f4001c1c",
   "metadata": {},
   "source": [
    "### تبدیل تقویم گریگوری به جلالی\n",
    "\n",
    "این پکیج همچنین امکان تبدیل تاریخ گریگوری به جلالی و برعکس را به ما می‌دهد."
   ]
  },
  {
   "cell_type": "code",
   "execution_count": 28,
   "id": "bc0ca51e",
   "metadata": {},
   "outputs": [
    {
     "data": {
      "text/plain": [
       "jdatetime.date(1389, 10, 10)"
      ]
     },
     "execution_count": 28,
     "metadata": {},
     "output_type": "execute_result"
    }
   ],
   "source": [
    "jdt.date.fromgregorian(day=31, month=12, year=2010)"
   ]
  },
  {
   "cell_type": "code",
   "execution_count": 29,
   "id": "645ca9ee",
   "metadata": {},
   "outputs": [
    {
     "data": {
      "text/plain": [
       "datetime.date(2010, 12, 31)"
      ]
     },
     "execution_count": 29,
     "metadata": {},
     "output_type": "execute_result"
    }
   ],
   "source": [
    "jdt.date(1389,10,10).togregorian()"
   ]
  },
  {
   "cell_type": "markdown",
   "id": "ab56c17b",
   "metadata": {},
   "source": [
    "### فرمت کردن رشته‌های تاریخ جلالی\n",
    "\n",
    "توجه داشته باشید که برای فرمت کردن این رشته‌ها به منظور ساخت اشیای تاریخ و تاریخ-زمان، ممکن است لازم باشد از آرگومان \n",
    "\n",
    "`locale`\n",
    "\n",
    "استفاده کنید:\n",
    "\n",
    "`locale=\"fa_IR\"`\n",
    "\n",
    "در غیر این صورت، ممکن است رشته شما با حروف لاتین نوشته شوند."
   ]
  },
  {
   "cell_type": "code",
   "execution_count": 30,
   "id": "671d47bb",
   "metadata": {},
   "outputs": [
    {
     "name": "stdout",
     "output_type": "stream",
     "text": [
      "Saturday, 23 Tir 1397\n",
      "شنبه, 23 تیر 1397\n"
     ]
    }
   ],
   "source": [
    "en_date = jdt.date(1397, 4, 23)\n",
    "fa_date = jdt.date(1397, 4, 23, locale=\"fa_IR\")\n",
    "\n",
    "print(en_date.strftime(\"%A, %d %b %Y\"))\n",
    "print(fa_date.strftime(\"%A, %d %b %Y\"))"
   ]
  },
  {
   "cell_type": "markdown",
   "id": "7c085498",
   "metadata": {},
   "source": [
    "### تاریخ جلالی در دیتافریم\n",
    "\n",
    "حال بیایید به یک مثال کوچک در خصوص دیتافریم با تاریخ جلالی نگاه کنیم. در اینجا ما از داده مرتبط با [مصرف فرآورده‌های انرژی‌ زا](https://iranopendata.org/fa_IR/dataset/consumption-energy-products-2-1355-1397) استفاده خواهیم کرد. "
   ]
  },
  {
   "cell_type": "code",
   "execution_count": 31,
   "id": "32e4d0cc",
   "metadata": {},
   "outputs": [
    {
     "ename": "FileNotFoundError",
     "evalue": "[Errno 2] No such file or directory: '../../input/niocnre2144-consumption-energy-products-2-1355-1397-fa.csv'",
     "output_type": "error",
     "traceback": [
      "\u001b[0;31m---------------------------------------------------------------------------\u001b[0m",
      "\u001b[0;31mFileNotFoundError\u001b[0m                         Traceback (most recent call last)",
      "\u001b[0;32m/var/folders/kp/_0qsl9196ld7tdz_2c4gc74c0000gn/T/ipykernel_11340/29944449.py\u001b[0m in \u001b[0;36m<module>\u001b[0;34m\u001b[0m\n\u001b[0;32m----> 1\u001b[0;31m \u001b[0mdf\u001b[0m \u001b[0;34m=\u001b[0m \u001b[0mpd\u001b[0m\u001b[0;34m.\u001b[0m\u001b[0mread_csv\u001b[0m\u001b[0;34m(\u001b[0m\u001b[0;34m\"../../input/niocnre2144-consumption-energy-products-2-1355-1397-fa.csv\"\u001b[0m\u001b[0;34m)\u001b[0m\u001b[0;34m\u001b[0m\u001b[0;34m\u001b[0m\u001b[0m\n\u001b[0m",
      "\u001b[0;32m~/opt/anaconda3/lib/python3.9/site-packages/pandas/util/_decorators.py\u001b[0m in \u001b[0;36mwrapper\u001b[0;34m(*args, **kwargs)\u001b[0m\n\u001b[1;32m    309\u001b[0m                     \u001b[0mstacklevel\u001b[0m\u001b[0;34m=\u001b[0m\u001b[0mstacklevel\u001b[0m\u001b[0;34m,\u001b[0m\u001b[0;34m\u001b[0m\u001b[0;34m\u001b[0m\u001b[0m\n\u001b[1;32m    310\u001b[0m                 )\n\u001b[0;32m--> 311\u001b[0;31m             \u001b[0;32mreturn\u001b[0m \u001b[0mfunc\u001b[0m\u001b[0;34m(\u001b[0m\u001b[0;34m*\u001b[0m\u001b[0margs\u001b[0m\u001b[0;34m,\u001b[0m \u001b[0;34m**\u001b[0m\u001b[0mkwargs\u001b[0m\u001b[0;34m)\u001b[0m\u001b[0;34m\u001b[0m\u001b[0;34m\u001b[0m\u001b[0m\n\u001b[0m\u001b[1;32m    312\u001b[0m \u001b[0;34m\u001b[0m\u001b[0m\n\u001b[1;32m    313\u001b[0m         \u001b[0;32mreturn\u001b[0m \u001b[0mwrapper\u001b[0m\u001b[0;34m\u001b[0m\u001b[0;34m\u001b[0m\u001b[0m\n",
      "\u001b[0;32m~/opt/anaconda3/lib/python3.9/site-packages/pandas/io/parsers/readers.py\u001b[0m in \u001b[0;36mread_csv\u001b[0;34m(filepath_or_buffer, sep, delimiter, header, names, index_col, usecols, squeeze, prefix, mangle_dupe_cols, dtype, engine, converters, true_values, false_values, skipinitialspace, skiprows, skipfooter, nrows, na_values, keep_default_na, na_filter, verbose, skip_blank_lines, parse_dates, infer_datetime_format, keep_date_col, date_parser, dayfirst, cache_dates, iterator, chunksize, compression, thousands, decimal, lineterminator, quotechar, quoting, doublequote, escapechar, comment, encoding, encoding_errors, dialect, error_bad_lines, warn_bad_lines, on_bad_lines, delim_whitespace, low_memory, memory_map, float_precision, storage_options)\u001b[0m\n\u001b[1;32m    676\u001b[0m     \u001b[0mkwds\u001b[0m\u001b[0;34m.\u001b[0m\u001b[0mupdate\u001b[0m\u001b[0;34m(\u001b[0m\u001b[0mkwds_defaults\u001b[0m\u001b[0;34m)\u001b[0m\u001b[0;34m\u001b[0m\u001b[0;34m\u001b[0m\u001b[0m\n\u001b[1;32m    677\u001b[0m \u001b[0;34m\u001b[0m\u001b[0m\n\u001b[0;32m--> 678\u001b[0;31m     \u001b[0;32mreturn\u001b[0m \u001b[0m_read\u001b[0m\u001b[0;34m(\u001b[0m\u001b[0mfilepath_or_buffer\u001b[0m\u001b[0;34m,\u001b[0m \u001b[0mkwds\u001b[0m\u001b[0;34m)\u001b[0m\u001b[0;34m\u001b[0m\u001b[0;34m\u001b[0m\u001b[0m\n\u001b[0m\u001b[1;32m    679\u001b[0m \u001b[0;34m\u001b[0m\u001b[0m\n\u001b[1;32m    680\u001b[0m \u001b[0;34m\u001b[0m\u001b[0m\n",
      "\u001b[0;32m~/opt/anaconda3/lib/python3.9/site-packages/pandas/io/parsers/readers.py\u001b[0m in \u001b[0;36m_read\u001b[0;34m(filepath_or_buffer, kwds)\u001b[0m\n\u001b[1;32m    573\u001b[0m \u001b[0;34m\u001b[0m\u001b[0m\n\u001b[1;32m    574\u001b[0m     \u001b[0;31m# Create the parser.\u001b[0m\u001b[0;34m\u001b[0m\u001b[0;34m\u001b[0m\u001b[0m\n\u001b[0;32m--> 575\u001b[0;31m     \u001b[0mparser\u001b[0m \u001b[0;34m=\u001b[0m \u001b[0mTextFileReader\u001b[0m\u001b[0;34m(\u001b[0m\u001b[0mfilepath_or_buffer\u001b[0m\u001b[0;34m,\u001b[0m \u001b[0;34m**\u001b[0m\u001b[0mkwds\u001b[0m\u001b[0;34m)\u001b[0m\u001b[0;34m\u001b[0m\u001b[0;34m\u001b[0m\u001b[0m\n\u001b[0m\u001b[1;32m    576\u001b[0m \u001b[0;34m\u001b[0m\u001b[0m\n\u001b[1;32m    577\u001b[0m     \u001b[0;32mif\u001b[0m \u001b[0mchunksize\u001b[0m \u001b[0;32mor\u001b[0m \u001b[0miterator\u001b[0m\u001b[0;34m:\u001b[0m\u001b[0;34m\u001b[0m\u001b[0;34m\u001b[0m\u001b[0m\n",
      "\u001b[0;32m~/opt/anaconda3/lib/python3.9/site-packages/pandas/io/parsers/readers.py\u001b[0m in \u001b[0;36m__init__\u001b[0;34m(self, f, engine, **kwds)\u001b[0m\n\u001b[1;32m    930\u001b[0m \u001b[0;34m\u001b[0m\u001b[0m\n\u001b[1;32m    931\u001b[0m         \u001b[0mself\u001b[0m\u001b[0;34m.\u001b[0m\u001b[0mhandles\u001b[0m\u001b[0;34m:\u001b[0m \u001b[0mIOHandles\u001b[0m \u001b[0;34m|\u001b[0m \u001b[0;32mNone\u001b[0m \u001b[0;34m=\u001b[0m \u001b[0;32mNone\u001b[0m\u001b[0;34m\u001b[0m\u001b[0;34m\u001b[0m\u001b[0m\n\u001b[0;32m--> 932\u001b[0;31m         \u001b[0mself\u001b[0m\u001b[0;34m.\u001b[0m\u001b[0m_engine\u001b[0m \u001b[0;34m=\u001b[0m \u001b[0mself\u001b[0m\u001b[0;34m.\u001b[0m\u001b[0m_make_engine\u001b[0m\u001b[0;34m(\u001b[0m\u001b[0mf\u001b[0m\u001b[0;34m,\u001b[0m \u001b[0mself\u001b[0m\u001b[0;34m.\u001b[0m\u001b[0mengine\u001b[0m\u001b[0;34m)\u001b[0m\u001b[0;34m\u001b[0m\u001b[0;34m\u001b[0m\u001b[0m\n\u001b[0m\u001b[1;32m    933\u001b[0m \u001b[0;34m\u001b[0m\u001b[0m\n\u001b[1;32m    934\u001b[0m     \u001b[0;32mdef\u001b[0m \u001b[0mclose\u001b[0m\u001b[0;34m(\u001b[0m\u001b[0mself\u001b[0m\u001b[0;34m)\u001b[0m\u001b[0;34m:\u001b[0m\u001b[0;34m\u001b[0m\u001b[0;34m\u001b[0m\u001b[0m\n",
      "\u001b[0;32m~/opt/anaconda3/lib/python3.9/site-packages/pandas/io/parsers/readers.py\u001b[0m in \u001b[0;36m_make_engine\u001b[0;34m(self, f, engine)\u001b[0m\n\u001b[1;32m   1214\u001b[0m             \u001b[0;31m# \"Union[str, PathLike[str], ReadCsvBuffer[bytes], ReadCsvBuffer[str]]\"\u001b[0m\u001b[0;34m\u001b[0m\u001b[0;34m\u001b[0m\u001b[0m\n\u001b[1;32m   1215\u001b[0m             \u001b[0;31m# , \"str\", \"bool\", \"Any\", \"Any\", \"Any\", \"Any\", \"Any\"\u001b[0m\u001b[0;34m\u001b[0m\u001b[0;34m\u001b[0m\u001b[0m\n\u001b[0;32m-> 1216\u001b[0;31m             self.handles = get_handle(  # type: ignore[call-overload]\n\u001b[0m\u001b[1;32m   1217\u001b[0m                 \u001b[0mf\u001b[0m\u001b[0;34m,\u001b[0m\u001b[0;34m\u001b[0m\u001b[0;34m\u001b[0m\u001b[0m\n\u001b[1;32m   1218\u001b[0m                 \u001b[0mmode\u001b[0m\u001b[0;34m,\u001b[0m\u001b[0;34m\u001b[0m\u001b[0;34m\u001b[0m\u001b[0m\n",
      "\u001b[0;32m~/opt/anaconda3/lib/python3.9/site-packages/pandas/io/common.py\u001b[0m in \u001b[0;36mget_handle\u001b[0;34m(path_or_buf, mode, encoding, compression, memory_map, is_text, errors, storage_options)\u001b[0m\n\u001b[1;32m    784\u001b[0m         \u001b[0;32mif\u001b[0m \u001b[0mioargs\u001b[0m\u001b[0;34m.\u001b[0m\u001b[0mencoding\u001b[0m \u001b[0;32mand\u001b[0m \u001b[0;34m\"b\"\u001b[0m \u001b[0;32mnot\u001b[0m \u001b[0;32min\u001b[0m \u001b[0mioargs\u001b[0m\u001b[0;34m.\u001b[0m\u001b[0mmode\u001b[0m\u001b[0;34m:\u001b[0m\u001b[0;34m\u001b[0m\u001b[0;34m\u001b[0m\u001b[0m\n\u001b[1;32m    785\u001b[0m             \u001b[0;31m# Encoding\u001b[0m\u001b[0;34m\u001b[0m\u001b[0;34m\u001b[0m\u001b[0m\n\u001b[0;32m--> 786\u001b[0;31m             handle = open(\n\u001b[0m\u001b[1;32m    787\u001b[0m                 \u001b[0mhandle\u001b[0m\u001b[0;34m,\u001b[0m\u001b[0;34m\u001b[0m\u001b[0;34m\u001b[0m\u001b[0m\n\u001b[1;32m    788\u001b[0m                 \u001b[0mioargs\u001b[0m\u001b[0;34m.\u001b[0m\u001b[0mmode\u001b[0m\u001b[0;34m,\u001b[0m\u001b[0;34m\u001b[0m\u001b[0;34m\u001b[0m\u001b[0m\n",
      "\u001b[0;31mFileNotFoundError\u001b[0m: [Errno 2] No such file or directory: '../../input/niocnre2144-consumption-energy-products-2-1355-1397-fa.csv'"
     ]
    }
   ],
   "source": [
    "df = pd.read_csv(\"../../input/niocnre2144-consumption-energy-products-2-1355-1397-fa.csv\")"
   ]
  },
  {
   "cell_type": "code",
   "execution_count": 32,
   "id": "afb8000f",
   "metadata": {},
   "outputs": [
    {
     "ename": "NameError",
     "evalue": "name 'df' is not defined",
     "output_type": "error",
     "traceback": [
      "\u001b[0;31m---------------------------------------------------------------------------\u001b[0m",
      "\u001b[0;31mNameError\u001b[0m                                 Traceback (most recent call last)",
      "\u001b[0;32m/var/folders/kp/_0qsl9196ld7tdz_2c4gc74c0000gn/T/ipykernel_11340/964094849.py\u001b[0m in \u001b[0;36m<module>\u001b[0;34m\u001b[0m\n\u001b[0;32m----> 1\u001b[0;31m \u001b[0mdf\u001b[0m\u001b[0;34m.\u001b[0m\u001b[0mhead\u001b[0m\u001b[0;34m(\u001b[0m\u001b[0;34m)\u001b[0m\u001b[0;34m\u001b[0m\u001b[0;34m\u001b[0m\u001b[0m\n\u001b[0m",
      "\u001b[0;31mNameError\u001b[0m: name 'df' is not defined"
     ]
    }
   ],
   "source": [
    "df.head()"
   ]
  },
  {
   "cell_type": "markdown",
   "id": "65a0c15b",
   "metadata": {},
   "source": [
    "می‌بینیم که سال‌ها به صورت اعداد صحیح خوانده می‌شوند."
   ]
  },
  {
   "cell_type": "code",
   "execution_count": 33,
   "id": "492d3fec",
   "metadata": {},
   "outputs": [
    {
     "ename": "NameError",
     "evalue": "name 'df' is not defined",
     "output_type": "error",
     "traceback": [
      "\u001b[0;31m---------------------------------------------------------------------------\u001b[0m",
      "\u001b[0;31mNameError\u001b[0m                                 Traceback (most recent call last)",
      "\u001b[0;32m/var/folders/kp/_0qsl9196ld7tdz_2c4gc74c0000gn/T/ipykernel_11340/1008660192.py\u001b[0m in \u001b[0;36m<module>\u001b[0;34m\u001b[0m\n\u001b[0;32m----> 1\u001b[0;31m \u001b[0mdf\u001b[0m\u001b[0;34m.\u001b[0m\u001b[0mdtypes\u001b[0m\u001b[0;34m\u001b[0m\u001b[0;34m\u001b[0m\u001b[0m\n\u001b[0m",
      "\u001b[0;31mNameError\u001b[0m: name 'df' is not defined"
     ]
    }
   ],
   "source": [
    "df.dtypes"
   ]
  },
  {
   "cell_type": "markdown",
   "id": "1e4af1b7",
   "metadata": {},
   "source": [
    "اگر بخواهیم تاریخ را به تاریخ جلالی تغییر بدهیم، می‌توانیم از فرمان\n",
    "\n",
    "apply()\n",
    "\n",
    "که در دیتافریم دارای کلاس است استفاده کنیم. حال می‌توانیم ازن فرمان را برای هر سطر اجرا کنیم. برای این مورد، ما «سال» موجود در هر سطر را برداشته و از آن برای ساخت یک شیء تاریخ بر اساس کتابخانه\n",
    "\n",
    "jdatetime\n",
    "\n",
    "استفاده می‌کنیم:"
   ]
  },
  {
   "cell_type": "code",
   "execution_count": 34,
   "id": "5c3ea0f1",
   "metadata": {},
   "outputs": [
    {
     "ename": "NameError",
     "evalue": "name 'df' is not defined",
     "output_type": "error",
     "traceback": [
      "\u001b[0;31m---------------------------------------------------------------------------\u001b[0m",
      "\u001b[0;31mNameError\u001b[0m                                 Traceback (most recent call last)",
      "\u001b[0;32m/var/folders/kp/_0qsl9196ld7tdz_2c4gc74c0000gn/T/ipykernel_11340/2069700610.py\u001b[0m in \u001b[0;36m<module>\u001b[0;34m\u001b[0m\n\u001b[0;32m----> 1\u001b[0;31m \u001b[0mdf\u001b[0m\u001b[0;34m[\u001b[0m\u001b[0;34m\"jdt_year\"\u001b[0m\u001b[0;34m]\u001b[0m \u001b[0;34m=\u001b[0m \u001b[0mdf\u001b[0m\u001b[0;34m.\u001b[0m\u001b[0mapply\u001b[0m\u001b[0;34m(\u001b[0m\u001b[0;32mlambda\u001b[0m \u001b[0mrow\u001b[0m\u001b[0;34m:\u001b[0m \u001b[0mjdt\u001b[0m\u001b[0;34m.\u001b[0m\u001b[0mdate\u001b[0m\u001b[0;34m(\u001b[0m\u001b[0mrow\u001b[0m\u001b[0;34m[\u001b[0m\u001b[0;34m\"year\"\u001b[0m\u001b[0;34m]\u001b[0m\u001b[0;34m,\u001b[0m \u001b[0;36m1\u001b[0m\u001b[0;34m,\u001b[0m \u001b[0;36m1\u001b[0m\u001b[0;34m)\u001b[0m\u001b[0;34m,\u001b[0m \u001b[0maxis\u001b[0m\u001b[0;34m=\u001b[0m\u001b[0;36m1\u001b[0m\u001b[0;34m)\u001b[0m\u001b[0;34m\u001b[0m\u001b[0;34m\u001b[0m\u001b[0m\n\u001b[0m",
      "\u001b[0;31mNameError\u001b[0m: name 'df' is not defined"
     ]
    }
   ],
   "source": [
    "df[\"jdt_year\"] = df.apply(lambda row: jdt.date(row[\"year\"], 1, 1), axis=1)"
   ]
  },
  {
   "cell_type": "code",
   "execution_count": 35,
   "id": "62a0abb4",
   "metadata": {},
   "outputs": [
    {
     "ename": "NameError",
     "evalue": "name 'df' is not defined",
     "output_type": "error",
     "traceback": [
      "\u001b[0;31m---------------------------------------------------------------------------\u001b[0m",
      "\u001b[0;31mNameError\u001b[0m                                 Traceback (most recent call last)",
      "\u001b[0;32m/var/folders/kp/_0qsl9196ld7tdz_2c4gc74c0000gn/T/ipykernel_11340/964094849.py\u001b[0m in \u001b[0;36m<module>\u001b[0;34m\u001b[0m\n\u001b[0;32m----> 1\u001b[0;31m \u001b[0mdf\u001b[0m\u001b[0;34m.\u001b[0m\u001b[0mhead\u001b[0m\u001b[0;34m(\u001b[0m\u001b[0;34m)\u001b[0m\u001b[0;34m\u001b[0m\u001b[0;34m\u001b[0m\u001b[0m\n\u001b[0m",
      "\u001b[0;31mNameError\u001b[0m: name 'df' is not defined"
     ]
    }
   ],
   "source": [
    "df.head()"
   ]
  },
  {
   "cell_type": "markdown",
   "id": "07dee726",
   "metadata": {},
   "source": [
    "حال که از کلاس تاریخ در ماژول \n",
    "\n",
    "jdatetime\n",
    "\n",
    "استفاده می‌کنیم، می‌توانیم از فرمان\n",
    "\n",
    "togregorian()\n",
    "\n",
    "برای تبدیل تاریخ جلالی به گریگوری استفاده کنیم."
   ]
  },
  {
   "cell_type": "code",
   "execution_count": 36,
   "id": "a6d111af",
   "metadata": {},
   "outputs": [
    {
     "ename": "NameError",
     "evalue": "name 'df' is not defined",
     "output_type": "error",
     "traceback": [
      "\u001b[0;31m---------------------------------------------------------------------------\u001b[0m",
      "\u001b[0;31mNameError\u001b[0m                                 Traceback (most recent call last)",
      "\u001b[0;32m/var/folders/kp/_0qsl9196ld7tdz_2c4gc74c0000gn/T/ipykernel_11340/3518324697.py\u001b[0m in \u001b[0;36m<module>\u001b[0;34m\u001b[0m\n\u001b[0;32m----> 1\u001b[0;31m \u001b[0mdf\u001b[0m\u001b[0;34m[\u001b[0m\u001b[0;34m\"dt_year\"\u001b[0m\u001b[0;34m]\u001b[0m \u001b[0;34m=\u001b[0m \u001b[0mdf\u001b[0m\u001b[0;34m.\u001b[0m\u001b[0mapply\u001b[0m\u001b[0;34m(\u001b[0m\u001b[0;32mlambda\u001b[0m \u001b[0mrow\u001b[0m\u001b[0;34m:\u001b[0m \u001b[0mrow\u001b[0m\u001b[0;34m[\u001b[0m\u001b[0;34m\"jdt_year\"\u001b[0m\u001b[0;34m]\u001b[0m\u001b[0;34m.\u001b[0m\u001b[0mtogregorian\u001b[0m\u001b[0;34m(\u001b[0m\u001b[0;34m)\u001b[0m\u001b[0;34m,\u001b[0m \u001b[0maxis\u001b[0m\u001b[0;34m=\u001b[0m\u001b[0;36m1\u001b[0m\u001b[0;34m)\u001b[0m\u001b[0;34m\u001b[0m\u001b[0;34m\u001b[0m\u001b[0m\n\u001b[0m",
      "\u001b[0;31mNameError\u001b[0m: name 'df' is not defined"
     ]
    }
   ],
   "source": [
    "df[\"dt_year\"] = df.apply(lambda row: row[\"jdt_year\"].togregorian(), axis=1)"
   ]
  },
  {
   "cell_type": "code",
   "execution_count": 37,
   "id": "9b66be77",
   "metadata": {},
   "outputs": [
    {
     "ename": "NameError",
     "evalue": "name 'df' is not defined",
     "output_type": "error",
     "traceback": [
      "\u001b[0;31m---------------------------------------------------------------------------\u001b[0m",
      "\u001b[0;31mNameError\u001b[0m                                 Traceback (most recent call last)",
      "\u001b[0;32m/var/folders/kp/_0qsl9196ld7tdz_2c4gc74c0000gn/T/ipykernel_11340/964094849.py\u001b[0m in \u001b[0;36m<module>\u001b[0;34m\u001b[0m\n\u001b[0;32m----> 1\u001b[0;31m \u001b[0mdf\u001b[0m\u001b[0;34m.\u001b[0m\u001b[0mhead\u001b[0m\u001b[0;34m(\u001b[0m\u001b[0;34m)\u001b[0m\u001b[0;34m\u001b[0m\u001b[0;34m\u001b[0m\u001b[0m\n\u001b[0m",
      "\u001b[0;31mNameError\u001b[0m: name 'df' is not defined"
     ]
    }
   ],
   "source": [
    "df.head()"
   ]
  },
  {
   "cell_type": "code",
   "execution_count": null,
   "id": "95f3cace",
   "metadata": {},
   "outputs": [],
   "source": []
  }
 ],
 "metadata": {
  "kernelspec": {
   "display_name": "Python 3 (ipykernel)",
   "language": "python",
   "name": "python3"
  },
  "language_info": {
   "codemirror_mode": {
    "name": "ipython",
    "version": 3
   },
   "file_extension": ".py",
   "mimetype": "text/x-python",
   "name": "python",
   "nbconvert_exporter": "python",
   "pygments_lexer": "ipython3",
   "version": "3.9.13"
  }
 },
 "nbformat": 4,
 "nbformat_minor": 5
}
